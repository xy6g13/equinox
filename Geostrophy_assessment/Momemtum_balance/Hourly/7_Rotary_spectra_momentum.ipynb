{
 "cells": [
  {
   "cell_type": "code",
   "execution_count": 1,
   "metadata": {},
   "outputs": [],
   "source": [
    "import os, sys\n",
    "from glob import glob\n",
    "import numpy as np\n",
    "import dask\n",
    "import xarray as xr\n",
    "from scipy.signal import welch\n",
    "import xgcm\n",
    "from matplotlib import pyplot as plt\n",
    "%matplotlib inline\n",
    "\n",
    "from mitequinox.utils import *\n",
    "from mitequinox.sigp import *"
   ]
  },
  {
   "cell_type": "code",
   "execution_count": 2,
   "metadata": {},
   "outputs": [],
   "source": [
    "from dask_jobqueue import PBSCluster\n",
    "# for heavy processing:\n",
    "cluster = PBSCluster(cores=6, walltime='04:00:00')\n",
    "w = cluster.scale(6*30)"
   ]
  },
  {
   "cell_type": "code",
   "execution_count": 3,
   "metadata": {},
   "outputs": [],
   "source": [
    "# get dask handles and check dask server status\n",
    "from dask.distributed import Client\n",
    "client = Client(cluster)"
   ]
  },
  {
   "cell_type": "code",
   "execution_count": 18,
   "metadata": {},
   "outputs": [
    {
     "data": {
      "text/html": [
       "<table style=\"border: 2px solid white;\">\n",
       "<tr>\n",
       "<td style=\"vertical-align: top; border: 0px solid white\">\n",
       "<h3 style=\"text-align: left;\">Client</h3>\n",
       "<ul style=\"text-align: left; list-style: none; margin: 0; padding: 0;\">\n",
       "  <li><b>Scheduler: </b>tcp://10.135.39.28:33273</li>\n",
       "  <li><b>Dashboard: </b><a href='http://10.135.39.28:8787/status' target='_blank'>http://10.135.39.28:8787/status</a>\n",
       "</ul>\n",
       "</td>\n",
       "<td style=\"vertical-align: top; border: 0px solid white\">\n",
       "<h3 style=\"text-align: left;\">Cluster</h3>\n",
       "<ul style=\"text-align: left; list-style:none; margin: 0; padding: 0;\">\n",
       "  <li><b>Workers: </b>180</li>\n",
       "  <li><b>Cores: </b>1080</li>\n",
       "  <li><b>Memory: </b>1.50 TB</li>\n",
       "</ul>\n",
       "</td>\n",
       "</tr>\n",
       "</table>"
      ],
      "text/plain": [
       "<Client: 'tcp://10.135.39.28:33273' processes=180 threads=1080, memory=1.50 TB>"
      ]
     },
     "execution_count": 18,
     "metadata": {},
     "output_type": "execute_result"
    }
   ],
   "source": [
    "client"
   ]
  },
  {
   "cell_type": "markdown",
   "metadata": {},
   "source": [
    "#### spectra of (part 1) ageo. (part 2) geo. (part 3) total KE. \n",
    "#### comparison in part 4"
   ]
  },
  {
   "cell_type": "markdown",
   "metadata": {},
   "source": [
    "___________\n",
    "## Term 1: time acceleration"
   ]
  },
  {
   "cell_type": "markdown",
   "metadata": {},
   "source": [
    "### du/dt and dv/dt"
   ]
  },
  {
   "cell_type": "code",
   "execution_count": 6,
   "metadata": {},
   "outputs": [],
   "source": [
    "E_dir = '/work/ALT/swot/aval/syn/xy/momentum_balance/daily/'\n",
    "\n",
    "grd = load_grd().reset_coords()\n",
    "mask = ((grd.hFacW.rename({'i_g': 'i'}) == 1) &\n",
    "        (grd.hFacS.rename({'j_g': 'j'}) == 1) \n",
    "       ).rename('mask').reset_coords(drop=True)\n",
    "grd_rspec = xr.merge([mask, grd])"
   ]
  },
  {
   "cell_type": "code",
   "execution_count": 12,
   "metadata": {},
   "outputs": [
    {
     "name": "stdout",
     "output_type": "stream",
     "text": [
      "<xarray.Dataset>\n",
      "Dimensions:  (face: 13, i: 4320, i_g: 4320, j: 4320, j_g: 4320, k: 90, k_l: 90, k_p1: 91, k_u: 90, time: 4584)\n",
      "Coordinates:\n",
      "    dtime    (time) datetime64[ns] dask.array<chunksize=(4584,), meta=np.ndarray>\n",
      "  * face     (face) int64 0 1 2 3 4 5 6 7 8 9 10 11 12\n",
      "  * i_g      (i_g) int64 0 1 2 3 4 5 6 7 ... 4313 4314 4315 4316 4317 4318 4319\n",
      "    iters    (time) int64 dask.array<chunksize=(1,), meta=np.ndarray>\n",
      "  * j        (j) int64 0 1 2 3 4 5 6 7 ... 4313 4314 4315 4316 4317 4318 4319\n",
      "  * time     (time) float64 6.422e+06 6.426e+06 6.43e+06 ... 2.292e+07 2.292e+07\n",
      "  * i        (i) int64 0 1 2 3 4 5 6 7 ... 4313 4314 4315 4316 4317 4318 4319\n",
      "  * j_g      (j_g) int64 0 1 2 3 4 5 6 7 ... 4313 4314 4315 4316 4317 4318 4319\n",
      "    CS       (face, j, i) float32 dask.array<chunksize=(1, 4320, 4320), meta=np.ndarray>\n",
      "    Depth    (face, j, i) float32 dask.array<chunksize=(1, 4320, 4320), meta=np.ndarray>\n",
      "    PHrefC   (k) float32 dask.array<chunksize=(90,), meta=np.ndarray>\n",
      "    PHrefF   (k_p1) float32 dask.array<chunksize=(91,), meta=np.ndarray>\n",
      "    SN       (face, j, i) float32 dask.array<chunksize=(1, 4320, 4320), meta=np.ndarray>\n",
      "    XC       (face, j, i) float32 dask.array<chunksize=(1, 4320, 4320), meta=np.ndarray>\n",
      "    XG       (face, j_g, i_g) float32 dask.array<chunksize=(1, 4320, 4320), meta=np.ndarray>\n",
      "    YC       (face, j, i) float32 dask.array<chunksize=(1, 4320, 4320), meta=np.ndarray>\n",
      "    YG       (face, j_g, i_g) float32 dask.array<chunksize=(1, 4320, 4320), meta=np.ndarray>\n",
      "    Z        (k) float32 dask.array<chunksize=(90,), meta=np.ndarray>\n",
      "    Zl       (k_l) float32 dask.array<chunksize=(90,), meta=np.ndarray>\n",
      "    Zp1      (k_p1) float32 dask.array<chunksize=(91,), meta=np.ndarray>\n",
      "    Zu       (k_u) float32 dask.array<chunksize=(90,), meta=np.ndarray>\n",
      "    drC      (k_p1) float32 dask.array<chunksize=(91,), meta=np.ndarray>\n",
      "    drF      (k) float32 dask.array<chunksize=(90,), meta=np.ndarray>\n",
      "    dxC      (face, j, i_g) float32 dask.array<chunksize=(1, 4320, 4320), meta=np.ndarray>\n",
      "    dxG      (face, j_g, i) float32 dask.array<chunksize=(1, 4320, 4320), meta=np.ndarray>\n",
      "    dyC      (face, j_g, i) float32 dask.array<chunksize=(1, 4320, 4320), meta=np.ndarray>\n",
      "    dyG      (face, j, i_g) float32 dask.array<chunksize=(1, 4320, 4320), meta=np.ndarray>\n",
      "    hFacC    (face, j, i) float32 dask.array<chunksize=(1, 4320, 4320), meta=np.ndarray>\n",
      "    hFacS    (face, j_g, i) float32 dask.array<chunksize=(1, 4320, 4320), meta=np.ndarray>\n",
      "    hFacW    (face, j, i_g) float32 dask.array<chunksize=(1, 4320, 4320), meta=np.ndarray>\n",
      "  * k        (k) int64 0 1 2 3 4 5 6 7 8 9 10 ... 80 81 82 83 84 85 86 87 88 89\n",
      "  * k_l      (k_l) int64 0 1 2 3 4 5 6 7 8 9 ... 80 81 82 83 84 85 86 87 88 89\n",
      "  * k_p1     (k_p1) int64 0 1 2 3 4 5 6 7 8 9 ... 81 82 83 84 85 86 87 88 89 90\n",
      "  * k_u      (k_u) int64 0 1 2 3 4 5 6 7 8 9 ... 80 81 82 83 84 85 86 87 88 89\n",
      "    rA       (face, j, i) float32 dask.array<chunksize=(1, 4320, 4320), meta=np.ndarray>\n",
      "    rAs      (face, j_g, i) float32 dask.array<chunksize=(1, 4320, 4320), meta=np.ndarray>\n",
      "    rAw      (face, j, i_g) float32 dask.array<chunksize=(1, 4320, 4320), meta=np.ndarray>\n",
      "    rAz      (face, j_g, i_g) float32 dask.array<chunksize=(2, 540, 540), meta=np.ndarray>\n",
      "Data variables:\n",
      "    SSU      (time, face, j, i_g) float32 dask.array<chunksize=(1, 1, 4320, 4320), meta=np.ndarray>\n",
      "    SSV      (time, face, j_g, i) float32 dask.array<chunksize=(1, 1, 4320, 4320), meta=np.ndarray>\n"
     ]
    }
   ],
   "source": [
    "dij = 4\n",
    "time_length = 1440*3\n",
    "\n",
    "dsU = xr.open_zarr(root_data_dir+'zarr/%s.zarr'%('SSU')).isel(time=slice(200,200+time_length)) #8584\n",
    "dsV = xr.open_zarr(root_data_dir+'zarr/%s.zarr'%('SSV')).isel(time=slice(200,200+time_length))\n",
    "\n",
    "ds_raw = (xr.merge([dsU,dsV]).assign_coords(**grd.variables))\n",
    "#grid = xgcm.Grid(ds_raw, periodic=['X', 'Y'])\n",
    "print(ds_raw)"
   ]
  },
  {
   "cell_type": "code",
   "execution_count": 13,
   "metadata": {},
   "outputs": [],
   "source": [
    "# parameters for rechunking: time and space\n",
    "Nt, Ni, Nj = 0, 188, 96\n",
    "dij=4"
   ]
  },
  {
   "cell_type": "code",
   "execution_count": null,
   "metadata": {},
   "outputs": [
    {
     "name": "stdout",
     "output_type": "stream",
     "text": [
      "<xarray.DataArray 'SSU' (time: 4584, j: 540, i_g: 540)>\n",
      "dask.array<truediv, shape=(4584, 540, 540), dtype=float32, chunksize=(1, 540, 540), chunktype=numpy.ndarray>\n",
      "Coordinates:\n",
      "    dtime    (time) datetime64[ns] 2011-11-23T08:00:00 ... 2012-06-01T07:00:00\n",
      "    face     int64 1\n",
      "  * i_g      (i_g) int64 0 8 16 24 32 40 48 ... 4272 4280 4288 4296 4304 4312\n",
      "    iters    (time) int64 256896 257040 257184 257328 ... 916560 916704 916848\n",
      "  * j        (j) int64 0 8 16 24 32 40 48 ... 4264 4272 4280 4288 4296 4304 4312\n",
      "  * time     (time) float64 6.422e+06 6.426e+06 6.43e+06 ... 2.292e+07 2.292e+07\n",
      "    dxC      (j, i_g) float32 1261.4568 1261.4568 ... 2251.2761 2251.2761\n",
      "    dyG      (j, i_g) float32 1230.9597 1230.9597 ... 2073.8413 2073.8413\n",
      "    hFacW    (j, i_g) float32 1.0 1.0 1.0 1.0 1.0 1.0 ... 1.0 1.0 1.0 1.0 1.0\n",
      "    rAw      (j, i_g) float32 1552802.6 1552802.6 ... 4668789.0 4668789.0\n",
      "<xarray.Dataset>\n",
      "Dimensions:  (i: 540, i_g: 4320, j: 540, j_g: 4320, k: 90, k_l: 90, k_p1: 91, k_u: 90, time: 4584)\n",
      "Coordinates:\n",
      "    dtime    (time) datetime64[ns] 2011-11-23T08:00:00 ... 2012-06-01T07:00:00\n",
      "    face     int64 1\n",
      "  * i        (i) int64 0 8 16 24 32 40 48 ... 4264 4272 4280 4288 4296 4304 4312\n",
      "    iters    (time) int64 256896 257040 257184 257328 ... 916560 916704 916848\n",
      "  * j        (j) int64 0 8 16 24 32 40 48 ... 4264 4272 4280 4288 4296 4304 4312\n",
      "  * time     (time) float64 6.422e+06 6.426e+06 6.43e+06 ... 2.292e+07 2.292e+07\n",
      "    dxC      (j, i_g) float32 dask.array<chunksize=(540, 4320), meta=np.ndarray>\n",
      "    dyG      (j, i_g) float32 dask.array<chunksize=(540, 4320), meta=np.ndarray>\n",
      "    hFacW    (j, i_g) float32 dask.array<chunksize=(540, 4320), meta=np.ndarray>\n",
      "    rAw      (j, i_g) float32 dask.array<chunksize=(540, 4320), meta=np.ndarray>\n",
      "    dxG      (j_g, i) float32 dask.array<chunksize=(4320, 540), meta=np.ndarray>\n",
      "    dyC      (j_g, i) float32 dask.array<chunksize=(4320, 540), meta=np.ndarray>\n",
      "    hFacS    (j_g, i) float32 dask.array<chunksize=(4320, 540), meta=np.ndarray>\n",
      "    rAs      (j_g, i) float32 dask.array<chunksize=(4320, 540), meta=np.ndarray>\n",
      "  * k        (k) int64 0 1 2 3 4 5 6 7 8 9 10 ... 80 81 82 83 84 85 86 87 88 89\n",
      "  * k_p1     (k_p1) int64 0 1 2 3 4 5 6 7 8 9 ... 81 82 83 84 85 86 87 88 89 90\n",
      "  * i_g      (i_g) int64 0 1 2 3 4 5 6 7 ... 4313 4314 4315 4316 4317 4318 4319\n",
      "  * j_g      (j_g) int64 0 1 2 3 4 5 6 7 ... 4313 4314 4315 4316 4317 4318 4319\n",
      "  * k_l      (k_l) int64 0 1 2 3 4 5 6 7 8 9 ... 80 81 82 83 84 85 86 87 88 89\n",
      "  * k_u      (k_u) int64 0 1 2 3 4 5 6 7 8 9 ... 80 81 82 83 84 85 86 87 88 89\n",
      "    CS       (j, i) float32 dask.array<chunksize=(540, 540), meta=np.ndarray>\n",
      "    Depth    (j, i) float32 dask.array<chunksize=(540, 540), meta=np.ndarray>\n",
      "    PHrefC   (k) float32 dask.array<chunksize=(90,), meta=np.ndarray>\n",
      "    PHrefF   (k_p1) float32 dask.array<chunksize=(91,), meta=np.ndarray>\n",
      "    SN       (j, i) float32 dask.array<chunksize=(540, 540), meta=np.ndarray>\n",
      "    XC       (j, i) float32 dask.array<chunksize=(540, 540), meta=np.ndarray>\n",
      "    XG       (j_g, i_g) float32 dask.array<chunksize=(4320, 4320), meta=np.ndarray>\n",
      "    YC       (j, i) float32 dask.array<chunksize=(540, 540), meta=np.ndarray>\n",
      "    YG       (j_g, i_g) float32 dask.array<chunksize=(4320, 4320), meta=np.ndarray>\n",
      "    Z        (k) float32 dask.array<chunksize=(90,), meta=np.ndarray>\n",
      "    Zl       (k_l) float32 dask.array<chunksize=(90,), meta=np.ndarray>\n",
      "    Zp1      (k_p1) float32 dask.array<chunksize=(91,), meta=np.ndarray>\n",
      "    Zu       (k_u) float32 dask.array<chunksize=(90,), meta=np.ndarray>\n",
      "    drC      (k_p1) float32 dask.array<chunksize=(91,), meta=np.ndarray>\n",
      "    drF      (k) float32 dask.array<chunksize=(90,), meta=np.ndarray>\n",
      "    hFacC    (j, i) float32 dask.array<chunksize=(540, 540), meta=np.ndarray>\n",
      "    mask     (j, i) bool dask.array<chunksize=(540, 540), meta=np.ndarray>\n",
      "    rA       (j, i) float32 dask.array<chunksize=(540, 540), meta=np.ndarray>\n",
      "    rAz      (j_g, i_g) float32 dask.array<chunksize=(540, 540), meta=np.ndarray>\n",
      "Data variables:\n",
      "    SSU      (time, j, i) float32 dask.array<chunksize=(1, 540, 540), meta=np.ndarray>\n",
      "    SSV      (time, j, i) float32 dask.array<chunksize=(1, 540, 540), meta=np.ndarray>\n",
      "dataset size: 21.7 GB\n",
      "<xarray.Dataset>\n",
      "Dimensions:    (freq_time: 1440, i: 540, j: 540)\n",
      "Coordinates:\n",
      "    face       int64 1\n",
      "  * i          (i) int64 0 8 16 24 32 40 48 ... 4272 4280 4288 4296 4304 4312\n",
      "  * j          (j) int64 0 8 16 24 32 40 48 ... 4272 4280 4288 4296 4304 4312\n",
      "    CS         (j, i) float32 dask.array<chunksize=(540, 540), meta=np.ndarray>\n",
      "    Depth      (j, i) float32 dask.array<chunksize=(540, 540), meta=np.ndarray>\n",
      "    SN         (j, i) float32 dask.array<chunksize=(540, 540), meta=np.ndarray>\n",
      "    XC         (j, i) float32 dask.array<chunksize=(540, 540), meta=np.ndarray>\n",
      "    YC         (j, i) float32 dask.array<chunksize=(540, 540), meta=np.ndarray>\n",
      "    hFacC      (j, i) float32 dask.array<chunksize=(540, 540), meta=np.ndarray>\n",
      "    mask       (j, i) bool dask.array<chunksize=(540, 540), meta=np.ndarray>\n",
      "    rA         (j, i) float32 dask.array<chunksize=(540, 540), meta=np.ndarray>\n",
      "  * freq_time  (freq_time) float64 -12.0 -11.98 -11.97 ... 11.95 11.97 11.98\n",
      "Data variables:\n",
      "    uv_ageo    (j, i, freq_time) float64 dask.array<chunksize=(540, 540, 1440), meta=np.ndarray>\n",
      "mask\n",
      "freq_time\n"
     ]
    }
   ],
   "source": [
    "# spatial strides for decimation\n",
    "dij=8\n",
    "overwrite=True\n",
    "    \n",
    "#for face in range(13):\n",
    "for face in [1]:\n",
    "\n",
    "    Efile = work_data_dir+'xy/momentum_balance/hourly/E_duv_dt_f%02d.zarr'%(face)\n",
    "\n",
    "    if not os.path.isdir(Efile) or overwrite:\n",
    "\n",
    "        # load data\n",
    "        d_SSU_dt_time = ( ds_raw['SSU'].isel(face=face,i_g=slice(0,None,dij), j=slice(0,None,dij)).shift(time=-1) - ds_raw['SSU'].isel(face=face,i_g=slice(0,None,dij), j=slice(0,None,dij)).shift(time=1) )/2/3600\n",
    "        d_SSV_dt_time = ( ds_raw['SSV'].isel(face=face,i=slice(0,None,dij), j_g=slice(0,None,dij)).shift(time=-1) - ds_raw['SSV'].isel(face=face,i=slice(0,None,dij), j_g=slice(0,None,dij)).shift(time=1) )/2/3600\n",
    "        \n",
    "        \n",
    "        ds = xr.merge([d_SSU_dt_time.rename({'i_g': 'i'}), d_SSV_dt_time.rename({'j_g': 'j'})], \n",
    "                      compat='equals').assign_coords(**grd_rspec.sel(face=face))\n",
    "        \n",
    "        # generate a complex vector variable\n",
    "        ds['uv_ageo'] = ds['SSU'].fillna(0.) + 1j * ds['SSV'].fillna(0.)    \n",
    "\n",
    "        # should show the size of the dataset to know if we can load it in memory\n",
    "        print(ds)\n",
    "        print('dataset size: %.1f GB' %(ds.nbytes / 1e9))\n",
    "\n",
    "        # spectral computation\n",
    "        # need to run once to get frequency line\n",
    "        f, E = get_E(ds['uv_ageo'].isel(i=2,j=2))\n",
    "        #\n",
    "        E = get_E(ds['uv_ageo'], f=f)        \n",
    "\n",
    "        # store\n",
    "        E = E.to_dataset()\n",
    "        print(E)\n",
    "        for c in E.coords:\n",
    "            try:\n",
    "                del E[c].encoding['chunks']\n",
    "            except:\n",
    "                print(c)        \n",
    "        E = E.chunk({'i': 24*8, 'j':47*4})\n",
    "        %time E.to_zarr(Efile, mode='w')\n",
    "\n",
    "        print('--- face %d done'%face)\n",
    "\n",
    "    else:\n",
    "        print('--- face %d allready computed'%face)"
   ]
  },
  {
   "cell_type": "code",
   "execution_count": 15,
   "metadata": {},
   "outputs": [
    {
     "name": "stdout",
     "output_type": "stream",
     "text": [
      "<xarray.Dataset>\n",
      "Dimensions:    (freq_time: 1440, i: 1080, j: 1080)\n",
      "Coordinates:\n",
      "    face       int64 1\n",
      "  * i          (i) int64 0 4 8 12 16 20 24 ... 4296 4300 4304 4308 4312 4316\n",
      "  * j          (j) int64 0 4 8 12 16 20 24 ... 4296 4300 4304 4308 4312 4316\n",
      "    CS         (j, i) float32 dask.array<chunksize=(188, 192), meta=np.ndarray>\n",
      "    Depth      (j, i) float32 dask.array<chunksize=(188, 192), meta=np.ndarray>\n",
      "    SN         (j, i) float32 dask.array<chunksize=(188, 192), meta=np.ndarray>\n",
      "    XC         (j, i) float32 dask.array<chunksize=(188, 192), meta=np.ndarray>\n",
      "    YC         (j, i) float32 dask.array<chunksize=(188, 192), meta=np.ndarray>\n",
      "    hFacC      (j, i) float32 dask.array<chunksize=(188, 192), meta=np.ndarray>\n",
      "    mask       (j, i) bool dask.array<chunksize=(188, 192), meta=np.ndarray>\n",
      "    rA         (j, i) float32 dask.array<chunksize=(188, 192), meta=np.ndarray>\n",
      "  * freq_time  (freq_time) float64 -12.0 -11.98 -11.97 ... 11.95 11.97 11.98\n",
      "Data variables:\n",
      "    uv_ageo    (j, i, freq_time) float64 dask.array<chunksize=(188, 192, 1440), meta=np.ndarray>\n"
     ]
    }
   ],
   "source": [
    "print(E)"
   ]
  },
  {
   "cell_type": "markdown",
   "metadata": {},
   "source": [
    "## 2. band-integral results (KE)\n",
    "### band integral of spectra"
   ]
  },
  {
   "cell_type": "code",
   "execution_count": 43,
   "metadata": {},
   "outputs": [
    {
     "name": "stdout",
     "output_type": "stream",
     "text": [
      "face 11 done\n"
     ]
    }
   ],
   "source": [
    "face_all = [0, 1, 2, 3, 4, 5, 6, 7, 8, 9, 10, 11, 12]\n",
    "\n",
    "\n",
    "for face in face_all:\n",
    "    \n",
    "    ds = xr.open_zarr(work_data_dir+'xy/Ageo_uv/E_ageo_uv_f%02d.zarr'%(face))\n",
    "    chunks={'i': 188, 'j':192, 'freq_time':1440}\n",
    "    ds = ds.chunk(chunks)     \n",
    "    E = ds.uv_ageo\n",
    "    #E = E.assign_coords(freq_cps=E.freq_time / 86400.) \n",
    "    df=E.freq_time[1]-E.freq_time[0]\n",
    "\n",
    "    # total KE\n",
    "    E_all = (E*df).sum(dim='freq_time')\n",
    "    E_all = E_all.chunk({'i': 1080, 'j': 1080}) \n",
    "    E_all = np.real(E_all).rename('E_all')\n",
    "\n",
    "    # high-frequency KE (<0.5 day)\n",
    "    E_high = (E.where(abs(E.freq_time)>0.5, other=0.)*df).sum(dim='freq_time')\n",
    "    E_high = E_high.chunk({'i': 1080, 'j': 1080}) \n",
    "    E_high = np.real(E_high).rename('E_high')\n",
    "\n",
    "    # semi-diurnal\n",
    "    E_semi = (E.where((abs(E.freq_time)>1.9) & (abs(E.freq_time)<2.1), other=0.)*df).sum(dim='freq_time')\n",
    "    E_semi = E_semi.chunk({'i': 1080, 'j': 1080}) \n",
    "    E_semi = np.real(E_semi).rename('E_semi')\n",
    "\n",
    "    # diurnal\n",
    "    E_diurnal = (E.where((abs(E.freq_time)>0.9) & (abs(E.freq_time)<1.1), other=0.)*df).sum(dim='freq_time')\n",
    "    E_diurnal = E_diurnal.chunk({'i': 1080, 'j': 1080}) \n",
    "    E_diurnal = np.real(E_diurnal).rename('E_diurnal')\n",
    "    \n",
    "    # near-inertial\n",
    "    f_llc = 2.*2.*np.pi/86400. * np.sin(np.deg2rad(E.YC))\n",
    "    f_cpd_llc = f_llc*86400/2./np.pi\n",
    "    E_f = (E.where((abs(E.freq_time+f_cpd_llc)<0.1), other=0.)*df).sum(dim='freq_time')\n",
    "    E_f = np.real(E_f).rename('E_f')\n",
    "\n",
    "    # low-frequency KE (>0.5 day)    \n",
    "    E_low = E_all - E_high\n",
    "    E_low = E_low.chunk({'i': 1080, 'j': 1080}) \n",
    "    E_low = np.real(E_low).rename('E_low')\n",
    "\n",
    "    # merge together\n",
    "    E_band = xr.merge([E_high, E_semi, E_diurnal, E_f, E_all, E_low])\n",
    "    \n",
    "    file_E = work_data_dir+'xy/Ageo_uv/E_band_integral_f%02d.zarr'%face\n",
    "    E_band.to_zarr(file_E, mode='w')  \n",
    "    print('face %d done'%face )"
   ]
  },
  {
   "cell_type": "code",
   "execution_count": 19,
   "metadata": {},
   "outputs": [
    {
     "name": "stdout",
     "output_type": "stream",
     "text": [
      "<xarray.Dataset>\n",
      "Dimensions:    (face: 13, i: 1080, j: 1080)\n",
      "Coordinates:\n",
      "  * i          (i) int64 0 4 8 12 16 20 24 ... 4296 4300 4304 4308 4312 4316\n",
      "  * j          (j) int64 0 4 8 12 16 20 24 ... 4296 4300 4304 4308 4312 4316\n",
      "    Depth      (face, j, i) float32 dask.array<chunksize=(1, 1080, 1080), meta=np.ndarray>\n",
      "    XC         (face, j, i) float32 dask.array<chunksize=(1, 1080, 1080), meta=np.ndarray>\n",
      "    YC         (face, j, i) float32 dask.array<chunksize=(1, 1080, 1080), meta=np.ndarray>\n",
      "    dxC        (face, j, i) float32 dask.array<chunksize=(1, 1080, 1080), meta=np.ndarray>\n",
      "    dxG        (face, j, i) float32 dask.array<chunksize=(1, 1080, 1080), meta=np.ndarray>\n",
      "    dyC        (face, j, i) float32 dask.array<chunksize=(1, 1080, 1080), meta=np.ndarray>\n",
      "    dyG        (face, j, i) float32 dask.array<chunksize=(1, 1080, 1080), meta=np.ndarray>\n",
      "    f_i        (face, j, i) float32 dask.array<chunksize=(1, 1080, 1080), meta=np.ndarray>\n",
      "    f_j        (face, j, i) float32 dask.array<chunksize=(1, 1080, 1080), meta=np.ndarray>\n",
      "  * face       (face) int64 0 1 2 3 4 5 6 7 8 9 10 11 12\n",
      "    mask       (face, j, i) bool dask.array<chunksize=(1, 1080, 1080), meta=np.ndarray>\n",
      "Data variables:\n",
      "    E_all      (face, j, i) float64 dask.array<chunksize=(1, 1080, 1080), meta=np.ndarray>\n",
      "    E_diurnal  (face, j, i) float64 dask.array<chunksize=(1, 1080, 1080), meta=np.ndarray>\n",
      "    E_f        (face, j, i) float64 dask.array<chunksize=(1, 192, 188), meta=np.ndarray>\n",
      "    E_high     (face, j, i) float64 dask.array<chunksize=(1, 1080, 1080), meta=np.ndarray>\n",
      "    E_low      (face, j, i) float64 dask.array<chunksize=(1, 1080, 1080), meta=np.ndarray>\n",
      "    E_semi     (face, j, i) float64 dask.array<chunksize=(1, 1080, 1080), meta=np.ndarray>\n"
     ]
    }
   ],
   "source": [
    "face_all = [0, 1, 2, 3, 4, 5, 6, 7, 8, 9, 10, 11, 12]\n",
    "D = [xr.open_zarr(work_data_dir+'xy/Ageo_uv/E_band_integral_f%02d.zarr'%(face)) for face in face_all] \n",
    "ds_all = xr.concat(D, dim='face')\n",
    "print(ds_all)"
   ]
  },
  {
   "cell_type": "code",
   "execution_count": 21,
   "metadata": {},
   "outputs": [
    {
     "data": {
      "text/plain": [
       "<matplotlib.collections.QuadMesh at 0x2b5703ce2cc0>"
      ]
     },
     "execution_count": 21,
     "metadata": {},
     "output_type": "execute_result"
    },
    {
     "data": {
      "image/png": "[encoded data removed]",
      "text/plain": [
       "<Figure size 1728x864 with 2 Axes>"
      ]
     },
     "metadata": {
      "needs_background": "light"
     },
     "output_type": "display_data"
    }
   ],
   "source": [
    "fig = plt.figure(figsize = (24,12))\n",
    "\n",
    "plt.subplot(221)\n",
    "np.log10(ds_all['E_all'].isel(face=1)).plot(x='XC', y='YC',vmin=0.,vmax=1.,cmap = 'Greens')\n"
   ]
  },
  {
   "cell_type": "markdown",
   "metadata": {},
   "source": [
    "## 3. zonal average of rotary spectra"
   ]
  },
  {
   "cell_type": "code",
   "execution_count": 30,
   "metadata": {},
   "outputs": [
    {
     "data": {
      "text/plain": [
       "<xarray.DataArray 'AREA' (face: 13, j: 1080, i: 1080)>\n",
       "dask.array<getitem, shape=(13, 1080, 1080), dtype=float64, chunksize=(1, 1080, 1080), chunktype=numpy.ndarray>\n",
       "Coordinates:\n",
       "  * face     (face) int64 0 1 2 3 4 5 6 7 8 9 10 11 12\n",
       "  * i        (i) int64 0 4 8 12 16 20 24 ... 4292 4296 4300 4304 4308 4312 4316\n",
       "  * j        (j) int64 0 4 8 12 16 20 24 ... 4292 4296 4300 4304 4308 4312 4316"
      ]
     },
     "execution_count": 30,
     "metadata": {},
     "output_type": "execute_result"
    }
   ],
   "source": [
    "ds_ice = xr.open_zarr(work_data_dir+'xy/sea_ice_mask.zarr')\n",
    "dij=4 \n",
    "ice = ds_ice.AREA.isel(i=slice(0,None,dij), j=slice(0,None,dij)) \n",
    "ice"
   ]
  },
  {
   "cell_type": "code",
   "execution_count": 29,
   "metadata": {},
   "outputs": [],
   "source": [
    "latb = np.arange(-60.,60.,1.)\n",
    "latc = (latb[:-1]+latb[1:])*.5\n",
    "\n",
    "def _zhist(x, lat, weights=True):\n",
    "    # an alternative would be to create xarray dataarrays and use groupby_bins\n",
    "    # https://github.com/pydata/xarray/issues/1765\n",
    "    if weights:\n",
    "        w = x\n",
    "    else:\n",
    "        w = np.ones_like(x)\n",
    "    h, edges = np.histogram(lat, bins=latb, weights=w, density=False)\n",
    "    return h[None,:]\n",
    "\n",
    "def zaverage(v):\n",
    "    dims = ['i','j']\n",
    "    v = v.fillna(0.)\n",
    "    lat = v.YC+0.*v\n",
    "    #\n",
    "    S = xr.apply_ufunc(_zhist, v, lat, kwargs={'weights': True},\n",
    "                    output_core_dims=[['latitude']], output_dtypes=[np.float64], \n",
    "                    dask='parallelized',\n",
    "                    input_core_dims=[dims, dims],\n",
    "                    output_sizes={'latitude': len(latc)})\n",
    "    S = S.assign_coords(latitude=latc).rename('S_SSUV')\n",
    "    #\n",
    "    W = xr.apply_ufunc(_zhist, v, lat, kwargs={'weights': False},\n",
    "                    output_core_dims=[['latitude']], output_dtypes=[np.float64], \n",
    "                    dask='parallelized',\n",
    "                    input_core_dims=[dims, dims],\n",
    "                    output_sizes={'latitude': len(latc)})\n",
    "    W = W.assign_coords(latitude=latc).rename('W_SSUV')    \n",
    "    return xr.merge([S, W], compat='identical')"
   ]
  },
  {
   "cell_type": "code",
   "execution_count": 33,
   "metadata": {},
   "outputs": [
    {
     "name": "stdout",
     "output_type": "stream",
     "text": [
      "<xarray.Dataset>\n",
      "Dimensions:    (face: 13, freq_time: 1440, i: 1080, j: 1080)\n",
      "Coordinates:\n",
      "  * j          (j) int64 0 4 8 12 16 20 24 ... 4296 4300 4304 4308 4312 4316\n",
      "  * freq_time  (freq_time) float64 -12.0 -11.98 -11.97 ... 11.95 11.97 11.98\n",
      "  * i          (i) int64 0 4 8 12 16 20 24 ... 4296 4300 4304 4308 4312 4316\n",
      "    Depth      (face, j, i) float32 dask.array<chunksize=(1, 188, 192), meta=np.ndarray>\n",
      "    XC         (face, j, i) float32 dask.array<chunksize=(1, 188, 192), meta=np.ndarray>\n",
      "    YC         (face, j, i) float32 dask.array<chunksize=(1, 188, 192), meta=np.ndarray>\n",
      "    dxC        (face, j, i) float32 dask.array<chunksize=(1, 188, 192), meta=np.ndarray>\n",
      "    dxG        (face, j, i) float32 dask.array<chunksize=(1, 188, 192), meta=np.ndarray>\n",
      "    dyC        (face, j, i) float32 dask.array<chunksize=(1, 188, 192), meta=np.ndarray>\n",
      "    dyG        (face, j, i) float32 dask.array<chunksize=(1, 188, 192), meta=np.ndarray>\n",
      "    f_i        (face, j, i) float32 dask.array<chunksize=(1, 188, 192), meta=np.ndarray>\n",
      "    f_j        (face, j, i) float32 dask.array<chunksize=(1, 188, 192), meta=np.ndarray>\n",
      "  * face       (face) int64 0 1 2 3 4 5 6 7 8 9 10 11 12\n",
      "    mask       (face, j, i) bool dask.array<chunksize=(1, 188, 192), meta=np.ndarray>\n",
      "Data variables:\n",
      "    uv_ageo    (face, j, i, freq_time) float64 dask.array<chunksize=(1, 188, 192, 1440), meta=np.ndarray>\n"
     ]
    }
   ],
   "source": [
    "F = [0, 1, 2, 3, 4, 5, 6, 7, 8, 9, 10, 11, 12]\n",
    "ds = xr.concat([xr.open_zarr(work_data_dir+'xy/Ageo_uv/E_ageo_uv_f%02d.zarr'%(face))\n",
    "              for face in F], dim='face', compat='identical')\n",
    "print(ds)"
   ]
  },
  {
   "cell_type": "code",
   "execution_count": 34,
   "metadata": {},
   "outputs": [],
   "source": [
    "v = 'uv_ageo'\n",
    "F = [0, 1, 2, 3, 4, 5, 6, 7, 8, 9, 10, 12]\n",
    "F = [11]"
   ]
  },
  {
   "cell_type": "code",
   "execution_count": 36,
   "metadata": {},
   "outputs": [
    {
     "name": "stdout",
     "output_type": "stream",
     "text": [
      "--- face 0 done\n",
      "--- face 1 done\n",
      "--- face 2 done\n",
      "--- face 3 done\n",
      "--- face 4 done\n",
      "--- face 5 done\n",
      "--- face 6 done\n",
      "--- face 7 done\n",
      "--- face 8 done\n",
      "--- face 9 done\n",
      "--- face 10 done\n",
      "--- face 12 done\n"
     ]
    }
   ],
   "source": [
    "F = [0, 1, 2, 3, 4, 5, 6, 7, 8, 9, 10, 12]\n",
    "\n",
    "for face in F:\n",
    "    lds = ds.isel(face=face).chunk({'i': None, 'j': None,'freq_time':1})\n",
    "    lice = ice.isel(face=face)\n",
    "    #E = lds.uv_ageo.isel(i=slice(1,-1),j=slice(1,-1)).where((lds.Depth>2000.) & (lds.j!=40), drop=False) # filter out shallow depths\n",
    "    E = lds.uv_ageo.isel(i=slice(1,-1),j=slice(1,-1)).where(lds.Depth>2000., drop=False).where(lice>0) # filter out shallow depths\n",
    "    Eds = zaverage(E).chunk({'freq_time':None})\n",
    "    Efile = work_data_dir+'xy/Ageo_uv/%s_f%02d_zav.zarr'%(v, face)\n",
    "    Eds.to_zarr(Efile, mode='w')\n",
    "    print('--- face %d done'%face)"
   ]
  },
  {
   "cell_type": "code",
   "execution_count": 37,
   "metadata": {},
   "outputs": [
    {
     "name": "stdout",
     "output_type": "stream",
     "text": [
      "--- face 11 done\n"
     ]
    }
   ],
   "source": [
    "F = [11]\n",
    "\n",
    "for face in F:\n",
    "    lds = ds.isel(face=face).chunk({'i': None, 'j': None,'freq_time':1})\n",
    "    lice = ice.isel(face=face)\n",
    "    E = lds.uv_ageo.isel(i=slice(1,-1),j=slice(1,-1)).where((lds.Depth>2000.) & (lds.j!=40), drop=False).where(lice>0)  # filter out shallow depths\n",
    "    #E = lds.uv_ageo.isel(i=slice(1,-1),j=slice(1,-1)).where(lds.Depth>2000., drop=False) # filter out shallow depths\n",
    "    Eds = zaverage(E).chunk({'freq_time':None})\n",
    "    Efile = work_data_dir+'xy/Ageo_uv/%s_f%02d_zav.zarr'%(v, face)\n",
    "    Eds.to_zarr(Efile, mode='w')\n",
    "    print('--- face %d done'%face)"
   ]
  },
  {
   "cell_type": "code",
   "execution_count": 38,
   "metadata": {},
   "outputs": [
    {
     "name": "stdout",
     "output_type": "stream",
     "text": [
      "<xarray.Dataset>\n",
      "Dimensions:    (freq_time: 1440, latitude: 119)\n",
      "Coordinates:\n",
      "  * freq_time  (freq_time) float64 -12.0 -11.98 -11.97 ... 11.95 11.97 11.98\n",
      "  * latitude   (latitude) float64 -59.5 -58.5 -57.5 -56.5 ... 56.5 57.5 58.5\n",
      "Data variables:\n",
      "    S_SSUV     (freq_time, latitude) float64 dask.array<chunksize=(1440, 119), meta=np.ndarray>\n",
      "    W_SSUV     (freq_time, latitude) float64 dask.array<chunksize=(1440, 119), meta=np.ndarray>\n"
     ]
    }
   ],
   "source": [
    "F = [0, 1, 2, 3, 4, 5, 6, 7, 8, 9, 10, 11, 12]\n",
    "ds_zav = xr.concat([xr.open_zarr(work_data_dir+'xy/Ageo_uv/%s_f%02d_zav.zarr'%(v,face))\n",
    "                    for face in F], dim='face', compat='identical').sum('face')\n",
    "print(ds_zav)"
   ]
  },
  {
   "cell_type": "code",
   "execution_count": 39,
   "metadata": {},
   "outputs": [
    {
     "name": "stdout",
     "output_type": "stream",
     "text": [
      "<xarray.DataArray 'E_SSUV' (freq_time: 1440, latitude: 119)>\n",
      "dask.array<truediv, shape=(1440, 119), dtype=float64, chunksize=(1440, 119), chunktype=numpy.ndarray>\n",
      "Coordinates:\n",
      "  * freq_time  (freq_time) float64 -12.0 -11.98 -11.97 ... 11.95 11.97 11.98\n",
      "  * latitude   (latitude) float64 -59.5 -58.5 -57.5 -56.5 ... 56.5 57.5 58.5\n"
     ]
    }
   ],
   "source": [
    "E_zav = (ds_zav.S_SSUV/ds_zav.W_SSUV).rename('E_SSUV')\n",
    "print(E_zav)"
   ]
  },
  {
   "cell_type": "code",
   "execution_count": null,
   "metadata": {},
   "outputs": [],
   "source": [
    "plt.figure(figsize=(24,12))\n",
    "ax = plt.subplot(1,1,1)\n",
    "\n",
    "np.log10(E_zav).plot(vmin=-4, vmax=2, x='freq_time', y='latitude', cmap='RdBu_r')\n",
    "ax.set_xticks(list(ax.get_xticks()) + [-12.,-11.,-10.,-9.,-8.,-7.,-6.,-5.,-4., -3., -2., -1., 1., 2., 3., 4.,5.,6.,7.,8.,9.,10.,11.,12.])\n",
    "ax.set_xlim(-12., 12.)\n",
    "ax.set_ylim(-60., 60.)"
   ]
  },
  {
   "cell_type": "code",
   "execution_count": null,
   "metadata": {},
   "outputs": [],
   "source": []
  },
  {
   "cell_type": "code",
   "execution_count": null,
   "metadata": {},
   "outputs": [],
   "source": []
  },
  {
   "cell_type": "code",
   "execution_count": null,
   "metadata": {},
   "outputs": [],
   "source": []
  },
  {
   "cell_type": "code",
   "execution_count": 22,
   "metadata": {
    "scrolled": true
   },
   "outputs": [],
   "source": [
    "cluster.close()"
   ]
  },
  {
   "cell_type": "code",
   "execution_count": null,
   "metadata": {},
   "outputs": [],
   "source": []
  }
 ],
 "metadata": {
  "kernelspec": {
   "display_name": "equinox",
   "language": "python",
   "name": "equinox"
  },
  "language_info": {
   "codemirror_mode": {
    "name": "ipython",
    "version": 3
   },
   "file_extension": ".py",
   "mimetype": "text/x-python",
   "name": "python",
   "nbconvert_exporter": "python",
   "pygments_lexer": "ipython3",
   "version": "3.7.3"
  }
 },
 "nbformat": 4,
 "nbformat_minor": 4
}

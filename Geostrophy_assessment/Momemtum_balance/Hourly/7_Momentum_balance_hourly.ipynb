{
 "cells": [
  {
   "cell_type": "code",
   "execution_count": 1,
   "metadata": {},
   "outputs": [],
   "source": [
    "import os, sys\n",
    "from glob import glob\n",
    "import numpy as np\n",
    "import dask\n",
    "import xarray as xr\n",
    "import xgcm\n",
    "from matplotlib import pyplot as plt\n",
    "%matplotlib inline\n",
    "\n",
    "from mitequinox.utils import *\n",
    "from mitequinox.sigp import *\n",
    "from mitequinox.plot import *"
   ]
  },
  {
   "cell_type": "code",
   "execution_count": 2,
   "metadata": {},
   "outputs": [],
   "source": [
    "from dask_jobqueue import PBSCluster\n",
    "#cluster = PBSCluster(cores=12, walltime='03:00:00')\n",
    "cluster = PBSCluster(cores=6, processes=6,  walltime='04:00:00')\n",
    "w = cluster.scale(12*10)"
   ]
  },
  {
   "cell_type": "code",
   "execution_count": 3,
   "metadata": {},
   "outputs": [],
   "source": [
    "# get dask handles and check dask server status\n",
    "from dask.distributed import Client\n",
    "client = Client(cluster)"
   ]
  },
  {
   "cell_type": "code",
   "execution_count": 33,
   "metadata": {},
   "outputs": [
    {
     "data": {
      "text/html": [
       "<table style=\"border: 2px solid white;\">\n",
       "<tr>\n",
       "<td style=\"vertical-align: top; border: 0px solid white\">\n",
       "<h3 style=\"text-align: left;\">Client</h3>\n",
       "<ul style=\"text-align: left; list-style: none; margin: 0; padding: 0;\">\n",
       "  <li><b>Scheduler: </b>tcp://10.135.39.22:32915</li>\n",
       "  <li><b>Dashboard: </b><a href='http://10.135.39.22:8787/status' target='_blank'>http://10.135.39.22:8787/status</a>\n",
       "</ul>\n",
       "</td>\n",
       "<td style=\"vertical-align: top; border: 0px solid white\">\n",
       "<h3 style=\"text-align: left;\">Cluster</h3>\n",
       "<ul style=\"text-align: left; list-style:none; margin: 0; padding: 0;\">\n",
       "  <li><b>Workers: </b>120</li>\n",
       "  <li><b>Cores: </b>120</li>\n",
       "  <li><b>Memory: </b>2.00 TB</li>\n",
       "</ul>\n",
       "</td>\n",
       "</tr>\n",
       "</table>"
      ],
      "text/plain": [
       "<Client: 'tcp://10.135.39.22:32915' processes=120 threads=120, memory=2.00 TB>"
      ]
     },
     "execution_count": 33,
     "metadata": {},
     "output_type": "execute_result"
    }
   ],
   "source": [
    "client"
   ]
  },
  {
   "cell_type": "markdown",
   "metadata": {},
   "source": [
    "_______\n",
    "# Useful information"
   ]
  },
  {
   "cell_type": "code",
   "execution_count": 5,
   "metadata": {},
   "outputs": [],
   "source": [
    "E_dir = '/work/ALT/swot/aval/syn/xy/momentum_balance/hourly/'\n",
    "time_length = 240\n",
    "\n",
    "# define (real) time\n",
    "def iters_to_date(iters, delta_t=3600.):\n",
    "    t0 = datetime.datetime(2011,11,23,8)    \n",
    "    ltime = delta_t * (np.array(iters))\n",
    "    dtime = [t0+dateutil.relativedelta.relativedelta(seconds=t) for t in ltime]    \n",
    "    return dtime\n",
    "\n",
    "time_day = iters_to_date(np.arange(time_length))\n",
    "\n",
    "grd = load_grd().reset_coords()\n",
    "mask = ((grd.hFacW.rename({'i_g': 'i'}) == 1) &\n",
    "        (grd.hFacS.rename({'j_g': 'j'}) == 1) \n",
    "       ).rename('mask').reset_coords(drop=True)\n",
    "grd_rspec = xr.merge([mask, grd])"
   ]
  },
  {
   "cell_type": "markdown",
   "metadata": {},
   "source": [
    "___________\n",
    "# Term 1: time acceleration\n",
    "\n",
    "### du/dt and dv/dt"
   ]
  },
  {
   "cell_type": "code",
   "execution_count": 6,
   "metadata": {},
   "outputs": [
    {
     "name": "stdout",
     "output_type": "stream",
     "text": [
      "<xarray.Dataset>\n",
      "Dimensions:  (face: 13, i: 4320, i_g: 4320, j: 4320, j_g: 4320, k: 90, k_l: 90, k_p1: 91, k_u: 90, time: 240)\n",
      "Coordinates:\n",
      "    dtime    (time) datetime64[ns] dask.array<chunksize=(240,), meta=np.ndarray>\n",
      "  * face     (face) int64 0 1 2 3 4 5 6 7 8 9 10 11 12\n",
      "  * i_g      (i_g) int64 0 1 2 3 4 5 6 7 ... 4313 4314 4315 4316 4317 4318 4319\n",
      "    iters    (time) int64 dask.array<chunksize=(1,), meta=np.ndarray>\n",
      "  * j        (j) int64 0 1 2 3 4 5 6 7 ... 4313 4314 4315 4316 4317 4318 4319\n",
      "  * time     (time) datetime64[ns] 2011-11-23T08:00:00 ... 2011-12-03T07:00:00\n",
      "  * i        (i) int64 0 1 2 3 4 5 6 7 ... 4313 4314 4315 4316 4317 4318 4319\n",
      "  * j_g      (j_g) int64 0 1 2 3 4 5 6 7 ... 4313 4314 4315 4316 4317 4318 4319\n",
      "    CS       (face, j, i) float32 dask.array<chunksize=(1, 4320, 4320), meta=np.ndarray>\n",
      "    Depth    (face, j, i) float32 dask.array<chunksize=(1, 4320, 4320), meta=np.ndarray>\n",
      "    PHrefC   (k) float32 dask.array<chunksize=(90,), meta=np.ndarray>\n",
      "    PHrefF   (k_p1) float32 dask.array<chunksize=(91,), meta=np.ndarray>\n",
      "    SN       (face, j, i) float32 dask.array<chunksize=(1, 4320, 4320), meta=np.ndarray>\n",
      "    XC       (face, j, i) float32 dask.array<chunksize=(1, 4320, 4320), meta=np.ndarray>\n",
      "    XG       (face, j_g, i_g) float32 dask.array<chunksize=(1, 4320, 4320), meta=np.ndarray>\n",
      "    YC       (face, j, i) float32 dask.array<chunksize=(1, 4320, 4320), meta=np.ndarray>\n",
      "    YG       (face, j_g, i_g) float32 dask.array<chunksize=(1, 4320, 4320), meta=np.ndarray>\n",
      "    Z        (k) float32 dask.array<chunksize=(90,), meta=np.ndarray>\n",
      "    Zl       (k_l) float32 dask.array<chunksize=(90,), meta=np.ndarray>\n",
      "    Zp1      (k_p1) float32 dask.array<chunksize=(91,), meta=np.ndarray>\n",
      "    Zu       (k_u) float32 dask.array<chunksize=(90,), meta=np.ndarray>\n",
      "    drC      (k_p1) float32 dask.array<chunksize=(91,), meta=np.ndarray>\n",
      "    drF      (k) float32 dask.array<chunksize=(90,), meta=np.ndarray>\n",
      "    dxC      (face, j, i_g) float32 dask.array<chunksize=(1, 4320, 4320), meta=np.ndarray>\n",
      "    dxG      (face, j_g, i) float32 dask.array<chunksize=(1, 4320, 4320), meta=np.ndarray>\n",
      "    dyC      (face, j_g, i) float32 dask.array<chunksize=(1, 4320, 4320), meta=np.ndarray>\n",
      "    dyG      (face, j, i_g) float32 dask.array<chunksize=(1, 4320, 4320), meta=np.ndarray>\n",
      "    hFacC    (face, j, i) float32 dask.array<chunksize=(1, 4320, 4320), meta=np.ndarray>\n",
      "    hFacS    (face, j_g, i) float32 dask.array<chunksize=(1, 4320, 4320), meta=np.ndarray>\n",
      "    hFacW    (face, j, i_g) float32 dask.array<chunksize=(1, 4320, 4320), meta=np.ndarray>\n",
      "  * k        (k) int64 0 1 2 3 4 5 6 7 8 9 10 ... 80 81 82 83 84 85 86 87 88 89\n",
      "  * k_l      (k_l) int64 0 1 2 3 4 5 6 7 8 9 ... 80 81 82 83 84 85 86 87 88 89\n",
      "  * k_p1     (k_p1) int64 0 1 2 3 4 5 6 7 8 9 ... 81 82 83 84 85 86 87 88 89 90\n",
      "  * k_u      (k_u) int64 0 1 2 3 4 5 6 7 8 9 ... 80 81 82 83 84 85 86 87 88 89\n",
      "    rA       (face, j, i) float32 dask.array<chunksize=(1, 4320, 4320), meta=np.ndarray>\n",
      "    rAs      (face, j_g, i) float32 dask.array<chunksize=(1, 4320, 4320), meta=np.ndarray>\n",
      "    rAw      (face, j, i_g) float32 dask.array<chunksize=(1, 4320, 4320), meta=np.ndarray>\n",
      "    rAz      (face, j_g, i_g) float32 dask.array<chunksize=(2, 540, 540), meta=np.ndarray>\n",
      "Data variables:\n",
      "    SSU      (time, face, j, i_g) float32 dask.array<chunksize=(1, 1, 4320, 4320), meta=np.ndarray>\n",
      "    SSV      (time, face, j_g, i) float32 dask.array<chunksize=(1, 1, 4320, 4320), meta=np.ndarray>\n",
      "\n",
      " data size: 483.3 GB\n"
     ]
    }
   ],
   "source": [
    "dij = 4\n",
    "\n",
    "dsU = xr.open_zarr(root_data_dir+'zarr/%s.zarr'%('SSU')).isel(time=slice(200,200+time_length))\n",
    "dsV = xr.open_zarr(root_data_dir+'zarr/%s.zarr'%('SSV')).isel(time=slice(200,200+time_length))\n",
    "\n",
    "ds_raw = (xr.merge([dsU,dsV]).assign_coords(**grd.variables))\n",
    "ds_raw = ds_raw.assign_coords(time=time_day) \n",
    "grid = xgcm.Grid(ds_raw, periodic=['X', 'Y'])\n",
    "print(ds_raw)\n",
    "print('\\n data size: %.1f GB' %(ds_raw.nbytes / 1e9))"
   ]
  },
  {
   "cell_type": "code",
   "execution_count": 7,
   "metadata": {},
   "outputs": [
    {
     "name": "stdout",
     "output_type": "stream",
     "text": [
      "face=0 - allready processed\n",
      "face=1 - allready processed\n",
      "face=2 - allready processed\n",
      "face=3 - allready processed\n",
      "face=4 - allready processed\n",
      "face=5 - allready processed\n",
      "face=6 - allready processed\n",
      "face=7 - allready processed\n",
      "face=8 - allready processed\n",
      "face=9 - allready processed\n",
      "face=10 - allready processed\n",
      "face=11 - allready processed\n",
      "face=12 - allready processed\n"
     ]
    }
   ],
   "source": [
    "for face in range(ds_raw['face'].size):\n",
    "    \n",
    "    d_SSU_dt_time = ( ds_raw['SSU'].isel(face=face).shift(time=-1) - ds_raw['SSU'].isel(face=face).shift(time=1) )/2/3600\n",
    "    d_SSV_dt_time = ( ds_raw['SSV'].isel(face=face).shift(time=-1) - ds_raw['SSV'].isel(face=face).shift(time=1) )/2/3600\n",
    " \n",
    "    dudt = grid.interp(d_SSU_dt_time,'X')\n",
    "    dvdt = grid.interp(d_SSV_dt_time,'Y')    \n",
    "\n",
    "    du_dt =  dudt.isel(i=slice(0,None,dij), j=slice(0,None,dij))*ds_raw.CS.isel(face=face, i=slice(0,None,dij), j=slice(0,None,dij)) - dvdt.isel(i=slice(0,None,dij), j=slice(0,None,dij))*ds_raw.SN.isel(face=face, i=slice(0,None,dij), j=slice(0,None,dij))\n",
    "    dv_dt =  dudt.isel(i=slice(0,None,dij), j=slice(0,None,dij))*ds_raw.SN.isel(face=face, i=slice(0,None,dij), j=slice(0,None,dij)) + dvdt.isel(i=slice(0,None,dij), j=slice(0,None,dij))*ds_raw.CS.isel(face=face, i=slice(0,None,dij), j=slice(0,None,dij))    \n",
    "    \n",
    "    # store\n",
    "    du_dt = np.real(du_dt).rename('du_dt')    \n",
    "    du_dt = du_dt.chunk({'time': 1,'i':1080,'j':1080})\n",
    "    du_dt.to_dataset().to_zarr(E_dir+'du_dt_f%02d.zarr'% (face), mode='w')\n",
    "\n",
    "    dv_dt = np.real(dv_dt).rename('dv_dt')    \n",
    "    dv_dt = dv_dt.chunk({'time': 1,'i':1080,'j':1080})\n",
    "    dv_dt.to_dataset().to_zarr(E_dir+'dv_dt_f%02d.zarr'% (face), mode='w')        \n",
    "\n",
    "    print('face=%d - allready processed'%(face))    "
   ]
  },
  {
   "cell_type": "markdown",
   "metadata": {},
   "source": [
    "# A key term zeta"
   ]
  },
  {
   "cell_type": "code",
   "execution_count": 8,
   "metadata": {
    "collapsed": true,
    "jupyter": {
     "outputs_hidden": true
    }
   },
   "outputs": [
    {
     "name": "stderr",
     "output_type": "stream",
     "text": [
      "/home/uz/yux/.conda/envs/equinox/lib/python3.7/site-packages/dask/array/core.py:3855: PerformanceWarning: Increasing number of chunks by factor of 20\n",
      "  **blockwise_kwargs\n"
     ]
    },
    {
     "name": "stdout",
     "output_type": "stream",
     "text": [
      "CPU times: user 3min 7s, sys: 7.17 s, total: 3min 14s\n",
      "Wall time: 3min 10s\n",
      "face=0 - allready processed\n"
     ]
    },
    {
     "name": "stderr",
     "output_type": "stream",
     "text": [
      "/home/uz/yux/.conda/envs/equinox/lib/python3.7/site-packages/dask/array/core.py:3855: PerformanceWarning: Increasing number of chunks by factor of 20\n",
      "  **blockwise_kwargs\n",
      "distributed.utils_perf - WARNING - full garbage collections took 10% CPU time recently (threshold: 10%)\n",
      "distributed.utils_perf - WARNING - full garbage collections took 10% CPU time recently (threshold: 10%)\n",
      "distributed.utils_perf - WARNING - full garbage collections took 10% CPU time recently (threshold: 10%)\n",
      "distributed.utils_perf - WARNING - full garbage collections took 10% CPU time recently (threshold: 10%)\n",
      "distributed.utils_perf - WARNING - full garbage collections took 11% CPU time recently (threshold: 10%)\n",
      "distributed.utils_perf - WARNING - full garbage collections took 11% CPU time recently (threshold: 10%)\n",
      "distributed.utils_perf - WARNING - full garbage collections took 11% CPU time recently (threshold: 10%)\n",
      "distributed.utils_perf - WARNING - full garbage collections took 11% CPU time recently (threshold: 10%)\n"
     ]
    },
    {
     "name": "stdout",
     "output_type": "stream",
     "text": [
      "CPU times: user 3min 11s, sys: 8.22 s, total: 3min 19s\n",
      "Wall time: 3min 16s\n",
      "face=1 - allready processed\n"
     ]
    },
    {
     "name": "stderr",
     "output_type": "stream",
     "text": [
      "distributed.utils_perf - WARNING - full garbage collections took 11% CPU time recently (threshold: 10%)\n",
      "/home/uz/yux/.conda/envs/equinox/lib/python3.7/site-packages/dask/array/core.py:3855: PerformanceWarning: Increasing number of chunks by factor of 20\n",
      "  **blockwise_kwargs\n",
      "distributed.utils_perf - WARNING - full garbage collections took 11% CPU time recently (threshold: 10%)\n",
      "distributed.utils_perf - WARNING - full garbage collections took 11% CPU time recently (threshold: 10%)\n",
      "distributed.utils_perf - WARNING - full garbage collections took 11% CPU time recently (threshold: 10%)\n",
      "distributed.utils_perf - WARNING - full garbage collections took 11% CPU time recently (threshold: 10%)\n",
      "distributed.utils_perf - WARNING - full garbage collections took 11% CPU time recently (threshold: 10%)\n",
      "distributed.utils_perf - WARNING - full garbage collections took 11% CPU time recently (threshold: 10%)\n",
      "distributed.utils_perf - WARNING - full garbage collections took 11% CPU time recently (threshold: 10%)\n",
      "distributed.utils_perf - WARNING - full garbage collections took 11% CPU time recently (threshold: 10%)\n",
      "distributed.utils_perf - WARNING - full garbage collections took 11% CPU time recently (threshold: 10%)\n",
      "distributed.utils_perf - WARNING - full garbage collections took 11% CPU time recently (threshold: 10%)\n",
      "distributed.utils_perf - WARNING - full garbage collections took 11% CPU time recently (threshold: 10%)\n",
      "distributed.utils_perf - WARNING - full garbage collections took 11% CPU time recently (threshold: 10%)\n",
      "distributed.utils_perf - WARNING - full garbage collections took 11% CPU time recently (threshold: 10%)\n",
      "distributed.utils_perf - WARNING - full garbage collections took 12% CPU time recently (threshold: 10%)\n",
      "distributed.utils_perf - WARNING - full garbage collections took 12% CPU time recently (threshold: 10%)\n",
      "distributed.utils_perf - WARNING - full garbage collections took 12% CPU time recently (threshold: 10%)\n",
      "distributed.utils_perf - WARNING - full garbage collections took 12% CPU time recently (threshold: 10%)\n",
      "distributed.utils_perf - WARNING - full garbage collections took 13% CPU time recently (threshold: 10%)\n",
      "distributed.utils_perf - WARNING - full garbage collections took 12% CPU time recently (threshold: 10%)\n",
      "distributed.utils_perf - WARNING - full garbage collections took 12% CPU time recently (threshold: 10%)\n",
      "distributed.utils_perf - WARNING - full garbage collections took 12% CPU time recently (threshold: 10%)\n",
      "distributed.utils_perf - WARNING - full garbage collections took 12% CPU time recently (threshold: 10%)\n"
     ]
    },
    {
     "name": "stdout",
     "output_type": "stream",
     "text": [
      "CPU times: user 3min 14s, sys: 6.84 s, total: 3min 21s\n",
      "Wall time: 3min 17s\n",
      "face=2 - allready processed\n"
     ]
    },
    {
     "name": "stderr",
     "output_type": "stream",
     "text": [
      "/home/uz/yux/.conda/envs/equinox/lib/python3.7/site-packages/dask/array/core.py:3855: PerformanceWarning: Increasing number of chunks by factor of 20\n",
      "  **blockwise_kwargs\n",
      "distributed.utils_perf - WARNING - full garbage collections took 12% CPU time recently (threshold: 10%)\n",
      "distributed.utils_perf - WARNING - full garbage collections took 12% CPU time recently (threshold: 10%)\n",
      "distributed.utils_perf - WARNING - full garbage collections took 12% CPU time recently (threshold: 10%)\n",
      "distributed.utils_perf - WARNING - full garbage collections took 12% CPU time recently (threshold: 10%)\n",
      "distributed.utils_perf - WARNING - full garbage collections took 12% CPU time recently (threshold: 10%)\n",
      "distributed.utils_perf - WARNING - full garbage collections took 12% CPU time recently (threshold: 10%)\n",
      "distributed.utils_perf - WARNING - full garbage collections took 12% CPU time recently (threshold: 10%)\n",
      "distributed.utils_perf - WARNING - full garbage collections took 12% CPU time recently (threshold: 10%)\n",
      "distributed.utils_perf - WARNING - full garbage collections took 12% CPU time recently (threshold: 10%)\n",
      "distributed.utils_perf - WARNING - full garbage collections took 12% CPU time recently (threshold: 10%)\n",
      "distributed.utils_perf - WARNING - full garbage collections took 12% CPU time recently (threshold: 10%)\n",
      "distributed.utils_perf - WARNING - full garbage collections took 11% CPU time recently (threshold: 10%)\n",
      "distributed.utils_perf - WARNING - full garbage collections took 12% CPU time recently (threshold: 10%)\n",
      "distributed.utils_perf - WARNING - full garbage collections took 12% CPU time recently (threshold: 10%)\n",
      "distributed.utils_perf - WARNING - full garbage collections took 12% CPU time recently (threshold: 10%)\n",
      "distributed.utils_perf - WARNING - full garbage collections took 12% CPU time recently (threshold: 10%)\n",
      "distributed.utils_perf - WARNING - full garbage collections took 12% CPU time recently (threshold: 10%)\n",
      "distributed.utils_perf - WARNING - full garbage collections took 12% CPU time recently (threshold: 10%)\n",
      "distributed.utils_perf - WARNING - full garbage collections took 12% CPU time recently (threshold: 10%)\n",
      "distributed.utils_perf - WARNING - full garbage collections took 12% CPU time recently (threshold: 10%)\n",
      "distributed.utils_perf - WARNING - full garbage collections took 12% CPU time recently (threshold: 10%)\n"
     ]
    },
    {
     "name": "stdout",
     "output_type": "stream",
     "text": [
      "CPU times: user 3min 16s, sys: 7.23 s, total: 3min 24s\n",
      "Wall time: 3min 19s\n",
      "face=3 - allready processed\n"
     ]
    },
    {
     "name": "stderr",
     "output_type": "stream",
     "text": [
      "/home/uz/yux/.conda/envs/equinox/lib/python3.7/site-packages/dask/array/core.py:3855: PerformanceWarning: Increasing number of chunks by factor of 20\n",
      "  **blockwise_kwargs\n",
      "distributed.utils_perf - WARNING - full garbage collections took 12% CPU time recently (threshold: 10%)\n",
      "distributed.utils_perf - WARNING - full garbage collections took 12% CPU time recently (threshold: 10%)\n",
      "distributed.utils_perf - WARNING - full garbage collections took 12% CPU time recently (threshold: 10%)\n",
      "distributed.utils_perf - WARNING - full garbage collections took 12% CPU time recently (threshold: 10%)\n",
      "distributed.utils_perf - WARNING - full garbage collections took 12% CPU time recently (threshold: 10%)\n",
      "distributed.utils_perf - WARNING - full garbage collections took 11% CPU time recently (threshold: 10%)\n",
      "distributed.utils_perf - WARNING - full garbage collections took 11% CPU time recently (threshold: 10%)\n",
      "distributed.utils_perf - WARNING - full garbage collections took 11% CPU time recently (threshold: 10%)\n",
      "distributed.utils_perf - WARNING - full garbage collections took 11% CPU time recently (threshold: 10%)\n",
      "distributed.utils_perf - WARNING - full garbage collections took 11% CPU time recently (threshold: 10%)\n",
      "distributed.utils_perf - WARNING - full garbage collections took 11% CPU time recently (threshold: 10%)\n",
      "distributed.utils_perf - WARNING - full garbage collections took 11% CPU time recently (threshold: 10%)\n",
      "distributed.utils_perf - WARNING - full garbage collections took 11% CPU time recently (threshold: 10%)\n",
      "distributed.utils_perf - WARNING - full garbage collections took 11% CPU time recently (threshold: 10%)\n",
      "distributed.utils_perf - WARNING - full garbage collections took 11% CPU time recently (threshold: 10%)\n",
      "distributed.utils_perf - WARNING - full garbage collections took 11% CPU time recently (threshold: 10%)\n",
      "distributed.utils_perf - WARNING - full garbage collections took 11% CPU time recently (threshold: 10%)\n",
      "distributed.utils_perf - WARNING - full garbage collections took 11% CPU time recently (threshold: 10%)\n",
      "distributed.utils_perf - WARNING - full garbage collections took 11% CPU time recently (threshold: 10%)\n",
      "distributed.utils_perf - WARNING - full garbage collections took 11% CPU time recently (threshold: 10%)\n",
      "distributed.utils_perf - WARNING - full garbage collections took 11% CPU time recently (threshold: 10%)\n",
      "distributed.utils_perf - WARNING - full garbage collections took 11% CPU time recently (threshold: 10%)\n"
     ]
    },
    {
     "name": "stdout",
     "output_type": "stream",
     "text": [
      "CPU times: user 3min 15s, sys: 7.69 s, total: 3min 23s\n",
      "Wall time: 3min 20s\n",
      "face=4 - allready processed\n"
     ]
    },
    {
     "name": "stderr",
     "output_type": "stream",
     "text": [
      "/home/uz/yux/.conda/envs/equinox/lib/python3.7/site-packages/dask/array/core.py:3855: PerformanceWarning: Increasing number of chunks by factor of 20\n",
      "  **blockwise_kwargs\n",
      "distributed.utils_perf - WARNING - full garbage collections took 11% CPU time recently (threshold: 10%)\n",
      "distributed.utils_perf - WARNING - full garbage collections took 11% CPU time recently (threshold: 10%)\n",
      "distributed.utils_perf - WARNING - full garbage collections took 11% CPU time recently (threshold: 10%)\n",
      "distributed.utils_perf - WARNING - full garbage collections took 11% CPU time recently (threshold: 10%)\n",
      "distributed.utils_perf - WARNING - full garbage collections took 11% CPU time recently (threshold: 10%)\n",
      "distributed.utils_perf - WARNING - full garbage collections took 11% CPU time recently (threshold: 10%)\n",
      "distributed.utils_perf - WARNING - full garbage collections took 11% CPU time recently (threshold: 10%)\n",
      "distributed.utils_perf - WARNING - full garbage collections took 11% CPU time recently (threshold: 10%)\n",
      "distributed.utils_perf - WARNING - full garbage collections took 11% CPU time recently (threshold: 10%)\n",
      "distributed.utils_perf - WARNING - full garbage collections took 11% CPU time recently (threshold: 10%)\n",
      "distributed.utils_perf - WARNING - full garbage collections took 11% CPU time recently (threshold: 10%)\n",
      "distributed.utils_perf - WARNING - full garbage collections took 11% CPU time recently (threshold: 10%)\n",
      "distributed.utils_perf - WARNING - full garbage collections took 11% CPU time recently (threshold: 10%)\n",
      "distributed.utils_perf - WARNING - full garbage collections took 11% CPU time recently (threshold: 10%)\n",
      "distributed.utils_perf - WARNING - full garbage collections took 11% CPU time recently (threshold: 10%)\n",
      "distributed.utils_perf - WARNING - full garbage collections took 11% CPU time recently (threshold: 10%)\n",
      "distributed.utils_perf - WARNING - full garbage collections took 11% CPU time recently (threshold: 10%)\n",
      "distributed.utils_perf - WARNING - full garbage collections took 11% CPU time recently (threshold: 10%)\n",
      "distributed.utils_perf - WARNING - full garbage collections took 11% CPU time recently (threshold: 10%)\n",
      "distributed.utils_perf - WARNING - full garbage collections took 11% CPU time recently (threshold: 10%)\n",
      "distributed.utils_perf - WARNING - full garbage collections took 11% CPU time recently (threshold: 10%)\n",
      "distributed.utils_perf - WARNING - full garbage collections took 12% CPU time recently (threshold: 10%)\n"
     ]
    },
    {
     "name": "stdout",
     "output_type": "stream",
     "text": [
      "CPU times: user 3min 15s, sys: 7.03 s, total: 3min 22s\n",
      "Wall time: 3min 17s\n",
      "face=5 - allready processed\n"
     ]
    },
    {
     "name": "stderr",
     "output_type": "stream",
     "text": [
      "/home/uz/yux/.conda/envs/equinox/lib/python3.7/site-packages/dask/array/core.py:3855: PerformanceWarning: Increasing number of chunks by factor of 20\n",
      "  **blockwise_kwargs\n",
      "distributed.utils_perf - WARNING - full garbage collections took 12% CPU time recently (threshold: 10%)\n",
      "distributed.utils_perf - WARNING - full garbage collections took 12% CPU time recently (threshold: 10%)\n",
      "distributed.utils_perf - WARNING - full garbage collections took 12% CPU time recently (threshold: 10%)\n",
      "distributed.utils_perf - WARNING - full garbage collections took 12% CPU time recently (threshold: 10%)\n",
      "distributed.utils_perf - WARNING - full garbage collections took 12% CPU time recently (threshold: 10%)\n",
      "distributed.utils_perf - WARNING - full garbage collections took 11% CPU time recently (threshold: 10%)\n",
      "distributed.utils_perf - WARNING - full garbage collections took 11% CPU time recently (threshold: 10%)\n",
      "distributed.utils_perf - WARNING - full garbage collections took 11% CPU time recently (threshold: 10%)\n",
      "distributed.utils_perf - WARNING - full garbage collections took 11% CPU time recently (threshold: 10%)\n",
      "distributed.utils_perf - WARNING - full garbage collections took 11% CPU time recently (threshold: 10%)\n",
      "distributed.utils_perf - WARNING - full garbage collections took 11% CPU time recently (threshold: 10%)\n",
      "distributed.utils_perf - WARNING - full garbage collections took 11% CPU time recently (threshold: 10%)\n",
      "distributed.utils_perf - WARNING - full garbage collections took 11% CPU time recently (threshold: 10%)\n",
      "distributed.utils_perf - WARNING - full garbage collections took 11% CPU time recently (threshold: 10%)\n",
      "distributed.utils_perf - WARNING - full garbage collections took 11% CPU time recently (threshold: 10%)\n",
      "distributed.utils_perf - WARNING - full garbage collections took 11% CPU time recently (threshold: 10%)\n",
      "distributed.utils_perf - WARNING - full garbage collections took 11% CPU time recently (threshold: 10%)\n",
      "distributed.utils_perf - WARNING - full garbage collections took 12% CPU time recently (threshold: 10%)\n",
      "distributed.utils_perf - WARNING - full garbage collections took 13% CPU time recently (threshold: 10%)\n",
      "distributed.utils_perf - WARNING - full garbage collections took 13% CPU time recently (threshold: 10%)\n",
      "distributed.utils_perf - WARNING - full garbage collections took 13% CPU time recently (threshold: 10%)\n",
      "distributed.utils_perf - WARNING - full garbage collections took 13% CPU time recently (threshold: 10%)\n"
     ]
    },
    {
     "name": "stdout",
     "output_type": "stream",
     "text": [
      "CPU times: user 3min 16s, sys: 7.33 s, total: 3min 23s\n",
      "Wall time: 3min 20s\n",
      "face=6 - allready processed\n"
     ]
    },
    {
     "name": "stderr",
     "output_type": "stream",
     "text": [
      "/home/uz/yux/.conda/envs/equinox/lib/python3.7/site-packages/dask/array/core.py:3855: PerformanceWarning: Increasing number of chunks by factor of 20\n",
      "  **blockwise_kwargs\n",
      "distributed.utils_perf - WARNING - full garbage collections took 13% CPU time recently (threshold: 10%)\n",
      "distributed.utils_perf - WARNING - full garbage collections took 13% CPU time recently (threshold: 10%)\n",
      "distributed.utils_perf - WARNING - full garbage collections took 13% CPU time recently (threshold: 10%)\n",
      "distributed.utils_perf - WARNING - full garbage collections took 13% CPU time recently (threshold: 10%)\n",
      "distributed.utils_perf - WARNING - full garbage collections took 13% CPU time recently (threshold: 10%)\n",
      "distributed.utils_perf - WARNING - full garbage collections took 13% CPU time recently (threshold: 10%)\n",
      "distributed.utils_perf - WARNING - full garbage collections took 13% CPU time recently (threshold: 10%)\n",
      "distributed.utils_perf - WARNING - full garbage collections took 13% CPU time recently (threshold: 10%)\n",
      "distributed.utils_perf - WARNING - full garbage collections took 13% CPU time recently (threshold: 10%)\n",
      "distributed.utils_perf - WARNING - full garbage collections took 13% CPU time recently (threshold: 10%)\n",
      "distributed.utils_perf - WARNING - full garbage collections took 12% CPU time recently (threshold: 10%)\n",
      "distributed.utils_perf - WARNING - full garbage collections took 12% CPU time recently (threshold: 10%)\n",
      "distributed.utils_perf - WARNING - full garbage collections took 12% CPU time recently (threshold: 10%)\n",
      "distributed.utils_perf - WARNING - full garbage collections took 12% CPU time recently (threshold: 10%)\n",
      "distributed.utils_perf - WARNING - full garbage collections took 13% CPU time recently (threshold: 10%)\n",
      "distributed.utils_perf - WARNING - full garbage collections took 13% CPU time recently (threshold: 10%)\n",
      "distributed.utils_perf - WARNING - full garbage collections took 13% CPU time recently (threshold: 10%)\n",
      "distributed.utils_perf - WARNING - full garbage collections took 13% CPU time recently (threshold: 10%)\n",
      "distributed.utils_perf - WARNING - full garbage collections took 13% CPU time recently (threshold: 10%)\n",
      "distributed.utils_perf - WARNING - full garbage collections took 13% CPU time recently (threshold: 10%)\n",
      "distributed.utils_perf - WARNING - full garbage collections took 13% CPU time recently (threshold: 10%)\n",
      "distributed.utils_perf - WARNING - full garbage collections took 13% CPU time recently (threshold: 10%)\n"
     ]
    },
    {
     "name": "stdout",
     "output_type": "stream",
     "text": [
      "CPU times: user 3min 16s, sys: 7.38 s, total: 3min 23s\n",
      "Wall time: 3min 19s\n",
      "face=7 - allready processed\n"
     ]
    },
    {
     "name": "stderr",
     "output_type": "stream",
     "text": [
      "/home/uz/yux/.conda/envs/equinox/lib/python3.7/site-packages/dask/array/core.py:3855: PerformanceWarning: Increasing number of chunks by factor of 20\n",
      "  **blockwise_kwargs\n",
      "distributed.utils_perf - WARNING - full garbage collections took 13% CPU time recently (threshold: 10%)\n",
      "distributed.utils_perf - WARNING - full garbage collections took 13% CPU time recently (threshold: 10%)\n",
      "distributed.utils_perf - WARNING - full garbage collections took 13% CPU time recently (threshold: 10%)\n",
      "distributed.utils_perf - WARNING - full garbage collections took 13% CPU time recently (threshold: 10%)\n",
      "distributed.utils_perf - WARNING - full garbage collections took 13% CPU time recently (threshold: 10%)\n",
      "distributed.utils_perf - WARNING - full garbage collections took 13% CPU time recently (threshold: 10%)\n",
      "distributed.utils_perf - WARNING - full garbage collections took 13% CPU time recently (threshold: 10%)\n",
      "distributed.utils_perf - WARNING - full garbage collections took 13% CPU time recently (threshold: 10%)\n",
      "distributed.utils_perf - WARNING - full garbage collections took 13% CPU time recently (threshold: 10%)\n",
      "distributed.utils_perf - WARNING - full garbage collections took 13% CPU time recently (threshold: 10%)\n",
      "distributed.utils_perf - WARNING - full garbage collections took 12% CPU time recently (threshold: 10%)\n",
      "distributed.utils_perf - WARNING - full garbage collections took 12% CPU time recently (threshold: 10%)\n",
      "distributed.utils_perf - WARNING - full garbage collections took 12% CPU time recently (threshold: 10%)\n",
      "distributed.utils_perf - WARNING - full garbage collections took 12% CPU time recently (threshold: 10%)\n",
      "distributed.utils_perf - WARNING - full garbage collections took 12% CPU time recently (threshold: 10%)\n",
      "distributed.utils_perf - WARNING - full garbage collections took 13% CPU time recently (threshold: 10%)\n",
      "distributed.utils_perf - WARNING - full garbage collections took 13% CPU time recently (threshold: 10%)\n",
      "distributed.utils_perf - WARNING - full garbage collections took 13% CPU time recently (threshold: 10%)\n",
      "distributed.utils_perf - WARNING - full garbage collections took 13% CPU time recently (threshold: 10%)\n",
      "distributed.utils_perf - WARNING - full garbage collections took 13% CPU time recently (threshold: 10%)\n",
      "distributed.utils_perf - WARNING - full garbage collections took 13% CPU time recently (threshold: 10%)\n",
      "distributed.utils_perf - WARNING - full garbage collections took 13% CPU time recently (threshold: 10%)\n"
     ]
    },
    {
     "name": "stdout",
     "output_type": "stream",
     "text": [
      "CPU times: user 3min 16s, sys: 7.21 s, total: 3min 24s\n",
      "Wall time: 3min 21s\n",
      "face=8 - allready processed\n"
     ]
    },
    {
     "name": "stderr",
     "output_type": "stream",
     "text": [
      "/home/uz/yux/.conda/envs/equinox/lib/python3.7/site-packages/dask/array/core.py:3855: PerformanceWarning: Increasing number of chunks by factor of 20\n",
      "  **blockwise_kwargs\n",
      "distributed.utils_perf - WARNING - full garbage collections took 13% CPU time recently (threshold: 10%)\n",
      "distributed.utils_perf - WARNING - full garbage collections took 13% CPU time recently (threshold: 10%)\n",
      "distributed.utils_perf - WARNING - full garbage collections took 13% CPU time recently (threshold: 10%)\n",
      "distributed.utils_perf - WARNING - full garbage collections took 13% CPU time recently (threshold: 10%)\n",
      "distributed.utils_perf - WARNING - full garbage collections took 13% CPU time recently (threshold: 10%)\n",
      "distributed.utils_perf - WARNING - full garbage collections took 12% CPU time recently (threshold: 10%)\n",
      "distributed.utils_perf - WARNING - full garbage collections took 12% CPU time recently (threshold: 10%)\n",
      "distributed.utils_perf - WARNING - full garbage collections took 12% CPU time recently (threshold: 10%)\n",
      "distributed.utils_perf - WARNING - full garbage collections took 12% CPU time recently (threshold: 10%)\n",
      "distributed.utils_perf - WARNING - full garbage collections took 12% CPU time recently (threshold: 10%)\n",
      "distributed.utils_perf - WARNING - full garbage collections took 12% CPU time recently (threshold: 10%)\n",
      "distributed.utils_perf - WARNING - full garbage collections took 12% CPU time recently (threshold: 10%)\n",
      "distributed.utils_perf - WARNING - full garbage collections took 12% CPU time recently (threshold: 10%)\n",
      "distributed.utils_perf - WARNING - full garbage collections took 12% CPU time recently (threshold: 10%)\n",
      "distributed.utils_perf - WARNING - full garbage collections took 13% CPU time recently (threshold: 10%)\n",
      "distributed.utils_perf - WARNING - full garbage collections took 13% CPU time recently (threshold: 10%)\n",
      "distributed.utils_perf - WARNING - full garbage collections took 13% CPU time recently (threshold: 10%)\n",
      "distributed.utils_perf - WARNING - full garbage collections took 13% CPU time recently (threshold: 10%)\n",
      "distributed.utils_perf - WARNING - full garbage collections took 13% CPU time recently (threshold: 10%)\n",
      "distributed.utils_perf - WARNING - full garbage collections took 13% CPU time recently (threshold: 10%)\n",
      "distributed.utils_perf - WARNING - full garbage collections took 13% CPU time recently (threshold: 10%)\n",
      "distributed.utils_perf - WARNING - full garbage collections took 13% CPU time recently (threshold: 10%)\n"
     ]
    },
    {
     "name": "stdout",
     "output_type": "stream",
     "text": [
      "CPU times: user 3min 17s, sys: 7.28 s, total: 3min 24s\n",
      "Wall time: 3min 20s\n",
      "face=9 - allready processed\n"
     ]
    },
    {
     "name": "stderr",
     "output_type": "stream",
     "text": [
      "/home/uz/yux/.conda/envs/equinox/lib/python3.7/site-packages/dask/array/core.py:3855: PerformanceWarning: Increasing number of chunks by factor of 20\n",
      "  **blockwise_kwargs\n",
      "distributed.utils_perf - WARNING - full garbage collections took 13% CPU time recently (threshold: 10%)\n",
      "distributed.utils_perf - WARNING - full garbage collections took 13% CPU time recently (threshold: 10%)\n",
      "distributed.utils_perf - WARNING - full garbage collections took 13% CPU time recently (threshold: 10%)\n",
      "distributed.utils_perf - WARNING - full garbage collections took 13% CPU time recently (threshold: 10%)\n",
      "distributed.utils_perf - WARNING - full garbage collections took 13% CPU time recently (threshold: 10%)\n",
      "distributed.utils_perf - WARNING - full garbage collections took 13% CPU time recently (threshold: 10%)\n",
      "distributed.utils_perf - WARNING - full garbage collections took 13% CPU time recently (threshold: 10%)\n",
      "distributed.utils_perf - WARNING - full garbage collections took 13% CPU time recently (threshold: 10%)\n",
      "distributed.utils_perf - WARNING - full garbage collections took 13% CPU time recently (threshold: 10%)\n",
      "distributed.utils_perf - WARNING - full garbage collections took 13% CPU time recently (threshold: 10%)\n",
      "distributed.utils_perf - WARNING - full garbage collections took 13% CPU time recently (threshold: 10%)\n",
      "distributed.utils_perf - WARNING - full garbage collections took 12% CPU time recently (threshold: 10%)\n",
      "distributed.utils_perf - WARNING - full garbage collections took 12% CPU time recently (threshold: 10%)\n",
      "distributed.utils_perf - WARNING - full garbage collections took 13% CPU time recently (threshold: 10%)\n",
      "distributed.utils_perf - WARNING - full garbage collections took 13% CPU time recently (threshold: 10%)\n",
      "distributed.utils_perf - WARNING - full garbage collections took 13% CPU time recently (threshold: 10%)\n",
      "distributed.utils_perf - WARNING - full garbage collections took 13% CPU time recently (threshold: 10%)\n",
      "distributed.utils_perf - WARNING - full garbage collections took 13% CPU time recently (threshold: 10%)\n",
      "distributed.utils_perf - WARNING - full garbage collections took 13% CPU time recently (threshold: 10%)\n",
      "distributed.utils_perf - WARNING - full garbage collections took 13% CPU time recently (threshold: 10%)\n",
      "distributed.utils_perf - WARNING - full garbage collections took 13% CPU time recently (threshold: 10%)\n",
      "distributed.utils_perf - WARNING - full garbage collections took 13% CPU time recently (threshold: 10%)\n"
     ]
    },
    {
     "name": "stdout",
     "output_type": "stream",
     "text": [
      "CPU times: user 3min 16s, sys: 7.17 s, total: 3min 23s\n",
      "Wall time: 3min 19s\n",
      "face=10 - allready processed\n"
     ]
    },
    {
     "name": "stderr",
     "output_type": "stream",
     "text": [
      "/home/uz/yux/.conda/envs/equinox/lib/python3.7/site-packages/dask/array/core.py:3855: PerformanceWarning: Increasing number of chunks by factor of 20\n",
      "  **blockwise_kwargs\n",
      "distributed.utils_perf - WARNING - full garbage collections took 13% CPU time recently (threshold: 10%)\n",
      "distributed.utils_perf - WARNING - full garbage collections took 13% CPU time recently (threshold: 10%)\n",
      "distributed.utils_perf - WARNING - full garbage collections took 13% CPU time recently (threshold: 10%)\n",
      "distributed.utils_perf - WARNING - full garbage collections took 13% CPU time recently (threshold: 10%)\n",
      "distributed.utils_perf - WARNING - full garbage collections took 13% CPU time recently (threshold: 10%)\n",
      "distributed.utils_perf - WARNING - full garbage collections took 13% CPU time recently (threshold: 10%)\n",
      "distributed.utils_perf - WARNING - full garbage collections took 13% CPU time recently (threshold: 10%)\n",
      "distributed.utils_perf - WARNING - full garbage collections took 13% CPU time recently (threshold: 10%)\n",
      "distributed.utils_perf - WARNING - full garbage collections took 13% CPU time recently (threshold: 10%)\n",
      "distributed.utils_perf - WARNING - full garbage collections took 13% CPU time recently (threshold: 10%)\n",
      "distributed.utils_perf - WARNING - full garbage collections took 13% CPU time recently (threshold: 10%)\n",
      "distributed.utils_perf - WARNING - full garbage collections took 12% CPU time recently (threshold: 10%)\n",
      "distributed.utils_perf - WARNING - full garbage collections took 12% CPU time recently (threshold: 10%)\n",
      "distributed.utils_perf - WARNING - full garbage collections took 13% CPU time recently (threshold: 10%)\n",
      "distributed.utils_perf - WARNING - full garbage collections took 13% CPU time recently (threshold: 10%)\n",
      "distributed.utils_perf - WARNING - full garbage collections took 13% CPU time recently (threshold: 10%)\n",
      "distributed.utils_perf - WARNING - full garbage collections took 13% CPU time recently (threshold: 10%)\n",
      "distributed.utils_perf - WARNING - full garbage collections took 13% CPU time recently (threshold: 10%)\n",
      "distributed.utils_perf - WARNING - full garbage collections took 13% CPU time recently (threshold: 10%)\n",
      "distributed.utils_perf - WARNING - full garbage collections took 13% CPU time recently (threshold: 10%)\n",
      "distributed.utils_perf - WARNING - full garbage collections took 13% CPU time recently (threshold: 10%)\n",
      "distributed.utils_perf - WARNING - full garbage collections took 12% CPU time recently (threshold: 10%)\n"
     ]
    },
    {
     "name": "stdout",
     "output_type": "stream",
     "text": [
      "CPU times: user 3min 17s, sys: 7.31 s, total: 3min 24s\n",
      "Wall time: 3min 21s\n",
      "face=11 - allready processed\n"
     ]
    },
    {
     "name": "stderr",
     "output_type": "stream",
     "text": [
      "/home/uz/yux/.conda/envs/equinox/lib/python3.7/site-packages/dask/array/core.py:3855: PerformanceWarning: Increasing number of chunks by factor of 20\n",
      "  **blockwise_kwargs\n",
      "distributed.utils_perf - WARNING - full garbage collections took 12% CPU time recently (threshold: 10%)\n",
      "distributed.utils_perf - WARNING - full garbage collections took 12% CPU time recently (threshold: 10%)\n",
      "distributed.utils_perf - WARNING - full garbage collections took 12% CPU time recently (threshold: 10%)\n",
      "distributed.utils_perf - WARNING - full garbage collections took 12% CPU time recently (threshold: 10%)\n",
      "distributed.utils_perf - WARNING - full garbage collections took 12% CPU time recently (threshold: 10%)\n",
      "distributed.utils_perf - WARNING - full garbage collections took 12% CPU time recently (threshold: 10%)\n",
      "distributed.utils_perf - WARNING - full garbage collections took 12% CPU time recently (threshold: 10%)\n",
      "distributed.utils_perf - WARNING - full garbage collections took 12% CPU time recently (threshold: 10%)\n",
      "distributed.utils_perf - WARNING - full garbage collections took 12% CPU time recently (threshold: 10%)\n",
      "distributed.utils_perf - WARNING - full garbage collections took 12% CPU time recently (threshold: 10%)\n",
      "distributed.utils_perf - WARNING - full garbage collections took 12% CPU time recently (threshold: 10%)\n",
      "distributed.utils_perf - WARNING - full garbage collections took 12% CPU time recently (threshold: 10%)\n",
      "distributed.utils_perf - WARNING - full garbage collections took 12% CPU time recently (threshold: 10%)\n",
      "distributed.utils_perf - WARNING - full garbage collections took 12% CPU time recently (threshold: 10%)\n",
      "distributed.utils_perf - WARNING - full garbage collections took 12% CPU time recently (threshold: 10%)\n",
      "distributed.utils_perf - WARNING - full garbage collections took 12% CPU time recently (threshold: 10%)\n",
      "distributed.utils_perf - WARNING - full garbage collections took 12% CPU time recently (threshold: 10%)\n",
      "distributed.utils_perf - WARNING - full garbage collections took 12% CPU time recently (threshold: 10%)\n",
      "distributed.utils_perf - WARNING - full garbage collections took 12% CPU time recently (threshold: 10%)\n",
      "distributed.utils_perf - WARNING - full garbage collections took 12% CPU time recently (threshold: 10%)\n",
      "distributed.utils_perf - WARNING - full garbage collections took 13% CPU time recently (threshold: 10%)\n",
      "distributed.utils_perf - WARNING - full garbage collections took 13% CPU time recently (threshold: 10%)\n"
     ]
    },
    {
     "name": "stdout",
     "output_type": "stream",
     "text": [
      "CPU times: user 3min 16s, sys: 7.24 s, total: 3min 23s\n",
      "Wall time: 3min 19s\n",
      "face=12 - allready processed\n"
     ]
    }
   ],
   "source": [
    "# No need to do these for KE, but it's necessary to do for zeta (i.e. no need to ratote uv first to compute zeta)\n",
    "# 240 time_length about 50 mins\n",
    "\n",
    "dij=4\n",
    "\n",
    "for face in range(13):\n",
    "#for face in [1]:\n",
    "\n",
    "    zeta_3 = (grid.diff(ds_raw.dyC.isel(face=face) * ds_raw.SSV.isel(face=face),'X') - grid.diff(ds_raw.dxC.isel(face=face) * ds_raw.SSU.isel(face=face),'Y'))/ds_raw.rAz.isel(face=face) # relative vorticity  \n",
    "\n",
    "    zeta = grid.interp(grid.interp(zeta_3,'Y'),'X').isel(i=slice(0,None,dij), j=slice(0,None,dij))   #(zeta) at i,j\n",
    "    zeta = np.real(zeta).rename('zeta')\n",
    "    zeta = zeta.chunk({'time': 1,'i':1080,'j':1080})\n",
    "    %time zeta.to_dataset().to_zarr(E_dir+'zeta_rotation_f%02d.zarr'% (face), mode='w')\n",
    "\n",
    "    print('face=%d - allready processed'%(face))"
   ]
  },
  {
   "cell_type": "markdown",
   "metadata": {},
   "source": [
    "___________\n",
    "# Useful info."
   ]
  },
  {
   "cell_type": "code",
   "execution_count": 9,
   "metadata": {},
   "outputs": [
    {
     "name": "stderr",
     "output_type": "stream",
     "text": [
      "distributed.utils_perf - WARNING - full garbage collections took 13% CPU time recently (threshold: 10%)\n",
      "distributed.utils_perf - WARNING - full garbage collections took 13% CPU time recently (threshold: 10%)\n",
      "distributed.utils_perf - WARNING - full garbage collections took 13% CPU time recently (threshold: 10%)\n"
     ]
    },
    {
     "data": {
      "text/plain": [
       "<xarray.Dataset>\n",
       "Dimensions:  (face: 13, i_g: 4320, j: 4320, time: 240)\n",
       "Coordinates:\n",
       "    dtime    (time) datetime64[ns] dask.array<chunksize=(240,), meta=np.ndarray>\n",
       "  * face     (face) int64 0 1 2 3 4 5 6 7 8 9 10 11 12\n",
       "  * i_g      (i_g) int64 0 1 2 3 4 5 6 7 ... 4313 4314 4315 4316 4317 4318 4319\n",
       "    iters    (time) int64 dask.array<chunksize=(1,), meta=np.ndarray>\n",
       "  * j        (j) int64 0 1 2 3 4 5 6 7 ... 4313 4314 4315 4316 4317 4318 4319\n",
       "  * time     (time) float64 6.422e+06 6.426e+06 6.43e+06 ... 7.279e+06 7.283e+06\n",
       "Data variables:\n",
       "    SSU      (time, face, j, i_g) float32 dask.array<chunksize=(1, 1, 4320, 4320), meta=np.ndarray>"
      ]
     },
     "execution_count": 9,
     "metadata": {},
     "output_type": "execute_result"
    }
   ],
   "source": [
    "grd = load_grd().drop(['hFacC','hFacW','hFacS','rA','rAw','rAs'])\n",
    "dsU = xr.open_zarr(root_data_dir+'zarr/%s.zarr'%('SSU')).isel(time=slice(200,200+time_length))\n",
    "dsV = xr.open_zarr(root_data_dir+'zarr/%s.zarr'%('SSV')).isel(time=slice(200,200+time_length))\n",
    "dsE = xr.open_zarr(root_data_dir+'zarr/%s.zarr'%('Eta')).isel(time=slice(1512+200,1512+200+time_length))\n",
    "dsU"
   ]
  },
  {
   "cell_type": "code",
   "execution_count": 10,
   "metadata": {},
   "outputs": [
    {
     "name": "stdout",
     "output_type": "stream",
     "text": [
      "<xgcm.Grid>\n",
      "X Axis (periodic):\n",
      "  * center   i --> left\n",
      "  * left     i_g --> center\n",
      "Z Axis (not periodic):\n",
      "  * center   k --> left\n",
      "  * left     k_l --> center\n",
      "  * outer    k_p1 --> center\n",
      "  * right    k_u --> center\n",
      "Y Axis (periodic):\n",
      "  * center   j --> left\n",
      "  * left     j_g --> center\n"
     ]
    }
   ],
   "source": [
    "# define (real) time\n",
    "def iters_to_date(iters, delta_t=3600.):\n",
    "    t0 = datetime.datetime(2011,11,23,8)    \n",
    "    ltime = delta_t * (np.array(iters))\n",
    "    dtime = [t0+dateutil.relativedelta.relativedelta(seconds=t) for t in ltime]    \n",
    "    return dtime\n",
    "\n",
    "time_day = iters_to_date(np.arange(time_length))\n",
    "\n",
    "dsE = dsE.assign_coords(time=time_day) \n",
    "dsU = dsU.assign_coords(time=time_day) \n",
    "dsV = dsV.assign_coords(time=time_day) \n",
    "dsU = dsU.assign_coords(**grd.variables)\n",
    "grid = xgcm.Grid(dsU, periodic=['X', 'Y'])\n",
    "print(grid)"
   ]
  },
  {
   "cell_type": "code",
   "execution_count": 11,
   "metadata": {},
   "outputs": [
    {
     "name": "stdout",
     "output_type": "stream",
     "text": [
      "CPU times: user 2.84 s, sys: 223 ms, total: 3.06 s\n",
      "Wall time: 3.75 s\n",
      "face=0 - allready processed\n",
      "CPU times: user 3 s, sys: 259 ms, total: 3.26 s\n",
      "Wall time: 4.08 s\n",
      "face=1 - allready processed\n"
     ]
    },
    {
     "name": "stderr",
     "output_type": "stream",
     "text": [
      "distributed.utils_perf - WARNING - full garbage collections took 12% CPU time recently (threshold: 10%)\n"
     ]
    },
    {
     "name": "stdout",
     "output_type": "stream",
     "text": [
      "CPU times: user 4.01 s, sys: 291 ms, total: 4.31 s\n",
      "Wall time: 5.43 s\n",
      "face=2 - allready processed\n",
      "CPU times: user 2.68 s, sys: 213 ms, total: 2.9 s\n",
      "Wall time: 3.89 s\n",
      "face=3 - allready processed\n",
      "CPU times: user 3.19 s, sys: 251 ms, total: 3.44 s\n",
      "Wall time: 4.19 s\n",
      "face=4 - allready processed\n",
      "CPU times: user 2.63 s, sys: 199 ms, total: 2.83 s\n",
      "Wall time: 3.96 s\n",
      "face=5 - allready processed\n",
      "CPU times: user 3.08 s, sys: 273 ms, total: 3.35 s\n",
      "Wall time: 4.23 s\n",
      "face=6 - allready processed\n",
      "CPU times: user 2.86 s, sys: 287 ms, total: 3.15 s\n",
      "Wall time: 4.38 s\n",
      "face=7 - allready processed\n",
      "CPU times: user 3.18 s, sys: 244 ms, total: 3.43 s\n",
      "Wall time: 4.71 s\n",
      "face=8 - allready processed\n"
     ]
    },
    {
     "name": "stderr",
     "output_type": "stream",
     "text": [
      "distributed.utils_perf - WARNING - full garbage collections took 12% CPU time recently (threshold: 10%)\n"
     ]
    },
    {
     "name": "stdout",
     "output_type": "stream",
     "text": [
      "CPU times: user 4.02 s, sys: 358 ms, total: 4.37 s\n",
      "Wall time: 5.26 s\n",
      "face=9 - allready processed\n",
      "CPU times: user 2.79 s, sys: 224 ms, total: 3.02 s\n",
      "Wall time: 3.85 s\n",
      "face=10 - allready processed\n",
      "CPU times: user 2.78 s, sys: 249 ms, total: 3.03 s\n",
      "Wall time: 4.42 s\n",
      "face=11 - allready processed\n",
      "CPU times: user 2.93 s, sys: 255 ms, total: 3.18 s\n",
      "Wall time: 4.02 s\n",
      "face=12 - allready processed\n"
     ]
    }
   ],
   "source": [
    "for face in range(dsE['face'].size):\n",
    "    \n",
    "    Eta = dsE['Eta'].isel(face=face)   \n",
    "    Eta = np.real(Eta).rename('Eta')\n",
    "    Eta = Eta.chunk({'time': 1,'i':4320,'j':4320})\n",
    "    %time Eta.to_dataset().to_zarr(E_dir+'Eta_f%02d.zarr'% (face), mode='w')\n",
    "    \n",
    "    print('face=%d - allready processed'%(face))"
   ]
  },
  {
   "cell_type": "code",
   "execution_count": 12,
   "metadata": {},
   "outputs": [
    {
     "name": "stderr",
     "output_type": "stream",
     "text": [
      "distributed.utils_perf - WARNING - full garbage collections took 11% CPU time recently (threshold: 10%)\n",
      "distributed.utils_perf - WARNING - full garbage collections took 11% CPU time recently (threshold: 10%)\n"
     ]
    },
    {
     "name": "stdout",
     "output_type": "stream",
     "text": [
      "face=0 - allready processed\n"
     ]
    },
    {
     "name": "stderr",
     "output_type": "stream",
     "text": [
      "distributed.utils_perf - WARNING - full garbage collections took 11% CPU time recently (threshold: 10%)\n",
      "distributed.utils_perf - WARNING - full garbage collections took 11% CPU time recently (threshold: 10%)\n"
     ]
    },
    {
     "name": "stdout",
     "output_type": "stream",
     "text": [
      "face=1 - allready processed\n"
     ]
    },
    {
     "name": "stderr",
     "output_type": "stream",
     "text": [
      "distributed.utils_perf - WARNING - full garbage collections took 11% CPU time recently (threshold: 10%)\n"
     ]
    },
    {
     "name": "stdout",
     "output_type": "stream",
     "text": [
      "face=2 - allready processed\n"
     ]
    },
    {
     "name": "stderr",
     "output_type": "stream",
     "text": [
      "distributed.utils_perf - WARNING - full garbage collections took 11% CPU time recently (threshold: 10%)\n",
      "distributed.utils_perf - WARNING - full garbage collections took 10% CPU time recently (threshold: 10%)\n"
     ]
    },
    {
     "name": "stdout",
     "output_type": "stream",
     "text": [
      "face=3 - allready processed\n"
     ]
    },
    {
     "name": "stderr",
     "output_type": "stream",
     "text": [
      "distributed.utils_perf - WARNING - full garbage collections took 10% CPU time recently (threshold: 10%)\n",
      "distributed.utils_perf - WARNING - full garbage collections took 10% CPU time recently (threshold: 10%)\n"
     ]
    },
    {
     "name": "stdout",
     "output_type": "stream",
     "text": [
      "face=4 - allready processed\n"
     ]
    },
    {
     "name": "stderr",
     "output_type": "stream",
     "text": [
      "distributed.utils_perf - WARNING - full garbage collections took 10% CPU time recently (threshold: 10%)\n"
     ]
    },
    {
     "name": "stdout",
     "output_type": "stream",
     "text": [
      "face=5 - allready processed\n"
     ]
    },
    {
     "name": "stderr",
     "output_type": "stream",
     "text": [
      "distributed.utils_perf - WARNING - full garbage collections took 10% CPU time recently (threshold: 10%)\n",
      "distributed.utils_perf - WARNING - full garbage collections took 10% CPU time recently (threshold: 10%)\n"
     ]
    },
    {
     "name": "stdout",
     "output_type": "stream",
     "text": [
      "face=6 - allready processed\n",
      "face=7 - allready processed\n",
      "face=8 - allready processed\n",
      "face=9 - allready processed\n",
      "face=10 - allready processed\n",
      "face=11 - allready processed\n",
      "face=12 - allready processed\n"
     ]
    }
   ],
   "source": [
    "for face in range(dsU['face'].size):\n",
    "    \n",
    "    U_ij = grid.interp(dsU['SSU'].isel(face=face),'X')\n",
    "    V_ij = grid.interp(dsV['SSV'].isel(face=face),'Y')\n",
    "    \n",
    "    SSU_rotation = U_ij*dsU.CS.isel(face=face) - V_ij*dsU.SN.isel(face=face)\n",
    "    SSV_rotation = U_ij*dsU.SN.isel(face=face) + V_ij*dsU.CS.isel(face=face)\n",
    "    \n",
    "    SSU_rotation = np.real(SSU_rotation).rename('SSU_rotation')\n",
    "    SSU_rotation = SSU_rotation.chunk({'time': 1,'i':4320,'j':4320})\n",
    "    SSU_rotation.to_dataset().to_zarr(E_dir+'SSU_rotation_f%02d.zarr'% (face), mode='w')\n",
    "\n",
    "    SSV_rotation = np.real(SSV_rotation).rename('SSV_rotation')\n",
    "    SSV_rotation = SSV_rotation.chunk({'time': 1,'i':4320,'j':4320})\n",
    "    SSV_rotation.to_dataset().to_zarr(E_dir+'SSV_rotation_f%02d.zarr'% (face), mode='w')   \n",
    "    \n",
    "    print('face=%d - allready processed'%(face))"
   ]
  },
  {
   "cell_type": "markdown",
   "metadata": {},
   "source": [
    "## Read rotated uv"
   ]
  },
  {
   "cell_type": "code",
   "execution_count": 13,
   "metadata": {},
   "outputs": [
    {
     "name": "stdout",
     "output_type": "stream",
     "text": [
      "CPU times: user 1min 5s, sys: 22.6 s, total: 1min 27s\n",
      "Wall time: 1min 33s\n",
      "<xarray.Dataset>\n",
      "Dimensions:       (face: 13, i: 4320, i_g: 4320, j: 4320, j_g: 4320, k: 90, k_l: 90, k_p1: 91, k_u: 90, time: 240)\n",
      "Coordinates:\n",
      "  * i             (i) int64 0 1 2 3 4 5 6 ... 4313 4314 4315 4316 4317 4318 4319\n",
      "  * j             (j) int64 0 1 2 3 4 5 6 ... 4313 4314 4315 4316 4317 4318 4319\n",
      "  * time          (time) datetime64[ns] 2011-11-23T08:00:00 ... 2011-12-03T07:00:00\n",
      "    CS            (face, j, i) float32 dask.array<chunksize=(1, 4320, 4320), meta=np.ndarray>\n",
      "    Depth         (face, j, i) float32 dask.array<chunksize=(1, 4320, 4320), meta=np.ndarray>\n",
      "    SN            (face, j, i) float32 dask.array<chunksize=(1, 4320, 4320), meta=np.ndarray>\n",
      "    XC            (face, j, i) float32 dask.array<chunksize=(1, 4320, 4320), meta=np.ndarray>\n",
      "    YC            (face, j, i) float32 dask.array<chunksize=(1, 4320, 4320), meta=np.ndarray>\n",
      "  * face          (face) int64 0 1 2 3 4 5 6 7 8 9 10 11 12\n",
      "    iters         (time) int64 256896 257040 257184 ... 291024 291168 291312\n",
      "    dtime         (time) datetime64[ns] 2011-11-23T08:00:00 ... 2011-12-03T07:00:00\n",
      "    PHrefC        (k) float32 dask.array<chunksize=(90,), meta=np.ndarray>\n",
      "    PHrefF        (k_p1) float32 dask.array<chunksize=(91,), meta=np.ndarray>\n",
      "    XG            (face, j_g, i_g) float32 dask.array<chunksize=(1, 4320, 4320), meta=np.ndarray>\n",
      "    YG            (face, j_g, i_g) float32 dask.array<chunksize=(1, 4320, 4320), meta=np.ndarray>\n",
      "    Z             (k) float32 dask.array<chunksize=(90,), meta=np.ndarray>\n",
      "    Zl            (k_l) float32 dask.array<chunksize=(90,), meta=np.ndarray>\n",
      "    Zp1           (k_p1) float32 dask.array<chunksize=(91,), meta=np.ndarray>\n",
      "    Zu            (k_u) float32 dask.array<chunksize=(90,), meta=np.ndarray>\n",
      "    drC           (k_p1) float32 dask.array<chunksize=(91,), meta=np.ndarray>\n",
      "    drF           (k) float32 dask.array<chunksize=(90,), meta=np.ndarray>\n",
      "    dxC           (face, j, i_g) float32 dask.array<chunksize=(1, 4320, 4320), meta=np.ndarray>\n",
      "    dxG           (face, j_g, i) float32 dask.array<chunksize=(1, 4320, 4320), meta=np.ndarray>\n",
      "    dyC           (face, j_g, i) float32 dask.array<chunksize=(1, 4320, 4320), meta=np.ndarray>\n",
      "    dyG           (face, j, i_g) float32 dask.array<chunksize=(1, 4320, 4320), meta=np.ndarray>\n",
      "  * i_g           (i_g) int64 0 1 2 3 4 5 6 ... 4314 4315 4316 4317 4318 4319\n",
      "  * j_g           (j_g) int64 0 1 2 3 4 5 6 ... 4314 4315 4316 4317 4318 4319\n",
      "  * k             (k) int64 0 1 2 3 4 5 6 7 8 9 ... 81 82 83 84 85 86 87 88 89\n",
      "  * k_l           (k_l) int64 0 1 2 3 4 5 6 7 8 9 ... 81 82 83 84 85 86 87 88 89\n",
      "  * k_p1          (k_p1) int64 0 1 2 3 4 5 6 7 8 ... 82 83 84 85 86 87 88 89 90\n",
      "  * k_u           (k_u) int64 0 1 2 3 4 5 6 7 8 9 ... 81 82 83 84 85 86 87 88 89\n",
      "    rAz           (face, j_g, i_g) float32 dask.array<chunksize=(2, 540, 540), meta=np.ndarray>\n",
      "Data variables:\n",
      "    SSU_rotation  (face, time, j, i) float32 dask.array<chunksize=(1, 1, 4320, 4320), meta=np.ndarray>\n",
      "    SSV_rotation  (face, time, j, i) float32 dask.array<chunksize=(1, 1, 4320, 4320), meta=np.ndarray>\n",
      "    Eta           (face, time, j, i) float32 dask.array<chunksize=(1, 1, 4320, 4320), meta=np.ndarray>\n",
      "\n",
      " data size: 710.4 GB\n"
     ]
    }
   ],
   "source": [
    "face_all = 13\n",
    "\n",
    "D = [xr.open_zarr(E_dir+'SSU_rotation_f%02d.zarr'%(face)) for face in range(face_all)]\n",
    "ds_SSU = xr.concat(D, dim='face')\n",
    "\n",
    "D = [xr.open_zarr(E_dir+'SSV_rotation_f%02d.zarr'%(face)) for face in range(face_all)]\n",
    "ds_SSV = xr.concat(D, dim='face')\n",
    "\n",
    "D = [xr.open_zarr(E_dir+'Eta_f%02d.zarr'%(face)) for face in range(face_all)]\n",
    "ds_Eta = xr.concat(D, dim='face')\n",
    "%time ds = xr.merge([ds_SSU, ds_SSV, ds_Eta]).assign_coords(**grd.variables)\n",
    "print(ds)\n",
    "print('\\n data size: %.1f GB' %(ds.nbytes / 1e9))"
   ]
  },
  {
   "cell_type": "code",
   "execution_count": 14,
   "metadata": {},
   "outputs": [
    {
     "data": {
      "text/plain": [
       "<xgcm.Grid>\n",
       "X Axis (periodic):\n",
       "  * center   i --> left\n",
       "  * left     i_g --> center\n",
       "Z Axis (not periodic):\n",
       "  * center   k --> left\n",
       "  * left     k_l --> center\n",
       "  * outer    k_p1 --> center\n",
       "  * right    k_u --> center\n",
       "Y Axis (periodic):\n",
       "  * center   j --> left\n",
       "  * left     j_g --> center"
      ]
     },
     "execution_count": 14,
     "metadata": {},
     "output_type": "execute_result"
    }
   ],
   "source": [
    "grid = xgcm.Grid(grd, periodic=['X', 'Y'])\n",
    "grid"
   ]
  },
  {
   "cell_type": "code",
   "execution_count": 15,
   "metadata": {},
   "outputs": [
    {
     "data": {
      "text/plain": [
       "<xarray.DataArray 'YC' (face: 13, j: 4320, i: 4320)>\n",
       "dask.array<mul, shape=(13, 4320, 4320), dtype=float32, chunksize=(1, 4320, 4320), chunktype=numpy.ndarray>\n",
       "Coordinates:\n",
       "    CS       (face, j, i) float32 dask.array<chunksize=(1, 4320, 4320), meta=np.ndarray>\n",
       "    Depth    (face, j, i) float32 dask.array<chunksize=(1, 4320, 4320), meta=np.ndarray>\n",
       "    SN       (face, j, i) float32 dask.array<chunksize=(1, 4320, 4320), meta=np.ndarray>\n",
       "    XC       (face, j, i) float32 dask.array<chunksize=(1, 4320, 4320), meta=np.ndarray>\n",
       "    YC       (face, j, i) float32 dask.array<chunksize=(1, 4320, 4320), meta=np.ndarray>\n",
       "  * face     (face) int64 0 1 2 3 4 5 6 7 8 9 10 11 12\n",
       "  * i        (i) int64 0 1 2 3 4 5 6 7 ... 4313 4314 4315 4316 4317 4318 4319\n",
       "  * j        (j) int64 0 1 2 3 4 5 6 7 ... 4313 4314 4315 4316 4317 4318 4319"
      ]
     },
     "execution_count": 15,
     "metadata": {},
     "output_type": "execute_result"
    }
   ],
   "source": [
    "# coriolis term\n",
    "lat = grd['YC']\n",
    "omega = 7.3/100000\n",
    "f_ij = 2*omega*np.sin(np.deg2rad(lat))\n",
    "f_ij"
   ]
  },
  {
   "cell_type": "markdown",
   "metadata": {},
   "source": [
    "___________\n",
    "## Term 2: Coriolis terms"
   ]
  },
  {
   "cell_type": "markdown",
   "metadata": {},
   "source": [
    "### f*v"
   ]
  },
  {
   "cell_type": "code",
   "execution_count": 16,
   "metadata": {},
   "outputs": [
    {
     "name": "stdout",
     "output_type": "stream",
     "text": [
      "face=0 - allready processed\n",
      "face=1 - allready processed\n",
      "face=2 - allready processed\n",
      "face=3 - allready processed\n",
      "face=4 - allready processed\n",
      "face=5 - allready processed\n",
      "face=6 - allready processed\n",
      "face=7 - allready processed\n",
      "face=8 - allready processed\n",
      "face=9 - allready processed\n",
      "face=10 - allready processed\n",
      "face=11 - allready processed\n",
      "face=12 - allready processed\n"
     ]
    }
   ],
   "source": [
    "dij=4\n",
    "\n",
    "for face in range(ds['face'].size):\n",
    "\n",
    "    fv = ds['SSV_rotation'].isel(face=face,i=slice(0,None,dij), j=slice(0,None,dij))*f_ij.isel(face=face,i=slice(0,None,dij), j=slice(0,None,dij)) \n",
    "    fv = np.real(fv).rename('fv')\n",
    "    fv = fv.chunk({'time': 1,'i':1080,'j':1080})\n",
    "    fv.to_dataset().to_zarr(E_dir+'fv_f%02d.zarr'% (face), mode='w')\n",
    "    print('face=%d - allready processed'%(face))"
   ]
  },
  {
   "cell_type": "markdown",
   "metadata": {},
   "source": [
    "### f*u"
   ]
  },
  {
   "cell_type": "code",
   "execution_count": 17,
   "metadata": {},
   "outputs": [
    {
     "name": "stdout",
     "output_type": "stream",
     "text": [
      "face=0 - allready processed\n",
      "face=1 - allready processed\n",
      "face=2 - allready processed\n",
      "face=3 - allready processed\n",
      "face=4 - allready processed\n",
      "face=5 - allready processed\n",
      "face=6 - allready processed\n",
      "face=7 - allready processed\n",
      "face=8 - allready processed\n",
      "face=9 - allready processed\n",
      "face=10 - allready processed\n",
      "face=11 - allready processed\n",
      "face=12 - allready processed\n"
     ]
    }
   ],
   "source": [
    "for face in range(ds['face'].size):\n",
    "#for face in [1]:\n",
    "\n",
    "    fu = ds['SSU_rotation'].isel(face=face,i=slice(0,None,dij), j=slice(0,None,dij))*f_ij.isel(face=face,i=slice(0,None,dij), j=slice(0,None,dij))\n",
    "    fu = np.real(fu).rename('fu')\n",
    "    fu = fu.chunk({'time': 1,'i':1080,'j':1080})\n",
    "    fu.to_dataset().to_zarr(E_dir+'fu_f%02d.zarr'% (face), mode='w')\n",
    "    print('face=%d - allready processed'%(face))"
   ]
  },
  {
   "cell_type": "markdown",
   "metadata": {},
   "source": [
    "___________\n",
    "## Term 2.2: zeta*uv"
   ]
  },
  {
   "cell_type": "code",
   "execution_count": 18,
   "metadata": {},
   "outputs": [
    {
     "data": {
      "text/plain": [
       "<xarray.Dataset>\n",
       "Dimensions:  (face: 13, i: 1080, j: 1080, time: 240)\n",
       "Coordinates:\n",
       "  * i        (i) int64 0 4 8 12 16 20 24 ... 4292 4296 4300 4304 4308 4312 4316\n",
       "  * j        (j) int64 0 4 8 12 16 20 24 ... 4292 4296 4300 4304 4308 4312 4316\n",
       "  * time     (time) datetime64[ns] 2011-11-23T08:00:00 ... 2011-12-03T07:00:00\n",
       "  * face     (face) int64 0 1 2 3 4 5 6 7 8 9 10 11 12\n",
       "Data variables:\n",
       "    zeta     (face, j, i, time) float32 dask.array<chunksize=(1, 1080, 1080, 1), meta=np.ndarray>"
      ]
     },
     "execution_count": 18,
     "metadata": {},
     "output_type": "execute_result"
    }
   ],
   "source": [
    "D = [xr.open_zarr(E_dir+'zeta_rotation_f%02d.zarr'%(face)) for face in range(face_all)]\n",
    "ds_zeta = xr.concat(D, dim='face')\n",
    "face_13 = range(0,13)\n",
    "ds_zeta = ds_zeta.assign_coords(face=face_13) \n",
    "ds_zeta"
   ]
  },
  {
   "cell_type": "code",
   "execution_count": 19,
   "metadata": {},
   "outputs": [
    {
     "name": "stdout",
     "output_type": "stream",
     "text": [
      "face=0 - allready processed\n",
      "face=1 - allready processed\n",
      "face=2 - allready processed\n",
      "face=3 - allready processed\n",
      "face=4 - allready processed\n",
      "face=5 - allready processed\n",
      "face=6 - allready processed\n",
      "face=7 - allready processed\n",
      "face=8 - allready processed\n",
      "face=9 - allready processed\n",
      "face=10 - allready processed\n",
      "face=11 - allready processed\n",
      "face=12 - allready processed\n"
     ]
    }
   ],
   "source": [
    "dij=4\n",
    "\n",
    "for face in range(ds['face'].size):\n",
    "\n",
    "    zeta_v = ds_zeta['zeta'].isel(face=face)*ds['SSV_rotation'].isel(face=face,i=slice(0,None,dij), j=slice(0,None,dij))\n",
    "    zeta_v = np.real(zeta_v).rename('zeta_v')\n",
    "    zeta_v = zeta_v.chunk({'time': 1,'i':1080,'j':1080})\n",
    "    zeta_v.to_dataset().to_zarr(E_dir+'zeta_v_f%02d.zarr'% (face), mode='w')\n",
    "    print('face=%d - allready processed'%(face))"
   ]
  },
  {
   "cell_type": "code",
   "execution_count": 20,
   "metadata": {},
   "outputs": [
    {
     "name": "stdout",
     "output_type": "stream",
     "text": [
      "face=0 - allready processed\n",
      "face=1 - allready processed\n",
      "face=2 - allready processed\n",
      "face=3 - allready processed\n",
      "face=4 - allready processed\n",
      "face=5 - allready processed\n",
      "face=6 - allready processed\n",
      "face=7 - allready processed\n",
      "face=8 - allready processed\n",
      "face=9 - allready processed\n",
      "face=10 - allready processed\n",
      "face=11 - allready processed\n",
      "face=12 - allready processed\n"
     ]
    }
   ],
   "source": [
    "dij=4\n",
    "\n",
    "for face in range(ds['face'].size):\n",
    "\n",
    "    zeta_u = ds_zeta['zeta'].isel(face=face)*ds['SSU_rotation'].isel(face=face,i=slice(0,None,dij), j=slice(0,None,dij))\n",
    "    zeta_u = np.real(zeta_u).rename('zeta_u')\n",
    "    zeta_u = zeta_u.chunk({'time': 1,'i':1080,'j':1080})\n",
    "    zeta_u.to_dataset().to_zarr(E_dir+'zeta_u_f%02d.zarr'% (face), mode='w')\n",
    "    print('face=%d - allready processed'%(face))"
   ]
  },
  {
   "cell_type": "markdown",
   "metadata": {},
   "source": [
    "________\n",
    "# Term 3: Gradient of Bernoulli function"
   ]
  },
  {
   "cell_type": "code",
   "execution_count": 21,
   "metadata": {},
   "outputs": [
    {
     "name": "stdout",
     "output_type": "stream",
     "text": [
      "face=0 - allready processed\n",
      "face=1 - allready processed\n",
      "face=2 - allready processed\n",
      "face=3 - allready processed\n",
      "face=4 - allready processed\n",
      "face=5 - allready processed\n",
      "face=6 - allready processed\n",
      "face=7 - allready processed\n",
      "face=8 - allready processed\n",
      "face=9 - allready processed\n",
      "face=10 - allready processed\n",
      "face=11 - allready processed\n",
      "face=12 - allready processed\n"
     ]
    }
   ],
   "source": [
    "for face in range(ds['face'].size):\n",
    "#for face in [1]:\n",
    "\n",
    "    KE = (ds['SSU_rotation'].isel(face=face)**2 + ds['SSV_rotation'].isel(face=face)**2)/2 # KE\n",
    "    # B represents KE here    \n",
    "    dB_dx_raw = grid.diff(KE,'X')/ds.dxC.isel(face=face)     # d(KE)/dx\n",
    "    dB_dy_raw = grid.diff(KE,'Y')/ds.dyC.isel(face=face)     # d(KE)/dy\n",
    "    # i,j\n",
    "    dB_dx_raw_ij = grid.interp(dB_dx_raw,'X')\n",
    "    dB_dy_raw_ij = grid.interp(dB_dy_raw,'Y')\n",
    "    # rotation \n",
    "    dB_dx =  dB_dx_raw_ij.isel(i=slice(0,None,dij), j=slice(0,None,dij))*ds.CS.isel(face=face,i=slice(0,None,dij), j=slice(0,None,dij)) - dB_dy_raw_ij.isel(i=slice(0,None,dij), j=slice(0,None,dij))*ds.SN.isel(face=face,i=slice(0,None,dij), j=slice(0,None,dij))\n",
    "    dB_dy =  dB_dx_raw_ij.isel(i=slice(0,None,dij), j=slice(0,None,dij))*ds.SN.isel(face=face,i=slice(0,None,dij), j=slice(0,None,dij)) + dB_dy_raw_ij.isel(i=slice(0,None,dij), j=slice(0,None,dij))*ds.CS.isel(face=face,i=slice(0,None,dij), j=slice(0,None,dij))\n",
    "\n",
    "    # store\n",
    "    dB_dx = np.real(dB_dx).rename('dKE_dx')    \n",
    "    dB_dx = dB_dx.chunk({'time': 1,'i':1080,'j':1080})\n",
    "    dB_dx.to_dataset().to_zarr(E_dir+'dKE_dx_f%02d.zarr'% (face), mode='w')\n",
    "    \n",
    "    dB_dy = np.real(dB_dy).rename('dKE_dy')    \n",
    "    dB_dy = dB_dy.chunk({'time': 1,'i':1080,'j':1080})\n",
    "    dB_dy.to_dataset().to_zarr(E_dir+'dKE_dy_f%02d.zarr'% (face), mode='w')        \n",
    "\n",
    "    print('face=%d - allready processed'%(face))"
   ]
  },
  {
   "cell_type": "code",
   "execution_count": 22,
   "metadata": {},
   "outputs": [
    {
     "name": "stdout",
     "output_type": "stream",
     "text": [
      "face=0 - allready processed\n",
      "face=1 - allready processed\n",
      "face=2 - allready processed\n",
      "face=3 - allready processed\n",
      "face=4 - allready processed\n",
      "face=5 - allready processed\n",
      "face=6 - allready processed\n",
      "face=7 - allready processed\n",
      "face=8 - allready processed\n",
      "face=9 - allready processed\n",
      "face=10 - allready processed\n",
      "face=11 - allready processed\n",
      "face=12 - allready processed\n"
     ]
    }
   ],
   "source": [
    "# 240 time_length about 15 mins in total\n",
    "\n",
    "for face in range(ds['face'].size):\n",
    "#for face in [1]:\n",
    "    \n",
    "    g = 9.81\n",
    "\n",
    "    dB_dx_raw = grid.diff(g*ds['Eta'].isel(face=face),'X')/ds.dxC.isel(face=face)     \n",
    "    dB_dy_raw = grid.diff(g*ds['Eta'].isel(face=face),'Y') /ds.dyC.isel(face=face)     \n",
    "    # i,j\n",
    "    dB_dx_raw_ij = grid.interp(dB_dx_raw,'X')\n",
    "    dB_dy_raw_ij = grid.interp(dB_dy_raw,'Y')\n",
    "    # rotation\n",
    "    dB_dx =  dB_dx_raw_ij.isel(i=slice(0,None,dij), j=slice(0,None,dij))*ds.CS.isel(face=face,i=slice(0,None,dij), j=slice(0,None,dij)) - dB_dy_raw_ij.isel(i=slice(0,None,dij), j=slice(0,None,dij))*ds.SN.isel(face=face,i=slice(0,None,dij), j=slice(0,None,dij))\n",
    "    dB_dy =  dB_dx_raw_ij.isel(i=slice(0,None,dij), j=slice(0,None,dij))*ds.SN.isel(face=face,i=slice(0,None,dij), j=slice(0,None,dij)) + dB_dy_raw_ij.isel(i=slice(0,None,dij), j=slice(0,None,dij))*ds.CS.isel(face=face,i=slice(0,None,dij), j=slice(0,None,dij))\n",
    "    \n",
    "    # store\n",
    "    dB_dx = np.real(dB_dx).rename('deta_dx')    \n",
    "    dB_dx = dB_dx.chunk({'time': 1,'i':1080,'j':1080})\n",
    "    dB_dx.to_dataset().to_zarr(E_dir+'deta_dx_f%02d.zarr'% (face), mode='w')\n",
    "\n",
    "    dB_dy = np.real(dB_dy).rename('deta_dy')    \n",
    "    dB_dy = dB_dy.chunk({'time': 1,'i':1080,'j':1080})\n",
    "    dB_dy.to_dataset().to_zarr(E_dir+'deta_dy_f%02d.zarr'% (face), mode='w')        \n",
    "\n",
    "    print('face=%d - allready processed'%(face))"
   ]
  },
  {
   "cell_type": "markdown",
   "metadata": {},
   "source": [
    "# Term 5: residuals"
   ]
  },
  {
   "cell_type": "code",
   "execution_count": 23,
   "metadata": {},
   "outputs": [
    {
     "name": "stdout",
     "output_type": "stream",
     "text": [
      "face=0 - allready processed\n",
      "face=1 - allready processed\n",
      "face=2 - allready processed\n",
      "face=3 - allready processed\n",
      "face=4 - allready processed\n",
      "face=5 - allready processed\n",
      "face=6 - allready processed\n",
      "face=7 - allready processed\n",
      "face=8 - allready processed\n",
      "face=9 - allready processed\n",
      "face=10 - allready processed\n",
      "face=11 - allready processed\n",
      "face=12 - allready processed\n"
     ]
    }
   ],
   "source": [
    "for face in range(13):\n",
    "        \n",
    "    ds_du_dt = xr.open_zarr(E_dir+'du_dt_f%02d.zarr'%face)\n",
    "    ds_fv = xr.open_zarr(E_dir+'fv_f%02d.zarr'%face)\n",
    "    ds_zv = xr.open_zarr(E_dir+'zeta_v_f%02d.zarr'%face)\n",
    "    ds_dKE_dx = xr.open_zarr(E_dir+'dKE_dx_f%02d.zarr'%face)\n",
    "    ds_deta_dx = xr.open_zarr(E_dir+'deta_dx_f%02d.zarr'%face)\n",
    "    \n",
    "    residuals_u = ds_du_dt['du_dt'] - ds_fv['fv'] - ds_zv['zeta_v'] + ds_dKE_dx['dKE_dx'] + ds_deta_dx['deta_dx']\n",
    "    residuals_u = np.real(residuals_u).rename('residuals_u')\n",
    "    residuals_u = residuals_u.chunk({'time': 1,'i':1080,'j':1080})\n",
    "    residuals_u.to_dataset().to_zarr(E_dir+'residuals_u_f%02d.zarr'% (face), mode='w')\n",
    "    print('face=%d - allready processed'%(face))"
   ]
  },
  {
   "cell_type": "code",
   "execution_count": 24,
   "metadata": {},
   "outputs": [
    {
     "name": "stdout",
     "output_type": "stream",
     "text": [
      "face=0 - allready processed\n",
      "face=1 - allready processed\n",
      "face=2 - allready processed\n",
      "face=3 - allready processed\n",
      "face=4 - allready processed\n",
      "face=5 - allready processed\n",
      "face=6 - allready processed\n",
      "face=7 - allready processed\n",
      "face=8 - allready processed\n",
      "face=9 - allready processed\n",
      "face=10 - allready processed\n",
      "face=11 - allready processed\n",
      "face=12 - allready processed\n"
     ]
    }
   ],
   "source": [
    "for face in range(13):\n",
    "        \n",
    "    ds_dv_dt = xr.open_zarr(E_dir+'dv_dt_f%02d.zarr'%face)\n",
    "    ds_fu = xr.open_zarr(E_dir+'fu_f%02d.zarr'%face)\n",
    "    ds_zu = xr.open_zarr(E_dir+'zeta_u_f%02d.zarr'%face)\n",
    "    ds_dKE_dy = xr.open_zarr(E_dir+'dKE_dy_f%02d.zarr'%face)\n",
    "    ds_deta_dy = xr.open_zarr(E_dir+'deta_dy_f%02d.zarr'%face)\n",
    "    \n",
    "    residuals_v = ds_dv_dt['dv_dt'] + ds_fu['fu'] + ds_zu['zeta_u'] + ds_dKE_dy['dKE_dy'] + ds_deta_dy['deta_dy'] \n",
    "    residuals_v = np.real(residuals_v).rename('residuals_v')\n",
    "    residuals_v = residuals_v.chunk({'time': 1,'i':1080,'j':1080})\n",
    "    residuals_v.to_dataset().to_zarr(E_dir+'residuals_v_f%02d.zarr'% (face), mode='w')\n",
    "    print('face=%d - allready processed'%(face))"
   ]
  },
  {
   "cell_type": "code",
   "execution_count": null,
   "metadata": {},
   "outputs": [],
   "source": []
  },
  {
   "cell_type": "code",
   "execution_count": null,
   "metadata": {},
   "outputs": [],
   "source": []
  },
  {
   "cell_type": "code",
   "execution_count": null,
   "metadata": {},
   "outputs": [],
   "source": []
  },
  {
   "cell_type": "code",
   "execution_count": null,
   "metadata": {},
   "outputs": [],
   "source": []
  },
  {
   "cell_type": "code",
   "execution_count": null,
   "metadata": {},
   "outputs": [],
   "source": []
  },
  {
   "cell_type": "code",
   "execution_count": null,
   "metadata": {},
   "outputs": [],
   "source": []
  },
  {
   "cell_type": "code",
   "execution_count": null,
   "metadata": {},
   "outputs": [],
   "source": []
  },
  {
   "cell_type": "code",
   "execution_count": null,
   "metadata": {},
   "outputs": [],
   "source": []
  },
  {
   "cell_type": "code",
   "execution_count": null,
   "metadata": {},
   "outputs": [],
   "source": []
  },
  {
   "cell_type": "code",
   "execution_count": null,
   "metadata": {},
   "outputs": [],
   "source": []
  },
  {
   "cell_type": "code",
   "execution_count": null,
   "metadata": {},
   "outputs": [],
   "source": []
  },
  {
   "cell_type": "code",
   "execution_count": null,
   "metadata": {},
   "outputs": [],
   "source": []
  },
  {
   "cell_type": "code",
   "execution_count": null,
   "metadata": {},
   "outputs": [],
   "source": []
  },
  {
   "cell_type": "code",
   "execution_count": null,
   "metadata": {
    "scrolled": true
   },
   "outputs": [],
   "source": [
    "cluster.close()"
   ]
  },
  {
   "cell_type": "code",
   "execution_count": null,
   "metadata": {},
   "outputs": [],
   "source": []
  },
  {
   "cell_type": "code",
   "execution_count": null,
   "metadata": {},
   "outputs": [],
   "source": []
  }
 ],
 "metadata": {
  "kernelspec": {
   "display_name": "equinox",
   "language": "python",
   "name": "equinox"
  },
  "language_info": {
   "codemirror_mode": {
    "name": "ipython",
    "version": 3
   },
   "file_extension": ".py",
   "mimetype": "text/x-python",
   "name": "python",
   "nbconvert_exporter": "python",
   "pygments_lexer": "ipython3",
   "version": "3.7.3"
  }
 },
 "nbformat": 4,
 "nbformat_minor": 4
}

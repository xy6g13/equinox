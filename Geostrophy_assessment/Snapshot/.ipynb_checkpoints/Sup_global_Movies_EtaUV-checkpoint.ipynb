{
 "cells": [
  {
   "cell_type": "code",
   "execution_count": 1,
   "metadata": {},
   "outputs": [],
   "source": [
    "import os, sys\n",
    "from glob import glob\n",
    "import numpy as np\n",
    "import dask\n",
    "import xarray as xr\n",
    "import xgcm\n",
    "import cartopy.crs as ccrs\n",
    "from cmocean import cm\n",
    "\n",
    "from matplotlib import pyplot as plt\n",
    "%matplotlib inline\n",
    "\n",
    "from mitequinox.utils import *\n",
    "from mitequinox.sigp import *\n",
    "from mitequinox.plot import *\n",
    "from dask import compute, delayed"
   ]
  },
  {
   "cell_type": "code",
   "execution_count": 2,
   "metadata": {},
   "outputs": [],
   "source": [
    "from dask_jobqueue import PBSCluster\n",
    "# for heavy processing:\n",
    "cluster = PBSCluster(cores=6, processes=6,  walltime='04:00:00')\n",
    "w = cluster.scale(12*10)"
   ]
  },
  {
   "cell_type": "code",
   "execution_count": 3,
   "metadata": {},
   "outputs": [],
   "source": [
    "# get dask handles and check dask server status\n",
    "from dask.distributed import Client\n",
    "client = Client(cluster)"
   ]
  },
  {
   "cell_type": "code",
   "execution_count": 4,
   "metadata": {},
   "outputs": [
    {
     "data": {
      "text/html": [
       "<table style=\"border: 2px solid white;\">\n",
       "<tr>\n",
       "<td style=\"vertical-align: top; border: 0px solid white\">\n",
       "<h3 style=\"text-align: left;\">Client</h3>\n",
       "<ul style=\"text-align: left; list-style: none; margin: 0; padding: 0;\">\n",
       "  <li><b>Scheduler: </b>tcp://10.135.39.24:44620</li>\n",
       "  <li><b>Dashboard: </b><a href='http://10.135.39.24:8787/status' target='_blank'>http://10.135.39.24:8787/status</a>\n",
       "</ul>\n",
       "</td>\n",
       "<td style=\"vertical-align: top; border: 0px solid white\">\n",
       "<h3 style=\"text-align: left;\">Cluster</h3>\n",
       "<ul style=\"text-align: left; list-style:none; margin: 0; padding: 0;\">\n",
       "  <li><b>Workers: </b>120</li>\n",
       "  <li><b>Cores: </b>120</li>\n",
       "  <li><b>Memory: </b>2.00 TB</li>\n",
       "</ul>\n",
       "</td>\n",
       "</tr>\n",
       "</table>"
      ],
      "text/plain": [
       "<Client: 'tcp://10.135.39.24:44620' processes=120 threads=120, memory=2.00 TB>"
      ]
     },
     "execution_count": 4,
     "metadata": {},
     "output_type": "execute_result"
    }
   ],
   "source": [
    "client"
   ]
  },
  {
   "cell_type": "markdown",
   "metadata": {},
   "source": [
    "_____________\n",
    "# Read data"
   ]
  },
  {
   "cell_type": "code",
   "execution_count": 38,
   "metadata": {},
   "outputs": [
    {
     "data": {
      "text/plain": [
       "<xarray.Dataset>\n",
       "Dimensions:  (face: 13, i: 1080, j: 1080)\n",
       "Coordinates:\n",
       "  * face     (face) int64 0 1 2 3 4 5 6 7 8 9 10 11 12\n",
       "  * i        (i) int64 0 4 8 12 16 20 24 ... 4292 4296 4300 4304 4308 4312 4316\n",
       "  * j        (j) int64 0 4 8 12 16 20 24 ... 4292 4296 4300 4304 4308 4312 4316\n",
       "Data variables:\n",
       "    XC       (face, j, i) float32 dask.array<chunksize=(1, 1080, 1080), meta=np.ndarray>\n",
       "    YC       (face, j, i) float32 dask.array<chunksize=(1, 1080, 1080), meta=np.ndarray>\n",
       "    Depth    (face, j, i) float32 dask.array<chunksize=(1, 1080, 1080), meta=np.ndarray>\n",
       "    CS       (face, j, i) float32 dask.array<chunksize=(1, 1080, 1080), meta=np.ndarray>\n",
       "    SN       (face, j, i) float32 dask.array<chunksize=(1, 1080, 1080), meta=np.ndarray>"
      ]
     },
     "execution_count": 38,
     "metadata": {},
     "output_type": "execute_result"
    }
   ],
   "source": [
    "dij=4\n",
    "time_length = 240\n",
    "\n",
    "ds_ice = xr.open_zarr(work_data_dir+'xy/sea_ice_mask.zarr')\n",
    "ice = ds_ice.AREA.isel(i=slice(0,None,dij), j=slice(0,None,dij))\n",
    "\n",
    "grd = load_grd().reset_coords().isel(i=slice(0,None,dij), j=slice(0,None,dij))\n",
    "mask = ((grd.hFacW.rename({'i_g': 'i'}) == 1) &\n",
    "        (grd.hFacS.rename({'j_g': 'j'}) == 1) \n",
    "       ).rename('mask').reset_coords(drop=True)\n",
    "grd_rspec = xr.merge([grd.XC, grd.YC, grd.Depth, grd.CS, grd.SN])\n",
    "grd_rspec"
   ]
  },
  {
   "cell_type": "code",
   "execution_count": 39,
   "metadata": {},
   "outputs": [],
   "source": [
    "# define (real) time\n",
    "def iters_to_date(iters, delta_t=3600.):\n",
    "    t0 = datetime.datetime(2011,11,23,8)    \n",
    "    ltime = delta_t * (np.array(iters))\n",
    "    dtime = [t0+dateutil.relativedelta.relativedelta(seconds=t) for t in ltime]    \n",
    "    return dtime\n",
    "\n",
    "time_day = iters_to_date(np.arange(time_length))"
   ]
  },
  {
   "cell_type": "code",
   "execution_count": 40,
   "metadata": {},
   "outputs": [
    {
     "name": "stdout",
     "output_type": "stream",
     "text": [
      "<xarray.Dataset>\n",
      "Dimensions:  (face: 13, i: 1080, j: 1080, time: 240)\n",
      "Coordinates:\n",
      "    dtime    (time) datetime64[ns] dask.array<chunksize=(240,), meta=np.ndarray>\n",
      "  * face     (face) int64 0 1 2 3 4 5 6 7 8 9 10 11 12\n",
      "  * i        (i) int64 0 4 8 12 16 20 24 ... 4292 4296 4300 4304 4308 4312 4316\n",
      "    iters    (time) int64 dask.array<chunksize=(1,), meta=np.ndarray>\n",
      "  * j        (j) int64 0 4 8 12 16 20 24 ... 4292 4296 4300 4304 4308 4312 4316\n",
      "  * time     (time) datetime64[ns] 2011-11-23T08:00:00 ... 2011-12-03T07:00:00\n",
      "    XC       (face, j, i) float32 dask.array<chunksize=(1, 1080, 1080), meta=np.ndarray>\n",
      "    YC       (face, j, i) float32 dask.array<chunksize=(1, 1080, 1080), meta=np.ndarray>\n",
      "Data variables:\n",
      "    Eta      (time, face, j, i) float32 dask.array<chunksize=(1, 1, 1080, 1080), meta=np.ndarray>\n",
      "\n",
      " data size: 14.7 GB\n"
     ]
    }
   ],
   "source": [
    "ds = xr.open_zarr(root_data_dir+'zarr/%s.zarr'%('Eta')).isel(time=slice(1512+200,1512+200+time_length))\n",
    "dsE = ds.isel(i=slice(0,None,dij), j=slice(0,None,dij))\n",
    "dsE = dsE.assign_coords(time=time_day) \n",
    "dsE = dsE.assign_coords(XC=grd_rspec.XC) \n",
    "dsE = dsE.assign_coords(YC=grd_rspec.YC) \n",
    "print(dsE)\n",
    "print('\\n data size: %.1f GB' %(dsE.nbytes / 1e9))"
   ]
  },
  {
   "cell_type": "code",
   "execution_count": 41,
   "metadata": {},
   "outputs": [
    {
     "name": "stdout",
     "output_type": "stream",
     "text": [
      "<xarray.Dataset>\n",
      "Dimensions:  (face: 13, i: 1080, j: 1080, time: 240)\n",
      "Coordinates:\n",
      "    dtime    (time) datetime64[ns] dask.array<chunksize=(240,), meta=np.ndarray>\n",
      "  * face     (face) int64 0 1 2 3 4 5 6 7 8 9 10 11 12\n",
      "  * i        (i) int64 0 4 8 12 16 20 24 ... 4292 4296 4300 4304 4308 4312 4316\n",
      "    iters    (time) int64 dask.array<chunksize=(1,), meta=np.ndarray>\n",
      "  * j        (j) int64 0 4 8 12 16 20 24 ... 4292 4296 4300 4304 4308 4312 4316\n",
      "  * time     (time) datetime64[ns] 2011-11-23T08:00:00 ... 2011-12-03T07:00:00\n",
      "    XC       (face, j, i) float32 dask.array<chunksize=(1, 1080, 1080), meta=np.ndarray>\n",
      "    YC       (face, j, i) float32 dask.array<chunksize=(1, 1080, 1080), meta=np.ndarray>\n",
      "Data variables:\n",
      "    SSU      (time, face, j, i) float32 dask.array<chunksize=(1, 1, 1080, 1080), meta=np.ndarray>\n",
      "\n",
      " data size: 14.7 GB\n"
     ]
    }
   ],
   "source": [
    "ds = xr.open_zarr(root_data_dir+'zarr/%s.zarr'%('SSU')).rename({'i_g': 'i'}).isel(time=slice(200,200+time_length))\n",
    "dsU = ds.isel(i=slice(0,None,dij), j=slice(0,None,dij))\n",
    "dsU = dsU.assign_coords(time=time_day) \n",
    "dsU = dsU.assign_coords(XC=grd_rspec.XC) \n",
    "dsU = dsU.assign_coords(YC=grd_rspec.YC) \n",
    "print(dsU)\n",
    "print('\\n data size: %.1f GB' %(dsU.nbytes / 1e9))"
   ]
  },
  {
   "cell_type": "code",
   "execution_count": 42,
   "metadata": {},
   "outputs": [
    {
     "name": "stdout",
     "output_type": "stream",
     "text": [
      "<xarray.Dataset>\n",
      "Dimensions:  (face: 13, i: 1080, j: 1080, time: 240)\n",
      "Coordinates:\n",
      "    dtime    (time) datetime64[ns] dask.array<chunksize=(240,), meta=np.ndarray>\n",
      "  * face     (face) int64 0 1 2 3 4 5 6 7 8 9 10 11 12\n",
      "  * i        (i) int64 0 4 8 12 16 20 24 ... 4292 4296 4300 4304 4308 4312 4316\n",
      "    iters    (time) int64 dask.array<chunksize=(1,), meta=np.ndarray>\n",
      "  * j        (j) int64 0 4 8 12 16 20 24 ... 4292 4296 4300 4304 4308 4312 4316\n",
      "  * time     (time) datetime64[ns] 2011-11-23T08:00:00 ... 2011-12-03T07:00:00\n",
      "    XC       (face, j, i) float32 dask.array<chunksize=(1, 1080, 1080), meta=np.ndarray>\n",
      "    YC       (face, j, i) float32 dask.array<chunksize=(1, 1080, 1080), meta=np.ndarray>\n",
      "Data variables:\n",
      "    SSV      (time, face, j, i) float32 dask.array<chunksize=(1, 1, 1080, 1080), meta=np.ndarray>\n",
      "\n",
      " data size: 14.7 GB\n"
     ]
    }
   ],
   "source": [
    "ds = xr.open_zarr(root_data_dir+'zarr/%s.zarr'%('SSV')).rename({'j_g': 'j'}).isel(time=slice(200,200+time_length))\n",
    "dsV = ds.isel(i=slice(0,None,dij), j=slice(0,None,dij))\n",
    "dsV = dsV.assign_coords(time=time_day) \n",
    "dsV = dsV.assign_coords(XC=grd_rspec.XC) \n",
    "dsV = dsV.assign_coords(YC=grd_rspec.YC) \n",
    "print(dsV)\n",
    "print('\\n data size: %.1f GB' %(dsV.nbytes / 1e9))"
   ]
  },
  {
   "cell_type": "code",
   "execution_count": 43,
   "metadata": {},
   "outputs": [
    {
     "data": {
      "text/plain": [
       "<xarray.Dataset>\n",
       "Dimensions:   (face: 13, i: 1080, j: 1080, time: 240)\n",
       "Coordinates:\n",
       "    dtime     (time) datetime64[ns] dask.array<chunksize=(240,), meta=np.ndarray>\n",
       "  * face      (face) int64 0 1 2 3 4 5 6 7 8 9 10 11 12\n",
       "  * i         (i) int64 0 4 8 12 16 20 24 ... 4292 4296 4300 4304 4308 4312 4316\n",
       "    iters     (time) int64 dask.array<chunksize=(1,), meta=np.ndarray>\n",
       "  * j         (j) int64 0 4 8 12 16 20 24 ... 4292 4296 4300 4304 4308 4312 4316\n",
       "  * time      (time) datetime64[ns] 2011-11-23T08:00:00 ... 2011-12-03T07:00:00\n",
       "    XC        (face, j, i) float32 dask.array<chunksize=(1, 1080, 1080), meta=np.ndarray>\n",
       "    YC        (face, j, i) float32 dask.array<chunksize=(1, 1080, 1080), meta=np.ndarray>\n",
       "Data variables:\n",
       "    SSU       (time, face, j, i) float32 dask.array<chunksize=(1, 1, 1080, 1080), meta=np.ndarray>\n",
       "    u_rotate  (time, face, j, i) float32 dask.array<chunksize=(1, 1, 1080, 1080), meta=np.ndarray>"
      ]
     },
     "execution_count": 43,
     "metadata": {},
     "output_type": "execute_result"
    }
   ],
   "source": [
    "dsU['u_rotate'] = dsU.SSU*grd_rspec.CS - dsV.SSV*grd_rspec.SN\n",
    "dsU"
   ]
  },
  {
   "cell_type": "code",
   "execution_count": 44,
   "metadata": {},
   "outputs": [
    {
     "data": {
      "text/plain": [
       "<xarray.Dataset>\n",
       "Dimensions:   (face: 13, i: 1080, j: 1080, time: 240)\n",
       "Coordinates:\n",
       "    dtime     (time) datetime64[ns] dask.array<chunksize=(240,), meta=np.ndarray>\n",
       "  * face      (face) int64 0 1 2 3 4 5 6 7 8 9 10 11 12\n",
       "  * i         (i) int64 0 4 8 12 16 20 24 ... 4292 4296 4300 4304 4308 4312 4316\n",
       "    iters     (time) int64 dask.array<chunksize=(1,), meta=np.ndarray>\n",
       "  * j         (j) int64 0 4 8 12 16 20 24 ... 4292 4296 4300 4304 4308 4312 4316\n",
       "  * time      (time) datetime64[ns] 2011-11-23T08:00:00 ... 2011-12-03T07:00:00\n",
       "    XC        (face, j, i) float32 dask.array<chunksize=(1, 1080, 1080), meta=np.ndarray>\n",
       "    YC        (face, j, i) float32 dask.array<chunksize=(1, 1080, 1080), meta=np.ndarray>\n",
       "Data variables:\n",
       "    SSV       (time, face, j, i) float32 dask.array<chunksize=(1, 1, 1080, 1080), meta=np.ndarray>\n",
       "    v_rotate  (time, face, j, i) float32 dask.array<chunksize=(1, 1, 1080, 1080), meta=np.ndarray>"
      ]
     },
     "execution_count": 44,
     "metadata": {},
     "output_type": "execute_result"
    }
   ],
   "source": [
    "dsV['v_rotate'] = dsU.SSU*grd_rspec.SN + dsV.SSV*grd_rspec.CS\n",
    "dsV"
   ]
  },
  {
   "cell_type": "markdown",
   "metadata": {},
   "source": [
    "# Movies"
   ]
  },
  {
   "cell_type": "code",
   "execution_count": 21,
   "metadata": {
    "jupyter": {
     "source_hidden": true
    }
   },
   "outputs": [],
   "source": [
    "font_size = 32\n",
    "\n",
    "def plot_pretty(v, colorbar=False, title=None, label=None, vmin=None, vmax=None, savefig=None, \n",
    "                offline=False, figsize=(20,12), cmmap='balance', ignore_face=[]):\n",
    "    \n",
    "    if vmin is None:\n",
    "        vmin = v.min()\n",
    "    if vmax is None:\n",
    "        vmax = v.max()\n",
    "    #\n",
    "    MPL_LOCK = threading.Lock()\n",
    "    with MPL_LOCK:\n",
    "        if offline:\n",
    "            plt.switch_backend('agg')\n",
    "        #\n",
    "        fig = plt.figure(figsize=figsize)\n",
    "        ax = fig.add_subplot(111, projection=ccrs.PlateCarree(central_longitude=180))\n",
    "        cmap = getattr(cm, cmmap)\n",
    "        #gen = (face for face in v.face.values if face not in ignore_face)\n",
    "        \n",
    "        gen = [0,1,2,3,4,5,7,8,9,10,11,12]\n",
    "        for face in gen:\n",
    "            vplt = v.isel(face=face)\n",
    "            if face in [6,7,8,9]:\n",
    "                # this deals with dateline crossing areas\n",
    "                im = vplt.where( (vplt.XC>=0) & (vplt.XC<=180.)).plot.pcolormesh(ax=ax,                   \n",
    "                                transform=ccrs.PlateCarree(), vmin=vmin, vmax=vmax,\n",
    "                                x='XC', y='YC', add_colorbar=colorbar, cmap=cmap)\n",
    "                im = vplt.where(vplt.XC<=0).plot.pcolormesh(ax=ax,                   \n",
    "                                transform=ccrs.PlateCarree(), vmin=vmin, vmax=vmax,\n",
    "                                x='XC', y='YC', add_colorbar=colorbar, cmap=cmap)\n",
    "            if face in [1]:\n",
    "                im1 = vplt.plot.pcolormesh(ax=ax,                   \n",
    "                                transform=ccrs.PlateCarree(), vmin=vmin, vmax=vmax,\n",
    "                                x='XC', y='YC', add_colorbar=colorbar, cmap=cmap)            \n",
    "            else:\n",
    "                im = vplt.plot.pcolormesh(ax=ax,                   \n",
    "                                transform=ccrs.PlateCarree(), vmin=vmin, vmax=vmax,\n",
    "                                x='XC', y='YC', add_colorbar=colorbar, cmap=cmap)\n",
    "                \n",
    "        #cax = plt.axes([0.925, 0.25, 0.025, 0.5])\n",
    "        #cb = fig.colorbar(im1, cax=cax, ticks=[-4, -3, -2, -1, 0, 1, 2, 3, 4])\n",
    "        #cb.ax.tick_params(labelsize=font_size)\n",
    "        \n",
    "        #cb = plt.colorbar(im,fraction=0.018, pad=0.03, ticks=[-4, -3, -2, -1, 0, 1, 2, 3, 4])\n",
    "        #cb.ax.tick_params(labelsize=font_size)\n",
    "        cb = plt.colorbar(im1, ticks=[-4, -3, -2, -1, 0, 1, 2, 3, 4])\n",
    "        cb.ax.tick_params(labelsize=font_size)\n",
    "        ax.set_xticks([-180, -135, -90, -45, 0, 45,  90, 135, 180])\n",
    "        ax.set_xticklabels(['$180\\degree$W','$135\\degree$W','$90\\degree$W','$45\\degree$W','$0\\degree$','$45\\degree$E','$90\\degree$E','$135\\degree$E','$180\\degree$E'])\n",
    "        ax.set_ylim(-70., 70.)\n",
    "        ax.set_yticks([-60, -50, -40, -30, -20, -10, 0, 10, 20, 30, 40, 50, 60])\n",
    "        ax.set_yticklabels(['$60\\degree$S','','$40\\degree$S','','$20\\degree$S','','$0\\degree$','','$20\\degree$N','','$40\\degree$N','','$60\\degree$N'])\n",
    "        ax.tick_params(direction='out', length=6, width=2)\n",
    "        ax.set_ylabel('',fontsize=font_size)\n",
    "        ax.set_xlabel('',fontsize=font_size)\n",
    "        ax.tick_params(labelsize=font_size)\n",
    "        if title is not None:\n",
    "            ax.set_title(title, size=font_size)\n",
    "        if label is not None:\n",
    "            cb.set_label(label=label, size=font_size)     #\n",
    "        if savefig is not None:\n",
    "            fig.savefig(savefig, dpi=150)\n",
    "            plt.close(fig)\n",
    "        #\n",
    "        if not offline:\n",
    "            plt.show()\n",
    "            "
   ]
  },
  {
   "cell_type": "code",
   "execution_count": 12,
   "metadata": {},
   "outputs": [],
   "source": [
    "font_size = 32\n",
    "\n",
    "def plot_pretty(v, colorbar=False, title=None, label=None, vmin=None, vmax=None, savefig=None, \n",
    "                offline=False, figsize=(20,12), cmmap='balance', ignore_face=[]):\n",
    "    \n",
    "    if vmin is None:\n",
    "        vmin = v.min()\n",
    "    if vmax is None:\n",
    "        vmax = v.max()\n",
    "    #\n",
    "    MPL_LOCK = threading.Lock()\n",
    "    with MPL_LOCK:\n",
    "        if offline:\n",
    "            plt.switch_backend('agg')\n",
    "        #\n",
    "        fig = plt.figure(figsize=figsize)\n",
    "        ax = fig.add_subplot(111, projection=ccrs.PlateCarree(central_longitude=180))\n",
    "        cmap = getattr(cm, cmmap)\n",
    "  \n",
    "        gen = [0,1,2,3,4,5,7,8,9,10,11,12]\n",
    "        for face in gen:\n",
    "            vplt = v.isel(face=face)\n",
    "            im = vplt.plot.pcolormesh(ax=ax,                   \n",
    "                            transform=ccrs.PlateCarree(), vmin=vmin, vmax=vmax,\n",
    "                            x='XC', y='YC', add_colorbar=colorbar, cmap=cmap)\n",
    "        cb = plt.colorbar(im, ax=ax, ticks=[-4, -3, -2, -1, 0, 1, 2, 3, 4])\n",
    "        cb.ax.tick_params(labelsize=font_size)\n",
    "        ax.set_xticks([-180, -135, -90, -45, 0, 45,  90, 135, 180])\n",
    "        ax.set_xticklabels(['$180\\degree$W','$135\\degree$W','$90\\degree$W','$45\\degree$W','$0\\degree$','$45\\degree$E','$90\\degree$E','$135\\degree$E','$180\\degree$E'])\n",
    "        ax.set_ylim(-70., 70.)\n",
    "        ax.set_yticks([-60, -50, -40, -30, -20, -10, 0, 10, 20, 30, 40, 50, 60])\n",
    "        ax.set_yticklabels(['$60\\degree$S','','$40\\degree$S','','$20\\degree$S','','$0\\degree$','','$20\\degree$N','','$40\\degree$N','','$60\\degree$N'])\n",
    "        ax.tick_params(direction='out', length=6, width=2)\n",
    "        ax.set_ylabel('',fontsize=font_size)\n",
    "        ax.set_xlabel('',fontsize=font_size)\n",
    "        ax.tick_params(labelsize=font_size)\n",
    "        if title is not None:\n",
    "            ax.set_title(title, size=font_size)\n",
    "        if label is not None:\n",
    "            cb.set_label(label=label, size=font_size)     #\n",
    "        if savefig is not None:\n",
    "            fig.savefig(savefig, dpi=150)\n",
    "            plt.close(fig)\n",
    "        #\n",
    "        if not offline:\n",
    "            plt.show()\n",
    "            "
   ]
  },
  {
   "cell_type": "markdown",
   "metadata": {},
   "source": [
    "# Eta"
   ]
  },
  {
   "cell_type": "code",
   "execution_count": 13,
   "metadata": {},
   "outputs": [
    {
     "name": "stdout",
     "output_type": "stream",
     "text": [
      "range(0, 240)\n"
     ]
    }
   ],
   "source": [
    "vmin, vmax = -4, 4\n",
    "lds = dsE\n",
    "\n",
    "def genfig(dsE, i, overwrite=True):\n",
    "    \n",
    "    # !! passing the variable does not work\n",
    "    dv = dsE.Eta.where(ice>0)\n",
    "    mtime = time_day[i]\n",
    "    figname = '/home/uz/yux/mit_equinox/hal/Geostrophy_assessment/Figures/Global_Eta/Eta_t%05d'%(i)+'.png'\n",
    "    #\n",
    "    if not os.path.isfile(figname) or overwrite:\n",
    "        #\n",
    "        title = '$\\eta$ (m) %s'%mtime\n",
    "        #label = '$\\eta$ (m)'\n",
    "\n",
    "        plot_pretty(dv, vmin=vmin, vmax=vmax, cmmap='balance', title=title, savefig=figname, ignore_face=[6], figsize=(20,6))\n",
    "        \n",
    "        #m = 1.\n",
    "        m = float(dv.mean().values)\n",
    "    else:\n",
    "        m = -1.\n",
    "    return m\n",
    "\n",
    "I = range(len(ds['time']))\n",
    "#I = range(50)\n",
    "print(I)\n",
    "values = [delayed(genfig)(lds.isel(time=i), i) for i in I]"
   ]
  },
  {
   "cell_type": "markdown",
   "metadata": {},
   "source": [
    "Process all times"
   ]
  },
  {
   "cell_type": "code",
   "execution_count": 14,
   "metadata": {},
   "outputs": [
    {
     "name": "stdout",
     "output_type": "stream",
     "text": [
      "CPU times: user 4min 23s, sys: 3min 56s, total: 8min 20s\n",
      "Wall time: 10min 34s\n"
     ]
    }
   ],
   "source": [
    "futures = client.compute(values)\n",
    "%time results = client.gather(futures)"
   ]
  },
  {
   "cell_type": "markdown",
   "metadata": {},
   "source": [
    "# SSU"
   ]
  },
  {
   "cell_type": "code",
   "execution_count": 19,
   "metadata": {},
   "outputs": [
    {
     "name": "stdout",
     "output_type": "stream",
     "text": [
      "range(0, 240)\n"
     ]
    }
   ],
   "source": [
    "vmin, vmax = -2, 2\n",
    "lds = dsU\n",
    "\n",
    "def ssufig(dsU, i, overwrite=True):\n",
    "    \n",
    "    # !! passing the variable does not work\n",
    "    dv = dsU.u_rotate.where(ice>0)\n",
    "    mtime = time_day[i]\n",
    "    figname = '/home/uz/yux/mit_equinox/hal/Geostrophy_assessment/Figures/Global_U/SSU_t%05d' %(i)+'.png'\n",
    "    #\n",
    "    if not os.path.isfile(figname) or overwrite:\n",
    "        #\n",
    "        title = '$u$ (m/s) %s'%mtime\n",
    "        #label = '$\\eta$ (m)'\n",
    "        plot_pretty(dv, vmin=vmin, vmax=vmax, cmmap='balance', title=title, savefig=figname, ignore_face=[6], figsize=(20,6))\n",
    "\n",
    "        #m = 1.\n",
    "        m = float(dv.mean().values)\n",
    "    else:\n",
    "        m = -1.\n",
    "    return m\n",
    "\n",
    "I = range(len(ds['time']))\n",
    "#I = range(5)\n",
    "print(I)\n",
    "values = [delayed(ssufig)(lds.isel(time=i), i) for i in I]"
   ]
  },
  {
   "cell_type": "markdown",
   "metadata": {},
   "source": [
    "Process all times"
   ]
  },
  {
   "cell_type": "code",
   "execution_count": 20,
   "metadata": {},
   "outputs": [
    {
     "name": "stdout",
     "output_type": "stream",
     "text": [
      "CPU times: user 4min 31s, sys: 4min 3s, total: 8min 35s\n",
      "Wall time: 9min 43s\n"
     ]
    }
   ],
   "source": [
    "futures = client.compute(values)\n",
    "%time results = client.gather(futures)"
   ]
  },
  {
   "cell_type": "markdown",
   "metadata": {},
   "source": [
    "# SSV"
   ]
  },
  {
   "cell_type": "code",
   "execution_count": 23,
   "metadata": {},
   "outputs": [
    {
     "name": "stdout",
     "output_type": "stream",
     "text": [
      "range(0, 240)\n"
     ]
    }
   ],
   "source": [
    "vmin, vmax = -2, 2\n",
    "lds = dsV\n",
    "\n",
    "def ssvfig(dsV, i, overwrite=True):\n",
    "    \n",
    "    # !! passing the variable does not work\n",
    "    dv = dsV.v_rotate.where(ice>0)\n",
    "    mtime = time_day[i]\n",
    "    figname = '/home/uz/yux/mit_equinox/hal/Geostrophy_assessment/Figures/Global_V/SSV_t%05d' %(i)+'.png'\n",
    "    #\n",
    "    if not os.path.isfile(figname) or overwrite:\n",
    "        #\n",
    "        title = '$v$ (m/s) %s'%mtime\n",
    "        #label = '$\\eta$ (m)'\n",
    "\n",
    "        plot_pretty(dv, vmin=vmin, vmax=vmax, cmmap='balance', title=title, savefig=figname, ignore_face=[6], figsize=(20,6))\n",
    "\n",
    "        #m = 1.\n",
    "        m = float(dv.mean().values)\n",
    "    else:\n",
    "        m = -1.\n",
    "    return m\n",
    "\n",
    "I = range(len(ds['time']))\n",
    "#I = range(5)\n",
    "print(I)\n",
    "values = [delayed(ssvfig)(lds.isel(time=i), i) for i in I]"
   ]
  },
  {
   "cell_type": "markdown",
   "metadata": {},
   "source": [
    "Process all times"
   ]
  },
  {
   "cell_type": "code",
   "execution_count": 24,
   "metadata": {},
   "outputs": [
    {
     "name": "stdout",
     "output_type": "stream",
     "text": [
      "CPU times: user 4min 25s, sys: 3min 58s, total: 8min 23s\n",
      "Wall time: 9min 55s\n"
     ]
    }
   ],
   "source": [
    "futures = client.compute(values)\n",
    "%time results = client.gather(futures)"
   ]
  },
  {
   "cell_type": "code",
   "execution_count": null,
   "metadata": {},
   "outputs": [],
   "source": []
  },
  {
   "cell_type": "code",
   "execution_count": null,
   "metadata": {},
   "outputs": [],
   "source": []
  },
  {
   "cell_type": "markdown",
   "metadata": {},
   "source": [
    "________________\n",
    "# Eta, SSU, SSV Together\n",
    "\n",
    "## surface output from the model"
   ]
  },
  {
   "cell_type": "code",
   "execution_count": 45,
   "metadata": {},
   "outputs": [
    {
     "data": {
      "text/plain": [
       "<xarray.Dataset>\n",
       "Dimensions:   (face: 13, i: 1080, j: 1080, time: 240)\n",
       "Coordinates:\n",
       "    dtime     (time) datetime64[ns] dask.array<chunksize=(240,), meta=np.ndarray>\n",
       "  * face      (face) int64 0 1 2 3 4 5 6 7 8 9 10 11 12\n",
       "  * i         (i) int64 0 4 8 12 16 20 24 ... 4292 4296 4300 4304 4308 4312 4316\n",
       "    iters     (time) int64 dask.array<chunksize=(1,), meta=np.ndarray>\n",
       "  * j         (j) int64 0 4 8 12 16 20 24 ... 4292 4296 4300 4304 4308 4312 4316\n",
       "  * time      (time) datetime64[ns] 2011-11-23T08:00:00 ... 2011-12-03T07:00:00\n",
       "    XC        (face, j, i) float32 dask.array<chunksize=(1, 1080, 1080), meta=np.ndarray>\n",
       "    YC        (face, j, i) float32 dask.array<chunksize=(1, 1080, 1080), meta=np.ndarray>\n",
       "Data variables:\n",
       "    Eta       (time, face, j, i) float32 dask.array<chunksize=(1, 1, 1080, 1080), meta=np.ndarray>\n",
       "    u_rotate  (time, face, j, i) float32 dask.array<chunksize=(1, 1, 1080, 1080), meta=np.ndarray>\n",
       "    v_rotate  (time, face, j, i) float32 dask.array<chunksize=(1, 1, 1080, 1080), meta=np.ndarray>"
      ]
     },
     "execution_count": 45,
     "metadata": {},
     "output_type": "execute_result"
    }
   ],
   "source": [
    "ds = xr.merge([dsE.Eta,dsU.u_rotate,dsV.v_rotate])\n",
    "ds"
   ]
  },
  {
   "cell_type": "code",
   "execution_count": 46,
   "metadata": {},
   "outputs": [],
   "source": [
    "font_size = 20\n",
    "\n",
    "def plot_pretty_3(v1, v2, v3, colorbar=False, title=None, label=None, vmin=None, vmax=None, savefig=None, \n",
    "                  offline=False, figsize=(20,12), cmmap='thermal', ignore_face=[]):\n",
    "    \n",
    "    if vmin is None:\n",
    "        vmin = v.min()\n",
    "    if vmax is None:\n",
    "        vmax = v.max()\n",
    "    #\n",
    "    MPL_LOCK = threading.Lock()\n",
    "    with MPL_LOCK:\n",
    "        if offline:\n",
    "            plt.switch_backend('agg')\n",
    "        #\n",
    "        fig = plt.figure(figsize=figsize)\n",
    "        cmap = getattr(cm, cmmap)\n",
    "        \n",
    "        # 1\n",
    "        ax = fig.add_subplot(311, projection=ccrs.PlateCarree(central_longitude=180))\n",
    "        gen = [0,1,2,3,4,5,7,8,9,10,11,12]\n",
    "        for face in gen:\n",
    "            vplt = v1.isel(face=face)\n",
    "            im = vplt.plot.pcolormesh(ax=ax,                   \n",
    "                            transform=ccrs.PlateCarree(), vmin=vmin, vmax=vmax,\n",
    "                            x='XC', y='YC', add_colorbar=colorbar, cmap=cmap)\n",
    "        cb = plt.colorbar(im, ax=ax, ticks=[-4, -3, -2, -1, 0, 1, 2, 3, 4])\n",
    "        cb.set_label(label=label[0], fontsize=font_size)            \n",
    "        cb.ax.tick_params(labelsize=font_size)\n",
    "        ax.set_title(title[0],fontsize=font_size) \n",
    "        ax.set_xticks([-180, -135, -90, -45, 0, 45,  90, 135, 180])\n",
    "        ax.set_xticklabels(['$180\\degree$W','$135\\degree$W','$90\\degree$W','$45\\degree$W','$0\\degree$','$45\\degree$E','$90\\degree$E','$135\\degree$E','$180\\degree$E'])\n",
    "        ax.set_ylim(-70., 70.)\n",
    "        ax.set_yticks([-60, -50, -40, -30, -20, -10, 0, 10, 20, 30, 40, 50, 60])\n",
    "        ax.set_yticklabels(['$60\\degree$S','','$40\\degree$S','','$20\\degree$S','','$0\\degree$','','$20\\degree$N','','$40\\degree$N','','$60\\degree$N'])\n",
    "        ax.tick_params(direction='out', length=6, width=2)\n",
    "        ax.set_ylabel('',fontsize=font_size)\n",
    "        ax.set_xlabel('',fontsize=font_size)\n",
    "        ax.tick_params(labelsize=font_size)\n",
    "\n",
    "\n",
    "        # 2\n",
    "        ax = fig.add_subplot(312, projection=ccrs.PlateCarree(central_longitude=180))\n",
    "        gen = [0,1,2,3,4,5,7,8,9,10,11,12]\n",
    "        for face in gen:\n",
    "            vplt = v2.isel(face=face)\n",
    "            im = vplt.plot.pcolormesh(ax=ax,                   \n",
    "                            transform=ccrs.PlateCarree(), vmin=-2, vmax=2,\n",
    "                            x='XC', y='YC', add_colorbar=colorbar, cmap=cmap)\n",
    "        cb = plt.colorbar(im, ax=ax, ticks=[-2, -1, 0, 1, 2])\n",
    "        cb.set_label(label=label[1], fontsize=font_size)            \n",
    "        cb.ax.tick_params(labelsize=font_size)\n",
    "        ax.set_title(title[2],fontsize=font_size) \n",
    "        ax.set_xticks([-180, -135, -90, -45, 0, 45,  90, 135, 180])\n",
    "        ax.set_xticklabels(['$180\\degree$W','$135\\degree$W','$90\\degree$W','$45\\degree$W','$0\\degree$','$45\\degree$E','$90\\degree$E','$135\\degree$E','$180\\degree$E'])\n",
    "        ax.set_ylim(-70., 70.)\n",
    "        ax.set_yticks([-60, -50, -40, -30, -20, -10, 0, 10, 20, 30, 40, 50, 60])\n",
    "        ax.set_yticklabels(['$60\\degree$S','','$40\\degree$S','','$20\\degree$S','','$0\\degree$','','$20\\degree$N','','$40\\degree$N','','$60\\degree$N'])\n",
    "        ax.tick_params(direction='out', length=6, width=2)\n",
    "        ax.set_ylabel('',fontsize=font_size)\n",
    "        ax.set_xlabel('',fontsize=font_size)\n",
    "        ax.tick_params(labelsize=font_size)        \n",
    "\n",
    "\n",
    "        # 3\n",
    "        ax = fig.add_subplot(313, projection=ccrs.PlateCarree(central_longitude=180))\n",
    "        gen = [0,1,2,3,4,5,7,8,9,10,11,12]\n",
    "        for face in gen:\n",
    "            vplt = v3.isel(face=face)\n",
    "            im = vplt.plot.pcolormesh(ax=ax,                   \n",
    "                            transform=ccrs.PlateCarree(), vmin=-2, vmax=2,\n",
    "                            x='XC', y='YC', add_colorbar=colorbar, cmap=cmap)\n",
    "        cb = plt.colorbar(im, ax=ax, ticks=[-2, -1, 0, 1, 2])\n",
    "        cb.set_label(label=label[2], fontsize=font_size)            \n",
    "        cb.ax.tick_params(labelsize=font_size)\n",
    "        ax.set_title(title[2],fontsize=font_size) \n",
    "        ax.set_xticks([-180, -135, -90, -45, 0, 45,  90, 135, 180])\n",
    "        ax.set_xticklabels(['$180\\degree$W','$135\\degree$W','$90\\degree$W','$45\\degree$W','$0\\degree$','$45\\degree$E','$90\\degree$E','$135\\degree$E','$180\\degree$E'])\n",
    "        ax.set_ylim(-70., 70.)\n",
    "        ax.set_yticks([-60, -50, -40, -30, -20, -10, 0, 10, 20, 30, 40, 50, 60])\n",
    "        ax.set_yticklabels(['$60\\degree$S','','$40\\degree$S','','$20\\degree$S','','$0\\degree$','','$20\\degree$N','','$40\\degree$N','','$60\\degree$N'])\n",
    "        ax.tick_params(direction='out', length=6, width=2)\n",
    "        ax.set_ylabel('',fontsize=font_size)\n",
    "        ax.set_xlabel('',fontsize=font_size)\n",
    "        ax.tick_params(labelsize=font_size)                \n",
    "\n",
    "\n",
    "        #if title is not None:\n",
    "        #    ax.set_title(title, size=font_size)\n",
    "        #if label is not None:\n",
    "        #    cb.set_label(label=label, size=font_size)     #\n",
    "            \n",
    "        if savefig is not None:\n",
    "            fig.savefig(savefig, dpi=150)\n",
    "            plt.close(fig)\n",
    "        #\n",
    "        if not offline:\n",
    "            plt.show()\n",
    "            "
   ]
  },
  {
   "cell_type": "code",
   "execution_count": 47,
   "metadata": {},
   "outputs": [
    {
     "name": "stdout",
     "output_type": "stream",
     "text": [
      "range(0, 240)\n"
     ]
    }
   ],
   "source": [
    "vmin, vmax = -4, 4\n",
    "lds = ds\n",
    "\n",
    "def genfig(ds, i, overwrite=True):\n",
    "    \n",
    "    # !! passing the variable does not work\n",
    "    eta = ds.Eta.where(ice>0)\n",
    "    u = ds.u_rotate.where(ice>0)\n",
    "    v = ds.v_rotate.where(ice>0)\n",
    "    \n",
    "    mtime = time_day[i]\n",
    "    figname = '/home/uz/yux/mit_equinox/hal/Geostrophy_assessment/Figures/Global_Eta_UV/Eta_UV_t%05d' %(i)+'.png'\n",
    "    #\n",
    "    if not os.path.isfile(figname) or overwrite:\n",
    "        \n",
    "    \n",
    "        title = ['%s'%mtime, '', '']\n",
    "        label = ['$\\eta$ (m)', 'u (m/s)', '$v$ (m/s)']\n",
    "        \n",
    "        plot_pretty_3(eta, u, v,  vmin=vmin, vmax=vmax, cmmap='balance', title=title, label=label, savefig=figname, figsize=(20,18), ignore_face=[6])\n",
    "\n",
    "        #m = 1.\n",
    "        m = float(eta.mean().values)\n",
    "    else:\n",
    "        m = -1.\n",
    "    return m\n",
    "\n",
    "I = range(len(ds['time']))\n",
    "#I = range(2)\n",
    "print(I)\n",
    "values = [delayed(genfig)(lds.isel(time=i), i) for i in I]"
   ]
  },
  {
   "cell_type": "markdown",
   "metadata": {},
   "source": [
    "Process all times"
   ]
  },
  {
   "cell_type": "code",
   "execution_count": null,
   "metadata": {},
   "outputs": [],
   "source": [
    "futures = client.compute(values)\n",
    "%time results = client.gather(futures)"
   ]
  },
  {
   "cell_type": "code",
   "execution_count": null,
   "metadata": {},
   "outputs": [],
   "source": []
  },
  {
   "cell_type": "code",
   "execution_count": null,
   "metadata": {},
   "outputs": [],
   "source": []
  },
  {
   "cell_type": "code",
   "execution_count": null,
   "metadata": {},
   "outputs": [],
   "source": []
  },
  {
   "cell_type": "code",
   "execution_count": null,
   "metadata": {},
   "outputs": [],
   "source": []
  },
  {
   "cell_type": "code",
   "execution_count": null,
   "metadata": {},
   "outputs": [],
   "source": []
  },
  {
   "cell_type": "code",
   "execution_count": null,
   "metadata": {},
   "outputs": [],
   "source": []
  },
  {
   "cell_type": "code",
   "execution_count": null,
   "metadata": {},
   "outputs": [],
   "source": []
  },
  {
   "cell_type": "code",
   "execution_count": null,
   "metadata": {},
   "outputs": [],
   "source": []
  },
  {
   "cell_type": "code",
   "execution_count": null,
   "metadata": {},
   "outputs": [],
   "source": []
  },
  {
   "cell_type": "code",
   "execution_count": null,
   "metadata": {},
   "outputs": [],
   "source": []
  },
  {
   "cell_type": "code",
   "execution_count": null,
   "metadata": {},
   "outputs": [],
   "source": []
  },
  {
   "cell_type": "code",
   "execution_count": null,
   "metadata": {},
   "outputs": [],
   "source": []
  },
  {
   "cell_type": "code",
   "execution_count": null,
   "metadata": {},
   "outputs": [],
   "source": []
  },
  {
   "cell_type": "code",
   "execution_count": null,
   "metadata": {},
   "outputs": [],
   "source": []
  },
  {
   "cell_type": "code",
   "execution_count": 60,
   "metadata": {
    "scrolled": true
   },
   "outputs": [
    {
     "name": "stderr",
     "output_type": "stream",
     "text": [
      "distributed.scheduler - CRITICAL - Tried writing to closed comm: {'op': 'lost-data', 'key': \"('getitem-213da415091d979c8ebb3faa2a4a08fb', 0, 0)\"}\n",
      "distributed.client - ERROR - Failed to reconnect to scheduler after 10.00 seconds, closing client\n",
      "distributed.utils - ERROR - \n",
      "Traceback (most recent call last):\n",
      "  File \"/home/uz/yux/.conda/envs/equinox/lib/python3.7/site-packages/distributed/utils.py\", line 666, in log_errors\n",
      "    yield\n",
      "  File \"/home/uz/yux/.conda/envs/equinox/lib/python3.7/site-packages/distributed/client.py\", line 1276, in _close\n",
      "    await gen.with_timeout(timedelta(seconds=2), list(coroutines))\n",
      "concurrent.futures._base.CancelledError\n",
      "distributed.utils - ERROR - \n",
      "Traceback (most recent call last):\n",
      "  File \"/home/uz/yux/.conda/envs/equinox/lib/python3.7/site-packages/distributed/utils.py\", line 666, in log_errors\n",
      "    yield\n",
      "  File \"/home/uz/yux/.conda/envs/equinox/lib/python3.7/site-packages/distributed/client.py\", line 1005, in _reconnect\n",
      "    await self._close()\n",
      "  File \"/home/uz/yux/.conda/envs/equinox/lib/python3.7/site-packages/distributed/client.py\", line 1276, in _close\n",
      "    await gen.with_timeout(timedelta(seconds=2), list(coroutines))\n",
      "concurrent.futures._base.CancelledError\n"
     ]
    }
   ],
   "source": [
    "cluster.close()"
   ]
  },
  {
   "cell_type": "code",
   "execution_count": null,
   "metadata": {},
   "outputs": [],
   "source": []
  }
 ],
 "metadata": {
  "kernelspec": {
   "display_name": "equinox",
   "language": "python",
   "name": "equinox"
  },
  "language_info": {
   "codemirror_mode": {
    "name": "ipython",
    "version": 3
   },
   "file_extension": ".py",
   "mimetype": "text/x-python",
   "name": "python",
   "nbconvert_exporter": "python",
   "pygments_lexer": "ipython3",
   "version": "3.7.3"
  }
 },
 "nbformat": 4,
 "nbformat_minor": 4
}

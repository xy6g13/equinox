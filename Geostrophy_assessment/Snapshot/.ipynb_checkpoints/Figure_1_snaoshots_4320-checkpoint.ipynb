{
 "cells": [
  {
   "cell_type": "code",
   "execution_count": 1,
   "metadata": {},
   "outputs": [],
   "source": [
    "import os, sys\n",
    "from glob import glob\n",
    "import numpy as np\n",
    "import dask\n",
    "import xarray as xr\n",
    "from scipy.signal import welch\n",
    "from matplotlib import pyplot as plt\n",
    "from cmocean import cm\n",
    "import xgcm\n",
    "%matplotlib inline\n",
    "\n",
    "from mitequinox.utils import *\n",
    "from mitequinox.sigp import *\n",
    "from mitequinox.plot import *"
   ]
  },
  {
   "cell_type": "code",
   "execution_count": 13,
   "metadata": {},
   "outputs": [],
   "source": [
    "import matplotlib as mpl\n",
    "mpl.rcParams['figure.dpi'] = 600"
   ]
  },
  {
   "cell_type": "code",
   "execution_count": 2,
   "metadata": {},
   "outputs": [],
   "source": [
    "from dask_jobqueue import PBSCluster\n",
    "# for heavy processing:\n",
    "cluster = PBSCluster(cores=6, processes=6, walltime='03:00:00')\n",
    "w = cluster.scale(3*10)"
   ]
  },
  {
   "cell_type": "code",
   "execution_count": 3,
   "metadata": {},
   "outputs": [],
   "source": [
    "# get dask handles and check dask server status\n",
    "from dask.distributed import Client\n",
    "client = Client(cluster)"
   ]
  },
  {
   "cell_type": "code",
   "execution_count": 4,
   "metadata": {},
   "outputs": [
    {
     "data": {
      "text/html": [
       "<table style=\"border: 2px solid white;\">\n",
       "<tr>\n",
       "<td style=\"vertical-align: top; border: 0px solid white\">\n",
       "<h3 style=\"text-align: left;\">Client</h3>\n",
       "<ul style=\"text-align: left; list-style: none; margin: 0; padding: 0;\">\n",
       "  <li><b>Scheduler: </b>tcp://10.135.39.24:41018</li>\n",
       "  <li><b>Dashboard: </b><a href='http://10.135.39.24:8787/status' target='_blank'>http://10.135.39.24:8787/status</a>\n",
       "</ul>\n",
       "</td>\n",
       "<td style=\"vertical-align: top; border: 0px solid white\">\n",
       "<h3 style=\"text-align: left;\">Cluster</h3>\n",
       "<ul style=\"text-align: left; list-style:none; margin: 0; padding: 0;\">\n",
       "  <li><b>Workers: </b>30</li>\n",
       "  <li><b>Cores: </b>30</li>\n",
       "  <li><b>Memory: </b>500.10 GB</li>\n",
       "</ul>\n",
       "</td>\n",
       "</tr>\n",
       "</table>"
      ],
      "text/plain": [
       "<Client: 'tcp://10.135.39.24:41018' processes=30 threads=30, memory=500.10 GB>"
      ]
     },
     "execution_count": 4,
     "metadata": {},
     "output_type": "execute_result"
    }
   ],
   "source": [
    "client"
   ]
  },
  {
   "cell_type": "markdown",
   "metadata": {},
   "source": [
    "______________"
   ]
  },
  {
   "cell_type": "markdown",
   "metadata": {},
   "source": [
    "# Save snapshots"
   ]
  },
  {
   "cell_type": "code",
   "execution_count": 17,
   "metadata": {},
   "outputs": [
    {
     "data": {
      "text/plain": [
       "<xarray.Dataset>\n",
       "Dimensions:  (face: 13, i: 4320, i_g: 4320, j: 4320, j_g: 4320, k: 90, k_l: 90, k_p1: 91, k_u: 90, time: 30)\n",
       "Coordinates:\n",
       "    dtime    (time) datetime64[ns] dask.array<chunksize=(30,), meta=np.ndarray>\n",
       "  * face     (face) int64 0 1 2 3 4 5 6 7 8 9 10 11 12\n",
       "  * i        (i) int64 0 1 2 3 4 5 6 7 ... 4313 4314 4315 4316 4317 4318 4319\n",
       "    iters    (time) int64 dask.array<chunksize=(1,), meta=np.ndarray>\n",
       "  * j        (j) int64 0 1 2 3 4 5 6 7 ... 4313 4314 4315 4316 4317 4318 4319\n",
       "  * time     (time) datetime64[ns] 2011-11-23T08:00:00 ... 2011-11-24T13:00:00\n",
       "  * i_g      (i_g) int64 0 1 2 3 4 5 6 7 ... 4313 4314 4315 4316 4317 4318 4319\n",
       "  * j_g      (j_g) int64 0 1 2 3 4 5 6 7 ... 4313 4314 4315 4316 4317 4318 4319\n",
       "    CS       (face, j, i) float32 dask.array<chunksize=(1, 4320, 4320), meta=np.ndarray>\n",
       "    Depth    (face, j, i) float32 dask.array<chunksize=(1, 4320, 4320), meta=np.ndarray>\n",
       "    PHrefC   (k) float32 dask.array<chunksize=(90,), meta=np.ndarray>\n",
       "    PHrefF   (k_p1) float32 dask.array<chunksize=(91,), meta=np.ndarray>\n",
       "    SN       (face, j, i) float32 dask.array<chunksize=(1, 4320, 4320), meta=np.ndarray>\n",
       "    XC       (face, j, i) float32 dask.array<chunksize=(1, 4320, 4320), meta=np.ndarray>\n",
       "    XG       (face, j_g, i_g) float32 dask.array<chunksize=(1, 4320, 4320), meta=np.ndarray>\n",
       "    YC       (face, j, i) float32 dask.array<chunksize=(1, 4320, 4320), meta=np.ndarray>\n",
       "    YG       (face, j_g, i_g) float32 dask.array<chunksize=(1, 4320, 4320), meta=np.ndarray>\n",
       "    Z        (k) float32 dask.array<chunksize=(90,), meta=np.ndarray>\n",
       "    Zl       (k_l) float32 dask.array<chunksize=(90,), meta=np.ndarray>\n",
       "    Zp1      (k_p1) float32 dask.array<chunksize=(91,), meta=np.ndarray>\n",
       "    Zu       (k_u) float32 dask.array<chunksize=(90,), meta=np.ndarray>\n",
       "    drC      (k_p1) float32 dask.array<chunksize=(91,), meta=np.ndarray>\n",
       "    drF      (k) float32 dask.array<chunksize=(90,), meta=np.ndarray>\n",
       "    dxC      (face, j, i_g) float32 dask.array<chunksize=(1, 4320, 4320), meta=np.ndarray>\n",
       "    dxG      (face, j_g, i) float32 dask.array<chunksize=(1, 4320, 4320), meta=np.ndarray>\n",
       "    dyC      (face, j_g, i) float32 dask.array<chunksize=(1, 4320, 4320), meta=np.ndarray>\n",
       "    dyG      (face, j, i_g) float32 dask.array<chunksize=(1, 4320, 4320), meta=np.ndarray>\n",
       "  * k        (k) int64 0 1 2 3 4 5 6 7 8 9 10 ... 80 81 82 83 84 85 86 87 88 89\n",
       "  * k_l      (k_l) int64 0 1 2 3 4 5 6 7 8 9 ... 80 81 82 83 84 85 86 87 88 89\n",
       "  * k_p1     (k_p1) int64 0 1 2 3 4 5 6 7 8 9 ... 81 82 83 84 85 86 87 88 89 90\n",
       "  * k_u      (k_u) int64 0 1 2 3 4 5 6 7 8 9 ... 80 81 82 83 84 85 86 87 88 89\n",
       "    rAz      (face, j_g, i_g) float32 dask.array<chunksize=(2, 540, 540), meta=np.ndarray>\n",
       "Data variables:\n",
       "    Eta      (time, face, j, i) float32 dask.array<chunksize=(1, 1, 4320, 4320), meta=np.ndarray>\n",
       "    SSU      (time, face, j, i_g) float32 dask.array<chunksize=(1, 1, 4320, 4320), meta=np.ndarray>\n",
       "    SSV      (time, face, j_g, i) float32 dask.array<chunksize=(1, 1, 4320, 4320), meta=np.ndarray>"
      ]
     },
     "execution_count": 17,
     "metadata": {},
     "output_type": "execute_result"
    }
   ],
   "source": [
    "E_dir = '/work/ALT/swot/aval/syn/xy/momentum_balance/daily/'\n",
    "\n",
    "grd = load_grd().drop(['hFacC','hFacW','hFacS','rA','rAw','rAs'])\n",
    "dsE = xr.open_zarr(root_data_dir+'zarr/%s.zarr'%('Eta')).isel(time=slice(1512+200,1512+230))\n",
    "dsU = xr.open_zarr(root_data_dir+'zarr/%s.zarr'%('SSU')).isel(time=slice(200,230))\n",
    "dsV = xr.open_zarr(root_data_dir+'zarr/%s.zarr'%('SSV')).isel(time=slice(200,230))\n",
    "\n",
    "# define (real) time\n",
    "def iters_to_date(iters, delta_t=3600.):\n",
    "    t0 = datetime.datetime(2011,11,23,8)    \n",
    "    ltime = delta_t * (np.array(iters))\n",
    "    dtime = [t0+dateutil.relativedelta.relativedelta(seconds=t) for t in ltime]    \n",
    "    return dtime\n",
    "\n",
    "time_day = iters_to_date(np.arange(30))\n",
    "\n",
    "ds = xr.merge([dsE,dsU,dsV,grd])\n",
    "ds = ds.assign_coords(time=time_day) \n",
    "ds\n",
    "Efile = work_data_dir+'xy/comparison/snapshot/uveta_snapshot.zarr'\n",
    "%time ds.to_zarr(Efile, mode='w')"
   ]
  },
  {
   "cell_type": "markdown",
   "metadata": {},
   "source": [
    "# Read short-period data"
   ]
  },
  {
   "cell_type": "code",
   "execution_count": 5,
   "metadata": {},
   "outputs": [
    {
     "data": {
      "text/plain": [
       "<xarray.Dataset>\n",
       "Dimensions:  (face: 13, i: 4320, i_g: 4320, j: 4320, j_g: 4320, k: 90, k_l: 90, k_p1: 91, k_u: 90, time: 30)\n",
       "Coordinates:\n",
       "    CS       (face, j, i) float32 dask.array<chunksize=(1, 4320, 4320), meta=np.ndarray>\n",
       "    Depth    (face, j, i) float32 dask.array<chunksize=(1, 4320, 4320), meta=np.ndarray>\n",
       "    PHrefC   (k) float32 dask.array<chunksize=(90,), meta=np.ndarray>\n",
       "    PHrefF   (k_p1) float32 dask.array<chunksize=(91,), meta=np.ndarray>\n",
       "    SN       (face, j, i) float32 dask.array<chunksize=(1, 4320, 4320), meta=np.ndarray>\n",
       "    XC       (face, j, i) float32 dask.array<chunksize=(1, 4320, 4320), meta=np.ndarray>\n",
       "    XG       (face, j_g, i_g) float32 dask.array<chunksize=(1, 4320, 4320), meta=np.ndarray>\n",
       "    YC       (face, j, i) float32 dask.array<chunksize=(1, 4320, 4320), meta=np.ndarray>\n",
       "    YG       (face, j_g, i_g) float32 dask.array<chunksize=(1, 4320, 4320), meta=np.ndarray>\n",
       "    Z        (k) float32 dask.array<chunksize=(90,), meta=np.ndarray>\n",
       "    Zl       (k_l) float32 dask.array<chunksize=(90,), meta=np.ndarray>\n",
       "    Zp1      (k_p1) float32 dask.array<chunksize=(91,), meta=np.ndarray>\n",
       "    Zu       (k_u) float32 dask.array<chunksize=(90,), meta=np.ndarray>\n",
       "    drC      (k_p1) float32 dask.array<chunksize=(91,), meta=np.ndarray>\n",
       "    drF      (k) float32 dask.array<chunksize=(90,), meta=np.ndarray>\n",
       "    dtime    (time) datetime64[ns] dask.array<chunksize=(30,), meta=np.ndarray>\n",
       "    dxC      (face, j, i_g) float32 dask.array<chunksize=(1, 4320, 4320), meta=np.ndarray>\n",
       "    dxG      (face, j_g, i) float32 dask.array<chunksize=(1, 4320, 4320), meta=np.ndarray>\n",
       "    dyC      (face, j_g, i) float32 dask.array<chunksize=(1, 4320, 4320), meta=np.ndarray>\n",
       "    dyG      (face, j, i_g) float32 dask.array<chunksize=(1, 4320, 4320), meta=np.ndarray>\n",
       "  * face     (face) int64 0 1 2 3 4 5 6 7 8 9 10 11 12\n",
       "  * i        (i) int64 0 1 2 3 4 5 6 7 ... 4313 4314 4315 4316 4317 4318 4319\n",
       "  * i_g      (i_g) int64 0 1 2 3 4 5 6 7 ... 4313 4314 4315 4316 4317 4318 4319\n",
       "    iters    (time) int64 dask.array<chunksize=(1,), meta=np.ndarray>\n",
       "  * j        (j) int64 0 1 2 3 4 5 6 7 ... 4313 4314 4315 4316 4317 4318 4319\n",
       "  * j_g      (j_g) int64 0 1 2 3 4 5 6 7 ... 4313 4314 4315 4316 4317 4318 4319\n",
       "  * k        (k) int64 0 1 2 3 4 5 6 7 8 9 10 ... 80 81 82 83 84 85 86 87 88 89\n",
       "  * k_l      (k_l) int64 0 1 2 3 4 5 6 7 8 9 ... 80 81 82 83 84 85 86 87 88 89\n",
       "  * k_p1     (k_p1) int64 0 1 2 3 4 5 6 7 8 9 ... 81 82 83 84 85 86 87 88 89 90\n",
       "  * k_u      (k_u) int64 0 1 2 3 4 5 6 7 8 9 ... 80 81 82 83 84 85 86 87 88 89\n",
       "    rAz      (face, j_g, i_g) float32 dask.array<chunksize=(2, 540, 540), meta=np.ndarray>\n",
       "  * time     (time) datetime64[ns] 2011-11-23T08:00:00 ... 2011-11-24T13:00:00\n",
       "Data variables:\n",
       "    Eta      (time, face, j, i) float32 dask.array<chunksize=(1, 1, 4320, 4320), meta=np.ndarray>\n",
       "    SSU      (time, face, j, i_g) float32 dask.array<chunksize=(1, 1, 4320, 4320), meta=np.ndarray>\n",
       "    SSV      (time, face, j_g, i) float32 dask.array<chunksize=(1, 1, 4320, 4320), meta=np.ndarray>"
      ]
     },
     "execution_count": 5,
     "metadata": {},
     "output_type": "execute_result"
    }
   ],
   "source": [
    "ds = xr.open_zarr(work_data_dir+'xy/comparison/snapshot/uveta_snapshot.zarr')\n",
    "ds"
   ]
  },
  {
   "cell_type": "code",
   "execution_count": 6,
   "metadata": {},
   "outputs": [],
   "source": [
    "#grd = load_grd(ftype='nc').reset_coords()\n",
    "grd = load_grd().reset_coords()\n",
    "mask = ((grd.hFacW.rename({'i_g': 'i'}) == 1) &\n",
    "        (grd.hFacS.rename({'j_g': 'j'}) == 1) \n",
    "       ).rename('mask').reset_coords(drop=True)\n",
    "grd_rspec = xr.merge([mask, grd.XC, grd.YC, grd.Depth])\n",
    "\n",
    "# coriolis term\n",
    "lat = grd_rspec['YC']\n",
    "omega = 7.3/100000\n",
    "f_ij = 2*omega*np.sin(np.deg2rad(lat))\n",
    "\n",
    "ds_ice = xr.open_zarr(work_data_dir+'xy/sea_ice_mask.zarr')\n",
    "ice = ds_ice.AREA"
   ]
  },
  {
   "cell_type": "code",
   "execution_count": 7,
   "metadata": {},
   "outputs": [
    {
     "data": {
      "text/plain": [
       "<xgcm.Grid>\n",
       "X Axis (not periodic):\n",
       "  * center   i --> left\n",
       "  * left     i_g --> center\n",
       "Y Axis (not periodic):\n",
       "  * center   j --> left\n",
       "  * left     j_g --> center\n",
       "Z Axis (not periodic):\n",
       "  * center   k --> left\n",
       "  * left     k_l --> center\n",
       "  * outer    k_p1 --> center\n",
       "  * right    k_u --> center"
      ]
     },
     "execution_count": 7,
     "metadata": {},
     "output_type": "execute_result"
    }
   ],
   "source": [
    "# define the connectivity between faces\n",
    "face_connections = {'face':\n",
    "                    {0: {'X':  ((12, 'Y', False), (3, 'X', False)),\n",
    "                         'Y':  (None,             (1, 'Y', False))},\n",
    "                     1: {'X':  ((11, 'Y', False), (4, 'X', False)),\n",
    "                         'Y':  ((0, 'Y', False),  (2, 'Y', False))},\n",
    "                     2: {'X':  ((10, 'Y', False), (5, 'X', False)),\n",
    "                         'Y':  ((1, 'Y', False),  (6, 'X', False))},\n",
    "                     3: {'X':  ((0, 'X', False),  (9, 'Y', False)),\n",
    "                         'Y':  (None,             (4, 'Y', False))},\n",
    "                     4: {'X':  ((1, 'X', False),  (8, 'Y', False)),\n",
    "                         'Y':  ((3, 'Y', False),  (5, 'Y', False))},\n",
    "                     5: {'X':  ((2, 'X', False),  (7, 'Y', False)),\n",
    "                         'Y':  ((4, 'Y', False),  (6, 'Y', False))},\n",
    "                     6: {'X':  ((2, 'Y', False),  (7, 'X', False)),\n",
    "                         'Y':  ((5, 'Y', False),  (10, 'X', False))},\n",
    "                     7: {'X':  ((6, 'X', False),  (8, 'X', False)),\n",
    "                         'Y':  ((5, 'X', False),  (10, 'Y', False))},\n",
    "                     8: {'X':  ((7, 'X', False),  (9, 'X', False)),\n",
    "                         'Y':  ((4, 'X', False),  (11, 'Y', False))},\n",
    "                     9: {'X':  ((8, 'X', False),  None),\n",
    "                         'Y':  ((3, 'X', False),  (12, 'Y', False))},\n",
    "                     10: {'X': ((6, 'Y', False),  (11, 'X', False)),\n",
    "                          'Y': ((7, 'Y', False),  (2, 'X', False))},\n",
    "                     11: {'X': ((10, 'X', False), (12, 'X', False)),\n",
    "                          'Y': ((8, 'Y', False),  (1, 'X', False))},\n",
    "                     12: {'X': ((11, 'X', False), None),\n",
    "                          'Y': ((9, 'Y', False),  (0, 'X', False))}}}\n",
    "\n",
    "# create the grid object\n",
    "gridx = xgcm.Grid(ds, periodic=False, face_connections=face_connections)\n",
    "gridx"
   ]
  },
  {
   "cell_type": "code",
   "execution_count": 8,
   "metadata": {},
   "outputs": [
    {
     "data": {
      "text/plain": [
       "<xarray.DataArray 'Eta' (face: 13, j: 4320, i: 4320)>\n",
       "dask.array<getitem, shape=(13, 4320, 4320), dtype=float32, chunksize=(1, 4320, 4320), chunktype=numpy.ndarray>\n",
       "Coordinates:\n",
       "    CS       (face, j, i) float32 dask.array<chunksize=(1, 4320, 4320), meta=np.ndarray>\n",
       "    Depth    (face, j, i) float32 dask.array<chunksize=(1, 4320, 4320), meta=np.ndarray>\n",
       "    SN       (face, j, i) float32 dask.array<chunksize=(1, 4320, 4320), meta=np.ndarray>\n",
       "    XC       (face, j, i) float32 dask.array<chunksize=(1, 4320, 4320), meta=np.ndarray>\n",
       "    YC       (face, j, i) float32 dask.array<chunksize=(1, 4320, 4320), meta=np.ndarray>\n",
       "    dtime    datetime64[ns] dask.array<chunksize=(), meta=np.ndarray>\n",
       "  * face     (face) int64 0 1 2 3 4 5 6 7 8 9 10 11 12\n",
       "  * i        (i) int64 0 1 2 3 4 5 6 7 ... 4313 4314 4315 4316 4317 4318 4319\n",
       "    iters    int64 dask.array<chunksize=(), meta=np.ndarray>\n",
       "  * j        (j) int64 0 1 2 3 4 5 6 7 ... 4313 4314 4315 4316 4317 4318 4319\n",
       "    time     datetime64[ns] 2011-11-24T08:00:00"
      ]
     },
     "execution_count": 8,
     "metadata": {},
     "output_type": "execute_result"
    }
   ],
   "source": [
    "eta_snapshot = ds.Eta.sel(time='2011-11-24T08:00:00')\n",
    "eta_snapshot"
   ]
  },
  {
   "cell_type": "code",
   "execution_count": 9,
   "metadata": {},
   "outputs": [
    {
     "data": {
      "text/plain": [
       "<xarray.DataArray (face: 13, j: 4320, i: 4320)>\n",
       "dask.array<sub, shape=(13, 4320, 4320), dtype=float32, chunksize=(1, 4320, 4320), chunktype=numpy.ndarray>\n",
       "Coordinates:\n",
       "    dxC      (face, j, i) float32 dask.array<chunksize=(1, 4320, 4320), meta=np.ndarray>\n",
       "    dyG      (face, j, i) float32 dask.array<chunksize=(1, 4320, 4320), meta=np.ndarray>\n",
       "  * face     (face) int64 0 1 2 3 4 5 6 7 8 9 10 11 12\n",
       "  * i        (i) int64 0 1 2 3 4 5 6 7 ... 4313 4314 4315 4316 4317 4318 4319\n",
       "    iters    int64 260352\n",
       "  * j        (j) int64 0 1 2 3 4 5 6 7 ... 4313 4314 4315 4316 4317 4318 4319\n",
       "    time     datetime64[ns] 2011-11-24T08:00:00\n",
       "    dxG      (face, j, i) float32 dask.array<chunksize=(1, 4320, 4320), meta=np.ndarray>\n",
       "    dyC      (face, j, i) float32 dask.array<chunksize=(1, 4320, 4320), meta=np.ndarray>\n",
       "    XC       (face, j, i) float32 dask.array<chunksize=(1, 4320, 4320), meta=np.ndarray>\n",
       "    YC       (face, j, i) float32 dask.array<chunksize=(1, 4320, 4320), meta=np.ndarray>"
      ]
     },
     "execution_count": 9,
     "metadata": {},
     "output_type": "execute_result"
    }
   ],
   "source": [
    "# u\n",
    "u = ds.SSU.sel(time='2011-11-24T08:00:00').rename({'i_g': 'i'})\n",
    "v = ds.SSV.sel(time='2011-11-24T08:00:00').rename({'j_g': 'j'})\n",
    "\n",
    "u_snapshot = u*grd.CS - v*grd.SN\n",
    "u_snapshot = u_snapshot.assign_coords(XC=grd.XC) \n",
    "u_snapshot = u_snapshot.assign_coords(YC=grd.YC) \n",
    "u_snapshot"
   ]
  },
  {
   "cell_type": "code",
   "execution_count": 10,
   "metadata": {},
   "outputs": [
    {
     "data": {
      "text/plain": [
       "<xarray.DataArray (face: 13, j: 4320, i: 4320)>\n",
       "dask.array<sub, shape=(13, 4320, 4320), dtype=float32, chunksize=(1, 4320, 4320), chunktype=numpy.ndarray>\n",
       "Coordinates:\n",
       "  * face     (face) int64 0 1 2 3 4 5 6 7 8 9 10 11 12\n",
       "  * j        (j) int64 0 1 2 3 4 5 6 7 ... 4313 4314 4315 4316 4317 4318 4319\n",
       "  * i        (i) int64 0 1 2 3 4 5 6 7 ... 4313 4314 4315 4316 4317 4318 4319\n",
       "    dxG      (face, j, i) float32 dask.array<chunksize=(1, 4320, 4320), meta=np.ndarray>\n",
       "    dyC      (face, j, i) float32 dask.array<chunksize=(1, 4320, 4320), meta=np.ndarray>\n",
       "    dxC      (face, j, i) float32 dask.array<chunksize=(1, 4320, 4320), meta=np.ndarray>\n",
       "    dyG      (face, j, i) float32 dask.array<chunksize=(1, 4320, 4320), meta=np.ndarray>\n",
       "    XC       (face, j, i) float32 dask.array<chunksize=(1, 4320, 4320), meta=np.ndarray>\n",
       "    YC       (face, j, i) float32 dask.array<chunksize=(1, 4320, 4320), meta=np.ndarray>"
      ]
     },
     "execution_count": 10,
     "metadata": {},
     "output_type": "execute_result"
    }
   ],
   "source": [
    "# u_g\n",
    "ug = -9.8*(gridx.diff( ds.Eta.sel(time='2011-11-24T08:00:00'),'Y', boundary='fill')/ds.dyC).rename({'j_g': 'j'})/f_ij\n",
    "ug = ug.chunk({'face': 1,'i':4320,'j':4320})\n",
    "\n",
    "vg = 9.8*(gridx.diff( ds.Eta.sel(time='2011-11-24T08:00:00'),'X', boundary='fill')/ds.dxC).rename({'i_g': 'i'})/f_ij\n",
    "vg = vg.chunk({'face': 1,'i':4320,'j':4320})\n",
    "\n",
    "ug_snapshot = ug*grd.CS - vg*grd.SN\n",
    "ug_snapshot = ug_snapshot.assign_coords(XC=grd.XC) \n",
    "ug_snapshot = ug_snapshot.assign_coords(YC=grd.YC) \n",
    "ug_snapshot"
   ]
  },
  {
   "cell_type": "code",
   "execution_count": 11,
   "metadata": {},
   "outputs": [
    {
     "data": {
      "text/plain": [
       "<xarray.DataArray (face: 13, j: 4320, i: 4320)>\n",
       "dask.array<sub, shape=(13, 4320, 4320), dtype=float32, chunksize=(1, 4320, 4320), chunktype=numpy.ndarray>\n",
       "Coordinates:\n",
       "    dxC      (face, j, i) float32 324.6357 324.63788 ... 479.13873 478.97546\n",
       "    dyG      (face, j, i) float32 478.96072 478.9889 ... 324.63477 324.63464\n",
       "  * face     (face) int64 0 1 2 3 4 5 6 7 8 9 10 11 12\n",
       "  * i        (i) int64 0 1 2 3 4 5 6 7 ... 4313 4314 4315 4316 4317 4318 4319\n",
       "    iters    int64 260352\n",
       "  * j        (j) int64 0 1 2 3 4 5 6 7 ... 4313 4314 4315 4316 4317 4318 4319\n",
       "    time     datetime64[ns] 2011-11-24T08:00:00\n",
       "    dxG      (face, j, i) float32 324.63684 324.639 ... 479.03122 478.93253\n",
       "    dyC      (face, j, i) float32 239.48717 239.50125 ... 324.6336 324.63354\n",
       "    XC       (face, j, i) float32 -114.93228 -114.93217 ... -114.932396\n",
       "    YC       (face, j, i) float32 -88.17715 -88.18007 ... -88.17422 -88.174225"
      ]
     },
     "execution_count": 11,
     "metadata": {},
     "output_type": "execute_result"
    }
   ],
   "source": [
    "# u_a\n",
    "ua_snapshot = u_snapshot - ug_snapshot\n",
    "ua_snapshot"
   ]
  },
  {
   "cell_type": "markdown",
   "metadata": {},
   "source": [
    "____________\n",
    "# Figure"
   ]
  },
  {
   "cell_type": "markdown",
   "metadata": {},
   "source": [
    "## plot 4320"
   ]
  },
  {
   "cell_type": "code",
   "execution_count": 12,
   "metadata": {},
   "outputs": [],
   "source": [
    "font_size = 32\n",
    "\n",
    "def plot_pretty(v, colorbar=False, title=None, label=None, vmin=None, vmax=None, savefig=None, \n",
    "                offline=False, figsize=(20,12), cmmap='thermal',\n",
    "                ignore_face=[]):\n",
    "    \n",
    "    if vmin is None:\n",
    "        vmin = v.min()\n",
    "    if vmax is None:\n",
    "        vmax = v.max()\n",
    "    #\n",
    "    MPL_LOCK = threading.Lock()\n",
    "    with MPL_LOCK:\n",
    "        if offline:\n",
    "            plt.switch_backend('agg')\n",
    "        #\n",
    "        fig = plt.figure(figsize=figsize)\n",
    "        ax = fig.add_subplot(111, projection=ccrs.PlateCarree(central_longitude=180))\n",
    "        cmap = getattr(cm, cmmap)\n",
    "        gen = (face for face in v.face.values if face not in ignore_face)\n",
    "        for face in gen:\n",
    "            vplt = v.sel(face=face)\n",
    "            if face in [6,7,8,9]:\n",
    "                # this deals with dateline crossing areas\n",
    "                im = vplt.where( (vplt.XC>=0) & (vplt.XC<=180.)).plot.pcolormesh(ax=ax,                   \n",
    "                                transform=ccrs.PlateCarree(), vmin=vmin, vmax=vmax,\n",
    "                                x='XC', y='YC', add_colorbar=colorbar, cmap=cmap)\n",
    "                im = vplt.where(vplt.XC<=0).plot.pcolormesh(ax=ax,                   \n",
    "                                transform=ccrs.PlateCarree(), vmin=vmin, vmax=vmax,\n",
    "                                x='XC', y='YC', add_colorbar=colorbar, cmap=cmap)\n",
    "            else:\n",
    "                im = vplt.plot.pcolormesh(ax=ax,                   \n",
    "                                transform=ccrs.PlateCarree(), vmin=vmin, vmax=vmax,\n",
    "                                x='XC', y='YC', add_colorbar=colorbar, cmap=cmap)\n",
    "                \n",
    "        cax = plt.axes([0.925, 0.25, 0.025, 0.5])\n",
    "        cb = plt.colorbar(im, cax=cax, ticks=[-4, -3, -2, -1, 0, 1, 2, 3, 4])\n",
    "        #cb.ax.set_yticklabels(['10$^{-2}$','10$^{-1}$','10$^0$'])\n",
    "        cb.ax.tick_params(labelsize=font_size)\n",
    "        ax.set_title('',fontsize=font_size)\n",
    "        ax.set_xticks([-180, -135, -90, -45, 0, 45,  90, 135, 180])\n",
    "        ax.set_xticklabels(['$180\\degree$W','$135\\degree$W','$90\\degree$W','$45\\degree$W','$0\\degree$','$45\\degree$E','$90\\degree$E','$135\\degree$E','$180\\degree$E'])\n",
    "        ax.set_ylim(-70., 70.)\n",
    "        ax.set_yticks([-60, -50, -40, -30, -20, -10, 0, 10, 20, 30, 40, 50, 60])\n",
    "        ax.set_yticklabels(['$60\\degree$S','','$40\\degree$S','','$20\\degree$S','','$0\\degree$','','$20\\degree$N','','$40\\degree$N','','$60\\degree$N'])\n",
    "        ax.tick_params(direction='out', length=6, width=2)\n",
    "        ax.set_ylabel('',fontsize=font_size)\n",
    "        ax.set_xlabel('',fontsize=font_size)\n",
    "        ax.tick_params(labelsize=font_size)\n",
    "        if title is not None:\n",
    "            ax.set_title(title)\n",
    "        if label is not None:\n",
    "            cb.set_label(label=label, size=font_size)     #\n",
    "        if savefig is not None:\n",
    "            fig.savefig(savefig, dpi=300)\n",
    "            plt.close(fig)\n",
    "        #\n",
    "        if not offline:\n",
    "            plt.show()"
   ]
  },
  {
   "cell_type": "code",
   "execution_count": 14,
   "metadata": {},
   "outputs": [],
   "source": [
    "plot_pretty(eta_snapshot.where(ice>0), label='', vmin = -4, vmax=4, cmmap='balance', ignore_face=[6], savefig='/home/uz/yux/mit_equinox/hal/Geostrophy_assessment/Figures/ssh.png')"
   ]
  },
  {
   "cell_type": "code",
   "execution_count": null,
   "metadata": {},
   "outputs": [],
   "source": [
    "plot_pretty(u_snapshot.where(ice>0), label='', vmin = -2, vmax=2, cmmap='balance', ignore_face=[6], savefig='/home/uz/yux/mit_equinox/hal/Geostrophy_assessment/Figures/u.png')"
   ]
  },
  {
   "cell_type": "code",
   "execution_count": null,
   "metadata": {},
   "outputs": [],
   "source": [
    "plot_pretty(ug_snapshot.where(ice>0), label='', vmin= -2, vmax = 2, cmmap='balance', ignore_face=[6], savefig='/home/uz/yux/mit_equinox/hal/Geostrophy_assessment/Figures/ug.png')"
   ]
  },
  {
   "cell_type": "code",
   "execution_count": null,
   "metadata": {},
   "outputs": [],
   "source": [
    "plot_pretty( ua_snapshot.where(ice>0), label='', vmin= -2, vmax = 2, cmmap='balance', ignore_face=[6], savefig='/home/uz/yux/mit_equinox/hal/Geostrophy_assessment/Figures/ua.png')"
   ]
  },
  {
   "cell_type": "code",
   "execution_count": null,
   "metadata": {},
   "outputs": [],
   "source": []
  },
  {
   "cell_type": "markdown",
   "metadata": {},
   "source": [
    "# plot 1080"
   ]
  },
  {
   "cell_type": "code",
   "execution_count": 19,
   "metadata": {},
   "outputs": [],
   "source": [
    "import matplotlib as mpl\n",
    "mpl.rcParams['figure.dpi'] = 300\n",
    "\n",
    "dij = 4"
   ]
  },
  {
   "cell_type": "code",
   "execution_count": 29,
   "metadata": {},
   "outputs": [],
   "source": [
    "font_size = 32\n",
    "\n",
    "def plot_pretty(v, colorbar=False, title=None, label=None, vmin=None, vmax=None, savefig=None, \n",
    "                offline=False, figsize=(20,12), cmmap='thermal',\n",
    "                ignore_face=[]):\n",
    "    \n",
    "    if vmin is None:\n",
    "        vmin = v.min()\n",
    "    if vmax is None:\n",
    "        vmax = v.max()\n",
    "    #\n",
    "    MPL_LOCK = threading.Lock()\n",
    "    with MPL_LOCK:\n",
    "        if offline:\n",
    "            plt.switch_backend('agg')\n",
    "        #\n",
    "        fig = plt.figure(figsize=figsize)\n",
    "        ax = fig.add_subplot(111, projection=ccrs.PlateCarree(central_longitude=180))\n",
    "        cmap = getattr(cm, cmmap)\n",
    "        gen = (face for face in v.face.values if face not in ignore_face)\n",
    "        for face in gen:\n",
    "            vplt = v.sel(face=face)\n",
    "            if face in [6,7,8,9]:\n",
    "                # this deals with dateline crossing areas\n",
    "                im = vplt.where( (vplt.XC>=0) & (vplt.XC<=180.)).plot.pcolormesh(ax=ax,                   \n",
    "                                transform=ccrs.PlateCarree(), vmin=vmin, vmax=vmax,\n",
    "                                x='XC', y='YC', add_colorbar=colorbar, cmap=cmap)\n",
    "                im = vplt.where(vplt.XC<=0).plot.pcolormesh(ax=ax,                   \n",
    "                                transform=ccrs.PlateCarree(), vmin=vmin, vmax=vmax,\n",
    "                                x='XC', y='YC', add_colorbar=colorbar, cmap=cmap)\n",
    "            else:\n",
    "                im = vplt.plot.pcolormesh(ax=ax,                   \n",
    "                                transform=ccrs.PlateCarree(), vmin=vmin, vmax=vmax,\n",
    "                                x='XC', y='YC', add_colorbar=colorbar, cmap=cmap)\n",
    "                \n",
    "        cax = plt.axes([0.925, 0.25, 0.025, 0.5])\n",
    "        cb = plt.colorbar(im, cax=cax, ticks=[-4, -3, -2, -1, 0, 1, 2, 3, 4])\n",
    "        #cb.ax.set_yticklabels(['10$^{-2}$','10$^{-1}$','10$^0$'])\n",
    "        cb.ax.tick_params(labelsize=font_size)\n",
    "        ax.set_title('',fontsize=font_size)\n",
    "        ax.set_xticks([-180, -135, -90, -45, 0, 45,  90, 135, 180])\n",
    "        ax.set_xticklabels(['$180\\degree$W','$135\\degree$W','$90\\degree$W','$45\\degree$W','$0\\degree$','$45\\degree$E','$90\\degree$E','$135\\degree$E','$180\\degree$E'])\n",
    "        ax.set_ylim(-70., 70.)\n",
    "        ax.set_yticks([-60, -50, -40, -30, -20, -10, 0, 10, 20, 30, 40, 50, 60])\n",
    "        ax.set_yticklabels(['$60\\degree$S','','$40\\degree$S','','$20\\degree$S','','$0\\degree$','','$20\\degree$N','','$40\\degree$N','','$60\\degree$N'])\n",
    "        ax.tick_params(direction='out', length=6, width=2)\n",
    "        ax.set_ylabel('',fontsize=font_size)\n",
    "        ax.set_xlabel('',fontsize=font_size)\n",
    "        ax.tick_params(labelsize=font_size)\n",
    "        if title is not None:\n",
    "            ax.set_title(title)\n",
    "        if label is not None:\n",
    "            cb.set_label(label=label, size=font_size)     #\n",
    "        if savefig is not None:\n",
    "            fig.savefig(savefig, dpi=300)\n",
    "            plt.close(fig)\n",
    "        #\n",
    "        if not offline:\n",
    "            plt.show()\n",
    "            "
   ]
  },
  {
   "cell_type": "code",
   "execution_count": 31,
   "metadata": {},
   "outputs": [],
   "source": [
    "plot_pretty(eta_snapshot.isel(i=slice(0,None,dij), j=slice(0,None,dij)).where(ice>0), label='', vmin = -4, vmax=4, cmmap='balance', ignore_face=[6],savefig='Figure_1a_ssh.png')"
   ]
  },
  {
   "cell_type": "code",
   "execution_count": 32,
   "metadata": {},
   "outputs": [],
   "source": [
    "plot_pretty(u_snapshot.isel(i=slice(0,None,dij), j=slice(0,None,dij)).where(ice>0), label='', vmin = -2, vmax=2, cmmap='balance', ignore_face=[6],savefig='Figure_1b_u.png')"
   ]
  },
  {
   "cell_type": "code",
   "execution_count": 30,
   "metadata": {},
   "outputs": [],
   "source": [
    "plot_pretty(ug_snapshot.isel(i=slice(0,None,dij), j=slice(0,None,dij)).where(ice>0), label='', vmin= -2, vmax = 2, cmmap='balance', ignore_face=[6],savefig='Figure_1c_ug.png')"
   ]
  },
  {
   "cell_type": "code",
   "execution_count": 33,
   "metadata": {},
   "outputs": [],
   "source": [
    "plot_pretty( ua_snapshot.isel(i=slice(0,None,dij), j=slice(0,None,dij)).where(ice>0), label='', vmin= -2, vmax = 2, cmmap='balance', ignore_face=[6],savefig='Figure_1d_ua.png')"
   ]
  },
  {
   "cell_type": "code",
   "execution_count": null,
   "metadata": {},
   "outputs": [],
   "source": []
  },
  {
   "cell_type": "code",
   "execution_count": null,
   "metadata": {},
   "outputs": [],
   "source": []
  },
  {
   "cell_type": "code",
   "execution_count": null,
   "metadata": {},
   "outputs": [],
   "source": []
  },
  {
   "cell_type": "code",
   "execution_count": null,
   "metadata": {},
   "outputs": [],
   "source": []
  },
  {
   "cell_type": "code",
   "execution_count": null,
   "metadata": {},
   "outputs": [],
   "source": []
  },
  {
   "cell_type": "code",
   "execution_count": 15,
   "metadata": {
    "scrolled": true
   },
   "outputs": [
    {
     "name": "stderr",
     "output_type": "stream",
     "text": [
      "distributed.client - ERROR - Failed to reconnect to scheduler after 10.00 seconds, closing client\n",
      "distributed.utils - ERROR - \n",
      "Traceback (most recent call last):\n",
      "  File \"/home/uz/yux/.conda/envs/equinox/lib/python3.7/site-packages/distributed/utils.py\", line 666, in log_errors\n",
      "    yield\n",
      "  File \"/home/uz/yux/.conda/envs/equinox/lib/python3.7/site-packages/distributed/client.py\", line 1276, in _close\n",
      "    await gen.with_timeout(timedelta(seconds=2), list(coroutines))\n",
      "concurrent.futures._base.CancelledError\n",
      "distributed.utils - ERROR - \n",
      "Traceback (most recent call last):\n",
      "  File \"/home/uz/yux/.conda/envs/equinox/lib/python3.7/site-packages/distributed/utils.py\", line 666, in log_errors\n",
      "    yield\n",
      "  File \"/home/uz/yux/.conda/envs/equinox/lib/python3.7/site-packages/distributed/client.py\", line 1005, in _reconnect\n",
      "    await self._close()\n",
      "  File \"/home/uz/yux/.conda/envs/equinox/lib/python3.7/site-packages/distributed/client.py\", line 1276, in _close\n",
      "    await gen.with_timeout(timedelta(seconds=2), list(coroutines))\n",
      "concurrent.futures._base.CancelledError\n"
     ]
    }
   ],
   "source": [
    "cluster.close()"
   ]
  },
  {
   "cell_type": "code",
   "execution_count": null,
   "metadata": {},
   "outputs": [],
   "source": []
  }
 ],
 "metadata": {
  "kernelspec": {
   "display_name": "equinox",
   "language": "python",
   "name": "equinox"
  },
  "language_info": {
   "codemirror_mode": {
    "name": "ipython",
    "version": 3
   },
   "file_extension": ".py",
   "mimetype": "text/x-python",
   "name": "python",
   "nbconvert_exporter": "python",
   "pygments_lexer": "ipython3",
   "version": "3.7.3"
  }
 },
 "nbformat": 4,
 "nbformat_minor": 4
}

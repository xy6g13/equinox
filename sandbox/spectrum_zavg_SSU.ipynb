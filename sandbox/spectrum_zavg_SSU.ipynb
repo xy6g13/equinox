{
 "cells": [
  {
   "cell_type": "markdown",
   "metadata": {},
   "source": [
    "# compute spectra on mitgcm outputs\n",
    "\n",
    "https://github.com/pydata/xarray/pull/924\n",
    "\n",
    "https://github.com/pydata/xarray/issues/1603\n",
    "\n"
   ]
  },
  {
   "cell_type": "markdown",
   "metadata": {},
   "source": [
    "---"
   ]
  },
  {
   "cell_type": "code",
   "execution_count": 1,
   "metadata": {},
   "outputs": [
    {
     "name": "stderr",
     "output_type": "stream",
     "text": [
      "/home1/datahome/xyu/.miniconda3/envs/equinox/lib/python3.6/site-packages/cmocean/tools.py:76: MatplotlibDeprecationWarning: The is_string_like function was deprecated in version 2.1.\n",
      "  if not mpl.cbook.is_string_like(rgbin[0]):\n"
     ]
    }
   ],
   "source": [
    "import os\n",
    "from glob import glob\n",
    "import numpy as np\n",
    "import dask\n",
    "import xarray as xr\n",
    "from matplotlib import pyplot as plt\n",
    "%matplotlib inline\n",
    "\n",
    "import xrft\n",
    "\n",
    "from mitequinox.utils import *"
   ]
  },
  {
   "cell_type": "code",
   "execution_count": 2,
   "metadata": {},
   "outputs": [
    {
     "name": "stderr",
     "output_type": "stream",
     "text": [
      "/home1/datahome/xyu/.miniconda3/envs/equinox/lib/python3.6/site-packages/distributed/utils.py:128: RuntimeWarning: Couldn't detect a suitable IP address for reaching '8.8.8.8', defaulting to '127.0.0.1': [Errno 101] Network is unreachable\n",
      "  % (host, default, e), RuntimeWarning)\n"
     ]
    }
   ],
   "source": [
    "dmethod = 1\n",
    "#\n",
    "if dmethod == 1:\n",
    "    from dask.distributed import Client\n",
    "    scheduler = os.getenv('DATAWORK')+'/dask/scheduler.json'\n",
    "    client = Client(scheduler_file=scheduler)\n",
    "elif dmethod == 2:\n",
    "    from dask_jobqueue import PBSCluster\n",
    "    # folder where data is spilled when RAM is filled up\n",
    "    local_dir = os.getenv('TMPDIR')\n",
    "    #\n",
    "    cluster = PBSCluster(queue='mpi_1', local_directory=local_dir, interface='ib0', walltime='24:00:00',\n",
    "                         threads=14, processes=2, memory='50GB', resource_spec='select=1:ncpus=28:mem=100g', \n",
    "                         death_timeout=100)\n",
    "    w = cluster.start_workers(40)"
   ]
  },
  {
   "cell_type": "code",
   "execution_count": 3,
   "metadata": {},
   "outputs": [],
   "source": [
    "# you need to wait for workers to spin up\n",
    "if dmethod == 2:\n",
    "    cluster.scheduler"
   ]
  },
  {
   "cell_type": "code",
   "execution_count": 4,
   "metadata": {},
   "outputs": [],
   "source": [
    "# get dask handles and check dask server status\n",
    "if dmethod == 2:\n",
    "    from dask.distributed import Client\n",
    "    client = Client(cluster)"
   ]
  },
  {
   "cell_type": "code",
   "execution_count": 5,
   "metadata": {},
   "outputs": [
    {
     "data": {
      "text/html": [
       "<table style=\"border: 2px solid white;\">\n",
       "<tr>\n",
       "<td style=\"vertical-align: top; border: 0px solid white\">\n",
       "<h3>Client</h3>\n",
       "<ul>\n",
       "  <li><b>Scheduler: </b>tcp://10.148.1.36:8786\n",
       "  <li><b>Dashboard: </b><a href='http://10.148.1.36:8787/status' target='_blank'>http://10.148.1.36:8787/status</a>\n",
       "</ul>\n",
       "</td>\n",
       "<td style=\"vertical-align: top; border: 0px solid white\">\n",
       "<h3>Cluster</h3>\n",
       "<ul>\n",
       "  <li><b>Workers: </b>20</li>\n",
       "  <li><b>Cores: </b>280</li>\n",
       "  <li><b>Memory: </b>2000.00 GB</li>\n",
       "</ul>\n",
       "</td>\n",
       "</tr>\n",
       "</table>"
      ],
      "text/plain": [
       "<Client: scheduler='tcp://10.148.1.36:8786' processes=20 cores=280>"
      ]
     },
     "execution_count": 5,
     "metadata": {},
     "output_type": "execute_result"
    }
   ],
   "source": [
    "client"
   ]
  },
  {
   "cell_type": "markdown",
   "metadata": {},
   "source": [
    "---\n",
    "\n",
    "# 0: variable select and path\n"
   ]
  },
  {
   "cell_type": "code",
   "execution_count": 6,
   "metadata": {},
   "outputs": [
    {
     "name": "stdout",
     "output_type": "stream",
     "text": [
      "/home1/scratch/xyu/mit_nc/\n",
      "/home1/scratch/xyu/mit_spec/\n"
     ]
    }
   ],
   "source": [
    "v = 'SSU'\n",
    "\n",
    "## open files, nc files\n",
    "ncdata_dir = '/home1/scratch/xyu/mit_nc/'\n",
    "\n",
    "# dir where spectra are stored\n",
    "# E_dir = '/home/datawork-lops-osi/aponte/mit_spec/'\n",
    "E_dir = '/home1/scratch/xyu/mit_spec/'\n",
    "\n",
    "print(ncdata_dir)\n",
    "print(E_dir)\n"
   ]
  },
  {
   "cell_type": "markdown",
   "metadata": {},
   "source": [
    "---\n",
    "\n",
    "# 2: All faces"
   ]
  },
  {
   "cell_type": "markdown",
   "metadata": {},
   "source": [
    "## compute and store spectra for all faces"
   ]
  },
  {
   "cell_type": "code",
   "execution_count": 8,
   "metadata": {},
   "outputs": [
    {
     "data": {
      "text/plain": [
       "range(4, 14)"
      ]
     },
     "execution_count": 8,
     "metadata": {},
     "output_type": "execute_result"
    }
   ],
   "source": [
    "range(4,14)"
   ]
  },
  {
   "cell_type": "code",
   "execution_count": null,
   "metadata": {},
   "outputs": [],
   "source": []
  },
  {
   "cell_type": "code",
   "execution_count": null,
   "metadata": {},
   "outputs": [
    {
     "name": "stderr",
     "output_type": "stream",
     "text": [
      "/home1/datahome/xyu/.miniconda3/envs/equinox/lib/python3.6/site-packages/xrft/xrft.py:272: FutureWarning: xarray.DataArray.__contains__ currently checks membership in DataArray.coords, but in xarray v0.11 will change to check membership in array values.\n",
      "  elif d in da:\n",
      "/home1/datahome/xyu/.miniconda3/envs/equinox/lib/python3.6/site-packages/distributed/worker.py:742: UserWarning: Large object of size 3.29 MB detected in task graph: \n",
      "  (\"('astype-93a753ea14e3ef6d0e29d5cbd822615e', 0, 0 ... 84bf>]), False)\n",
      "Consider scattering large objects ahead of time\n",
      "with client.scatter to reduce scheduler burden and \n",
      "keep data on workers\n",
      "\n",
      "    future = client.submit(func, big_data)    # bad\n",
      "\n",
      "    big_future = client.scatter(big_data)     # good\n",
      "    future = client.submit(func, big_future)  # good\n",
      "  % (format_bytes(len(b)), s))\n"
     ]
    }
   ],
   "source": [
    "# same but loop over faces now\n",
    "E_dir = '/home1/scratch/xyu/mit_spec/'\n",
    "\n",
    "\n",
    "# number of fies to load for each face (1 file = 10 days)\n",
    "Nf = 2\n",
    "\n",
    "mgrid = xr.open_dataset('/home1/scratch/xyu/mit_grid_t.nc')\n",
    "mgrid = mgrid.drop(['XG','YG','i_g','j_g','k','k_u','k_l','k_p1'])\n",
    "\n",
    "for face in range(4,14):\n",
    "\n",
    "    # could add a test if files exists\n",
    "    \n",
    "    filenames = sorted(glob(ncdata_dir+v+'_f%02d_t*.nc' %(face)))\n",
    "    filenames = filenames[:Nf]\n",
    "\n",
    "    grid = mgrid.isel(face=face)\n",
    "    \n",
    "    ds = xr.open_mfdataset(filenames, chunks={'i':10, 'j':432}, concat_dim='time', compat='equals')\n",
    "    #ds = ds.isel(time=slice(0,3000))\n",
    "    \n",
    "    chunks={'time': len(ds['time'])}\n",
    "    ds = ds.chunk(chunks)\n",
    "\n",
    "    SSU = ds[v]\n",
    "    \n",
    "    v_fft = xrft.dft(SSU.fillna(0.), dim=['time'], shift=False, detrend='linear')\n",
    "    E = (v_fft*v_fft.conj()).where(v_fft!=0., drop=False)\n",
    "    E = E.astype('f8').rename('E')\n",
    "    E = xr.merge([E, grid])\n",
    "\n",
    "    #file_E = scratch+'/mit_spec/E_f%02d.nc'%face\n",
    "    file_E = E_dir+'E_f%02d.nc'%face    \n",
    "    E.to_netcdf(file_E, mode='w')\n",
    "    \n",
    "    print('face %d done'%face )\n"
   ]
  },
  {
   "cell_type": "markdown",
   "metadata": {},
   "source": [
    "## zonally average spectra\n",
    "\n",
    "Faces are processed independantly, this alleviate the computational burden on the scheduler (large task graph issue)\n"
   ]
  },
  {
   "cell_type": "code",
   "execution_count": null,
   "metadata": {},
   "outputs": [],
   "source": [
    "def fmap(v1, v2, b1, b2):\n",
    "        ''' This function provides the index of (v1,v2) coupled value position\n",
    "        in the 2D histogram array\n",
    "        '''\n",
    "        #\n",
    "        i1 = np.maximum(np.rint((v1-b1['min'])/b1['d'])+1,0)\n",
    "        i1 = np.minimum(i1,b1['imax'])\n",
    "        #\n",
    "        i2 = np.maximum(np.rint((v2-b2['min'])/b2['d'])+1,0)\n",
    "        i2 = np.minimum(i2,b2['imax'])\n",
    "        return i1+i2*(b1['imax']+1)\n",
    "\n",
    "idum = 0\n",
    "for face in range(13):\n",
    "\n",
    "    file_E = E_dir+'E_f%02d.nc'%face    \n",
    "    ds = xr.open_dataset(file_E, chunks={'i': 1, 'j': 2160})\n",
    "\n",
    "    #\n",
    "    if idum == 0:\n",
    "        f = ds['freq_time']\n",
    "        fv = f.values\n",
    "        # lat\n",
    "        vb1 = {'min': -60.,'max': 60., 'd': 1.}\n",
    "        # frequency\n",
    "        vb2 = {'min': fv.min(), 'max': fv.max(), 'd': fv[1]-fv[0]}\n",
    "        #\n",
    "        vb1['imax'] = np.int(np.rint((vb1['max']-vb1['min'])/vb1['d']))+1\n",
    "        vb2['imax'] = np.int(np.rint((vb2['max']-vb2['min'])/vb2['d']))+1\n",
    "        #\n",
    "        lat_edges = np.arange(vb1['min'], vb1['max']+vb1['d']*.1, vb1['d'])\n",
    "        lat_center = (lat_edges[:-1]+lat_edges[1:])*.5\n",
    "        f_edges = np.arange(vb2['min'], vb2['max']+vb2['d']*.1, vb2['d'])\n",
    "        f_center = (f_edges[:-1]+f_edges[1:])*.5\n",
    "        idum +=1 \n",
    "\n",
    "    # broadcast coordinates\n",
    "    lat = ds['YC']    \n",
    "    lat2 = (lat + 0.*ds.E).fillna(-100.)\n",
    "    f2 = lat2*0. + f\n",
    "    dA = ds.rA + 0.*f2\n",
    "    EdA = ds.E.fillna(0.)*dA\n",
    "\n",
    "    # apply get_index to v1 and v2 arrays\n",
    "    i = dask.array.map_blocks(fmap, lat2.data, f2.data, vb1, vb2,  dtype='float')\n",
    "    #print(i)\n",
    "\n",
    "    # compute histogram of linear indices\n",
    "    h, lbins = dask.array.histogram(i, bins=np.arange(-.5,(vb1['imax']+1)*(vb2['imax']+1)+0.5,1.), \\\n",
    "                                    weights=EdA.data)\n",
    "    hnorm, lbins = dask.array.histogram(i, bins=np.arange(-.5,(vb1['imax']+1)*(vb2['imax']+1)+0.5,1.), \\\n",
    "                                    weights=dA.data)\n",
    "\n",
    "    # normalize and reshape\n",
    "    H = h.compute()\n",
    "    Hnorm = hnorm.compute()\n",
    "    H = H/Hnorm\n",
    "    H = H.reshape((vb1['imax']+1,vb2['imax']+1), order='F')\n",
    "    Hnorm = Hnorm.reshape((vb1['imax']+1,vb2['imax']+1), order='F')\n",
    "\n",
    "    # put H back into an xarray\n",
    "    ds_zavg = xr.Dataset({'E': (['lat', 'freq_time'],  H[1:-1,1:-1]), \\\n",
    "                          'A': (['lat'],  Hnorm[1:-1,1])}, \\\n",
    "                         coords={'lat': lat_center, 'freq_time': f_center})\n",
    "    ds_zavg = ds_zavg.sortby('freq_time')\n",
    "    ds_zavg.to_netcdf(E_dir+'E_zavg_f%02d.nc'%face, mode='w')\n",
    "    "
   ]
  },
  {
   "cell_type": "markdown",
   "metadata": {},
   "source": [
    "## load and plot zonally averaged spectra"
   ]
  },
  {
   "cell_type": "code",
   "execution_count": 7,
   "metadata": {},
   "outputs": [
    {
     "name": "stdout",
     "output_type": "stream",
     "text": [
      "/home1/scratch/xyu/mit_spec/\n",
      "['/home1/scratch/xyu/mit_spec/E_zavg_f00.nc', '/home1/scratch/xyu/mit_spec/E_zavg_f01.nc', '/home1/scratch/xyu/mit_spec/E_zavg_f02.nc', '/home1/scratch/xyu/mit_spec/E_zavg_f03.nc', '/home1/scratch/xyu/mit_spec/E_zavg_f04.nc', '/home1/scratch/xyu/mit_spec/E_zavg_f05.nc', '/home1/scratch/xyu/mit_spec/E_zavg_f06.nc', '/home1/scratch/xyu/mit_spec/E_zavg_f07.nc', '/home1/scratch/xyu/mit_spec/E_zavg_f08.nc', '/home1/scratch/xyu/mit_spec/E_zavg_f09.nc', '/home1/scratch/xyu/mit_spec/E_zavg_f10.nc', '/home1/scratch/xyu/mit_spec/E_zavg_f11.nc', '/home1/scratch/xyu/mit_spec/E_zavg_f12.nc']\n",
      "CPU times: user 80 ms, sys: 16 ms, total: 96 ms\n",
      "Wall time: 1.49 s\n"
     ]
    }
   ],
   "source": [
    "filenames = sorted(glob(E_dir+'E_zavg_f*.nc'))\n",
    "%time ds = xr.open_mfdataset(filenames, concat_dim='face', compat='equals')\n"
   ]
  },
  {
   "cell_type": "code",
   "execution_count": 8,
   "metadata": {},
   "outputs": [
    {
     "name": "stdout",
     "output_type": "stream",
     "text": [
      "<xarray.DataArray (lat: 120, freq_time: 239)>\n",
      "dask.array<shape=(120, 239), dtype=float64, chunksize=(120, 239)>\n",
      "Coordinates:\n",
      "  * lat        (lat) float64 -59.5 -58.5 -57.5 -56.5 -55.5 -54.5 -53.5 -52.5 ...\n",
      "  * freq_time  (freq_time) float64 -0.0001383 -0.0001372 -0.000136 ...\n"
     ]
    }
   ],
   "source": [
    "E = (ds.E*ds.A).sum(dim='face') / ds.A.sum(dim='face')\n",
    "print(E)"
   ]
  },
  {
   "cell_type": "code",
   "execution_count": 9,
   "metadata": {},
   "outputs": [
    {
     "data": {
      "text/plain": [
       "[<matplotlib.lines.Line2D at 0x2aaaff6afcc0>]"
      ]
     },
     "execution_count": 9,
     "metadata": {},
     "output_type": "execute_result"
    },
    {
     "data": {
      "image/png": "[encoded data removed]",
      "text/plain": [
       "<Figure size 1080x720 with 2 Axes>"
      ]
     },
     "metadata": {},
     "output_type": "display_data"
    }
   ],
   "source": [
    "\n",
    "plt.figure(figsize=(15,10))\n",
    "ax = plt.subplot(1,1,1)\n",
    "E = E.assign_coords(freq_cpd=E.freq_time * 86400.)\n",
    "np.log10(E).plot.pcolormesh(ax=ax, vmin=-2., vmax=3., x='freq_cpd', y='lat')\n",
    "ax.set_xticks(list(ax.get_xticks()) + [-4., -3., -2., -1., 1., 2., 3., 4.])\n",
    "ax.set_xlim(-12., 12.)\n",
    "ax.set_xlim(-5., 5.)\n",
    "\n",
    "# add coriolis frequency\n",
    "f = 2.*2.*np.pi/86400. * np.sin(np.deg2rad(E.lat))\n",
    "ax.plot(f*86400./2./np.pi,f.lat,'k--')\n",
    "ax.plot(-f*86400./2./np.pi,f.lat,'k--')\n",
    "\n",
    "\n",
    "#, x=E.freq_time*86400)"
   ]
  },
  {
   "cell_type": "markdown",
   "metadata": {},
   "source": [
    "---"
   ]
  },
  {
   "cell_type": "code",
   "execution_count": 10,
   "metadata": {},
   "outputs": [
    {
     "data": {
      "text/html": [
       "<table style=\"border: 2px solid white;\">\n",
       "<tr>\n",
       "<td style=\"vertical-align: top; border: 0px solid white\">\n",
       "<h3>Client</h3>\n",
       "<ul>\n",
       "  <li><b>Scheduler: </b>tcp://10.148.0.5:8786\n",
       "  <li><b>Dashboard: </b><a href='http://10.148.0.5:8787/status' target='_blank'>http://10.148.0.5:8787/status</a>\n",
       "</ul>\n",
       "</td>\n",
       "<td style=\"vertical-align: top; border: 0px solid white\">\n",
       "<h3>Cluster</h3>\n",
       "<ul>\n",
       "  <li><b>Workers: </b>7</li>\n",
       "  <li><b>Cores: </b>98</li>\n",
       "  <li><b>Memory: </b>700.00 GB</li>\n",
       "</ul>\n",
       "</td>\n",
       "</tr>\n",
       "</table>"
      ],
      "text/plain": [
       "<Client: scheduler='tcp://10.148.0.5:8786' processes=7 cores=98>"
      ]
     },
     "execution_count": 10,
     "metadata": {},
     "output_type": "execute_result"
    }
   ],
   "source": [
    "client.restart()"
   ]
  },
  {
   "cell_type": "code",
   "execution_count": null,
   "metadata": {},
   "outputs": [],
   "source": []
  }
 ],
 "metadata": {
  "kernelspec": {
   "display_name": "Python 3",
   "language": "python",
   "name": "python3"
  },
  "language_info": {
   "codemirror_mode": {
    "name": "ipython",
    "version": 3
   },
   "file_extension": ".py",
   "mimetype": "text/x-python",
   "name": "python",
   "nbconvert_exporter": "python",
   "pygments_lexer": "ipython3",
   "version": "3.6.5"
  }
 },
 "nbformat": 4,
 "nbformat_minor": 2
}

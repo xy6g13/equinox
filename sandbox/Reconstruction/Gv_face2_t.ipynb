{
 "cells": [
  {
   "cell_type": "code",
   "execution_count": 1,
   "metadata": {},
   "outputs": [
    {
     "name": "stderr",
     "output_type": "stream",
     "text": [
      "/home1/datahome/xyu/.miniconda3/envs/equinox/lib/python3.6/site-packages/cmocean/tools.py:76: MatplotlibDeprecationWarning: The is_string_like function was deprecated in version 2.1.\n",
      "  if not mpl.cbook.is_string_like(rgbin[0]):\n"
     ]
    }
   ],
   "source": [
    "import os\n",
    "from glob import glob\n",
    "import numpy as np\n",
    "import dask\n",
    "import xarray as xr\n",
    "import cartopy.crs as ccrs\n",
    "from cmocean import cm\n",
    "import xgcm\n",
    "\n",
    "from matplotlib import pyplot as plt\n",
    "%matplotlib inline\n",
    "plt.rcParams['figure.figsize'] = 12, 8\n",
    "\n",
    "from mitequinox.utils import *"
   ]
  },
  {
   "cell_type": "code",
   "execution_count": 2,
   "metadata": {},
   "outputs": [
    {
     "name": "stderr",
     "output_type": "stream",
     "text": [
      "/home1/datahome/xyu/.miniconda3/envs/equinox/lib/python3.6/site-packages/distributed/utils.py:128: RuntimeWarning: Couldn't detect a suitable IP address for reaching '8.8.8.8', defaulting to '127.0.0.1': [Errno 101] Network is unreachable\n",
      "  % (host, default, e), RuntimeWarning)\n"
     ]
    }
   ],
   "source": [
    "from dask_jobqueue import PBSCluster\n",
    "local_dir = os.getenv('TMPDIR')\n",
    "cluster = PBSCluster(local_directory=local_dir)\n",
    "#print(cluster.job_script())\n",
    "w = cluster.start_workers(35)"
   ]
  },
  {
   "cell_type": "code",
   "execution_count": 3,
   "metadata": {},
   "outputs": [],
   "source": [
    "# get dask handles and check dask server status\n",
    "from dask.distributed import Client\n",
    "client = Client(cluster)"
   ]
  },
  {
   "cell_type": "code",
   "execution_count": 4,
   "metadata": {},
   "outputs": [
    {
     "data": {
      "text/html": [
       "<table style=\"border: 2px solid white;\">\n",
       "<tr>\n",
       "<td style=\"vertical-align: top; border: 0px solid white\">\n",
       "<h3>Client</h3>\n",
       "<ul>\n",
       "  <li><b>Scheduler: </b>tcp://10.148.1.0:58052\n",
       "  <li><b>Dashboard: </b><a href='http://10.148.1.0:8787/status' target='_blank'>http://10.148.1.0:8787/status</a>\n",
       "</ul>\n",
       "</td>\n",
       "<td style=\"vertical-align: top; border: 0px solid white\">\n",
       "<h3>Cluster</h3>\n",
       "<ul>\n",
       "  <li><b>Workers: </b>70</li>\n",
       "  <li><b>Cores: </b>280</li>\n",
       "  <li><b>Memory: </b>3500.00 GB</li>\n",
       "</ul>\n",
       "</td>\n",
       "</tr>\n",
       "</table>"
      ],
      "text/plain": [
       "<Client: scheduler='tcp://10.148.1.0:58052' processes=70 cores=280>"
      ]
     },
     "execution_count": 4,
     "metadata": {},
     "output_type": "execute_result"
    }
   ],
   "source": [
    "client"
   ]
  },
  {
   "cell_type": "markdown",
   "metadata": {},
   "source": [
    "_________\n",
    "# Read dataset\n"
   ]
  },
  {
   "cell_type": "code",
   "execution_count": 5,
   "metadata": {},
   "outputs": [],
   "source": [
    "## open files, nc files  ##\n",
    "ncdata_dir = '/home1/scratch/xyu/mit_nc_new/'\n",
    "\n",
    "# number of fies to load for each face (1 file = 10 days --- well, now it depends...)\n",
    "Nf = 1\n",
    "face_60 = [1]\n",
    "\n",
    "v_u = 'SSU'\n",
    "v_v = 'SSV'\n",
    "v_eta = 'Eta'\n"
   ]
  },
  {
   "cell_type": "code",
   "execution_count": null,
   "metadata": {},
   "outputs": [],
   "source": [
    "## Here we do DFT on u+iv ##\n",
    "\n",
    "for face in face_60:\n",
    "#for face in range(8,9):\n",
    "    \n",
    "    # SSU #\n",
    "    filenames_u = sorted(glob(ncdata_dir+v_u+'_f%02d_t*.nc' %(face)))\n",
    "    filenames_u = filenames_u[:Nf]\n",
    "    \n",
    "    # SSV #\n",
    "    filenames_v = sorted(glob(ncdata_dir+v_v+'_f%02d_t*.nc' %(face)))\n",
    "    filenames_v = filenames_v[:Nf]    \n",
    "\n",
    "    # Eta#\n",
    "    filenames_Eta = sorted(glob(ncdata_dir+v_eta+'_f%02d_t*.nc' %(face)))\n",
    "    filenames_Eta = filenames_Eta[:Nf]        \n",
    "    \n",
    "    # grid file\n",
    "    grid = xr.open_dataset('/home1/scratch/xyu/mit_grid_t.nc')\n",
    "    grid = grid.isel(face=face_60)\n",
    "    \n",
    "    # Read SSU #\n",
    "    ds = xr.open_mfdataset(filenames_u, chunks={'i_g':10, 'j':10}, concat_dim='time', compat='equals')\n",
    "    chunks={'time': 1}\n",
    "    ds = ds.chunk(chunks)    \n",
    "\n",
    "    # Read SSV #\n",
    "    ds_v = xr.open_mfdataset(filenames_v, chunks={'i':10, 'j_g':10}, concat_dim='time', compat='equals')\n",
    "    chunks_v={'time': 1}\n",
    "    ds_v = ds_v.chunk(chunks_v)\n",
    "    \n",
    "    # Read Eta #\n",
    "    ds_Eta = xr.open_mfdataset(filenames_Eta, chunks={'i':10, 'j':10}, concat_dim='time', compat='equals')\n",
    "    chunks_Eta={'time': 1}\n",
    "    ds_Eta = ds_Eta.chunk(chunks_Eta)    \n",
    "    \n",
    "    # Merge into one xarray dataset #\n",
    "    ds = xr.merge([ds_v,ds,ds_Eta,grid])\n",
    "    print(ds)"
   ]
  },
  {
   "cell_type": "code",
   "execution_count": null,
   "metadata": {},
   "outputs": [],
   "source": [
    "time_begin = 1\n",
    "time_end = 119"
   ]
  },
  {
   "cell_type": "markdown",
   "metadata": {},
   "source": [
    "---\n"
   ]
  },
  {
   "cell_type": "markdown",
   "metadata": {},
   "source": [
    "# 1. Gradient of Bernoulli function (Eta)"
   ]
  },
  {
   "cell_type": "code",
   "execution_count": null,
   "metadata": {},
   "outputs": [],
   "source": [
    "#import xgcm\n",
    "grid = xgcm.Grid(ds, periodic=['X', 'Y'])\n",
    "grid"
   ]
  },
  {
   "cell_type": "markdown",
   "metadata": {},
   "source": [
    "# 1.2 Gradient of 'pressure' (i.e. dphi/dy)"
   ]
  },
  {
   "cell_type": "code",
   "execution_count": null,
   "metadata": {},
   "outputs": [],
   "source": [
    "g = 9.81\n",
    "dphi_dy = (grid.diff(g*ds['Eta'],'Y', boundary='extend'))/ds.dyC\n",
    "dphi_dy_face2 = dphi_dy.isel(time=slice(time_begin,time_end),face=0)\n",
    "print(dphi_dy_face2)\n"
   ]
  },
  {
   "cell_type": "markdown",
   "metadata": {},
   "source": [
    "_______\n",
    "\n",
    "# 2 Linear Coriolis terms"
   ]
  },
  {
   "cell_type": "markdown",
   "metadata": {},
   "source": [
    "## 2.1 G_u(fv) ---> SSV"
   ]
  },
  {
   "cell_type": "code",
   "execution_count": null,
   "metadata": {},
   "outputs": [],
   "source": [
    "SSU_dyG = ds.dyG * ds['SSU']\n",
    "dyGSSU_i = grid.interp(SSU_dyG,'X')\n",
    "dyGSSU_ij = grid.interp(dyGSSU_i,'Y')\n",
    "print(dyGSSU_ij)\n"
   ]
  },
  {
   "cell_type": "code",
   "execution_count": null,
   "metadata": {},
   "outputs": [],
   "source": [
    "lat = ds['YG']\n",
    "omega = 7.3/100000\n",
    "f = 2*omega*np.sin(np.deg2rad(lat))\n",
    "f_i = grid.interp(f,'X')\n",
    "Coriolis_v = -f_i * dyGSSU_ij /ds.dyC\n",
    "Coriolis_v_face2 = Coriolis_v.isel(time=slice(time_begin,time_end))\n",
    "print(Coriolis_v_face2)\n"
   ]
  },
  {
   "cell_type": "markdown",
   "metadata": {},
   "source": [
    "# 3 Time derivative of SSV"
   ]
  },
  {
   "cell_type": "code",
   "execution_count": null,
   "metadata": {},
   "outputs": [],
   "source": [
    "SSV_forward = ds['SSV'].isel(time=slice(time_begin+1,time_end+1))\n",
    "SSV_forward = SSV_forward.drop(['dtime','time'])\n",
    "\n",
    "SSV_backward = ds['SSV'].isel(time=slice(time_begin-1,time_end-1))\n",
    "SSV_backward = SSV_backward.drop(['dtime','time'])\n",
    "\n",
    "d_SSV_dt_center_face2 = (SSV_forward - SSV_backward)/2/3600\n",
    "print(d_SSV_dt_center_face2)"
   ]
  },
  {
   "cell_type": "markdown",
   "metadata": {},
   "source": [
    "# 4. Relative vorticity"
   ]
  },
  {
   "cell_type": "code",
   "execution_count": null,
   "metadata": {},
   "outputs": [],
   "source": [
    "SSV_dyC = ds.dyC * ds['SSV']\n",
    "d_SSV_dyC_di = grid.diff(SSV_dyC,'X')\n",
    "\n",
    "SSU_dxC = ds.dxC * ds['SSU']\n",
    "d_SSU_dxC_dj = grid.diff(SSU_dxC,'Y')\n",
    "\n",
    "zeta_3 = (d_SSV_dyC_di - d_SSU_dxC_dj)/ds.rAz\n",
    "zeta_3_i = grid.interp(zeta_3,'X')\n",
    "\n",
    "Coriolis_zeta3_v = -zeta_3_i * dyGSSU_ij /ds.dyC\n",
    "Coriolis_zeta3_v_face2 = Coriolis_zeta3_v.isel(time=slice(time_begin,time_end))\n",
    "\n",
    "print(Coriolis_zeta3_v_face2)"
   ]
  },
  {
   "cell_type": "markdown",
   "metadata": {},
   "source": [
    "# 5. KE"
   ]
  },
  {
   "cell_type": "code",
   "execution_count": null,
   "metadata": {},
   "outputs": [],
   "source": [
    "SSU_2 = ds['SSU'] * ds['SSU']\n",
    "SSU_2_i = grid.interp(SSU_2,'X')\n",
    "\n",
    "SSV_2 = ds['SSV'] * ds['SSV']\n",
    "SSV_2_j = grid.interp(SSV_2,'Y')\n",
    "\n",
    "KE = (SSU_2_i + SSV_2_j)/2\n",
    "\n",
    "dKE_dy = (grid.diff(KE,'Y', boundary='extend'))/ds.dyC\n",
    "dKE_dy_face2 = dKE_dy.isel(time=slice(time_begin,time_end))\n",
    "print(dKE_dy_face2)\n"
   ]
  },
  {
   "cell_type": "markdown",
   "metadata": {},
   "source": [
    "# 6. Residuals"
   ]
  },
  {
   "cell_type": "code",
   "execution_count": null,
   "metadata": {},
   "outputs": [],
   "source": [
    "residuals_v_face2 = d_SSV_dt_center_face2 - Coriolis_v_face2 - Coriolis_zeta3_v_face2 + dphi_dy_face2 + dKE_dy_face2\n",
    "print(residuals_v_face2)"
   ]
  },
  {
   "cell_type": "code",
   "execution_count": null,
   "metadata": {},
   "outputs": [],
   "source": [
    "fig = plt.figure(figsize = (24,12))\n",
    "\n",
    "plt.subplot(231)\n",
    "Coriolis_v_face2.isel(time=10).plot(vmin=-0.0001, vmax=0.0001, cmap = cm.balance)\n",
    "plt.subplot(234)\n",
    "dphi_dy_face2.isel(time=10).plot(vmin=-0.0001, vmax=0.0001, cmap = cm.balance)\n",
    "\n",
    "plt.subplot(232)\n",
    "Coriolis_zeta3_v_face2.isel(time=10).plot(vmin=-0.0001, vmax=0.0001, cmap = cm.balance)\n",
    "plt.subplot(235)\n",
    "dKE_dy_face2.isel(time=10).plot(vmin=-0.0001, vmax=0.0001, cmap = cm.balance)\n",
    "\n",
    "plt.subplot(233)\n",
    "d_SSV_dt_center_face2.isel(time=10).plot(vmin=-0.0001, vmax=0.0001, cmap = cm.balance)\n",
    "plt.subplot(236)\n",
    "residuals_v_face2.isel(time=10).plot(vmin=-0.0001, vmax=0.0001, cmap = cm.balance)\n"
   ]
  },
  {
   "cell_type": "code",
   "execution_count": null,
   "metadata": {},
   "outputs": [],
   "source": [
    "residuals_v_face2_mean = residuals_v_face2.mean(['time']).persist()"
   ]
  },
  {
   "cell_type": "code",
   "execution_count": null,
   "metadata": {},
   "outputs": [],
   "source": [
    "residuals_v_face2_mean.plot(vmin=-0.0001, vmax=0.0001, cmap = cm.balance)"
   ]
  },
  {
   "cell_type": "code",
   "execution_count": null,
   "metadata": {},
   "outputs": [],
   "source": [
    "residuals_v_face2.std(['time']).plot(vmin=0, vmax=0.000025, cmap = cm.balance)"
   ]
  },
  {
   "cell_type": "code",
   "execution_count": null,
   "metadata": {},
   "outputs": [],
   "source": []
  },
  {
   "cell_type": "code",
   "execution_count": null,
   "metadata": {},
   "outputs": [],
   "source": []
  },
  {
   "cell_type": "code",
   "execution_count": 44,
   "metadata": {},
   "outputs": [
    {
     "data": {
      "text/plain": [
       "<Future finished result=None>"
      ]
     },
     "execution_count": 44,
     "metadata": {},
     "output_type": "execute_result"
    }
   ],
   "source": [
    "cluster.scheduler.close()"
   ]
  }
 ],
 "metadata": {
  "kernelspec": {
   "display_name": "Python 3",
   "language": "python",
   "name": "python3"
  },
  "language_info": {
   "codemirror_mode": {
    "name": "ipython",
    "version": 3
   },
   "file_extension": ".py",
   "mimetype": "text/x-python",
   "name": "python",
   "nbconvert_exporter": "python",
   "pygments_lexer": "ipython3",
   "version": "3.6.5"
  }
 },
 "nbformat": 4,
 "nbformat_minor": 2
}

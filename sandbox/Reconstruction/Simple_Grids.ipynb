{
 "cells": [
  {
   "cell_type": "code",
   "execution_count": 1,
   "metadata": {},
   "outputs": [],
   "source": [
    "import numpy as np\n",
    "import xarray as xr\n",
    "from xgcm import Grid\n",
    "\n",
    "from matplotlib import pyplot as plt\n",
    "%matplotlib inline"
   ]
  },
  {
   "cell_type": "code",
   "execution_count": 2,
   "metadata": {},
   "outputs": [
    {
     "name": "stdout",
     "output_type": "stream",
     "text": [
      "<xarray.Dataset>\n",
      "Dimensions:  (x_c: 9, x_g: 9)\n",
      "Coordinates:\n",
      "  * x_c      (x_c) int64 1 2 3 4 5 6 7 8 9\n",
      "  * x_g      (x_g) float64 0.5 1.5 2.5 3.5 4.5 5.5 6.5 7.5 8.5\n",
      "Data variables:\n",
      "    *empty*\n"
     ]
    }
   ],
   "source": [
    "ds = xr.Dataset(coords={'x_c': (['x_c',], np.arange(1,10)),\n",
    "                        'x_g': (['x_g',], np.arange(0.5,9))})\n",
    "print(ds)"
   ]
  },
  {
   "cell_type": "code",
   "execution_count": 3,
   "metadata": {},
   "outputs": [
    {
     "name": "stdout",
     "output_type": "stream",
     "text": [
      "<xgcm.Grid>\n",
      "X Axis (periodic):\n",
      "  * center   x_c (9) --> left\n",
      "  * left     x_g (9) --> center\n"
     ]
    }
   ],
   "source": [
    "grid = Grid(ds, coords={'X':{'center': 'x_c', 'left': 'x_g'}})\n",
    "print(grid)"
   ]
  },
  {
   "cell_type": "code",
   "execution_count": 4,
   "metadata": {},
   "outputs": [
    {
     "name": "stdout",
     "output_type": "stream",
     "text": [
      "<xarray.Dataset>\n",
      "Dimensions:  (x_c: 9, x_g: 9)\n",
      "Coordinates:\n",
      "  * x_c      (x_c) int64 1 2 3 4 5 6 7 8 9\n",
      "  * x_g      (x_g) float64 0.5 1.5 2.5 3.5 4.5 5.5 6.5 7.5 8.5\n",
      "Data variables:\n",
      "    *empty*\n"
     ]
    }
   ],
   "source": [
    "ds = xr.Dataset(coords={'x_c': (['x_c',], np.arange(1,10), {'axis': 'X'}),\n",
    "                        'x_g': (['x_g',], np.arange(0.5,9),\n",
    "                                {'axis': 'X', 'c_grid_axis_shift': -0.5})})\n",
    "print(ds)"
   ]
  },
  {
   "cell_type": "code",
   "execution_count": 5,
   "metadata": {},
   "outputs": [
    {
     "name": "stdout",
     "output_type": "stream",
     "text": [
      "<xgcm.Grid>\n",
      "X Axis (periodic):\n",
      "  * center   x_c (9) --> left\n",
      "  * left     x_g (9) --> center\n"
     ]
    }
   ],
   "source": [
    "grid = Grid(ds)\n",
    "print(grid)"
   ]
  },
  {
   "cell_type": "code",
   "execution_count": 6,
   "metadata": {},
   "outputs": [
    {
     "name": "stdout",
     "output_type": "stream",
     "text": [
      "<xarray.DataArray 'x_c' (x_c: 9)>\n",
      "array([ 6.427876e-01,  9.848078e-01,  8.660254e-01,  3.420201e-01,\n",
      "       -3.420201e-01, -8.660254e-01, -9.848078e-01, -6.427876e-01,\n",
      "       -2.449294e-16])\n",
      "Coordinates:\n",
      "  * x_c      (x_c) int64 1 2 3 4 5 6 7 8 9\n"
     ]
    }
   ],
   "source": [
    "f = np.sin(ds.x_c * 2*np.pi/9)\n",
    "print(f)"
   ]
  },
  {
   "cell_type": "code",
   "execution_count": 7,
   "metadata": {},
   "outputs": [
    {
     "data": {
      "text/plain": [
       "[<matplotlib.lines.Line2D at 0x2aaae73ec6d8>]"
      ]
     },
     "execution_count": 7,
     "metadata": {},
     "output_type": "execute_result"
    },
    {
     "data": {
      "image/png": "[encoded data removed]",
      "text/plain": [
       "<Figure size 432x288 with 1 Axes>"
      ]
     },
     "metadata": {},
     "output_type": "display_data"
    }
   ],
   "source": [
    "f.plot()"
   ]
  },
  {
   "cell_type": "code",
   "execution_count": 8,
   "metadata": {},
   "outputs": [
    {
     "name": "stdout",
     "output_type": "stream",
     "text": [
      "<xarray.DataArray (x_g: 9)>\n",
      "array([ 3.213938e-01,  8.137977e-01,  9.254166e-01,  6.040228e-01,\n",
      "        1.110223e-16, -6.040228e-01, -9.254166e-01, -8.137977e-01,\n",
      "       -3.213938e-01])\n",
      "Coordinates:\n",
      "  * x_g      (x_g) float64 0.5 1.5 2.5 3.5 4.5 5.5 6.5 7.5 8.5\n"
     ]
    }
   ],
   "source": [
    "f_interp = grid.interp(f, axis='X')\n",
    "print(f_interp)"
   ]
  },
  {
   "cell_type": "code",
   "execution_count": 9,
   "metadata": {},
   "outputs": [
    {
     "data": {
      "text/plain": [
       "<xarray.DataArray (x_g: 9)>\n",
       "array([ 0.642788,  0.34202 , -0.118782, -0.524005, -0.68404 , -0.524005,\n",
       "       -0.118782,  0.34202 ,  0.642788])\n",
       "Coordinates:\n",
       "  * x_g      (x_g) float64 0.5 1.5 2.5 3.5 4.5 5.5 6.5 7.5 8.5"
      ]
     },
     "execution_count": 9,
     "metadata": {},
     "output_type": "execute_result"
    }
   ],
   "source": [
    "f_diff = grid.diff(f, axis='X')\n",
    "f_diff"
   ]
  },
  {
   "cell_type": "code",
   "execution_count": 10,
   "metadata": {},
   "outputs": [
    {
     "data": {
      "text/plain": [
       "<xarray.DataArray (x_c: 9)>\n",
       "array([ 0.642788,  0.984808,  0.866025,  0.34202 , -0.34202 , -0.866025,\n",
       "       -0.984808, -0.642788,  0.      ])\n",
       "Coordinates:\n",
       "  * x_c      (x_c) int64 1 2 3 4 5 6 7 8 9"
      ]
     },
     "execution_count": 10,
     "metadata": {},
     "output_type": "execute_result"
    }
   ],
   "source": [
    "grid.cumsum(f_diff, 'X')"
   ]
  }
 ],
 "metadata": {
  "kernelspec": {
   "display_name": "Python 3",
   "language": "python",
   "name": "python3"
  },
  "language_info": {
   "codemirror_mode": {
    "name": "ipython",
    "version": 3
   },
   "file_extension": ".py",
   "mimetype": "text/x-python",
   "name": "python",
   "nbconvert_exporter": "python",
   "pygments_lexer": "ipython3",
   "version": "3.6.5"
  }
 },
 "nbformat": 4,
 "nbformat_minor": 2
}

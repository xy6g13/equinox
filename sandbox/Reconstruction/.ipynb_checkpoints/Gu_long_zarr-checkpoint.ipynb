{
 "cells": [
  {
   "cell_type": "code",
   "execution_count": 1,
   "metadata": {},
   "outputs": [
    {
     "name": "stderr",
     "output_type": "stream",
     "text": [
      "/home1/datahome/xyu/.miniconda3/envs/equinox/lib/python3.6/site-packages/cmocean/tools.py:76: MatplotlibDeprecationWarning: The is_string_like function was deprecated in version 2.1.\n",
      "  if not mpl.cbook.is_string_like(rgbin[0]):\n",
      "/home1/datahome/xyu/.miniconda3/envs/equinox/lib/python3.6/importlib/_bootstrap.py:219: RuntimeWarning: numpy.dtype size changed, may indicate binary incompatibility. Expected 96, got 88\n",
      "  return f(*args, **kwds)\n",
      "/home1/datahome/xyu/.miniconda3/envs/equinox/lib/python3.6/importlib/_bootstrap.py:219: RuntimeWarning: numpy.dtype size changed, may indicate binary incompatibility. Expected 96, got 88\n",
      "  return f(*args, **kwds)\n"
     ]
    }
   ],
   "source": [
    "import os\n",
    "from glob import glob\n",
    "import numpy as np\n",
    "import dask\n",
    "import xarray as xr\n",
    "import cartopy.crs as ccrs\n",
    "from cmocean import cm\n",
    "import xgcm\n",
    "\n",
    "from matplotlib import pyplot as plt\n",
    "%matplotlib inline\n",
    "plt.rcParams['figure.figsize'] = 20, 12\n",
    "\n",
    "from mitequinox.utils import *"
   ]
  },
  {
   "cell_type": "code",
   "execution_count": 2,
   "metadata": {},
   "outputs": [
    {
     "name": "stderr",
     "output_type": "stream",
     "text": [
      "/home1/datahome/xyu/.miniconda3/envs/equinox/lib/python3.6/site-packages/distributed/utils.py:128: RuntimeWarning: Couldn't detect a suitable IP address for reaching '8.8.8.8', defaulting to '127.0.0.1': [Errno 101] Network is unreachable\n",
      "  % (host, default, e), RuntimeWarning)\n"
     ]
    }
   ],
   "source": [
    "from dask_jobqueue import PBSCluster\n",
    "local_dir = os.getenv('TMPDIR')\n",
    "cluster = PBSCluster(local_directory=local_dir)\n",
    "#print(cluster.job_script())\n",
    "w = cluster.start_workers(30)"
   ]
  },
  {
   "cell_type": "code",
   "execution_count": 3,
   "metadata": {},
   "outputs": [],
   "source": [
    "# get dask handles and check dask server status\n",
    "from dask.distributed import Client\n",
    "client = Client(cluster)"
   ]
  },
  {
   "cell_type": "code",
   "execution_count": 4,
   "metadata": {},
   "outputs": [
    {
     "data": {
      "text/html": [
       "<table style=\"border: 2px solid white;\">\n",
       "<tr>\n",
       "<td style=\"vertical-align: top; border: 0px solid white\">\n",
       "<h3>Client</h3>\n",
       "<ul>\n",
       "  <li><b>Scheduler: </b>tcp://10.148.0.254:41871\n",
       "  <li><b>Dashboard: </b><a href='http://10.148.0.254:8787/status' target='_blank'>http://10.148.0.254:8787/status</a>\n",
       "</ul>\n",
       "</td>\n",
       "<td style=\"vertical-align: top; border: 0px solid white\">\n",
       "<h3>Cluster</h3>\n",
       "<ul>\n",
       "  <li><b>Workers: </b>50</li>\n",
       "  <li><b>Cores: </b>200</li>\n",
       "  <li><b>Memory: </b>2500.00 GB</li>\n",
       "</ul>\n",
       "</td>\n",
       "</tr>\n",
       "</table>"
      ],
      "text/plain": [
       "<Client: scheduler='tcp://10.148.0.254:41871' processes=50 cores=200>"
      ]
     },
     "execution_count": 4,
     "metadata": {},
     "output_type": "execute_result"
    }
   ],
   "source": [
    "client"
   ]
  },
  {
   "cell_type": "markdown",
   "metadata": {},
   "source": [
    "_________\n",
    "# Read dataset\n"
   ]
  },
  {
   "cell_type": "code",
   "execution_count": 24,
   "metadata": {},
   "outputs": [
    {
     "name": "stdout",
     "output_type": "stream",
     "text": [
      "CPU times: user 4.71 s, sys: 1.81 s, total: 6.52 s\n",
      "Wall time: 6.67 s\n",
      "CPU times: user 4.94 s, sys: 1.76 s, total: 6.7 s\n",
      "Wall time: 6.77 s\n",
      "CPU times: user 4.75 s, sys: 1.72 s, total: 6.47 s\n",
      "Wall time: 6.55 s\n",
      "CPU times: user 20 ms, sys: 4 ms, total: 24 ms\n",
      "Wall time: 24.6 ms\n"
     ]
    }
   ],
   "source": [
    "Nf = 720\n",
    "\n",
    "data_dir = '/home1/scratch/xyu/mit_nc_t/'\n",
    "\n",
    "filenames_Eta = sorted(glob(data_dir+'Eta_*.nc'))\n",
    "filenames_Eta = filenames_Eta[:Nf]\n",
    "%time ds_Eta = xr.open_mfdataset(filenames_Eta, concat_dim='time', compat='equals', decode_cf=False)\n",
    "\n",
    "filenames_SSU = sorted(glob(data_dir+'SSU_*.nc'))\n",
    "filenames_SSU = filenames_SSU[:Nf]\n",
    "%time ds_SSU = xr.open_mfdataset(filenames_SSU, concat_dim='time', compat='equals', decode_cf=False)\n",
    "\n",
    "filenames_SSV = sorted(glob(data_dir+'SSV_*.nc'))\n",
    "filenames_SSV = filenames_SSV[:Nf]\n",
    "%time ds_SSV = xr.open_mfdataset(filenames_SSV, concat_dim='time', compat='equals', decode_cf=False)\n",
    "\n",
    "%time grid = xr.open_dataset('/home1/scratch/xyu/mit_grid.nc', decode_coords=False)"
   ]
  },
  {
   "cell_type": "code",
   "execution_count": 25,
   "metadata": {},
   "outputs": [
    {
     "name": "stdout",
     "output_type": "stream",
     "text": [
      "CPU times: user 24.5 s, sys: 1.6 s, total: 26.1 s\n",
      "Wall time: 40.3 s\n",
      "<xarray.Dataset>\n",
      "Dimensions:  (face: 13, i: 4320, i_g: 4320, j: 4320, j_g: 4320, time: 720)\n",
      "Coordinates:\n",
      "  * i        (i) int64 0 1 2 3 4 5 6 7 8 9 10 11 12 13 14 15 16 17 18 19 20 ...\n",
      "  * j        (j) int64 0 1 2 3 4 5 6 7 8 9 10 11 12 13 14 15 16 17 18 19 20 ...\n",
      "  * face     (face) int64 0 1 2 3 4 5 6 7 8 9 10 11 12\n",
      "  * time     (time) float64 5.702e+06 5.706e+06 5.71e+06 5.713e+06 5.717e+06 ...\n",
      "  * i_g      (i_g) int64 0 1 2 3 4 5 6 7 8 9 10 11 12 13 14 15 16 17 18 19 ...\n",
      "  * j_g      (j_g) int64 0 1 2 3 4 5 6 7 8 9 10 11 12 13 14 15 16 17 18 19 ...\n",
      "Data variables:\n",
      "    dtime    (time) int64 dask.array<shape=(720,), chunksize=(1,)>\n",
      "    Eta      (time, face, j, i) float32 dask.array<shape=(720, 13, 4320, 4320), chunksize=(1, 13, 4320, 4320)>\n",
      "    SSU      (time, face, j, i_g) float32 dask.array<shape=(720, 13, 4320, 4320), chunksize=(1, 13, 4320, 4320)>\n",
      "    SSV      (time, face, j_g, i) float32 dask.array<shape=(720, 13, 4320, 4320), chunksize=(1, 13, 4320, 4320)>\n",
      "    XC       (face, j, i) float32 ...\n",
      "    YC       (face, j, i) float32 ...\n",
      "    XG       (face, j_g, i_g) float32 ...\n",
      "    YG       (face, j_g, i_g) float32 ...\n",
      "    rA       (face, j, i) float32 ...\n",
      "    dxG      (face, j_g, i) float32 ...\n",
      "    dyG      (face, j, i_g) float32 ...\n",
      "    Depth    (face, j, i) float32 ...\n",
      "    rAz      (face, j_g, i_g) float32 ...\n",
      "    dxC      (face, j, i_g) float32 ...\n",
      "    dyC      (face, j_g, i) float32 ...\n",
      "    rAw      (face, j, i_g) float32 ...\n",
      "    rAs      (face, j_g, i) float32 ...\n",
      "\n",
      " data size: 2108.8 GB\n",
      "\n",
      " data size (1 face): 698.7 GB\n"
     ]
    }
   ],
   "source": [
    "%time ds = xr.merge([ds_Eta, ds_SSU, ds_SSV, grid])\n",
    "print(ds)\n",
    "print('\\n data size: %.1f GB' %(ds.nbytes / 1e9))\n",
    "print('\\n data size (1 face): %.1f GB' %(ds['Eta'].nbytes / 1e9))"
   ]
  },
  {
   "cell_type": "code",
   "execution_count": 26,
   "metadata": {},
   "outputs": [],
   "source": [
    "E_dir = '/home1/scratch/xyu/momentum/'"
   ]
  },
  {
   "cell_type": "markdown",
   "metadata": {},
   "source": [
    "---\n"
   ]
  },
  {
   "cell_type": "markdown",
   "metadata": {},
   "source": [
    "# 1. Time derivative of SSU ($G_u$)\n",
    "\n",
    "A central difference is applied to compute du/dt."
   ]
  },
  {
   "cell_type": "code",
   "execution_count": 32,
   "metadata": {},
   "outputs": [
    {
     "name": "stdout",
     "output_type": "stream",
     "text": [
      "face=0 - allready processed\n",
      "face=1 - allready processed\n",
      "face=2 - allready processed\n",
      "face=3 - allready processed\n",
      "face=4 - allready processed\n",
      "face=5 - allready processed\n",
      "face=6 - allready processed\n",
      "face=7 - allready processed\n",
      "face=8 - allready processed\n",
      "face=9 - allready processed\n",
      "face=10 - allready processed\n",
      "face=11 - allready processed\n",
      "face=12 - allready processed\n"
     ]
    }
   ],
   "source": [
    "for face in range(ds['face'].size):\n",
    "    \n",
    "    d_SSU_dt_time = ( ds['SSU'].isel(face=face).shift(time=-1) - ds['SSU'].isel(face=face).shift(time=1) )/2/3600\n",
    "    d_SSU_dt_time = d_SSU_dt_time.rename('d_SSU_dt_time')\n",
    "    d_SSU_dt_time.to_dataset().to_zarr(E_dir+'d_SSU_dt_f%02d.nc'% (face), mode='w')\n",
    "    print('face=%d - allready processed'%(face))"
   ]
  },
  {
   "cell_type": "code",
   "execution_count": 8,
   "metadata": {},
   "outputs": [
    {
     "name": "stdout",
     "output_type": "stream",
     "text": [
      "<xarray.DataArray 'd_SSU_dt_time' (time: 720, face: 13, j: 4320, i_g: 4320)>\n",
      "dask.array<shape=(720, 13, 4320, 4320), dtype=float32, chunksize=(1, 13, 4320, 4320)>\n",
      "Coordinates:\n",
      "  * j        (j) int64 0 1 2 3 4 5 6 7 8 9 10 11 12 13 14 15 16 17 18 19 20 ...\n",
      "  * face     (face) int64 0 1 2 3 4 5 6 7 8 9 10 11 12\n",
      "  * time     (time) float64 5.702e+06 5.706e+06 5.71e+06 5.713e+06 5.717e+06 ...\n",
      "  * i_g      (i_g) int64 0 1 2 3 4 5 6 7 8 9 10 11 12 13 14 15 16 17 18 19 ...\n"
     ]
    }
   ],
   "source": [
    "d_SSU_dt_time = ( ds['SSU'].shift(time=-1) - ds['SSU'].shift(time=1) )/2/3600\n",
    "d_SSU_dt_time = d_SSU_dt_time.rename('d_SSU_dt_time')\n",
    "print(d_SSU_dt_time)\n",
    "d_SSU_dt_time.to_dataset().to_zarr(E_dir+'d_SSU_dt.nc', mode='w')"
   ]
  },
  {
   "cell_type": "markdown",
   "metadata": {},
   "source": [
    "_______\n",
    "\n",
    "# 2. Coriolis terms ($G_u^{fv}$)"
   ]
  },
  {
   "cell_type": "markdown",
   "metadata": {},
   "source": [
    "Next we create a `Grid` object from the dataset.\n",
    "We need to tell xgcm that the `X` and `Y` axes are periodic.\n",
    "(The other axes will be assumed to be non-periodic.)"
   ]
  },
  {
   "cell_type": "code",
   "execution_count": 15,
   "metadata": {},
   "outputs": [
    {
     "data": {
      "text/plain": [
       "<xgcm.Grid>\n",
       "Y Axis (periodic):\n",
       "  * center   j (4320) --> left\n",
       "  * left     j_g (4320) --> center\n",
       "X Axis (periodic):\n",
       "  * center   i (4320) --> left\n",
       "  * left     i_g (4320) --> center"
      ]
     },
     "execution_count": 15,
     "metadata": {},
     "output_type": "execute_result"
    }
   ],
   "source": [
    "grid = xgcm.Grid(ds, periodic=['X', 'Y'])\n",
    "grid"
   ]
  },
  {
   "cell_type": "code",
   "execution_count": 16,
   "metadata": {},
   "outputs": [],
   "source": [
    "lat = ds['YG']\n",
    "omega = 7.3/100000\n",
    "f = 2*omega*np.sin(np.deg2rad(lat))\n",
    "f_j = grid.interp(f,'Y')"
   ]
  },
  {
   "cell_type": "code",
   "execution_count": null,
   "metadata": {},
   "outputs": [],
   "source": [
    "for face in range(ds['face'].size):\n",
    "\n",
    "    dxgSSV_j = grid.interp(ds.dxG.isel(face=face) * ds['SSV'].isel(face=face),'Y') \n",
    "    dxgSSV_ji = grid.interp(dxgSSV_j,'X')    # SSV at (i_g,j)\n",
    "    zeta_3 = (grid.diff(ds.dyC.isel(face=face) * ds['SSV'].isel(face=face),'X') - grid.diff(ds.dxC.isel(face=face) * ds['SSU'].isel(face=face),'Y'))/ds.rAz.isel(face=face) # relative vorticity  \n",
    "    Coriolis_u = (f_j.isel(face=face) + grid.interp(zeta_3,'Y')) * dxgSSV_ji /ds.dxC.isel(face=face)    #(f+zeta)*SSV\n",
    "    Coriolis_u = np.real(Coriolis_u).rename('Coriolis_u')\n",
    "    Coriolis_u = Coriolis_u.chunk({'time': 1,'i_g':4320,'j':4320})\n",
    "    Coriolis_u.to_dataset().to_zarr(E_dir+'Coriolis_u_f%02d.nc'% (face), mode='w')\n",
    "    print('face=%d - allready processed'%(face))"
   ]
  },
  {
   "cell_type": "markdown",
   "metadata": {},
   "source": [
    "# 3. Gradient of Bernoulli function"
   ]
  },
  {
   "cell_type": "code",
   "execution_count": 18,
   "metadata": {},
   "outputs": [
    {
     "name": "stderr",
     "output_type": "stream",
     "text": [
      "distributed.utils_perf - WARNING - full garbage collections took 10% CPU time recently (threshold: 10%)\n",
      "distributed.utils_perf - WARNING - full garbage collections took 10% CPU time recently (threshold: 10%)\n",
      "distributed.utils_perf - WARNING - full garbage collections took 10% CPU time recently (threshold: 10%)\n",
      "distributed.utils_perf - WARNING - full garbage collections took 10% CPU time recently (threshold: 10%)\n",
      "distributed.utils_perf - WARNING - full garbage collections took 10% CPU time recently (threshold: 10%)\n",
      "distributed.utils_perf - WARNING - full garbage collections took 10% CPU time recently (threshold: 10%)\n"
     ]
    },
    {
     "name": "stdout",
     "output_type": "stream",
     "text": [
      "face=0 - allready processed\n",
      "face=1 - allready processed\n",
      "face=2 - allready processed\n",
      "face=3 - allready processed\n",
      "face=4 - allready processed\n",
      "face=5 - allready processed\n",
      "face=6 - allready processed\n",
      "face=7 - allready processed\n",
      "face=8 - allready processed\n",
      "face=9 - allready processed\n",
      "face=10 - allready processed\n",
      "face=11 - allready processed\n",
      "face=12 - allready processed\n"
     ]
    }
   ],
   "source": [
    "for face in range(ds['face'].size):\n",
    "\n",
    "    g = 9.81\n",
    "    KE = (grid.interp(ds['SSU'].isel(face=face)**2,'X') + grid.interp(ds['SSV'].isel(face=face)**2,'Y'))/2 # KE\n",
    "    dB_dx = (grid.diff(g*ds['Eta'].isel(face=face),'X') + grid.diff(KE,'X'))/ds.dxC.isel(face=face)     # d(Eta*g + KE)/dx\n",
    "    dB_dx = np.real(dB_dx).rename('dB_dx')    \n",
    "    dB_dx = dB_dx.chunk({'time': 1,'i_g':4320,'j':4320})\n",
    "    dB_dx.to_dataset().to_zarr(E_dir+'dB_dx_f%02d.nc'% (face), mode='w')\n",
    "    print('face=%d - allready processed'%(face))"
   ]
  },
  {
   "cell_type": "markdown",
   "metadata": {},
   "source": [
    "# 4. Residuals"
   ]
  },
  {
   "cell_type": "code",
   "execution_count": 28,
   "metadata": {},
   "outputs": [
    {
     "name": "stdout",
     "output_type": "stream",
     "text": [
      "<xarray.Dataset>\n",
      "Dimensions:        (face: 13, i_g: 4320, j: 4320, time: 720)\n",
      "Coordinates:\n",
      "  * i_g            (i_g) int64 0 1 2 3 4 5 6 7 8 9 10 11 12 13 14 15 16 17 ...\n",
      "  * j              (j) int64 0 1 2 3 4 5 6 7 8 9 10 11 12 13 14 15 16 17 18 ...\n",
      "  * time           (time) float64 5.702e+06 5.706e+06 5.71e+06 5.713e+06 ...\n",
      "  * face           (face) int64 0 1 2 3 4 5 6 7 8 9 10 11 12\n",
      "Data variables:\n",
      "    d_SSU_dt_time  (face, time, j, i_g) float32 dask.array<shape=(13, 720, 4320, 4320), chunksize=(1, 1, 4320, 4320)>\n"
     ]
    }
   ],
   "source": [
    "D = [xr.open_zarr(E_dir+'d_SSU_dt_f%02d.nc'%(face)) for face in range(13)]\n",
    "ds_tmp = xr.concat(D, dim='face')\n",
    "print(ds_tmp)"
   ]
  },
  {
   "cell_type": "code",
   "execution_count": 29,
   "metadata": {},
   "outputs": [
    {
     "name": "stdout",
     "output_type": "stream",
     "text": [
      "<xarray.Dataset>\n",
      "Dimensions:     (face: 13, i_g: 4320, j: 4320, time: 720)\n",
      "Coordinates:\n",
      "  * i_g         (i_g) int64 0 1 2 3 4 5 6 7 8 9 10 11 12 13 14 15 16 17 18 ...\n",
      "  * j           (j) int64 0 1 2 3 4 5 6 7 8 9 10 11 12 13 14 15 16 17 18 19 ...\n",
      "  * time        (time) float64 5.702e+06 5.706e+06 5.71e+06 5.713e+06 ...\n",
      "  * face        (face) int64 0 1 2 3 4 5 6 7 8 9 10 11 12\n",
      "Data variables:\n",
      "    Coriolis_u  (face, j, i_g, time) float32 dask.array<shape=(13, 4320, 4320, 720), chunksize=(1, 4320, 4320, 1)>\n"
     ]
    }
   ],
   "source": [
    "D = [xr.open_zarr(E_dir+'Coriolis_u_f%02d.nc'%(face)) for face in range(13)]\n",
    "ds_Coriolis = xr.concat(D, dim='face')\n",
    "print(ds_Coriolis)"
   ]
  },
  {
   "cell_type": "code",
   "execution_count": 30,
   "metadata": {},
   "outputs": [
    {
     "name": "stdout",
     "output_type": "stream",
     "text": [
      "<xarray.Dataset>\n",
      "Dimensions:  (face: 13, i_g: 4320, j: 4320, time: 720)\n",
      "Coordinates:\n",
      "  * i_g      (i_g) int64 0 1 2 3 4 5 6 7 8 9 10 11 12 13 14 15 16 17 18 19 ...\n",
      "  * j        (j) int64 0 1 2 3 4 5 6 7 8 9 10 11 12 13 14 15 16 17 18 19 20 ...\n",
      "  * time     (time) float64 5.702e+06 5.706e+06 5.71e+06 5.713e+06 5.717e+06 ...\n",
      "  * face     (face) int64 0 1 2 3 4 5 6 7 8 9 10 11 12\n",
      "Data variables:\n",
      "    dB_dx    (face, time, j, i_g) float32 dask.array<shape=(13, 720, 4320, 4320), chunksize=(1, 1, 4320, 4320)>\n"
     ]
    }
   ],
   "source": [
    "D = [xr.open_zarr(E_dir+'dB_dx_f%02d.nc'%(face)) for face in range(13)]\n",
    "ds_B = xr.concat(D, dim='face')\n",
    "print(ds_B)"
   ]
  },
  {
   "cell_type": "code",
   "execution_count": 31,
   "metadata": {},
   "outputs": [
    {
     "name": "stdout",
     "output_type": "stream",
     "text": [
      "CPU times: user 4 ms, sys: 0 ns, total: 4 ms\n",
      "Wall time: 5.52 ms\n",
      "<xarray.Dataset>\n",
      "Dimensions:        (face: 13, i_g: 4320, j: 4320, time: 720)\n",
      "Coordinates:\n",
      "  * i_g            (i_g) int64 0 1 2 3 4 5 6 7 8 9 10 11 12 13 14 15 16 17 ...\n",
      "  * j              (j) int64 0 1 2 3 4 5 6 7 8 9 10 11 12 13 14 15 16 17 18 ...\n",
      "  * time           (time) float64 5.702e+06 5.706e+06 5.71e+06 5.713e+06 ...\n",
      "  * face           (face) int64 0 1 2 3 4 5 6 7 8 9 10 11 12\n",
      "Data variables:\n",
      "    d_SSU_dt_time  (face, time, j, i_g) float32 dask.array<shape=(13, 720, 4320, 4320), chunksize=(1, 1, 4320, 4320)>\n",
      "    Coriolis_u     (face, j, i_g, time) float32 dask.array<shape=(13, 4320, 4320, 720), chunksize=(1, 4320, 4320, 1)>\n",
      "    dB_dx          (face, time, j, i_g) float32 dask.array<shape=(13, 720, 4320, 4320), chunksize=(1, 1, 4320, 4320)>\n",
      "\n",
      " data size: 2096.2 GB\n"
     ]
    }
   ],
   "source": [
    "%time ds = xr.merge([ds_tmp,ds_Coriolis,ds_B])\n",
    "print(ds)\n",
    "print('\\n data size: %.1f GB' %(ds.nbytes / 1e9))"
   ]
  },
  {
   "cell_type": "code",
   "execution_count": 34,
   "metadata": {},
   "outputs": [
    {
     "name": "stdout",
     "output_type": "stream",
     "text": [
      "<xarray.DataArray 'residuals_u' (time: 720, j: 4320, i_g: 4320)>\n",
      "dask.array<shape=(720, 4320, 4320), dtype=float32, chunksize=(1, 4320, 4320)>\n",
      "Coordinates:\n",
      "  * i_g      (i_g) int64 0 1 2 3 4 5 6 7 8 9 10 11 12 13 14 15 16 17 18 19 ...\n",
      "  * j        (j) int64 0 1 2 3 4 5 6 7 8 9 10 11 12 13 14 15 16 17 18 19 20 ...\n",
      "  * time     (time) float64 5.702e+06 5.706e+06 5.71e+06 5.713e+06 5.717e+06 ...\n",
      "    face     int64 0\n",
      "face=0 - allready processed\n"
     ]
    }
   ],
   "source": [
    "for face in range(ds['face'].size):\n",
    "\n",
    "    residuals_u = ds['d_SSU_dt_time'] - ds['Coriolis_u'] + ds['dB_dx']\n",
    "    residuals_u = np.real(residuals_u).rename('residuals_u').sel(face=face)  \n",
    "    print(residuals_u)\n",
    "    residuals_u = residuals_u.chunk({'time': 1,'i_g':4320,'j':4320})\n",
    "    residuals_u.to_dataset().to_zarr(E_dir+'residuals_u_f%02d.nc'% (face), mode='w')\n",
    "    print('face=%d - allready processed'%(face))"
   ]
  },
  {
   "cell_type": "code",
   "execution_count": 35,
   "metadata": {},
   "outputs": [
    {
     "name": "stdout",
     "output_type": "stream",
     "text": [
      "<xarray.Dataset>\n",
      "Dimensions:      (face: 13, i_g: 4320, j: 4320, time: 720)\n",
      "Coordinates:\n",
      "  * i_g          (i_g) int64 0 1 2 3 4 5 6 7 8 9 10 11 12 13 14 15 16 17 18 ...\n",
      "  * j            (j) int64 0 1 2 3 4 5 6 7 8 9 10 11 12 13 14 15 16 17 18 19 ...\n",
      "  * time         (time) float64 5.702e+06 5.706e+06 5.71e+06 5.713e+06 ...\n",
      "  * face         (face) int64 0 1 2 3 4 5 6 7 8 9 10 11 12\n",
      "Data variables:\n",
      "    residuals_u  (face, time, j, i_g) float32 dask.array<shape=(13, 720, 4320, 4320), chunksize=(1, 1, 4320, 4320)>\n"
     ]
    }
   ],
   "source": [
    "D = [xr.open_zarr(E_dir+'residuals_u_f%02d.nc'%(face)) for face in range(13)]\n",
    "ds_residuals = xr.concat(D, dim='face')\n",
    "print(ds_residuals)"
   ]
  },
  {
   "cell_type": "code",
   "execution_count": 36,
   "metadata": {},
   "outputs": [
    {
     "name": "stdout",
     "output_type": "stream",
     "text": [
      "CPU times: user 4 ms, sys: 0 ns, total: 4 ms\n",
      "Wall time: 2.01 ms\n",
      "<xarray.Dataset>\n",
      "Dimensions:        (face: 13, i_g: 4320, j: 4320, time: 720)\n",
      "Coordinates:\n",
      "  * i_g            (i_g) int64 0 1 2 3 4 5 6 7 8 9 10 11 12 13 14 15 16 17 ...\n",
      "  * j              (j) int64 0 1 2 3 4 5 6 7 8 9 10 11 12 13 14 15 16 17 18 ...\n",
      "  * time           (time) float64 5.702e+06 5.706e+06 5.71e+06 5.713e+06 ...\n",
      "  * face           (face) int64 0 1 2 3 4 5 6 7 8 9 10 11 12\n",
      "Data variables:\n",
      "    d_SSU_dt_time  (face, time, j, i_g) float32 dask.array<shape=(13, 720, 4320, 4320), chunksize=(1, 1, 4320, 4320)>\n",
      "    Coriolis_u     (face, j, i_g, time) float32 dask.array<shape=(13, 4320, 4320, 720), chunksize=(1, 4320, 4320, 1)>\n",
      "    dB_dx          (face, time, j, i_g) float32 dask.array<shape=(13, 720, 4320, 4320), chunksize=(1, 1, 4320, 4320)>\n",
      "    residuals_u    (face, time, j, i_g) float32 dask.array<shape=(13, 720, 4320, 4320), chunksize=(1, 1, 4320, 4320)>\n",
      "\n",
      " data size: 2794.9 GB\n"
     ]
    }
   ],
   "source": [
    "%time ds = xr.merge([ds,ds_residuals])\n",
    "print(ds)\n",
    "print('\\n data size: %.1f GB' %(ds.nbytes / 1e9))"
   ]
  },
  {
   "cell_type": "markdown",
   "metadata": {},
   "source": [
    "# 5. Figures"
   ]
  },
  {
   "cell_type": "code",
   "execution_count": null,
   "metadata": {},
   "outputs": [],
   "source": [
    "face_1 = 1\n",
    "\n",
    "fig = plt.figure(figsize = (24,12))\n",
    "\n",
    "plt.subplot(221)\n",
    "ds['Coriolis_u'].isel(face= face_1,time=80).plot(vmin=-0.0001, vmax=0.0001, cmap = cm.balance)\n",
    "plt.subplot(222)\n",
    "ds['d_SSU_dt_time'].isel(face= face_1,time=80).plot(vmin=-0.0001, vmax=0.0001, cmap = cm.balance)\n",
    "plt.subplot(223)\n",
    "ds['dB_dx'].isel(face= face_1,time=80).plot(vmin=-0.0001, vmax=0.0001, cmap = cm.balance)\n",
    "plt.subplot(224)\n",
    "ds['residuals_u'].isel(face= face_1,time=80).plot(vmin=-0.0001, vmax=0.0001, cmap = cm.balance)"
   ]
  },
  {
   "cell_type": "code",
   "execution_count": null,
   "metadata": {},
   "outputs": [],
   "source": [
    "# std\n",
    "residuals_u_std = ds['residuals_u'].isel(face=face_1,i_g=slice(500,1500),j=slice(500,2000)).std(['i_g','j']).load()\n",
    "Coriolis_u_std = ds['Coriolis_u'].isel(face=face_1,i_g=slice(500,1500),j=slice(500,2000)).std(['i_g','j']).load()\n",
    "dB_dx_std = ds['dB_dx'].isel(face=face_1,i_g=slice(500,1500),j=slice(500,2000)).std(['i_g','j']).load()\n",
    "d_SSU_dt_time_std = ds['d_SSU_dt_time'].isel(face=face_1,i_g=slice(500,1500),j=slice(500,2000)).std(['i_g','j']).load()"
   ]
  },
  {
   "cell_type": "code",
   "execution_count": 39,
   "metadata": {},
   "outputs": [
    {
     "data": {
      "text/plain": [
       "(0, 2.5e-05)"
      ]
     },
     "execution_count": 39,
     "metadata": {},
     "output_type": "execute_result"
    },
    {
     "data": {
      "image/png": "[encoded data removed]",
      "text/plain": [
       "<Figure size 1152x576 with 1 Axes>"
      ]
     },
     "metadata": {},
     "output_type": "display_data"
    }
   ],
   "source": [
    "# std\n",
    "fig, ax = plt.subplots(figsize=(16,8))\n",
    "labels = ['residuals', 'Coriolis_u','dB_dx','d_SSU_dt_time']\n",
    "\n",
    "residuals_u_std.plot(ax=ax, label=labels[0])\n",
    "Coriolis_u_std.plot(ax=ax, label=labels[1])\n",
    "dB_dx_std.plot(ax=ax, label=labels[2])\n",
    "d_SSU_dt_time_std.plot(ax=ax, label=labels[3])\n",
    "ax.legend(); ax.grid()\n",
    "#ax.set_xlim([0,480])\n",
    "ax.set_ylim([0,2.5*1e-5])"
   ]
  },
  {
   "cell_type": "code",
   "execution_count": 67,
   "metadata": {},
   "outputs": [
    {
     "data": {
      "text/plain": [
       "<Future finished result=None>"
      ]
     },
     "execution_count": 67,
     "metadata": {},
     "output_type": "execute_result"
    }
   ],
   "source": [
    "cluster.scheduler.close()"
   ]
  },
  {
   "cell_type": "code",
   "execution_count": null,
   "metadata": {},
   "outputs": [],
   "source": []
  }
 ],
 "metadata": {
  "kernelspec": {
   "display_name": "Python 3",
   "language": "python",
   "name": "python3"
  },
  "language_info": {
   "codemirror_mode": {
    "name": "ipython",
    "version": 3
   },
   "file_extension": ".py",
   "mimetype": "text/x-python",
   "name": "python",
   "nbconvert_exporter": "python",
   "pygments_lexer": "ipython3",
   "version": "3.6.5"
  }
 },
 "nbformat": 4,
 "nbformat_minor": 2
}

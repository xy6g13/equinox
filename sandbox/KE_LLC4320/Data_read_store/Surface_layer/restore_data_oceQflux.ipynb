{
 "cells": [
  {
   "cell_type": "code",
   "execution_count": 1,
   "metadata": {},
   "outputs": [
    {
     "name": "stderr",
     "output_type": "stream",
     "text": [
      "/home1/datahome/xyu/.miniconda3/envs/equinox/lib/python3.6/importlib/_bootstrap.py:219: RuntimeWarning: numpy.dtype size changed, may indicate binary incompatibility. Expected 96, got 88\n",
      "  return f(*args, **kwds)\n",
      "/home1/datahome/xyu/.miniconda3/envs/equinox/lib/python3.6/importlib/_bootstrap.py:219: RuntimeWarning: numpy.dtype size changed, may indicate binary incompatibility. Expected 96, got 88\n",
      "  return f(*args, **kwds)\n",
      "/home1/datahome/xyu/.miniconda3/envs/equinox/lib/python3.6/site-packages/cmocean/tools.py:76: MatplotlibDeprecationWarning: The is_string_like function was deprecated in version 2.1.\n",
      "  if not mpl.cbook.is_string_like(rgbin[0]):\n",
      "/home1/datahome/xyu/.miniconda3/envs/equinox/lib/python3.6/importlib/_bootstrap.py:219: RuntimeWarning: numpy.dtype size changed, may indicate binary incompatibility. Expected 96, got 88\n",
      "  return f(*args, **kwds)\n"
     ]
    }
   ],
   "source": [
    "import os\n",
    "from glob import glob\n",
    "import dask\n",
    "import xarray as xr\n",
    "import xrft\n",
    "import cartopy.crs as ccrs\n",
    "from cmocean import cm\n",
    "import numpy as np\n",
    "from netCDF4 import Dataset\n",
    "from scipy.io import loadmat\n",
    "\n",
    "from matplotlib import pyplot as plt\n",
    "%matplotlib inline\n",
    "\n",
    "from mitequinox.utils import *"
   ]
  },
  {
   "cell_type": "code",
   "execution_count": 2,
   "metadata": {},
   "outputs": [
    {
     "name": "stderr",
     "output_type": "stream",
     "text": [
      "/home1/datahome/xyu/.miniconda3/envs/equinox/lib/python3.6/site-packages/distributed/utils.py:128: RuntimeWarning: Couldn't detect a suitable IP address for reaching '8.8.8.8', defaulting to '127.0.0.1': [Errno 101] Network is unreachable\n",
      "  % (host, default, e), RuntimeWarning)\n"
     ]
    }
   ],
   "source": [
    "from dask_jobqueue import PBSCluster\n",
    "local_dir = os.getenv('TMPDIR')\n",
    "cluster = PBSCluster(local_directory=local_dir)\n",
    "\n",
    "w = cluster.start_workers(3)"
   ]
  },
  {
   "cell_type": "code",
   "execution_count": 3,
   "metadata": {},
   "outputs": [],
   "source": [
    "# get dask handles and check dask server status\n",
    "from dask.distributed import Client\n",
    "client = Client(cluster)"
   ]
  },
  {
   "cell_type": "code",
   "execution_count": 4,
   "metadata": {},
   "outputs": [
    {
     "data": {
      "text/html": [
       "<table style=\"border: 2px solid white;\">\n",
       "<tr>\n",
       "<td style=\"vertical-align: top; border: 0px solid white\">\n",
       "<h3>Client</h3>\n",
       "<ul>\n",
       "  <li><b>Scheduler: </b>tcp://10.148.1.13:36860\n",
       "  <li><b>Dashboard: </b><a href='http://10.148.1.13:8787/status' target='_blank'>http://10.148.1.13:8787/status</a>\n",
       "</ul>\n",
       "</td>\n",
       "<td style=\"vertical-align: top; border: 0px solid white\">\n",
       "<h3>Cluster</h3>\n",
       "<ul>\n",
       "  <li><b>Workers: </b>6</li>\n",
       "  <li><b>Cores: </b>24</li>\n",
       "  <li><b>Memory: </b>300.00 GB</li>\n",
       "</ul>\n",
       "</td>\n",
       "</tr>\n",
       "</table>"
      ],
      "text/plain": [
       "<Client: scheduler='tcp://10.148.1.13:36860' processes=6 cores=24>"
      ]
     },
     "execution_count": 4,
     "metadata": {},
     "output_type": "execute_result"
    }
   ],
   "source": [
    "client"
   ]
  },
  {
   "cell_type": "markdown",
   "metadata": {},
   "source": [
    "# oceSflux"
   ]
  },
  {
   "cell_type": "code",
   "execution_count": 5,
   "metadata": {},
   "outputs": [],
   "source": [
    "# the path where (Zach's) LLC4320 data are already stored\n",
    "LLC_data_folder = '/home1/datawork/xyu/OSMOSIS_llc4320/'\n",
    "# the path where the data will be re-stored\n",
    "out_dir_nc = '/home1/scratch/xyu/OSMOSIS_llc4320/nc_file/'\n",
    "\n",
    "# variable \n",
    "v = 'oceSflux'"
   ]
  },
  {
   "cell_type": "code",
   "execution_count": 6,
   "metadata": {},
   "outputs": [
    {
     "name": "stdout",
     "output_type": "stream",
     "text": [
      "Number of files processed: 9415\n"
     ]
    },
    {
     "name": "stderr",
     "output_type": "stream",
     "text": [
      "/home1/datahome/xyu/.miniconda3/envs/equinox/lib/python3.6/site-packages/dask/utils.py:1010: UserWarning: Deprecated, see dask.base.get_scheduler instead\n",
      "  warnings.warn(\"Deprecated, see dask.base.get_scheduler instead\")\n"
     ]
    }
   ],
   "source": [
    "# search for right files, for example: Theta_177x201x52.*\n",
    "filenames = sorted(glob(LLC_data_folder+v+'/'+v+'_177x201.*')) \n",
    "print('Number of files processed: %d' %len(filenames))\n",
    "\n",
    "# store in netcdf files\n",
    "fsize_bound = 5*1e6\n",
    "\n",
    "for i in np.arange(len(filenames)):\n",
    "#for i in np.arange(20):\n",
    "\n",
    "    #\n",
    "    file_out = out_dir_nc+'/%s_t%05d.nc'%(v, i)\n",
    "          \n",
    "    if not os.path.isfile(file_out) or os.path.getsize(file_out) < fsize_bound:            \n",
    "        \n",
    "        ds = np.fromfile(filenames[i] , dtype='>f').reshape(201,177)\n",
    "        ds = np.array(ds)\n",
    "        ds = xr.DataArray(ds, dims=['lat','lon'])\n",
    "        ds = np.real(ds).rename(v)\n",
    "        ds = ds.load() # this may be required in order to prevent pickle related errors\n",
    "\n",
    "        #\n",
    "        while True:\n",
    "            try:\n",
    "                ds.to_netcdf(file_out, mode='w', unlimited_dims=['time'])\n",
    "\n",
    "            except:\n",
    "                print('failure')\n",
    "            break\n",
    "\n",
    "    else:\n",
    "        print('t=%d - allready processed'%(i))"
   ]
  },
  {
   "cell_type": "markdown",
   "metadata": {},
   "source": [
    "# 2. Add coordinates and put variables into one xarray file"
   ]
  },
  {
   "cell_type": "code",
   "execution_count": 7,
   "metadata": {},
   "outputs": [
    {
     "name": "stdout",
     "output_type": "stream",
     "text": [
      "Number of files processed: 9415\n",
      "CPU times: user 25.6 s, sys: 5.58 s, total: 31.2 s\n",
      "Wall time: 32.4 s\n",
      "<xarray.Dataset>\n",
      "Dimensions:   (lat: 201, lon: 177, time: 9415)\n",
      "Dimensions without coordinates: lat, lon, time\n",
      "Data variables:\n",
      "    oceSflux  (time, lat, lon) float32 dask.array<shape=(9415, 201, 177), chunksize=(1, 201, 177)>\n"
     ]
    }
   ],
   "source": [
    "filenames = sorted(glob(out_dir_nc+v+'_t*.nc')) \n",
    "print('Number of files processed: %d' %len(filenames))\n",
    "%time ds = xr.open_mfdataset(filenames, concat_dim='time', compat='equals')\n",
    "print(ds)"
   ]
  },
  {
   "cell_type": "code",
   "execution_count": 8,
   "metadata": {},
   "outputs": [],
   "source": [
    "def iters_to_date(iters, delta_t=3600.):\n",
    "    t0 = datetime.datetime(2011,9,13)    \n",
    "    ltime = delta_t * (np.array(iters))\n",
    "    dtime = [t0+dateutil.relativedelta.relativedelta(seconds=t) for t in ltime]    \n",
    "    return dtime"
   ]
  },
  {
   "cell_type": "code",
   "execution_count": 9,
   "metadata": {},
   "outputs": [
    {
     "name": "stdout",
     "output_type": "stream",
     "text": [
      "<xarray.Dataset>\n",
      "Dimensions:   (lat: 201, lon: 177, time: 9415)\n",
      "Coordinates:\n",
      "  * time      (time) float64 0.0 0.04167 0.08333 0.125 0.1667 0.2083 0.25 ...\n",
      "Dimensions without coordinates: lat, lon\n",
      "Data variables:\n",
      "    oceSflux  (time, lat, lon) float32 dask.array<shape=(9415, 201, 177), chunksize=(1, 201, 177)>\n"
     ]
    }
   ],
   "source": [
    "ds = ds.assign_coords(time=np.arange(len(filenames))*3600/86400) \n",
    "print(ds)"
   ]
  },
  {
   "cell_type": "code",
   "execution_count": 10,
   "metadata": {},
   "outputs": [
    {
     "name": "stdout",
     "output_type": "stream",
     "text": [
      "<xarray.Dataset>\n",
      "Dimensions:   (lat: 201, lon: 177, time: 9415)\n",
      "Coordinates:\n",
      "  * time      (time) float64 0.0 0.04167 0.08333 0.125 0.1667 0.2083 0.25 ...\n",
      "Dimensions without coordinates: lat, lon\n",
      "Data variables:\n",
      "    oceSflux  (time, lat, lon) float32 dask.array<shape=(9415, 201, 177), chunksize=(9415, 201, 177)>\n"
     ]
    }
   ],
   "source": [
    "chunks = {'time': 9415, 'lat': 201, 'lon': 177}\n",
    "ds = ds.chunk(chunks)\n",
    "print(ds)"
   ]
  },
  {
   "cell_type": "code",
   "execution_count": 11,
   "metadata": {},
   "outputs": [
    {
     "name": "stdout",
     "output_type": "stream",
     "text": [
      "CPU times: user 20.7 s, sys: 1.04 s, total: 21.7 s\n",
      "Wall time: 30.6 s\n"
     ]
    },
    {
     "data": {
      "text/plain": [
       "<xarray.backends.zarr.ZarrStore at 0x2aaaf6b784a8>"
      ]
     },
     "execution_count": 11,
     "metadata": {},
     "output_type": "execute_result"
    }
   ],
   "source": [
    "out_dir_zarr = '/home1/datawork/xyu/OSMOSIS_llc4320/data_rechunk/'\n",
    "\n",
    "file_out = out_dir_zarr+'/%s_total_rechunk.zarr'%(v)\n",
    "%time ds.to_zarr(file_out, mode='w')     "
   ]
  },
  {
   "cell_type": "markdown",
   "metadata": {},
   "source": [
    "# Read re-chunked data"
   ]
  },
  {
   "cell_type": "code",
   "execution_count": 12,
   "metadata": {},
   "outputs": [
    {
     "name": "stdout",
     "output_type": "stream",
     "text": [
      "<xarray.Dataset>\n",
      "Dimensions:   (lat: 201, lon: 177, time: 9415)\n",
      "Coordinates:\n",
      "  * time      (time) float64 0.0 0.04167 0.08333 0.125 0.1667 0.2083 0.25 ...\n",
      "Dimensions without coordinates: lat, lon\n",
      "Data variables:\n",
      "    oceSflux  (time, lat, lon) float32 dask.array<shape=(9415, 201, 177), chunksize=(9415, 201, 177)>\n",
      "\n",
      " data size: 1.3 GB\n"
     ]
    }
   ],
   "source": [
    "ds = xr.open_zarr(out_dir_zarr+v+'_total_rechunk.zarr')\n",
    "print(ds)\n",
    "print('\\n data size: %.1f GB' %(ds.nbytes / 1e9))"
   ]
  },
  {
   "cell_type": "code",
   "execution_count": 14,
   "metadata": {},
   "outputs": [
    {
     "name": "stdout",
     "output_type": "stream",
     "text": [
      "CPU times: user 52 ms, sys: 8 ms, total: 60 ms\n",
      "Wall time: 1 s\n"
     ]
    },
    {
     "data": {
      "text/plain": [
       "[<matplotlib.lines.Line2D at 0x2aab129327b8>]"
      ]
     },
     "execution_count": 14,
     "metadata": {},
     "output_type": "execute_result"
    },
    {
     "data": {
      "image/png": "[encoded data removed]",
      "text/plain": [
       "<Figure size 1728x576 with 1 Axes>"
      ]
     },
     "metadata": {},
     "output_type": "display_data"
    }
   ],
   "source": [
    "fig = plt.figure(figsize=(24,8))\n",
    "%time ds[v].isel(lat=slice(90,91), lon=slice(90,91)).mean(dim=['lat','lon']).plot()"
   ]
  },
  {
   "cell_type": "code",
   "execution_count": null,
   "metadata": {},
   "outputs": [],
   "source": []
  },
  {
   "cell_type": "code",
   "execution_count": null,
   "metadata": {},
   "outputs": [],
   "source": []
  },
  {
   "cell_type": "code",
   "execution_count": 16,
   "metadata": {},
   "outputs": [
    {
     "data": {
      "text/plain": [
       "<Future finished result=None>"
      ]
     },
     "execution_count": 16,
     "metadata": {},
     "output_type": "execute_result"
    }
   ],
   "source": [
    "cluster.scheduler.close()"
   ]
  },
  {
   "cell_type": "code",
   "execution_count": null,
   "metadata": {},
   "outputs": [],
   "source": []
  }
 ],
 "metadata": {
  "kernelspec": {
   "display_name": "Python 3",
   "language": "python",
   "name": "python3"
  },
  "language_info": {
   "codemirror_mode": {
    "name": "ipython",
    "version": 3
   },
   "file_extension": ".py",
   "mimetype": "text/x-python",
   "name": "python",
   "nbconvert_exporter": "python",
   "pygments_lexer": "ipython3",
   "version": "3.6.5"
  }
 },
 "nbformat": 4,
 "nbformat_minor": 2
}

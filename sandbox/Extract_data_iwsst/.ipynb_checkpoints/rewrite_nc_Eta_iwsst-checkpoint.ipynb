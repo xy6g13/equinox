{
 "cells": [
  {
   "cell_type": "code",
   "execution_count": 1,
   "metadata": {},
   "outputs": [
    {
     "name": "stderr",
     "output_type": "stream",
     "text": [
      "/home1/datahome/xyu/.miniconda3/envs/equinox/lib/python3.6/site-packages/cmocean/tools.py:76: MatplotlibDeprecationWarning: The is_string_like function was deprecated in version 2.1.\n",
      "  if not mpl.cbook.is_string_like(rgbin[0]):\n"
     ]
    }
   ],
   "source": [
    "import os, sys\n",
    "import numpy as np\n",
    "import dask\n",
    "import xarray as xr\n",
    "from matplotlib import pyplot as plt\n",
    "%matplotlib inline\n",
    "\n",
    "from mitequinox.utils import *"
   ]
  },
  {
   "cell_type": "code",
   "execution_count": 2,
   "metadata": {},
   "outputs": [
    {
     "name": "stderr",
     "output_type": "stream",
     "text": [
      "/home1/datahome/xyu/.miniconda3/envs/equinox/lib/python3.6/site-packages/distributed/utils.py:128: RuntimeWarning: Couldn't detect a suitable IP address for reaching '8.8.8.8', defaulting to '127.0.0.1': [Errno 101] Network is unreachable\n",
      "  % (host, default, e), RuntimeWarning)\n"
     ]
    }
   ],
   "source": [
    "dmethod = 1\n",
    "#\n",
    "if dmethod == 0:\n",
    "    client = None\n",
    "if dmethod == 1:\n",
    "    from dask.distributed import Client\n",
    "    scheduler = os.getenv('DATAWORK')+'/dask/scheduler.json'\n",
    "    client = Client(scheduler_file=scheduler)\n",
    "elif dmethod == 2:\n",
    "    from dask_jobqueue import PBSCluster\n",
    "    # folder where data is spilled when RAM is filled up\n",
    "    local_dir = os.getenv('TMPDIR')\n",
    "    #\n",
    "    cluster = PBSCluster(queue='mpi_1', local_directory=local_dir, interface='ib0', walltime='24:00:00',\n",
    "                         threads=14, processes=2, memory='50GB', resource_spec='select=1:ncpus=28:mem=100g', \n",
    "                         death_timeout=100)\n",
    "    w = cluster.start_workers(40)"
   ]
  },
  {
   "cell_type": "code",
   "execution_count": 3,
   "metadata": {},
   "outputs": [],
   "source": [
    "# you need to wait for workers to spin up\n",
    "if dmethod == 2:\n",
    "    cluster.scheduler"
   ]
  },
  {
   "cell_type": "code",
   "execution_count": 4,
   "metadata": {},
   "outputs": [],
   "source": [
    "# get dask handles and check dask server status\n",
    "if dmethod == 2:\n",
    "    from dask.distributed import Client\n",
    "    client = Client(cluster)"
   ]
  },
  {
   "cell_type": "code",
   "execution_count": 5,
   "metadata": {},
   "outputs": [
    {
     "data": {
      "text/html": [
       "<table style=\"border: 2px solid white;\">\n",
       "<tr>\n",
       "<td style=\"vertical-align: top; border: 0px solid white\">\n",
       "<h3>Client</h3>\n",
       "<ul>\n",
       "  <li><b>Scheduler: </b>tcp://10.148.0.4:8786\n",
       "  <li><b>Dashboard: </b><a href='http://10.148.0.4:8787/status' target='_blank'>http://10.148.0.4:8787/status</a>\n",
       "</ul>\n",
       "</td>\n",
       "<td style=\"vertical-align: top; border: 0px solid white\">\n",
       "<h3>Cluster</h3>\n",
       "<ul>\n",
       "  <li><b>Workers: </b>7</li>\n",
       "  <li><b>Cores: </b>98</li>\n",
       "  <li><b>Memory: </b>700.00 GB</li>\n",
       "</ul>\n",
       "</td>\n",
       "</tr>\n",
       "</table>"
      ],
      "text/plain": [
       "<Client: scheduler='tcp://10.148.0.4:8786' processes=7 cores=98>"
      ]
     },
     "execution_count": 5,
     "metadata": {},
     "output_type": "execute_result"
    }
   ],
   "source": [
    "client"
   ]
  },
  {
   "cell_type": "markdown",
   "metadata": {},
   "source": [
    "--- \n",
    "\n",
    "# standard data layout: (face, j, i), 1 file per time (for movies)"
   ]
  },
  {
   "cell_type": "code",
   "execution_count": 6,
   "metadata": {},
   "outputs": [
    {
     "name": "stderr",
     "output_type": "stream",
     "text": [
      "/home1/datahome/xyu/.miniconda3/envs/equinox/lib/python3.6/site-packages/xmitgcm/mds_store.py:721: UserWarning: Couldn't find available_diagnostics.log in . Using default version.\n",
      "  \"in %s. Using default version.\" % data_dir)\n",
      "/home1/datahome/xyu/.miniconda3/envs/equinox/lib/python3.6/site-packages/xmitgcm/utils.py:314: UserWarning: Not sure what to do with rlev = L\n",
      "  warnings.warn(\"Not sure what to do with rlev = \" + rlev)\n",
      "/home1/datahome/xyu/.miniconda3/envs/equinox/lib/python3.6/site-packages/xmitgcm/mds_store.py:235: FutureWarning: iteration over an xarray.Dataset will change in xarray v0.11 to only include data variables, not coordinates. Iterate over the Dataset.variables property instead to preserve existing behavior in a forwards compatible manner.\n",
      "  for vname in ds:\n"
     ]
    },
    {
     "name": "stdout",
     "output_type": "stream",
     "text": [
      "<xarray.Dataset>\n",
      "Dimensions:  (face: 13, i: 4320, i_g: 4320, j: 4320, j_g: 4320, k: 90, k_l: 90, k_p1: 91, k_u: 90, time: 8218)\n",
      "Coordinates:\n",
      "  * i        (i) int64 0 1 2 3 4 5 6 7 8 9 10 11 12 13 14 15 16 17 18 19 20 ...\n",
      "  * i_g      (i_g) int64 0 1 2 3 4 5 6 7 8 9 10 11 12 13 14 15 16 17 18 19 ...\n",
      "  * j        (j) int64 0 1 2 3 4 5 6 7 8 9 10 11 12 13 14 15 16 17 18 19 20 ...\n",
      "  * j_g      (j_g) int64 0 1 2 3 4 5 6 7 8 9 10 11 12 13 14 15 16 17 18 19 ...\n",
      "  * k        (k) int64 0 1 2 3 4 5 6 7 8 9 10 11 12 13 14 15 16 17 18 19 20 ...\n",
      "  * k_u      (k_u) int64 0 1 2 3 4 5 6 7 8 9 10 11 12 13 14 15 16 17 18 19 ...\n",
      "  * k_l      (k_l) int64 0 1 2 3 4 5 6 7 8 9 10 11 12 13 14 15 16 17 18 19 ...\n",
      "  * k_p1     (k_p1) int64 0 1 2 3 4 5 6 7 8 9 10 11 12 13 14 15 16 17 18 19 ...\n",
      "  * face     (face) int64 0 1 2 3 4 5 6 7 8 9 10 11 12\n",
      "    XC       (face, j, i) >f4 dask.array<shape=(13, 4320, 4320), chunksize=(1, 4320, 4320)>\n",
      "    YC       (face, j, i) >f4 dask.array<shape=(13, 4320, 4320), chunksize=(1, 4320, 4320)>\n",
      "    XG       (face, j_g, i_g) >f4 dask.array<shape=(13, 4320, 4320), chunksize=(1, 4320, 4320)>\n",
      "    YG       (face, j_g, i_g) >f4 dask.array<shape=(13, 4320, 4320), chunksize=(1, 4320, 4320)>\n",
      "    Z        (k) float32 dask.array<shape=(90,), chunksize=(90,)>\n",
      "    Zp1      (k_p1) float32 dask.array<shape=(91,), chunksize=(91,)>\n",
      "    Zu       (k_u) float32 dask.array<shape=(90,), chunksize=(90,)>\n",
      "    Zl       (k_l) float32 dask.array<shape=(90,), chunksize=(90,)>\n",
      "    rA       (face, j, i) >f4 dask.array<shape=(13, 4320, 4320), chunksize=(1, 4320, 4320)>\n",
      "    dxG      (face, j_g, i) >f4 dask.array<shape=(13, 4320, 4320), chunksize=(1, 4320, 4320)>\n",
      "    dyG      (face, j, i_g) >f4 dask.array<shape=(13, 4320, 4320), chunksize=(1, 4320, 4320)>\n",
      "    Depth    (face, j, i) >f4 dask.array<shape=(13, 4320, 4320), chunksize=(1, 4320, 4320)>\n",
      "    rAz      (face, j_g, i_g) >f4 dask.array<shape=(13, 4320, 4320), chunksize=(1, 4320, 4320)>\n",
      "    dxC      (face, j, i_g) >f4 dask.array<shape=(13, 4320, 4320), chunksize=(1, 4320, 4320)>\n",
      "    dyC      (face, j_g, i) >f4 dask.array<shape=(13, 4320, 4320), chunksize=(1, 4320, 4320)>\n",
      "    rAw      (face, j, i_g) >f4 dask.array<shape=(13, 4320, 4320), chunksize=(1, 4320, 4320)>\n",
      "    rAs      (face, j_g, i) >f4 dask.array<shape=(13, 4320, 4320), chunksize=(1, 4320, 4320)>\n",
      "    drC      (k_p1) float32 dask.array<shape=(91,), chunksize=(91,)>\n",
      "    drF      (k) float32 dask.array<shape=(90,), chunksize=(90,)>\n",
      "    PHrefC   (k) float32 dask.array<shape=(90,), chunksize=(90,)>\n",
      "    PHrefF   (k_p1) float32 dask.array<shape=(91,), chunksize=(91,)>\n",
      "    hFacC    (k, face, j, i) >f4 dask.array<shape=(90, 13, 4320, 4320), chunksize=(1, 1, 4320, 4320)>\n",
      "    hFacW    (k, face, j, i_g) >f4 dask.array<shape=(90, 13, 4320, 4320), chunksize=(1, 1, 4320, 4320)>\n",
      "    hFacS    (k, face, j_g, i) >f4 dask.array<shape=(90, 13, 4320, 4320), chunksize=(1, 1, 4320, 4320)>\n",
      "  * time     (time) float64 2.592e+05 2.628e+05 2.664e+05 2.7e+05 2.736e+05 ...\n",
      "Data variables:\n",
      "    Eta      (time, face, j, i) >f4 dask.array<shape=(8218, 13, 4320, 4320), chunksize=(1, 1, 4320, 4320)>\n",
      "Attributes:\n",
      "    Conventions:  CF-1.6\n",
      "    title:        netCDF wrapper of MITgcm MDS binary data\n",
      "    source:       MITgcm\n",
      "    history:      Created by calling `open_mdsdataset(llc_method='smallchunks...\n",
      "\n",
      " data size: 7975.1 GB\n",
      "\n",
      " data size (1 face): 613.5 GB\n"
     ]
    }
   ],
   "source": [
    "# read Eta outputs using xrray and xmitgcm\n",
    "data_dir = '/home/datawork-lops-osi/data/mit4320/Eta/'\n",
    "grid_dir = '/home/datawork-lops-osi/data/mit4320/grid/'\n",
    "\n",
    "iters, time = get_iters_time('Eta', data_dir, delta_t=25.)\n",
    "\n",
    "ds = get_compressed_data('Eta', data_dir, grid_dir, iters=iters, time=time, client=client)\n",
    "ds = ds.chunk({'face': 1})\n",
    "print(ds)\n",
    "print('\\n data size: %.1f GB' %(ds['Eta'].nbytes / 1e9))\n",
    "print('\\n data size (1 face): %.1f GB' %(ds['Eta'].isel(face=1).nbytes / 1e9))"
   ]
  },
  {
   "cell_type": "code",
   "execution_count": 7,
   "metadata": {},
   "outputs": [
    {
     "data": {
      "image/png": "[encoded data removed]",
      "text/plain": [
       "<Figure size 432x288 with 2 Axes>"
      ]
     },
     "metadata": {},
     "output_type": "display_data"
    }
   ],
   "source": [
    "eta = ds['Eta'].isel(face=4, time=8000, i=slice(2500,3500), j=slice(2000,3000)).plot()"
   ]
  },
  {
   "cell_type": "code",
   "execution_count": 6,
   "metadata": {},
   "outputs": [
    {
     "name": "stderr",
     "output_type": "stream",
     "text": [
      "/home1/datahome/xyu/.miniconda3/envs/equinox/lib/python3.6/site-packages/xmitgcm/mds_store.py:721: UserWarning: Couldn't find available_diagnostics.log in . Using default version.\n",
      "  \"in %s. Using default version.\" % data_dir)\n",
      "/home1/datahome/xyu/.miniconda3/envs/equinox/lib/python3.6/site-packages/xmitgcm/utils.py:314: UserWarning: Not sure what to do with rlev = L\n",
      "  warnings.warn(\"Not sure what to do with rlev = \" + rlev)\n",
      "/home1/datahome/xyu/.miniconda3/envs/equinox/lib/python3.6/site-packages/xmitgcm/mds_store.py:235: FutureWarning: iteration over an xarray.Dataset will change in xarray v0.11 to only include data variables, not coordinates. Iterate over the Dataset.variables property instead to preserve existing behavior in a forwards compatible manner.\n",
      "  for vname in ds:\n",
      "/home1/datahome/xyu/.miniconda3/envs/equinox/lib/python3.6/site-packages/distributed/worker.py:742: UserWarning: Large object of size 3.58 MB detected in task graph: \n",
      "  (\"('astype-d8cef5aff71c9e06f43f95f420ce511a', 0, 0 ... 94a0>]), False)\n",
      "Consider scattering large objects ahead of time\n",
      "with client.scatter to reduce scheduler burden and \n",
      "keep data on workers\n",
      "\n",
      "    future = client.submit(func, big_data)    # bad\n",
      "\n",
      "    big_future = client.scatter(big_data)     # good\n",
      "    future = client.submit(func, big_future)  # good\n",
      "  % (format_bytes(len(b)), s))\n"
     ]
    },
    {
     "name": "stdout",
     "output_type": "stream",
     "text": [
      "CPU times: user 420 ms, sys: 20 ms, total: 440 ms\n",
      "Wall time: 5.64 s\n",
      "i=0, iter=10368\n",
      "CPU times: user 400 ms, sys: 28 ms, total: 428 ms\n",
      "Wall time: 5.8 s\n",
      "i=1, iter=10512\n",
      "CPU times: user 412 ms, sys: 16 ms, total: 428 ms\n",
      "Wall time: 5.5 s\n",
      "i=2, iter=10656\n",
      "CPU times: user 400 ms, sys: 32 ms, total: 432 ms\n",
      "Wall time: 5.52 s\n",
      "i=3, iter=10800\n",
      "CPU times: user 420 ms, sys: 12 ms, total: 432 ms\n",
      "Wall time: 5.83 s\n",
      "i=4, iter=10944\n",
      "CPU times: user 400 ms, sys: 28 ms, total: 428 ms\n",
      "Wall time: 6 s\n",
      "i=5, iter=11088\n",
      "CPU times: user 420 ms, sys: 8 ms, total: 428 ms\n",
      "Wall time: 5.71 s\n",
      "i=6, iter=11232\n",
      "CPU times: user 408 ms, sys: 20 ms, total: 428 ms\n",
      "Wall time: 5.62 s\n",
      "i=7, iter=11376\n",
      "CPU times: user 424 ms, sys: 4 ms, total: 428 ms\n",
      "Wall time: 5.53 s\n",
      "i=8, iter=11520\n",
      "CPU times: user 404 ms, sys: 20 ms, total: 424 ms\n",
      "Wall time: 5.82 s\n",
      "i=9, iter=11664\n",
      "CPU times: user 400 ms, sys: 32 ms, total: 432 ms\n",
      "Wall time: 5.91 s\n",
      "i=10, iter=11808\n",
      "CPU times: user 416 ms, sys: 16 ms, total: 432 ms\n",
      "Wall time: 5.6 s\n",
      "i=11, iter=11952\n",
      "CPU times: user 416 ms, sys: 16 ms, total: 432 ms\n",
      "Wall time: 5.78 s\n",
      "i=12, iter=12096\n",
      "CPU times: user 412 ms, sys: 20 ms, total: 432 ms\n",
      "Wall time: 5.74 s\n",
      "i=13, iter=12240\n",
      "CPU times: user 424 ms, sys: 8 ms, total: 432 ms\n",
      "Wall time: 5.82 s\n",
      "i=14, iter=12384\n",
      "CPU times: user 408 ms, sys: 20 ms, total: 428 ms\n",
      "Wall time: 5.76 s\n",
      "i=15, iter=12528\n",
      "CPU times: user 416 ms, sys: 12 ms, total: 428 ms\n",
      "Wall time: 5.91 s\n",
      "i=16, iter=12672\n",
      "CPU times: user 420 ms, sys: 12 ms, total: 432 ms\n",
      "Wall time: 5.64 s\n",
      "i=17, iter=12816\n",
      "CPU times: user 412 ms, sys: 20 ms, total: 432 ms\n",
      "Wall time: 6.26 s\n",
      "i=18, iter=12960\n",
      "CPU times: user 416 ms, sys: 12 ms, total: 428 ms\n",
      "Wall time: 5.84 s\n",
      "i=19, iter=13104\n"
     ]
    }
   ],
   "source": [
    "V = ['Eta']\n",
    "\n",
    "Nt = 1\n",
    "#out_dir = datawork+'/mit_nc/'\n",
    "out_dir = scratch+'/mit_iwsst/'    \n",
    "fsize_bound = 13*60*1e6\n",
    "\n",
    "for v in V:\n",
    "    #\n",
    "    data_dir = root_data_dir+v+'/'\n",
    "    iters, time = get_iters_time(v, data_dir, delta_t=25.)\n",
    "    #\n",
    "    #it = np.arange(time.size/Nt-1).astype(int)*Nt\n",
    "    it = np.arange(20).astype(int)*Nt # tmp\n",
    "    assert it[-1]+Nt<time.size\n",
    "    #\n",
    "    p = 'C'\n",
    "    if v is 'SSU':\n",
    "        p = 'W'\n",
    "    elif v is 'SSV':\n",
    "        p = 'S'\n",
    "    #\n",
    "    ds = get_compressed_data(v, data_dir, grid_dir, iters=iters, time=time, client=client, point=p)\n",
    "    #ds = ds.chunk({'face': 1})\n",
    "    #    \n",
    "    for i, t in enumerate(it):\n",
    "        #\n",
    "        file_out = out_dir+'/%s_t%04d.nc'%(v,i)\n",
    "        if not os.path.isfile(file_out) or os.path.getsize(file_out) < fsize_bound:            \n",
    "            dv = ds[v].isel(time=slice(t,t+Nt))\n",
    "            # should store grid data independantly in a single file\n",
    "            dv = dv.isel(i=slice(2500,3500), j=slice(2000,3000))\n",
    "            \n",
    "            dv = dv.drop(['XC','YC','Depth','rA']).to_dataset()\n",
    "\n",
    "            while True:\n",
    "                try:\n",
    "                    #print(dv)\n",
    "                    %time dv.to_netcdf(file_out, mode='w')                    \n",
    "                except:\n",
    "                    print('Failure')\n",
    "                if os.path.isfile(file_out) and os.path.getsize(file_out) > fsize_bound:\n",
    "                    #\n",
    "                    print('i=%d, iter=%d'%(i, iters[i].values))\n",
    "                    break\n",
    "        else:\n",
    "            print('i=%d, iter=%d - allready processed'%(i, iters[i].values))"
   ]
  },
  {
   "cell_type": "code",
   "execution_count": null,
   "metadata": {},
   "outputs": [],
   "source": []
  },
  {
   "cell_type": "markdown",
   "metadata": {},
   "source": [
    "---\n",
    "\n",
    "# preliminary attempts to transpose and store data in netcdf files"
   ]
  },
  {
   "cell_type": "code",
   "execution_count": null,
   "metadata": {},
   "outputs": [],
   "source": [
    "V = ['Eta']\n",
    "\n",
    "transpose = True # False untested\n",
    "\n",
    "if transpose:\n",
    "    Nt = 24*10 # time windows to consider\n",
    "    out_dir = scratch+'/mit_iwsst/'\n",
    "    fsize_bound = 15*1e9\n",
    "else:\n",
    "    Nt = 1\n",
    "    out_dir = scratch+'/mit_iwsst/'    \n",
    "    fsize_bound = 60*1e6    \n",
    "\n",
    "for v in V:\n",
    "    #\n",
    "    data_dir = root_data_dir+v+'/'\n",
    "    iters, time = get_iters_time(v, data_dir, delta_t=25.)\n",
    "    #\n",
    "    #it = np.arange(time.size/Nt-1).astype(int)*Nt # for the whole time series\n",
    "    it = np.arange(5).astype(int)*Nt # for certain number of time series\n",
    "    assert it[-1]+Nt<time.size\n",
    "    #\n",
    "    p = 'C'\n",
    "    if v is 'SSU':\n",
    "        p = 'W'\n",
    "    elif v is 'SSV':\n",
    "        p = 'S'\n",
    "    #\n",
    "    ds = get_compressed_data(v, data_dir, grid_dir, iters=iters, time=time, client=client, point=p)\n",
    "    #ds = ds.chunk({'face': 1})\n",
    "    #\n",
    "    for face in range(4,5):\n",
    "        for i, t in enumerate(it):\n",
    "            #\n",
    "            file_out = out_dir+'/%s_f%02d_t%02d.nc'%(v,face,i)\n",
    "            if not os.path.isfile(file_out) or os.path.getsize(file_out) < fsize_bound:            \n",
    "                dv = ds[v].isel(time=slice(t,t+Nt), face=face, i=slice(2500,3500), j=slice(2000,3000)) \n",
    "                # should store grid data independantly in a single file\n",
    "                dv = dv.drop(['XC','YC','Depth','rA']).to_dataset()\n",
    "                #\n",
    "                if transpose:\n",
    "                    dv = dv.chunk({'time': dv['time'].size, 'i': 10, 'j': 10})\n",
    "                    dv = dv.transpose('i','j','time')\n",
    "                    chunksizes = [10, 10, dv['time'].size]\n",
    "                else:\n",
    "                    dv = dv.chunk({'i': 432, 'j': 432})\n",
    "                    chunksizes = [1, 432, 432]\n",
    "                #print(dv)\n",
    "                #\n",
    "                while True:\n",
    "                    try:\n",
    "                        %time dv.to_netcdf(file_out, mode='w', unlimited_dims=['time'], \\\n",
    "                                           encoding={'Eta': {'chunksizes': chunksizes}})\n",
    "                    except:\n",
    "                        print('Failure')\n",
    "                    if os.path.isfile(file_out) and os.path.getsize(file_out)>fsize_bound:\n",
    "                        #\n",
    "                        print('face=%d / i=%d'%(face,i))\n",
    "                        break\n",
    "            else:\n",
    "                print('face=%d / i=%d - allready processed'%(face,i))"
   ]
  },
  {
   "cell_type": "code",
   "execution_count": 10,
   "metadata": {},
   "outputs": [
    {
     "data": {
      "text/html": [
       "<table style=\"border: 2px solid white;\">\n",
       "<tr>\n",
       "<td style=\"vertical-align: top; border: 0px solid white\">\n",
       "<h3>Client</h3>\n",
       "<ul>\n",
       "  <li><b>Scheduler: </b>tcp://10.148.0.148:8786\n",
       "  <li><b>Dashboard: </b><a href='http://10.148.0.148:8787/status' target='_blank'>http://10.148.0.148:8787/status</a>\n",
       "</ul>\n",
       "</td>\n",
       "<td style=\"vertical-align: top; border: 0px solid white\">\n",
       "<h3>Cluster</h3>\n",
       "<ul>\n",
       "  <li><b>Workers: </b>20</li>\n",
       "  <li><b>Cores: </b>280</li>\n",
       "  <li><b>Memory: </b>2000.00 GB</li>\n",
       "</ul>\n",
       "</td>\n",
       "</tr>\n",
       "</table>"
      ],
      "text/plain": [
       "<Client: scheduler='tcp://10.148.0.148:8786' processes=20 cores=280>"
      ]
     },
     "execution_count": 10,
     "metadata": {},
     "output_type": "execute_result"
    }
   ],
   "source": [
    "client"
   ]
  },
  {
   "cell_type": "code",
   "execution_count": 11,
   "metadata": {},
   "outputs": [
    {
     "data": {
      "text/html": [
       "<table style=\"border: 2px solid white;\">\n",
       "<tr>\n",
       "<td style=\"vertical-align: top; border: 0px solid white\">\n",
       "<h3>Client</h3>\n",
       "<ul>\n",
       "  <li><b>Scheduler: </b>tcp://10.148.0.148:8786\n",
       "  <li><b>Dashboard: </b><a href='http://10.148.0.148:8787/status' target='_blank'>http://10.148.0.148:8787/status</a>\n",
       "</ul>\n",
       "</td>\n",
       "<td style=\"vertical-align: top; border: 0px solid white\">\n",
       "<h3>Cluster</h3>\n",
       "<ul>\n",
       "  <li><b>Workers: </b>20</li>\n",
       "  <li><b>Cores: </b>280</li>\n",
       "  <li><b>Memory: </b>2000.00 GB</li>\n",
       "</ul>\n",
       "</td>\n",
       "</tr>\n",
       "</table>"
      ],
      "text/plain": [
       "<Client: scheduler='tcp://10.148.0.148:8786' processes=2 cores=28>"
      ]
     },
     "execution_count": 11,
     "metadata": {},
     "output_type": "execute_result"
    }
   ],
   "source": [
    "client.restart()"
   ]
  },
  {
   "cell_type": "markdown",
   "metadata": {},
   "source": [
    "---\n",
    "\n",
    "```\n",
    "aponte/mit_tmp% ncdump -sh Eta_f01_4.nc\n",
    "\n",
    "netcdf Eta_f01_4 {\n",
    "dimensions:\n",
    "\ttime = UNLIMITED ; // (24 currently)\n",
    "\ti = 4320 ;\n",
    "\tj = 4320 ;\n",
    "variables:\n",
    "\tint64 i(i) ;\n",
    "\t\ti:standard_name = \"x_grid_index\" ;\n",
    "\t\ti:axis = \"X\" ;\n",
    "\t\ti:long_name = \"x-dimension of the t grid\" ;\n",
    "\t\ti:swap_dim = \"XC\" ;\n",
    "\t\ti:_Storage = \"contiguous\" ;\n",
    "\t\ti:_Endianness = \"little\" ;\n",
    "\tint64 j(j) ;\n",
    "\t\tj:standard_name = \"y_grid_index\" ;\n",
    "\t\tj:axis = \"Y\" ;\n",
    "\t\tj:long_name = \"y-dimension of the t grid\" ;\n",
    "\t\tj:swap_dim = \"YC\" ;\n",
    "\t\tj:_Storage = \"contiguous\" ;\n",
    "\t\tj:_Endianness = \"little\" ;\n",
    "\tint64 face ;\n",
    "\t\tface:standard_name = \"face_index\" ;\n",
    "\t\tface:_Endianness = \"little\" ;\n",
    "\tdouble time(time) ;\n",
    "\t\ttime:_FillValue = NaN ;\n",
    "\t\ttime:_Storage = \"chunked\" ;\n",
    "\t\ttime:_ChunkSizes = 512 ;\n",
    "\tfloat Eta(i, j, time) ;\n",
    "\t\tEta:_FillValue = NaNf ;\n",
    "\t\tEta:coordinates = \"face\" ;\n",
    "\t\tEta:_Storage = \"chunked\" ;\n",
    "\t\tEta:_ChunkSizes = 432, 432, 24 ;\n",
    "\n",
    "// global attributes:\n",
    "\t\t:_NCProperties = \"version=1|netcdflibversion=4.6.1|hdf5libversion=1.10.1\" ;\n",
    "\t\t:_Format = \"netCDF-4\" ;\n",
    "}\n",
    "```"
   ]
  },
  {
   "cell_type": "code",
   "execution_count": null,
   "metadata": {},
   "outputs": [],
   "source": []
  }
 ],
 "metadata": {
  "kernelspec": {
   "display_name": "Python 3",
   "language": "python",
   "name": "python3"
  },
  "language_info": {
   "codemirror_mode": {
    "name": "ipython",
    "version": 3
   },
   "file_extension": ".py",
   "mimetype": "text/x-python",
   "name": "python",
   "nbconvert_exporter": "python",
   "pygments_lexer": "ipython3",
   "version": "3.6.5"
  }
 },
 "nbformat": 4,
 "nbformat_minor": 2
}

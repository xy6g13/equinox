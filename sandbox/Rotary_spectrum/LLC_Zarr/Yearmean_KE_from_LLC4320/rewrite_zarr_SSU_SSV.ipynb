{
 "cells": [
  {
   "cell_type": "code",
   "execution_count": 1,
   "metadata": {},
   "outputs": [
    {
     "name": "stderr",
     "output_type": "stream",
     "text": [
      "/home1/datahome/xyu/.miniconda3/envs/equinox/lib/python3.6/importlib/_bootstrap.py:219: RuntimeWarning: numpy.dtype size changed, may indicate binary incompatibility. Expected 96, got 88\n",
      "  return f(*args, **kwds)\n",
      "/home1/datahome/xyu/.miniconda3/envs/equinox/lib/python3.6/importlib/_bootstrap.py:219: RuntimeWarning: numpy.dtype size changed, may indicate binary incompatibility. Expected 96, got 88\n",
      "  return f(*args, **kwds)\n",
      "/home1/datahome/xyu/.miniconda3/envs/equinox/lib/python3.6/site-packages/cmocean/tools.py:76: MatplotlibDeprecationWarning: The is_string_like function was deprecated in version 2.1.\n",
      "  if not mpl.cbook.is_string_like(rgbin[0]):\n"
     ]
    }
   ],
   "source": [
    "import os, sys\n",
    "import numpy as np\n",
    "import dask\n",
    "import xarray as xr\n",
    "import xgcm\n",
    "\n",
    "from matplotlib import pyplot as plt\n",
    "%matplotlib inline\n",
    "\n",
    "from mitequinox import *"
   ]
  },
  {
   "cell_type": "code",
   "execution_count": 2,
   "metadata": {},
   "outputs": [
    {
     "name": "stderr",
     "output_type": "stream",
     "text": [
      "/home1/datahome/xyu/.miniconda3/envs/equinox/lib/python3.6/site-packages/distributed/utils.py:128: RuntimeWarning: Couldn't detect a suitable IP address for reaching '8.8.8.8', defaulting to '127.0.0.1': [Errno 101] Network is unreachable\n",
      "  % (host, default, e), RuntimeWarning)\n"
     ]
    }
   ],
   "source": [
    "from dask_jobqueue import PBSCluster\n",
    "local_dir = os.getenv('TMPDIR')\n",
    "cluster = PBSCluster(local_directory=local_dir)\n",
    "#print(cluster.job_script())\n",
    "w = cluster.start_workers(17)"
   ]
  },
  {
   "cell_type": "code",
   "execution_count": 3,
   "metadata": {},
   "outputs": [],
   "source": [
    "# get dask handles and check dask server status\n",
    "from dask.distributed import Client\n",
    "client = Client(cluster)"
   ]
  },
  {
   "cell_type": "code",
   "execution_count": 4,
   "metadata": {},
   "outputs": [
    {
     "data": {
      "text/html": [
       "<table style=\"border: 2px solid white;\">\n",
       "<tr>\n",
       "<td style=\"vertical-align: top; border: 0px solid white\">\n",
       "<h3>Client</h3>\n",
       "<ul>\n",
       "  <li><b>Scheduler: </b>tcp://10.148.1.14:54990\n",
       "  <li><b>Dashboard: </b><a href='http://10.148.1.14:8787/status' target='_blank'>http://10.148.1.14:8787/status</a>\n",
       "</ul>\n",
       "</td>\n",
       "<td style=\"vertical-align: top; border: 0px solid white\">\n",
       "<h3>Cluster</h3>\n",
       "<ul>\n",
       "  <li><b>Workers: </b>30</li>\n",
       "  <li><b>Cores: </b>120</li>\n",
       "  <li><b>Memory: </b>1500.00 GB</li>\n",
       "</ul>\n",
       "</td>\n",
       "</tr>\n",
       "</table>"
      ],
      "text/plain": [
       "<Client: scheduler='tcp://10.148.1.14:54990' processes=30 cores=120>"
      ]
     },
     "execution_count": 4,
     "metadata": {},
     "output_type": "execute_result"
    }
   ],
   "source": [
    "client"
   ]
  },
  {
   "cell_type": "markdown",
   "metadata": {},
   "source": [
    "_____\n",
    "# For each face"
   ]
  },
  {
   "cell_type": "code",
   "execution_count": 22,
   "metadata": {},
   "outputs": [],
   "source": [
    "from mitequinox.binary import *\n",
    "\n",
    "V = ['SSU','SSV']\n",
    "\n",
    "out_dir = '/home1/scratch/xyu/mit_zarr/UV/LLC4320/'  \n",
    "root_data_dir = '/home/datawork-lops-osi/data/mit4320/'\n",
    "grid_dir = root_data_dir+'grid/'\n",
    "\n",
    "face_all = [0, 1, 2, 3, 4, 5, 6, 7, 8, 9, 10, 11, 12]\n",
    "#face_all = [1,2,4,5,7,8,10,11]\n",
    "#face_all = [7, 8, 9, 10, 11, 12]\n",
    "\n",
    "sli = slice(0,None,1) # required to make worldwide plots, otherwise, half the globe is plotted\n",
    "it = np.arange(6).astype(int)*Nt # tmp\n"
   ]
  },
  {
   "cell_type": "code",
   "execution_count": null,
   "metadata": {},
   "outputs": [
    {
     "name": "stderr",
     "output_type": "stream",
     "text": [
      "/home1/datahome/xyu/.miniconda3/envs/equinox/lib/python3.6/site-packages/xmitgcm/mds_store.py:735: UserWarning: Couldn't find available_diagnostics.log in . Using default version.\n",
      "  \"in %s. Using default version.\" % data_dir)\n",
      "/home1/datahome/xyu/.miniconda3/envs/equinox/lib/python3.6/site-packages/xmitgcm/utils.py:336: UserWarning: Not sure what to do with rlev = L\n",
      "  warnings.warn(\"Not sure what to do with rlev = \" + rlev)\n",
      "/home1/datahome/xyu/.miniconda3/envs/equinox/lib/python3.6/site-packages/xmitgcm/mds_store.py:249: FutureWarning: iteration over an xarray.Dataset will change in xarray v0.11 to only include data variables, not coordinates. Iterate over the Dataset.variables property instead to preserve existing behavior in a forwards compatible manner.\n",
      "  for vname in ds:\n"
     ]
    },
    {
     "name": "stdout",
     "output_type": "stream",
     "text": [
      "face=0 / i=0 done\n",
      "face=0 / i=1 done\n",
      "face=0 / i=2 done\n"
     ]
    }
   ],
   "source": [
    "V = ['SSU']\n",
    "Nt = 30*24*2 # time windows to consider\n",
    "\n",
    "for face in face_all :  \n",
    "    \n",
    "    for v in V:\n",
    "\n",
    "        for i, t in enumerate(it):\n",
    "\n",
    "            data_dir = root_data_dir+v+'/'\n",
    "              \n",
    "            iters, time = get_iters_time(v, data_dir, delta_t=25.)\n",
    "    \n",
    "            p = 'C'\n",
    "            vdrop = ['XC','YC','CS','SN','rA','Depth']\n",
    "            if v is 'SSU':\n",
    "                p = 'W'\n",
    "                vdrop = ['dxC','dyG','rAw']\n",
    "            \n",
    "            elif v is 'SSV':\n",
    "                p = 'S'\n",
    "                vdrop = ['dxG','dyC','rAs']\n",
    "            \n",
    "            ds = get_compressed_data(v, data_dir, grid_dir, iters=iters, time=time, client=client, point=p)\n",
    "        \n",
    "            dv = ds[v].isel(time=slice(t, t+Nt), face=face, i_g=sli, j=sli) \n",
    "            dv = dv.drop(vdrop).to_dataset()        \n",
    "            file_out = out_dir+'/%s_f%02d_t%02d.zarr'%(v,face,i)\n",
    "\n",
    "            dv.to_zarr(file_out, mode='w')                    \n",
    "            dsize = getsize(file_out)\n",
    "            print('face=%d / i=%d done'%(face,i))"
   ]
  },
  {
   "cell_type": "code",
   "execution_count": 24,
   "metadata": {},
   "outputs": [
    {
     "name": "stderr",
     "output_type": "stream",
     "text": [
      "/home1/datahome/xyu/.miniconda3/envs/equinox/lib/python3.6/site-packages/xmitgcm/mds_store.py:735: UserWarning: Couldn't find available_diagnostics.log in . Using default version.\n",
      "  \"in %s. Using default version.\" % data_dir)\n",
      "/home1/datahome/xyu/.miniconda3/envs/equinox/lib/python3.6/site-packages/xmitgcm/utils.py:336: UserWarning: Not sure what to do with rlev = L\n",
      "  warnings.warn(\"Not sure what to do with rlev = \" + rlev)\n",
      "/home1/datahome/xyu/.miniconda3/envs/equinox/lib/python3.6/site-packages/xmitgcm/mds_store.py:249: FutureWarning: iteration over an xarray.Dataset will change in xarray v0.11 to only include data variables, not coordinates. Iterate over the Dataset.variables property instead to preserve existing behavior in a forwards compatible manner.\n",
      "  for vname in ds:\n"
     ]
    },
    {
     "name": "stdout",
     "output_type": "stream",
     "text": [
      "face=0 / i=0 done\n",
      "face=0 / i=1 done\n",
      "face=0 / i=2 done\n",
      "face=0 / i=3 done\n",
      "face=0 / i=4 done\n",
      "face=0 / i=5 done\n",
      "face=1 / i=0 done\n",
      "face=1 / i=1 done\n",
      "face=1 / i=2 done\n",
      "face=1 / i=3 done\n",
      "face=1 / i=4 done\n",
      "face=1 / i=5 done\n",
      "face=2 / i=0 done\n",
      "face=2 / i=1 done\n",
      "face=2 / i=2 done\n",
      "face=2 / i=3 done\n",
      "face=2 / i=4 done\n",
      "face=2 / i=5 done\n",
      "face=3 / i=0 done\n",
      "face=3 / i=1 done\n",
      "face=3 / i=2 done\n",
      "face=3 / i=3 done\n",
      "face=3 / i=4 done\n",
      "face=3 / i=5 done\n",
      "face=4 / i=0 done\n",
      "face=4 / i=1 done\n",
      "face=4 / i=2 done\n",
      "face=4 / i=3 done\n",
      "face=4 / i=4 done\n",
      "face=4 / i=5 done\n",
      "face=5 / i=0 done\n",
      "face=5 / i=1 done\n",
      "face=5 / i=2 done\n",
      "face=5 / i=3 done\n",
      "face=5 / i=4 done\n",
      "face=5 / i=5 done\n",
      "face=6 / i=0 done\n",
      "face=6 / i=1 done\n",
      "face=6 / i=2 done\n",
      "face=6 / i=3 done\n",
      "face=6 / i=4 done\n",
      "face=6 / i=5 done\n",
      "face=7 / i=0 done\n",
      "face=7 / i=1 done\n",
      "face=7 / i=2 done\n",
      "face=7 / i=3 done\n",
      "face=7 / i=4 done\n",
      "face=7 / i=5 done\n",
      "face=8 / i=0 done\n",
      "face=8 / i=1 done\n",
      "face=8 / i=2 done\n",
      "face=8 / i=3 done\n",
      "face=8 / i=4 done\n",
      "face=8 / i=5 done\n",
      "face=9 / i=0 done\n",
      "face=9 / i=1 done\n",
      "face=9 / i=2 done\n",
      "face=9 / i=3 done\n",
      "face=9 / i=4 done\n",
      "face=9 / i=5 done\n",
      "face=10 / i=0 done\n",
      "face=10 / i=1 done\n",
      "face=10 / i=2 done\n",
      "face=10 / i=3 done\n",
      "face=10 / i=4 done\n",
      "face=10 / i=5 done\n",
      "face=11 / i=0 done\n",
      "face=11 / i=1 done\n",
      "face=11 / i=2 done\n",
      "face=11 / i=3 done\n",
      "face=11 / i=4 done\n",
      "face=11 / i=5 done\n",
      "face=12 / i=0 done\n",
      "face=12 / i=1 done\n",
      "face=12 / i=2 done\n",
      "face=12 / i=3 done\n",
      "face=12 / i=4 done\n",
      "face=12 / i=5 done\n"
     ]
    }
   ],
   "source": [
    "V = ['SSV']\n",
    "Nt = 30*24*2 # time windows to consider\n",
    "\n",
    "for face in face_all :  \n",
    "    \n",
    "    for v in V:\n",
    "\n",
    "        for i, t in enumerate(it):\n",
    "\n",
    "            data_dir = root_data_dir+v+'/'\n",
    "            iters, time = get_iters_time(v, data_dir, delta_t=25.)\n",
    "    \n",
    "            p = 'C'\n",
    "            vdrop = ['XC','YC','CS','SN','rA','Depth']\n",
    "            if v is 'SSU':\n",
    "                p = 'W'\n",
    "                vdrop = ['dxC','dyG','rAw']\n",
    "            \n",
    "            elif v is 'SSV':\n",
    "                p = 'S'\n",
    "                vdrop = ['dxG','dyC','rAs']\n",
    "            \n",
    "            ds = get_compressed_data(v, data_dir, grid_dir, iters=iters, time=time, client=client, point=p)\n",
    "        \n",
    "            dv = ds[v].isel(time=slice(t, t+Nt), face=face, i=sli, j_g=sli) \n",
    "            dv = dv.drop(vdrop).to_dataset()        \n",
    "            file_out = out_dir+'/%s_f%02d_t%02d.zarr'%(v,face,i)\n",
    "\n",
    "            dv.to_zarr(file_out, mode='w')                    \n",
    "            dsize = getsize(file_out)\n",
    "            print('face=%d / i=%d done'%(face,i))"
   ]
  },
  {
   "cell_type": "code",
   "execution_count": null,
   "metadata": {},
   "outputs": [],
   "source": []
  },
  {
   "cell_type": "code",
   "execution_count": null,
   "metadata": {},
   "outputs": [],
   "source": []
  },
  {
   "cell_type": "code",
   "execution_count": null,
   "metadata": {},
   "outputs": [],
   "source": []
  },
  {
   "cell_type": "code",
   "execution_count": null,
   "metadata": {},
   "outputs": [],
   "source": []
  },
  {
   "cell_type": "code",
   "execution_count": null,
   "metadata": {},
   "outputs": [],
   "source": []
  },
  {
   "cell_type": "code",
   "execution_count": 26,
   "metadata": {},
   "outputs": [
    {
     "data": {
      "text/plain": [
       "<Future finished result=None>"
      ]
     },
     "execution_count": 26,
     "metadata": {},
     "output_type": "execute_result"
    }
   ],
   "source": [
    "cluster.scheduler.close()"
   ]
  },
  {
   "cell_type": "code",
   "execution_count": null,
   "metadata": {},
   "outputs": [],
   "source": []
  },
  {
   "cell_type": "code",
   "execution_count": null,
   "metadata": {},
   "outputs": [],
   "source": []
  }
 ],
 "metadata": {
  "kernelspec": {
   "display_name": "Python 3",
   "language": "python",
   "name": "python3"
  },
  "language_info": {
   "codemirror_mode": {
    "name": "ipython",
    "version": 3
   },
   "file_extension": ".py",
   "mimetype": "text/x-python",
   "name": "python",
   "nbconvert_exporter": "python",
   "pygments_lexer": "ipython3",
   "version": "3.6.5"
  }
 },
 "nbformat": 4,
 "nbformat_minor": 2
}

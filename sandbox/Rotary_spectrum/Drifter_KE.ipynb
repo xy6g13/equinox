{
 "cells": [
  {
   "cell_type": "code",
   "execution_count": 1,
   "metadata": {},
   "outputs": [
    {
     "name": "stderr",
     "output_type": "stream",
     "text": [
      "/home1/datahome/xyu/.miniconda3/envs/equinox/lib/python3.6/importlib/_bootstrap.py:219: RuntimeWarning: numpy.dtype size changed, may indicate binary incompatibility. Expected 96, got 88\n",
      "  return f(*args, **kwds)\n",
      "/home1/datahome/xyu/.miniconda3/envs/equinox/lib/python3.6/importlib/_bootstrap.py:219: RuntimeWarning: numpy.dtype size changed, may indicate binary incompatibility. Expected 96, got 88\n",
      "  return f(*args, **kwds)\n",
      "/home1/datahome/xyu/.miniconda3/envs/equinox/lib/python3.6/site-packages/cmocean/tools.py:76: MatplotlibDeprecationWarning: The is_string_like function was deprecated in version 2.1.\n",
      "  if not mpl.cbook.is_string_like(rgbin[0]):\n",
      "/home1/datahome/xyu/.miniconda3/envs/equinox/lib/python3.6/importlib/_bootstrap.py:219: RuntimeWarning: numpy.dtype size changed, may indicate binary incompatibility. Expected 96, got 88\n",
      "  return f(*args, **kwds)\n"
     ]
    }
   ],
   "source": [
    "import os\n",
    "from glob import glob\n",
    "import numpy as np\n",
    "import dask\n",
    "import xarray as xr\n",
    "import xrft\n",
    "import cartopy.crs as ccrs\n",
    "from cmocean import cm\n",
    "import h5py\n",
    "\n",
    "from matplotlib import pyplot as plt\n",
    "%matplotlib inline\n",
    "\n",
    "from mitequinox.utils import *"
   ]
  },
  {
   "cell_type": "code",
   "execution_count": 2,
   "metadata": {},
   "outputs": [
    {
     "name": "stderr",
     "output_type": "stream",
     "text": [
      "/home1/datahome/xyu/.miniconda3/envs/equinox/lib/python3.6/site-packages/distributed/utils.py:128: RuntimeWarning: Couldn't detect a suitable IP address for reaching '8.8.8.8', defaulting to '127.0.0.1': [Errno 101] Network is unreachable\n",
      "  % (host, default, e), RuntimeWarning)\n"
     ]
    }
   ],
   "source": [
    "from dask_jobqueue import PBSCluster\n",
    "local_dir = os.getenv('TMPDIR')\n",
    "cluster = PBSCluster(local_directory=local_dir)\n",
    "#print(cluster.job_script())\n",
    "w = cluster.start_workers(14)"
   ]
  },
  {
   "cell_type": "code",
   "execution_count": 3,
   "metadata": {},
   "outputs": [],
   "source": [
    "# get dask handles and check dask server status\n",
    "from dask.distributed import Client\n",
    "client = Client(cluster)"
   ]
  },
  {
   "cell_type": "code",
   "execution_count": 4,
   "metadata": {},
   "outputs": [
    {
     "data": {
      "text/html": [
       "<table style=\"border: 2px solid white;\">\n",
       "<tr>\n",
       "<td style=\"vertical-align: top; border: 0px solid white\">\n",
       "<h3>Client</h3>\n",
       "<ul>\n",
       "  <li><b>Scheduler: </b>tcp://10.148.1.29:33363\n",
       "  <li><b>Dashboard: </b><a href='http://10.148.1.29:8787/status' target='_blank'>http://10.148.1.29:8787/status</a>\n",
       "</ul>\n",
       "</td>\n",
       "<td style=\"vertical-align: top; border: 0px solid white\">\n",
       "<h3>Cluster</h3>\n",
       "<ul>\n",
       "  <li><b>Workers: </b>28</li>\n",
       "  <li><b>Cores: </b>112</li>\n",
       "  <li><b>Memory: </b>1400.00 GB</li>\n",
       "</ul>\n",
       "</td>\n",
       "</tr>\n",
       "</table>"
      ],
      "text/plain": [
       "<Client: scheduler='tcp://10.148.1.29:33363' processes=28 cores=112>"
      ]
     },
     "execution_count": 4,
     "metadata": {},
     "output_type": "execute_result"
    }
   ],
   "source": [
    "client"
   ]
  },
  {
   "cell_type": "markdown",
   "metadata": {},
   "source": [
    "---\n"
   ]
  },
  {
   "cell_type": "markdown",
   "metadata": {},
   "source": [
    "# 1. Drifter data files"
   ]
  },
  {
   "cell_type": "code",
   "execution_count": 5,
   "metadata": {},
   "outputs": [
    {
     "data": {
      "text/plain": [
       "[('mlat2', <HDF5 dataset \"mlat2\": shape (126303, 1), type \"<f8\">),\n",
       " ('mlon2', <HDF5 dataset \"mlon2\": shape (126303, 1), type \"<f8\">),\n",
       " ('qd', <HDF5 dataset \"qd\": shape (126303, 1), type \"|u1\">),\n",
       " ('qmed200', <HDF5 dataset \"qmed200\": shape (126303, 1), type \"|u1\">),\n",
       " ('qu', <HDF5 dataset \"qu\": shape (126303, 1), type \"|u1\">),\n",
       " ('uv2', <HDF5 dataset \"uv2\": shape (126303, 1440), type \"|V16\">)]"
      ]
     },
     "execution_count": 5,
     "metadata": {},
     "output_type": "execute_result"
    }
   ],
   "source": [
    "# The prcessed dataset includes both the GPS- and Argo-tracked surface drifters.\n",
    "# 2-month blocks with overlapping by 50%\n",
    "\n",
    "data_dir = '/home1/datawork/xyu/Drifters/'\n",
    "drifter_dataset = h5py.File(data_dir+'Drifter_dataset_processed.mat','r') \n",
    "list(drifter_dataset.items())\n",
    "\n",
    "# mlat2: mean latitude over 60 days,     126303*1\n",
    "# mlon2: mean longitude over 60 days,    126303*1\n",
    "\n",
    "# qd: drogued drifters,                  126303*1\n",
    "# qmed200: median water depth > 200 m,   126303*1\n",
    "# qu: undrogued drifters,                126303*1\n",
    "\n",
    "# uv2: (u, v),                           126303*1440"
   ]
  },
  {
   "cell_type": "code",
   "execution_count": 6,
   "metadata": {},
   "outputs": [
    {
     "data": {
      "text/plain": [
       "<xarray.DataArray 'lat' (lat: 126303)>\n",
       "array([ 39.51519 ,  39.682915,  40.437454, ..., -60.776903,  32.794351,\n",
       "        27.131247])\n",
       "Dimensions without coordinates: lat"
      ]
     },
     "execution_count": 6,
     "metadata": {},
     "output_type": "execute_result"
    }
   ],
   "source": [
    "# turn mean-lat into xarray_DataArray\n",
    "lat2 = drifter_dataset['mlat2']\n",
    "lat2 = np.array(lat2)\n",
    "lat = xr.DataArray(lat2, dims=['lat', 'none'])\n",
    "lat = xr.DataArray.squeeze(lat, dim='none')\n",
    "lat = np.real(lat).rename('lat')\n",
    "lat"
   ]
  },
  {
   "cell_type": "code",
   "execution_count": 26,
   "metadata": {},
   "outputs": [
    {
     "data": {
      "text/plain": [
       "<xarray.DataArray 'lon' (lon: 126303)>\n",
       "array([150.087397, 151.958754, 152.837519, ..., 224.863612, 284.83327 ,\n",
       "       285.592734])\n",
       "Dimensions without coordinates: lon"
      ]
     },
     "execution_count": 26,
     "metadata": {},
     "output_type": "execute_result"
    }
   ],
   "source": [
    "# turn mean-lat into xarray_DataArray\n",
    "lon2 = drifter_dataset['mlon2']\n",
    "lon2 = np.array(lon2)\n",
    "lon = xr.DataArray(lon2, dims=['lon', 'none'])\n",
    "lon = xr.DataArray.squeeze(lon, dim='none')\n",
    "lon = np.real(lon).rename('lon')\n",
    "lon"
   ]
  },
  {
   "cell_type": "code",
   "execution_count": 7,
   "metadata": {},
   "outputs": [
    {
     "data": {
      "text/plain": [
       "<xarray.DataArray 'qd' (qd: 126303)>\n",
       "array([0, 0, 0, ..., 1, 1, 1], dtype=uint8)\n",
       "Dimensions without coordinates: qd"
      ]
     },
     "execution_count": 7,
     "metadata": {},
     "output_type": "execute_result"
    }
   ],
   "source": [
    "# turn drogued_information into xarray_DataArray\n",
    "qd = drifter_dataset['qd']\n",
    "qd = np.array(qd)\n",
    "qd = xr.DataArray(qd, dims=['qd', 'none'])\n",
    "qd = xr.DataArray.squeeze(qd, dim='none')\n",
    "qd = np.real(qd).rename('qd')\n",
    "qd"
   ]
  },
  {
   "cell_type": "code",
   "execution_count": 8,
   "metadata": {},
   "outputs": [],
   "source": [
    "# (u,v) --> u+iv\n",
    "uv = drifter_dataset['uv2'].value.view(np.double).reshape((126303, 1440, 2))\n",
    "u_drifters = uv[:,:,0] \n",
    "v_drifters = uv[:,:,1]"
   ]
  },
  {
   "cell_type": "code",
   "execution_count": 11,
   "metadata": {},
   "outputs": [],
   "source": [
    "KE_drifters = (u_drifters**2 + v_drifters**2)/2"
   ]
  },
  {
   "cell_type": "code",
   "execution_count": 27,
   "metadata": {},
   "outputs": [
    {
     "name": "stdout",
     "output_type": "stream",
     "text": [
      "<xarray.Dataset>\n",
      "Dimensions:      (lat: 126303, lon: 126303, time: 1440)\n",
      "Coordinates:\n",
      "  * lat          (lat) float64 39.52 39.68 40.44 32.82 33.22 33.98 35.36 ...\n",
      "  * lon          (lon) float64 150.1 152.0 152.8 149.4 151.9 155.7 163.3 ...\n",
      "  * time         (time) int64 0 3600 7200 10800 14400 18000 21600 25200 ...\n",
      "    qd           (lat) uint8 0 0 0 1 1 1 1 1 1 1 1 1 1 1 1 1 1 1 0 0 0 0 0 0 ...\n",
      "Data variables:\n",
      "    KE_drifters  (lat, time) float64 0.05288 0.05187 0.04914 0.02987 0.03006 ...\n"
     ]
    }
   ],
   "source": [
    "# Drifter Dataset (u+iv,lat,qd,time)\n",
    "ds = xr.Dataset({'KE_drifters': (['lat', 'time'], KE_drifters)},\n",
    "                 coords={'lat': (['lat'], lat),\n",
    "                         'lon': (['lon'], lon),\n",
    "                         'time':(['time'], np.arange(1440)*3600),\n",
    "                         'qd':(['lat'], qd)})\n",
    "print(ds)"
   ]
  },
  {
   "cell_type": "code",
   "execution_count": 14,
   "metadata": {},
   "outputs": [
    {
     "data": {
      "text/plain": [
       "<xarray.DataArray 'KE_drifters_mean' (lat: 126303)>\n",
       "array([0.079348, 0.11795 , 0.127772, ..., 0.008993, 0.087762, 0.08043 ])\n",
       "Coordinates:\n",
       "  * lat      (lat) float64 39.52 39.68 40.44 32.82 33.22 33.98 35.36 34.89 ...\n",
       "    qd       (lat) uint8 0 0 0 1 1 1 1 1 1 1 1 1 1 1 1 1 1 1 0 0 0 0 0 0 1 1 ..."
      ]
     },
     "execution_count": 14,
     "metadata": {},
     "output_type": "execute_result"
    }
   ],
   "source": [
    "KE_drifters_mean = ds.KE_drifters.mean(dim=['time'])\n",
    "KE_drifters_mean = np.real(KE_drifters_mean).rename('KE_drifters_mean')\n",
    "KE_drifters_mean"
   ]
  },
  {
   "cell_type": "code",
   "execution_count": 23,
   "metadata": {},
   "outputs": [
    {
     "data": {
      "text/plain": [
       "(126303,)"
      ]
     },
     "execution_count": 23,
     "metadata": {},
     "output_type": "execute_result"
    }
   ],
   "source": [
    "KE_drifters_mean.shape"
   ]
  },
  {
   "cell_type": "code",
   "execution_count": 22,
   "metadata": {},
   "outputs": [
    {
     "data": {
      "text/plain": [
       "(121,)"
      ]
     },
     "execution_count": 22,
     "metadata": {},
     "output_type": "execute_result"
    }
   ],
   "source": [
    "E_uv_zonmean = KE_drifters_mean.groupby_bins(KE_drifters_mean.lat, np.arange(-60.5, 61, 1), labels=np.arange(-60, 61, 1)).mean(dim=['lat'])\n",
    "E_drifter = E_uv_zonmean.load()\n",
    "E_drifter.shape"
   ]
  },
  {
   "cell_type": "code",
   "execution_count": 24,
   "metadata": {},
   "outputs": [
    {
     "name": "stdout",
     "output_type": "stream",
     "text": [
      "<xarray.DataArray 'KE_drifters_mean' (lat_bins: 121)>\n",
      "array([0.059834, 0.064716, 0.074073, 0.083305, 0.08627 , 0.081834, 0.079698,\n",
      "       0.07892 , 0.077615, 0.079264, 0.078104, 0.078382, 0.074357, 0.067053,\n",
      "       0.067049, 0.065582, 0.062148, 0.065537, 0.071856, 0.076541, 0.089208,\n",
      "       0.086218, 0.079742, 0.067611, 0.060612, 0.05859 , 0.056499, 0.054498,\n",
      "       0.051939, 0.051237, 0.052099, 0.051388, 0.049792, 0.047274, 0.045334,\n",
      "       0.042722, 0.043023, 0.039088, 0.03661 , 0.034602, 0.033117, 0.034552,\n",
      "       0.037874, 0.038905, 0.039082, 0.041753, 0.046631, 0.050423, 0.045366,\n",
      "       0.041861, 0.040321, 0.042887, 0.046   , 0.055082, 0.069303, 0.08235 ,\n",
      "       0.094166, 0.111985, 0.118163, 0.132983, 0.165483, 0.150568, 0.14143 ,\n",
      "       0.135621, 0.126471, 0.108786, 0.103415, 0.091932, 0.08311 , 0.077877,\n",
      "       0.078948, 0.076384, 0.064879, 0.061023, 0.054478, 0.053831, 0.051955,\n",
      "       0.05226 , 0.055731, 0.054245, 0.054585, 0.055435, 0.047859, 0.046086,\n",
      "       0.045283, 0.046562, 0.045541, 0.044157, 0.045299, 0.045439, 0.049298,\n",
      "       0.056247, 0.06066 , 0.070175, 0.083369, 0.085674, 0.08703 , 0.090472,\n",
      "       0.087361, 0.083975, 0.079862, 0.075348, 0.063704, 0.06265 , 0.058284,\n",
      "       0.053235, 0.048958, 0.050333, 0.051197, 0.049338, 0.04771 , 0.050672,\n",
      "       0.046899, 0.042614, 0.039604, 0.040137, 0.042563, 0.046785, 0.047659,\n",
      "       0.046289, 0.051022])\n",
      "Coordinates:\n",
      "  * lat_bins  (lat_bins) int64 -60 -59 -58 -57 -56 -55 -54 -53 -52 -51 -50 ...\n"
     ]
    }
   ],
   "source": [
    "print(E_drifter)"
   ]
  },
  {
   "cell_type": "code",
   "execution_count": 25,
   "metadata": {},
   "outputs": [
    {
     "data": {
      "text/plain": [
       "[<matplotlib.lines.Line2D at 0x2aac0d77ff28>]"
      ]
     },
     "execution_count": 25,
     "metadata": {},
     "output_type": "execute_result"
    },
    {
     "data": {
      "image/png": "[encoded data removed]",
      "text/plain": [
       "<Figure size 432x288 with 1 Axes>"
      ]
     },
     "metadata": {},
     "output_type": "display_data"
    }
   ],
   "source": [
    "E_drifter.plot()"
   ]
  },
  {
   "cell_type": "code",
   "execution_count": null,
   "metadata": {},
   "outputs": [],
   "source": []
  },
  {
   "cell_type": "code",
   "execution_count": null,
   "metadata": {},
   "outputs": [],
   "source": []
  },
  {
   "cell_type": "code",
   "execution_count": 28,
   "metadata": {},
   "outputs": [],
   "source": [
    "face_all = [0, 1, 2, 3, 4, 5, 6, 7, 8, 9, 10, 11, 12]"
   ]
  },
  {
   "cell_type": "code",
   "execution_count": 33,
   "metadata": {},
   "outputs": [],
   "source": [
    "### Here we need to load both SSU and SSV to generate the complex format of horizontal velocoty for rotary spectral calculations, u+iv\n",
    "\n",
    "## data files (SSU,SSV) ##\n",
    "data_dir = '/home1/scratch/xyu/mit_zarr/UV/LLC1080/'\n"
   ]
  },
  {
   "cell_type": "code",
   "execution_count": 31,
   "metadata": {},
   "outputs": [
    {
     "name": "stdout",
     "output_type": "stream",
     "text": [
      "<xarray.Dataset>\n",
      "Dimensions:  (face: 13, i: 1080, j: 1080)\n",
      "Coordinates:\n",
      "  * i        (i) int64 0 4 8 12 16 20 24 28 32 36 40 44 48 52 56 60 64 68 72 ...\n",
      "  * j        (j) int64 0 4 8 12 16 20 24 28 32 36 40 44 48 52 56 60 64 68 72 ...\n",
      "  * face     (face) int64 0 1 2 3 4 5 6 7 8 9 10 11 12\n",
      "    XC       (face, i, j) float32 ...\n",
      "    YC       (face, i, j) float32 ...\n",
      "    CS       (face, i, j) float32 ...\n",
      "    SN       (face, i, j) float32 ...\n",
      "    rA       (face, i, j) float32 ...\n",
      "    Depth    (face, i, j) float32 ...\n",
      "Data variables:\n",
      "    *empty*\n",
      "Attributes:\n",
      "    Conventions:  CF-1.6\n",
      "    title:        netCDF wrapper of MITgcm MDS binary data\n",
      "    source:       MITgcm\n",
      "    history:      Created by calling `open_mdsdataset(llc_method='smallchunks...\n"
     ]
    }
   ],
   "source": [
    "# grid file\n",
    "mgrid = xr.open_dataset('/home1/scratch/xyu/grid/mit_grid_t_1080.nc')\n",
    "mgrid = mgrid.drop(['XG','YG','i_g','j_g','dxG','dyG','dxC','dyC','rAw','rAs','rAz'])\n",
    "print(mgrid)"
   ]
  },
  {
   "cell_type": "code",
   "execution_count": 34,
   "metadata": {},
   "outputs": [
    {
     "ename": "ValueError",
     "evalue": "group not found at path ''",
     "output_type": "error",
     "traceback": [
      "\u001b[0;31m---------------------------------------------------------------------------\u001b[0m",
      "\u001b[0;31mValueError\u001b[0m                                Traceback (most recent call last)",
      "\u001b[0;32m<ipython-input-34-17caaeaa873d>\u001b[0m in \u001b[0;36m<module>\u001b[0;34m()\u001b[0m\n\u001b[1;32m      5\u001b[0m \u001b[0;34m\u001b[0m\u001b[0m\n\u001b[1;32m      6\u001b[0m \u001b[0;31m# Read SSU #\u001b[0m\u001b[0;34m\u001b[0m\u001b[0;34m\u001b[0m\u001b[0m\n\u001b[0;32m----> 7\u001b[0;31m \u001b[0mD\u001b[0m \u001b[0;34m=\u001b[0m \u001b[0;34m[\u001b[0m\u001b[0mxr\u001b[0m\u001b[0;34m.\u001b[0m\u001b[0mopen_zarr\u001b[0m\u001b[0;34m(\u001b[0m\u001b[0mdata_dir\u001b[0m\u001b[0;34m+\u001b[0m\u001b[0;34m'SSU_f%02d.zarr'\u001b[0m\u001b[0;34m%\u001b[0m\u001b[0;34m(\u001b[0m\u001b[0mface\u001b[0m\u001b[0;34m)\u001b[0m\u001b[0;34m)\u001b[0m\u001b[0;34m.\u001b[0m\u001b[0mrename\u001b[0m\u001b[0;34m(\u001b[0m\u001b[0;34m{\u001b[0m\u001b[0;34m'i_g'\u001b[0m\u001b[0;34m:\u001b[0m \u001b[0;34m'i'\u001b[0m\u001b[0;34m}\u001b[0m\u001b[0;34m)\u001b[0m \u001b[0;32mfor\u001b[0m \u001b[0mface\u001b[0m \u001b[0;32min\u001b[0m \u001b[0mface_all\u001b[0m\u001b[0;34m]\u001b[0m\u001b[0;34m\u001b[0m\u001b[0m\n\u001b[0m\u001b[1;32m      8\u001b[0m \u001b[0mds_SSU\u001b[0m \u001b[0;34m=\u001b[0m \u001b[0mxr\u001b[0m\u001b[0;34m.\u001b[0m\u001b[0mconcat\u001b[0m\u001b[0;34m(\u001b[0m\u001b[0mD\u001b[0m\u001b[0;34m,\u001b[0m \u001b[0mdim\u001b[0m\u001b[0;34m=\u001b[0m\u001b[0;34m'face'\u001b[0m\u001b[0;34m)\u001b[0m\u001b[0;34m\u001b[0m\u001b[0m\n\u001b[1;32m      9\u001b[0m \u001b[0mchunks\u001b[0m\u001b[0;34m=\u001b[0m\u001b[0;34m{\u001b[0m\u001b[0;34m'time'\u001b[0m\u001b[0;34m:\u001b[0m \u001b[0;36m1440\u001b[0m\u001b[0;34m,\u001b[0m\u001b[0;34m'i'\u001b[0m\u001b[0;34m:\u001b[0m \u001b[0;36m108\u001b[0m\u001b[0;34m,\u001b[0m \u001b[0;34m'j'\u001b[0m\u001b[0;34m:\u001b[0m \u001b[0;36m108\u001b[0m\u001b[0;34m}\u001b[0m \u001b[0;31m# time chunck: (2 months)\u001b[0m\u001b[0;34m\u001b[0m\u001b[0m\n",
      "\u001b[0;32m<ipython-input-34-17caaeaa873d>\u001b[0m in \u001b[0;36m<listcomp>\u001b[0;34m(.0)\u001b[0m\n\u001b[1;32m      5\u001b[0m \u001b[0;34m\u001b[0m\u001b[0m\n\u001b[1;32m      6\u001b[0m \u001b[0;31m# Read SSU #\u001b[0m\u001b[0;34m\u001b[0m\u001b[0;34m\u001b[0m\u001b[0m\n\u001b[0;32m----> 7\u001b[0;31m \u001b[0mD\u001b[0m \u001b[0;34m=\u001b[0m \u001b[0;34m[\u001b[0m\u001b[0mxr\u001b[0m\u001b[0;34m.\u001b[0m\u001b[0mopen_zarr\u001b[0m\u001b[0;34m(\u001b[0m\u001b[0mdata_dir\u001b[0m\u001b[0;34m+\u001b[0m\u001b[0;34m'SSU_f%02d.zarr'\u001b[0m\u001b[0;34m%\u001b[0m\u001b[0;34m(\u001b[0m\u001b[0mface\u001b[0m\u001b[0;34m)\u001b[0m\u001b[0;34m)\u001b[0m\u001b[0;34m.\u001b[0m\u001b[0mrename\u001b[0m\u001b[0;34m(\u001b[0m\u001b[0;34m{\u001b[0m\u001b[0;34m'i_g'\u001b[0m\u001b[0;34m:\u001b[0m \u001b[0;34m'i'\u001b[0m\u001b[0;34m}\u001b[0m\u001b[0;34m)\u001b[0m \u001b[0;32mfor\u001b[0m \u001b[0mface\u001b[0m \u001b[0;32min\u001b[0m \u001b[0mface_all\u001b[0m\u001b[0;34m]\u001b[0m\u001b[0;34m\u001b[0m\u001b[0m\n\u001b[0m\u001b[1;32m      8\u001b[0m \u001b[0mds_SSU\u001b[0m \u001b[0;34m=\u001b[0m \u001b[0mxr\u001b[0m\u001b[0;34m.\u001b[0m\u001b[0mconcat\u001b[0m\u001b[0;34m(\u001b[0m\u001b[0mD\u001b[0m\u001b[0;34m,\u001b[0m \u001b[0mdim\u001b[0m\u001b[0;34m=\u001b[0m\u001b[0;34m'face'\u001b[0m\u001b[0;34m)\u001b[0m\u001b[0;34m\u001b[0m\u001b[0m\n\u001b[1;32m      9\u001b[0m \u001b[0mchunks\u001b[0m\u001b[0;34m=\u001b[0m\u001b[0;34m{\u001b[0m\u001b[0;34m'time'\u001b[0m\u001b[0;34m:\u001b[0m \u001b[0;36m1440\u001b[0m\u001b[0;34m,\u001b[0m\u001b[0;34m'i'\u001b[0m\u001b[0;34m:\u001b[0m \u001b[0;36m108\u001b[0m\u001b[0;34m,\u001b[0m \u001b[0;34m'j'\u001b[0m\u001b[0;34m:\u001b[0m \u001b[0;36m108\u001b[0m\u001b[0;34m}\u001b[0m \u001b[0;31m# time chunck: (2 months)\u001b[0m\u001b[0;34m\u001b[0m\u001b[0m\n",
      "\u001b[0;32m~/.miniconda3/envs/equinox/lib/python3.6/site-packages/xarray/backends/zarr.py\u001b[0m in \u001b[0;36mopen_zarr\u001b[0;34m(store, group, synchronizer, auto_chunk, decode_cf, mask_and_scale, decode_times, concat_characters, decode_coords, drop_variables)\u001b[0m\n\u001b[1;32m    436\u001b[0m     zarr_store = ZarrStore.open_group(store, mode=mode,\n\u001b[1;32m    437\u001b[0m                                       \u001b[0msynchronizer\u001b[0m\u001b[0;34m=\u001b[0m\u001b[0msynchronizer\u001b[0m\u001b[0;34m,\u001b[0m\u001b[0;34m\u001b[0m\u001b[0m\n\u001b[0;32m--> 438\u001b[0;31m                                       group=group)\n\u001b[0m\u001b[1;32m    439\u001b[0m     \u001b[0mds\u001b[0m \u001b[0;34m=\u001b[0m \u001b[0mmaybe_decode_store\u001b[0m\u001b[0;34m(\u001b[0m\u001b[0mzarr_store\u001b[0m\u001b[0;34m)\u001b[0m\u001b[0;34m\u001b[0m\u001b[0m\n\u001b[1;32m    440\u001b[0m \u001b[0;34m\u001b[0m\u001b[0m\n",
      "\u001b[0;32m~/.miniconda3/envs/equinox/lib/python3.6/site-packages/xarray/backends/zarr.py\u001b[0m in \u001b[0;36mopen_group\u001b[0;34m(cls, store, mode, synchronizer, group, writer)\u001b[0m\n\u001b[1;32m    238\u001b[0m                                       \"#installation\" % min_zarr)\n\u001b[1;32m    239\u001b[0m         zarr_group = zarr.open_group(store=store, mode=mode,\n\u001b[0;32m--> 240\u001b[0;31m                                      synchronizer=synchronizer, path=group)\n\u001b[0m\u001b[1;32m    241\u001b[0m         \u001b[0;32mreturn\u001b[0m \u001b[0mcls\u001b[0m\u001b[0;34m(\u001b[0m\u001b[0mzarr_group\u001b[0m\u001b[0;34m,\u001b[0m \u001b[0mwriter\u001b[0m\u001b[0;34m=\u001b[0m\u001b[0mwriter\u001b[0m\u001b[0;34m)\u001b[0m\u001b[0;34m\u001b[0m\u001b[0m\n\u001b[1;32m    242\u001b[0m \u001b[0;34m\u001b[0m\u001b[0m\n",
      "\u001b[0;32m~/.miniconda3/envs/equinox/lib/python3.6/site-packages/zarr/hierarchy.py\u001b[0m in \u001b[0;36mopen_group\u001b[0;34m(store, mode, cache_attrs, synchronizer, path)\u001b[0m\n\u001b[1;32m   1111\u001b[0m             \u001b[0merr_contains_array\u001b[0m\u001b[0;34m(\u001b[0m\u001b[0mpath\u001b[0m\u001b[0;34m)\u001b[0m\u001b[0;34m\u001b[0m\u001b[0m\n\u001b[1;32m   1112\u001b[0m         \u001b[0;32melif\u001b[0m \u001b[0;32mnot\u001b[0m \u001b[0mcontains_group\u001b[0m\u001b[0;34m(\u001b[0m\u001b[0mstore\u001b[0m\u001b[0;34m,\u001b[0m \u001b[0mpath\u001b[0m\u001b[0;34m=\u001b[0m\u001b[0mpath\u001b[0m\u001b[0;34m)\u001b[0m\u001b[0;34m:\u001b[0m\u001b[0;34m\u001b[0m\u001b[0m\n\u001b[0;32m-> 1113\u001b[0;31m             \u001b[0merr_group_not_found\u001b[0m\u001b[0;34m(\u001b[0m\u001b[0mpath\u001b[0m\u001b[0;34m)\u001b[0m\u001b[0;34m\u001b[0m\u001b[0m\n\u001b[0m\u001b[1;32m   1114\u001b[0m \u001b[0;34m\u001b[0m\u001b[0m\n\u001b[1;32m   1115\u001b[0m     \u001b[0;32melif\u001b[0m \u001b[0mmode\u001b[0m \u001b[0;34m==\u001b[0m \u001b[0;34m'w'\u001b[0m\u001b[0;34m:\u001b[0m\u001b[0;34m\u001b[0m\u001b[0m\n",
      "\u001b[0;32m~/.miniconda3/envs/equinox/lib/python3.6/site-packages/zarr/errors.py\u001b[0m in \u001b[0;36merr_group_not_found\u001b[0;34m(path)\u001b[0m\n\u001b[1;32m     27\u001b[0m \u001b[0;34m\u001b[0m\u001b[0m\n\u001b[1;32m     28\u001b[0m \u001b[0;32mdef\u001b[0m \u001b[0merr_group_not_found\u001b[0m\u001b[0;34m(\u001b[0m\u001b[0mpath\u001b[0m\u001b[0;34m)\u001b[0m\u001b[0;34m:\u001b[0m\u001b[0;34m\u001b[0m\u001b[0m\n\u001b[0;32m---> 29\u001b[0;31m     \u001b[0;32mraise\u001b[0m \u001b[0mValueError\u001b[0m\u001b[0;34m(\u001b[0m\u001b[0;34m'group not found at path %r'\u001b[0m \u001b[0;34m%\u001b[0m \u001b[0mpath\u001b[0m\u001b[0;34m)\u001b[0m\u001b[0;34m\u001b[0m\u001b[0m\n\u001b[0m\u001b[1;32m     30\u001b[0m \u001b[0;34m\u001b[0m\u001b[0m\n\u001b[1;32m     31\u001b[0m \u001b[0;34m\u001b[0m\u001b[0m\n",
      "\u001b[0;31mValueError\u001b[0m: group not found at path ''"
     ]
    }
   ],
   "source": [
    "face = face_all\n",
    "\n",
    "#Grid #\n",
    "grid = mgrid.isel(face=face)\n",
    "    \n",
    "# Read SSU #\n",
    "D = [xr.open_zarr(data_dir+'SSU_f%02d.zarr'%(face)).rename({'i_g': 'i'}) for face in face_all]\n",
    "ds_SSU = xr.concat(D, dim='face')\n",
    "chunks={'time': 1440,'i': 108, 'j': 108} # time chunck: (2 months)\n",
    "ds_SSU = ds_SSU.chunk(chunks) \n",
    "\n",
    "# Read SSV #\n",
    "D = [xr.open_zarr(data_dir+'SSV_f%02d.zarr'%(face)).rename({'j_g': 'j'}) for face in face_all]\n",
    "ds_SSV = xr.concat(D, dim='face')\n",
    "chunks={'time': 1440,'i': 108, 'j': 108} # time chunck: (2 months)\n",
    "ds_SSV = ds_SSV.chunk(chunks) \n",
    "\n",
    "print(ds_SSU)\n",
    "print('\\n data size: %.1f GB' %(ds_SSU.nbytes / 1e9))"
   ]
  },
  {
   "cell_type": "code",
   "execution_count": 13,
   "metadata": {},
   "outputs": [
    {
     "name": "stdout",
     "output_type": "stream",
     "text": [
      "<xarray.Dataset>\n",
      "Dimensions:  (point: 583200, time: 8640)\n",
      "Coordinates:\n",
      "    dtime    (time) datetime64[ns] dask.array<shape=(8640,), chunksize=(1440,)>\n",
      "  * time     (time) float64 5.702e+06 5.706e+06 5.71e+06 5.713e+06 5.717e+06 ...\n",
      "  * point    (point) MultiIndex\n",
      "  - face     (point) int64 1 1 1 1 1 1 1 1 1 1 1 1 1 1 1 1 1 1 1 1 1 1 1 1 1 ...\n",
      "  - j        (point) int64 0 0 0 0 0 0 0 0 0 0 0 0 0 0 0 0 0 0 0 0 0 0 0 0 0 ...\n",
      "  - i        (point) int64 0 16 32 48 64 80 96 112 128 144 160 176 192 208 ...\n",
      "Data variables:\n",
      "    XC       (point) float32 dask.array<shape=(583200,), chunksize=(10000,)>\n",
      "    YC       (point) float32 dask.array<shape=(583200,), chunksize=(10000,)>\n",
      "    CS       (point) float32 dask.array<shape=(583200,), chunksize=(10000,)>\n",
      "    SN       (point) float32 dask.array<shape=(583200,), chunksize=(10000,)>\n",
      "    SSU      (time, point) float32 dask.array<shape=(8640, 583200), chunksize=(1440, 10000)>\n",
      "    SSV      (time, point) float32 dask.array<shape=(8640, 583200), chunksize=(1440, 10000)>\n",
      "\n",
      " data size: 40.3 GB\n"
     ]
    }
   ],
   "source": [
    "subset_factor = 4\n",
    "\n",
    "ds_subset = (xr.merge([grid.reset_coords()[['XC', 'YC','CS', 'SN']], ds_SSU, ds_SSV])\n",
    "               .isel(j=slice(0 ,None, subset_factor),\n",
    "                     i=slice(0, None, subset_factor))\n",
    "               .stack(point=['face','j', 'i'])\n",
    "               .chunk({'time': 1440, 'point': 10000})) # chunk it into 30 day segments (60 days not working - killed workers)\n",
    "print(ds_subset)\n",
    "print('\\n data size: %.1f GB' %(ds_subset.nbytes / 1e9))"
   ]
  },
  {
   "cell_type": "code",
   "execution_count": 14,
   "metadata": {},
   "outputs": [
    {
     "name": "stdout",
     "output_type": "stream",
     "text": [
      "<xarray.DataArray (time: 8640, point: 583200)>\n",
      "dask.array<shape=(8640, 583200), dtype=complex64, chunksize=(1440, 10000)>\n",
      "Coordinates:\n",
      "    dtime    (time) datetime64[ns] dask.array<shape=(8640,), chunksize=(1440,)>\n",
      "  * time     (time) float64 5.702e+06 5.706e+06 5.71e+06 5.713e+06 5.717e+06 ...\n",
      "  * point    (point) MultiIndex\n",
      "  - face     (point) int64 1 1 1 1 1 1 1 1 1 1 1 1 1 1 1 1 1 1 1 1 1 1 1 1 1 ...\n",
      "  - j        (point) int64 0 0 0 0 0 0 0 0 0 0 0 0 0 0 0 0 0 0 0 0 0 0 0 0 0 ...\n",
      "  - i        (point) int64 0 16 32 48 64 80 96 112 128 144 160 176 192 208 ...\n",
      "\n",
      " data size: 40.3 GB\n"
     ]
    }
   ],
   "source": [
    "Z = ds_subset.SSU + 1j*ds_subset.SSV\n",
    "print(Z)\n",
    "print('\\n data size: %.1f GB' %(Z.nbytes / 1e9))"
   ]
  },
  {
   "cell_type": "code",
   "execution_count": 15,
   "metadata": {},
   "outputs": [
    {
     "name": "stdout",
     "output_type": "stream",
     "text": [
      "<xarray.DataArray 'rechunk-merge-dcac8eaa1280c50075d35498c180f97e' (time_segment: 6, freq_time: 1440, point: 583200)>\n",
      "dask.array<shape=(6, 1440, 583200), dtype=float64, chunksize=(1, 1440, 10000)>\n",
      "Coordinates:\n",
      "  * time_segment       (time_segment) int64 0 1 2 3 4 5\n",
      "  * freq_time          (freq_time) float64 -0.0001389 -0.0001387 -0.0001385 ...\n",
      "  * point              (point) object (1, 0, 0) (1, 0, 16) (1, 0, 32) ...\n",
      "    freq_time_spacing  float64 1.929e-07\n",
      "\n",
      " data size: 40.3 GB\n"
     ]
    }
   ],
   "source": [
    "Z_ps = xrft.power_spectrum(Z, dim=['time'], window=True, detrend='constant', chunks_to_segments=True)\n",
    "print(Z_ps)\n",
    "print('\\n data size: %.1f GB' %(Z_ps.nbytes / 1e9))"
   ]
  },
  {
   "cell_type": "code",
   "execution_count": 24,
   "metadata": {},
   "outputs": [
    {
     "name": "stdout",
     "output_type": "stream",
     "text": [
      "<xarray.DataArray 'fftn-2250d66fdbb1631e6a2558558d8b67ea' (time_segment: 6, freq_time: 1440, point: 2332800)>\n",
      "dask.array<shape=(6, 1440, 2332800), dtype=complex128, chunksize=(1, 1440, 10000)>\n",
      "Coordinates:\n",
      "  * time_segment       (time_segment) int64 0 1 2 3 4 5\n",
      "  * freq_time          (freq_time) float64 0.0 1.929e-07 3.858e-07 5.787e-07 ...\n",
      "  * point              (point) object (1, 0, 0) (1, 0, 8) (1, 0, 16) ...\n",
      "    freq_time_spacing  float64 1.929e-07\n",
      "\n",
      " data size: 322.5 GB\n"
     ]
    }
   ],
   "source": [
    "Z_fft_complex = xrft.dft(Z.fillna(0.), dim=['time'], shift=False, detrend='constant', window=True, chunks_to_segments=True)    \n",
    "Z_ps = (Z_fft_complex*Z_fft_complex.conj()).where(Z_fft_complex!=0., drop=False)/1440*3600    \n",
    "\n",
    "print(Z_ps)\n",
    "print('\\n data size: %.1f GB' %(Z_ps.nbytes / 1e9))"
   ]
  },
  {
   "cell_type": "code",
   "execution_count": 16,
   "metadata": {},
   "outputs": [
    {
     "name": "stdout",
     "output_type": "stream",
     "text": [
      "<xarray.DataArray 'rechunk-merge-dcac8eaa1280c50075d35498c180f97e' (freq_time: 1440, YC_bins: 61)>\n",
      "dask.array<shape=(1440, 61), dtype=float64, chunksize=(1440, 2)>\n",
      "Coordinates:\n",
      "  * YC_bins            (YC_bins) int64 -60 -58 -56 -54 -52 -50 -48 -46 -44 ...\n",
      "  * freq_time          (freq_time) float64 -0.0001389 -0.0001387 -0.0001385 ...\n",
      "    freq_time_spacing  float64 1.929e-07\n"
     ]
    }
   ],
   "source": [
    "Z_ps_zonmean = (Z_ps.groupby_bins(ds_subset['YC'], np.arange(-61, 62, 2), labels=np.arange(-60, 61, 2))\n",
    "                    .mean(dim=['time_segment', 'point']))\n",
    "print(Z_ps_zonmean)"
   ]
  },
  {
   "cell_type": "code",
   "execution_count": null,
   "metadata": {},
   "outputs": [],
   "source": []
  },
  {
   "cell_type": "code",
   "execution_count": null,
   "metadata": {},
   "outputs": [],
   "source": []
  },
  {
   "cell_type": "code",
   "execution_count": 37,
   "metadata": {},
   "outputs": [
    {
     "data": {
      "text/plain": [
       "<Future finished result=None>"
      ]
     },
     "execution_count": 37,
     "metadata": {},
     "output_type": "execute_result"
    }
   ],
   "source": [
    "cluster.scheduler.close()"
   ]
  },
  {
   "cell_type": "code",
   "execution_count": null,
   "metadata": {},
   "outputs": [],
   "source": []
  },
  {
   "cell_type": "code",
   "execution_count": null,
   "metadata": {},
   "outputs": [],
   "source": []
  },
  {
   "cell_type": "code",
   "execution_count": null,
   "metadata": {},
   "outputs": [],
   "source": []
  },
  {
   "cell_type": "code",
   "execution_count": null,
   "metadata": {},
   "outputs": [],
   "source": []
  },
  {
   "cell_type": "code",
   "execution_count": null,
   "metadata": {},
   "outputs": [],
   "source": []
  }
 ],
 "metadata": {
  "kernelspec": {
   "display_name": "Python 3",
   "language": "python",
   "name": "python3"
  },
  "language_info": {
   "codemirror_mode": {
    "name": "ipython",
    "version": 3
   },
   "file_extension": ".py",
   "mimetype": "text/x-python",
   "name": "python",
   "nbconvert_exporter": "python",
   "pygments_lexer": "ipython3",
   "version": "3.6.5"
  }
 },
 "nbformat": 4,
 "nbformat_minor": 2
}

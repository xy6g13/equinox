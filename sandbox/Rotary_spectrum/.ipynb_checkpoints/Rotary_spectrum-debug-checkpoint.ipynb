{
 "cells": [
  {
   "cell_type": "markdown",
   "metadata": {},
   "source": [
    "# compute spectra on mitgcm outputs"
   ]
  },
  {
   "cell_type": "markdown",
   "metadata": {},
   "source": [
    "---"
   ]
  },
  {
   "cell_type": "code",
   "execution_count": 1,
   "metadata": {},
   "outputs": [
    {
     "name": "stderr",
     "output_type": "stream",
     "text": [
      "/home1/datahome/xyu/.miniconda3/envs/equinox/lib/python3.6/site-packages/cmocean/tools.py:76: MatplotlibDeprecationWarning: The is_string_like function was deprecated in version 2.1.\n",
      "  if not mpl.cbook.is_string_like(rgbin[0]):\n"
     ]
    }
   ],
   "source": [
    "import os\n",
    "from glob import glob\n",
    "import numpy as np\n",
    "import dask\n",
    "import xarray as xr\n",
    "from matplotlib import pyplot as plt\n",
    "%matplotlib inline\n",
    "\n",
    "import xrft\n",
    "\n",
    "from mitequinox.utils import *"
   ]
  },
  {
   "cell_type": "code",
   "execution_count": 2,
   "metadata": {},
   "outputs": [
    {
     "name": "stderr",
     "output_type": "stream",
     "text": [
      "/home1/datahome/xyu/.miniconda3/envs/equinox/lib/python3.6/site-packages/distributed/utils.py:128: RuntimeWarning: Couldn't detect a suitable IP address for reaching '8.8.8.8', defaulting to '127.0.0.1': [Errno 101] Network is unreachable\n",
      "  % (host, default, e), RuntimeWarning)\n"
     ]
    }
   ],
   "source": [
    "dmethod = 1\n",
    "#\n",
    "if dmethod == 1:\n",
    "    from dask.distributed import Client\n",
    "    scheduler = os.getenv('DATAWORK')+'/dask/scheduler.json'\n",
    "    client = Client(scheduler_file=scheduler)\n",
    "elif dmethod == 2:\n",
    "    from dask_jobqueue import PBSCluster\n",
    "    # folder where data is spilled when RAM is filled up\n",
    "    local_dir = os.getenv('TMPDIR')\n",
    "    #\n",
    "    cluster = PBSCluster(queue='mpi_1', local_directory=local_dir, interface='ib0', walltime='24:00:00',\n",
    "                         threads=14, processes=2, memory='50GB', resource_spec='select=1:ncpus=28:mem=100g', \n",
    "                         death_timeout=100)\n",
    "    w = cluster.start_workers(40)"
   ]
  },
  {
   "cell_type": "code",
   "execution_count": 3,
   "metadata": {},
   "outputs": [],
   "source": [
    "# you need to wait for workers to spin up\n",
    "if dmethod == 2:\n",
    "    cluster.scheduler"
   ]
  },
  {
   "cell_type": "code",
   "execution_count": 4,
   "metadata": {},
   "outputs": [],
   "source": [
    "# get dask handles and check dask server status\n",
    "if dmethod == 2:\n",
    "    from dask.distributed import Client\n",
    "    client = Client(cluster)"
   ]
  },
  {
   "cell_type": "code",
   "execution_count": 5,
   "metadata": {},
   "outputs": [
    {
     "data": {
      "text/html": [
       "<table style=\"border: 2px solid white;\">\n",
       "<tr>\n",
       "<td style=\"vertical-align: top; border: 0px solid white\">\n",
       "<h3>Client</h3>\n",
       "<ul>\n",
       "  <li><b>Scheduler: </b>tcp://10.148.0.148:8786\n",
       "  <li><b>Dashboard: </b><a href='http://10.148.0.148:8787/status' target='_blank'>http://10.148.0.148:8787/status</a>\n",
       "</ul>\n",
       "</td>\n",
       "<td style=\"vertical-align: top; border: 0px solid white\">\n",
       "<h3>Cluster</h3>\n",
       "<ul>\n",
       "  <li><b>Workers: </b>15</li>\n",
       "  <li><b>Cores: </b>210</li>\n",
       "  <li><b>Memory: </b>1500.00 GB</li>\n",
       "</ul>\n",
       "</td>\n",
       "</tr>\n",
       "</table>"
      ],
      "text/plain": [
       "<Client: scheduler='tcp://10.148.0.148:8786' processes=15 cores=210>"
      ]
     },
     "execution_count": 5,
     "metadata": {},
     "output_type": "execute_result"
    }
   ],
   "source": [
    "client"
   ]
  },
  {
   "cell_type": "markdown",
   "metadata": {},
   "source": [
    "--- \n",
    "\n",
    "# load data SSU"
   ]
  },
  {
   "cell_type": "code",
   "execution_count": 6,
   "metadata": {},
   "outputs": [
    {
     "name": "stdout",
     "output_type": "stream",
     "text": [
      "/home1/scratch/xyu/mit_nc/\n"
     ]
    }
   ],
   "source": [
    "## open files, nc files\n",
    "ncdata_dir = scratch+'/mit_nc/'\n",
    "# search for right files, for example: Eta_f01_t*.nc\n",
    "print(ncdata_dir)"
   ]
  },
  {
   "cell_type": "code",
   "execution_count": 7,
   "metadata": {},
   "outputs": [
    {
     "name": "stdout",
     "output_type": "stream",
     "text": [
      "Number of files available: 5\n",
      "Number of files processed: 5\n",
      "<xarray.Dataset>\n",
      "Dimensions:  (i: 4320, i_g: 4320, j: 4320, j_g: 4320, k: 90, k_l: 90, k_p1: 91, k_u: 90)\n",
      "Coordinates:\n",
      "  * i        (i) int64 0 1 2 3 4 5 6 7 8 9 10 11 12 13 14 15 16 17 18 19 20 ...\n",
      "  * i_g      (i_g) int64 0 1 2 3 4 5 6 7 8 9 10 11 12 13 14 15 16 17 18 19 ...\n",
      "  * j        (j) int64 0 1 2 3 4 5 6 7 8 9 10 11 12 13 14 15 16 17 18 19 20 ...\n",
      "  * j_g      (j_g) int64 0 1 2 3 4 5 6 7 8 9 10 11 12 13 14 15 16 17 18 19 ...\n",
      "  * k        (k) int64 0 1 2 3 4 5 6 7 8 9 10 11 12 13 14 15 16 17 18 19 20 ...\n",
      "  * k_u      (k_u) int64 0 1 2 3 4 5 6 7 8 9 10 11 12 13 14 15 16 17 18 19 ...\n",
      "  * k_l      (k_l) int64 0 1 2 3 4 5 6 7 8 9 10 11 12 13 14 15 16 17 18 19 ...\n",
      "  * k_p1     (k_p1) int64 0 1 2 3 4 5 6 7 8 9 10 11 12 13 14 15 16 17 18 19 ...\n",
      "    face     int64 4\n",
      "    XC       (i, j) float32 ...\n",
      "    YC       (i, j) float32 ...\n",
      "    XG       (i_g, j_g) float32 ...\n",
      "    YG       (i_g, j_g) float32 ...\n",
      "    rA       (i, j) float32 ...\n",
      "    Depth    (i, j) float32 ...\n",
      "Data variables:\n",
      "    *empty*\n",
      "Attributes:\n",
      "    Conventions:  CF-1.6\n",
      "    title:        netCDF wrapper of MITgcm MDS binary data\n",
      "    source:       MITgcm\n",
      "    history:      Created by calling `open_mdsdataset(llc_method='smallchunks...\n"
     ]
    }
   ],
   "source": [
    "v = 'SSU'\n",
    "\n",
    "face = 4\n",
    "\n",
    "filenames = sorted(glob(ncdata_dir+v+'_f%02d_t*.nc' %(face)))\n",
    "print('Number of files available: %d' %len(filenames))\n",
    "filenames = filenames[:5]\n",
    "print('Number of files processed: %d' %len(filenames))\n",
    "\n",
    "grid = xr.open_dataset('/home1/scratch/xyu/mit_grid_t.nc')\n",
    "grid = grid.isel(face=face)\n",
    "print(grid)"
   ]
  },
  {
   "cell_type": "code",
   "execution_count": 8,
   "metadata": {},
   "outputs": [
    {
     "name": "stdout",
     "output_type": "stream",
     "text": [
      "CPU times: user 172 ms, sys: 36 ms, total: 208 ms\n",
      "Wall time: 822 ms\n",
      "<xarray.Dataset>\n",
      "Dimensions:  (i: 4320, j: 4320, time: 1200)\n",
      "Coordinates:\n",
      "  * i        (i) int64 0 1 2 3 4 5 6 7 8 9 10 11 12 13 14 15 16 17 18 19 20 ...\n",
      "  * j        (j) int64 0 1 2 3 4 5 6 7 8 9 10 11 12 13 14 15 16 17 18 19 20 ...\n",
      "    face     int64 4\n",
      "  * time     (time) float64 5.702e+06 5.706e+06 5.71e+06 5.713e+06 5.717e+06 ...\n",
      "Data variables:\n",
      "    SSU      (i, j, time) float32 dask.array<shape=(4320, 4320, 1200), chunksize=(10, 432, 240)>\n",
      "\n",
      " data size: 89.580 GB\n"
     ]
    }
   ],
   "source": [
    "%time ds = xr.open_mfdataset(filenames, chunks={'i':10, 'j':432}, concat_dim='time', compat='equals')\n",
    "\n",
    "ds = ds.isel(time=slice(0,3000))\n",
    "print(ds)\n",
    "print('\\n data size: %.3f GB' %(ds.nbytes / 1e9))\n"
   ]
  },
  {
   "cell_type": "code",
   "execution_count": 9,
   "metadata": {},
   "outputs": [
    {
     "name": "stdout",
     "output_type": "stream",
     "text": [
      "<xarray.Dataset>\n",
      "Dimensions:  (i: 4320, i_g: 4320, j: 4320, j_g: 4320, k: 90, k_l: 90, k_p1: 91, k_u: 90, time: 1200)\n",
      "Coordinates:\n",
      "  * i        (i) int64 0 1 2 3 4 5 6 7 8 9 10 11 12 13 14 15 16 17 18 19 20 ...\n",
      "  * j        (j) int64 0 1 2 3 4 5 6 7 8 9 10 11 12 13 14 15 16 17 18 19 20 ...\n",
      "    face     int64 4\n",
      "  * time     (time) float64 5.702e+06 5.706e+06 5.71e+06 5.713e+06 5.717e+06 ...\n",
      "  * i_g      (i_g) int64 0 1 2 3 4 5 6 7 8 9 10 11 12 13 14 15 16 17 18 19 ...\n",
      "  * j_g      (j_g) int64 0 1 2 3 4 5 6 7 8 9 10 11 12 13 14 15 16 17 18 19 ...\n",
      "  * k        (k) int64 0 1 2 3 4 5 6 7 8 9 10 11 12 13 14 15 16 17 18 19 20 ...\n",
      "  * k_u      (k_u) int64 0 1 2 3 4 5 6 7 8 9 10 11 12 13 14 15 16 17 18 19 ...\n",
      "  * k_l      (k_l) int64 0 1 2 3 4 5 6 7 8 9 10 11 12 13 14 15 16 17 18 19 ...\n",
      "  * k_p1     (k_p1) int64 0 1 2 3 4 5 6 7 8 9 10 11 12 13 14 15 16 17 18 19 ...\n",
      "    XC       (i, j) float32 ...\n",
      "    YC       (i, j) float32 ...\n",
      "    XG       (i_g, j_g) float32 ...\n",
      "    YG       (i_g, j_g) float32 ...\n",
      "    rA       (i, j) float32 ...\n",
      "    Depth    (i, j) float32 ...\n",
      "Data variables:\n",
      "    SSU      (i, j, time) float32 dask.array<shape=(4320, 4320, 1200), chunksize=(10, 432, 240)>\n",
      "\n",
      " data size: 90.0 GB\n"
     ]
    }
   ],
   "source": [
    "ds = xr.merge([ds,grid])\n",
    "print(ds)\n",
    "print('\\n data size: %.1f GB' %(ds.nbytes / 1e9))"
   ]
  },
  {
   "cell_type": "code",
   "execution_count": 10,
   "metadata": {},
   "outputs": [
    {
     "name": "stdout",
     "output_type": "stream",
     "text": [
      "CPU times: user 168 ms, sys: 4 ms, total: 172 ms\n",
      "Wall time: 183 ms\n",
      "<xarray.Dataset>\n",
      "Dimensions:  (i: 4320, i_g: 4320, j: 4320, j_g: 4320, k: 90, k_l: 90, k_p1: 91, k_u: 90, time: 1200)\n",
      "Coordinates:\n",
      "  * i        (i) int64 0 1 2 3 4 5 6 7 8 9 10 11 12 13 14 15 16 17 18 19 20 ...\n",
      "  * j        (j) int64 0 1 2 3 4 5 6 7 8 9 10 11 12 13 14 15 16 17 18 19 20 ...\n",
      "    face     int64 4\n",
      "  * time     (time) float64 5.702e+06 5.706e+06 5.71e+06 5.713e+06 5.717e+06 ...\n",
      "  * i_g      (i_g) int64 0 1 2 3 4 5 6 7 8 9 10 11 12 13 14 15 16 17 18 19 ...\n",
      "  * j_g      (j_g) int64 0 1 2 3 4 5 6 7 8 9 10 11 12 13 14 15 16 17 18 19 ...\n",
      "  * k        (k) int64 0 1 2 3 4 5 6 7 8 9 10 11 12 13 14 15 16 17 18 19 20 ...\n",
      "  * k_u      (k_u) int64 0 1 2 3 4 5 6 7 8 9 10 11 12 13 14 15 16 17 18 19 ...\n",
      "  * k_l      (k_l) int64 0 1 2 3 4 5 6 7 8 9 10 11 12 13 14 15 16 17 18 19 ...\n",
      "  * k_p1     (k_p1) int64 0 1 2 3 4 5 6 7 8 9 10 11 12 13 14 15 16 17 18 19 ...\n",
      "    XC       (i, j) float32 dask.array<shape=(4320, 4320), chunksize=(4320, 4320)>\n",
      "    YC       (i, j) float32 dask.array<shape=(4320, 4320), chunksize=(4320, 4320)>\n",
      "    XG       (i_g, j_g) float32 dask.array<shape=(4320, 4320), chunksize=(4320, 4320)>\n",
      "    YG       (i_g, j_g) float32 dask.array<shape=(4320, 4320), chunksize=(4320, 4320)>\n",
      "    rA       (i, j) float32 dask.array<shape=(4320, 4320), chunksize=(4320, 4320)>\n",
      "    Depth    (i, j) float32 dask.array<shape=(4320, 4320), chunksize=(4320, 4320)>\n",
      "Data variables:\n",
      "    SSU      (i, j, time) float32 dask.array<shape=(4320, 4320, 1200), chunksize=(10, 432, 1200)>\n"
     ]
    }
   ],
   "source": [
    "chunks={'time': len(ds['time'])}\n",
    "%time ds = ds.chunk(chunks)\n",
    "print(ds)"
   ]
  },
  {
   "cell_type": "code",
   "execution_count": 11,
   "metadata": {},
   "outputs": [
    {
     "name": "stdout",
     "output_type": "stream",
     "text": [
      "CPU times: user 4.8 s, sys: 68 ms, total: 4.87 s\n",
      "Wall time: 4.87 s\n"
     ]
    }
   ],
   "source": [
    "%time SSU = ds['SSU'].persist()"
   ]
  },
  {
   "cell_type": "markdown",
   "metadata": {},
   "source": [
    "______\n",
    "\n",
    "# Load data SSV\n"
   ]
  },
  {
   "cell_type": "code",
   "execution_count": 12,
   "metadata": {},
   "outputs": [
    {
     "name": "stdout",
     "output_type": "stream",
     "text": [
      "Number of files available: 5\n",
      "Number of files processed: 5\n"
     ]
    }
   ],
   "source": [
    "v1 = 'SSV'\n",
    "\n",
    "face = 4\n",
    "\n",
    "filenames_SSV = sorted(glob(ncdata_dir+v1+'_f%02d_t*.nc' %(face)))\n",
    "print('Number of files available: %d' %len(filenames_SSV))\n",
    "filenames_SSV = filenames_SSV[:5]\n",
    "print('Number of files processed: %d' %len(filenames_SSV))\n"
   ]
  },
  {
   "cell_type": "code",
   "execution_count": 13,
   "metadata": {},
   "outputs": [
    {
     "name": "stdout",
     "output_type": "stream",
     "text": [
      "CPU times: user 188 ms, sys: 32 ms, total: 220 ms\n",
      "Wall time: 1.73 s\n",
      "CPU times: user 100 ms, sys: 4 ms, total: 104 ms\n",
      "Wall time: 101 ms\n",
      "<xarray.Dataset>\n",
      "Dimensions:  (i: 4320, i_g: 4320, j: 4320, j_g: 4320, k: 90, k_l: 90, k_p1: 91, k_u: 90, time: 1200)\n",
      "Coordinates:\n",
      "  * i        (i) int64 0 1 2 3 4 5 6 7 8 9 10 11 12 13 14 15 16 17 18 19 20 ...\n",
      "  * j        (j) int64 0 1 2 3 4 5 6 7 8 9 10 11 12 13 14 15 16 17 18 19 20 ...\n",
      "    face     int64 4\n",
      "  * time     (time) float64 5.702e+06 5.706e+06 5.71e+06 5.713e+06 5.717e+06 ...\n",
      "  * i_g      (i_g) int64 0 1 2 3 4 5 6 7 8 9 10 11 12 13 14 15 16 17 18 19 ...\n",
      "  * j_g      (j_g) int64 0 1 2 3 4 5 6 7 8 9 10 11 12 13 14 15 16 17 18 19 ...\n",
      "  * k        (k) int64 0 1 2 3 4 5 6 7 8 9 10 11 12 13 14 15 16 17 18 19 20 ...\n",
      "  * k_u      (k_u) int64 0 1 2 3 4 5 6 7 8 9 10 11 12 13 14 15 16 17 18 19 ...\n",
      "  * k_l      (k_l) int64 0 1 2 3 4 5 6 7 8 9 10 11 12 13 14 15 16 17 18 19 ...\n",
      "  * k_p1     (k_p1) int64 0 1 2 3 4 5 6 7 8 9 10 11 12 13 14 15 16 17 18 19 ...\n",
      "    XC       (i, j) float32 dask.array<shape=(4320, 4320), chunksize=(4320, 4320)>\n",
      "    YC       (i, j) float32 dask.array<shape=(4320, 4320), chunksize=(4320, 4320)>\n",
      "    XG       (i_g, j_g) float32 dask.array<shape=(4320, 4320), chunksize=(4320, 4320)>\n",
      "    YG       (i_g, j_g) float32 dask.array<shape=(4320, 4320), chunksize=(4320, 4320)>\n",
      "    rA       (i, j) float32 dask.array<shape=(4320, 4320), chunksize=(4320, 4320)>\n",
      "    Depth    (i, j) float32 dask.array<shape=(4320, 4320), chunksize=(4320, 4320)>\n",
      "Data variables:\n",
      "    SSV      (i, j, time) float32 dask.array<shape=(4320, 4320, 1200), chunksize=(10, 432, 1200)>\n",
      "    SSU      (i, j, time) float32 dask.array<shape=(4320, 4320, 1200), chunksize=(10, 432, 1200)>\n",
      "\n",
      " data size: 179.6 GB\n"
     ]
    }
   ],
   "source": [
    "%time ds_SSV = xr.open_mfdataset(filenames_SSV, chunks={'i':10, 'j':432}, concat_dim='time', compat='equals')\n",
    "\n",
    "ds_SSV = ds_SSV.isel(time=slice(0,3000))\n",
    "\n",
    "chunks={'time': len(ds_SSV['time'])}\n",
    "%time ds_SSV = ds_SSV.chunk(chunks)\n",
    "\n",
    "ds = xr.merge([ds_SSV,ds])\n",
    "print(ds)\n",
    "print('\\n data size: %.1f GB' %(ds.nbytes / 1e9))"
   ]
  },
  {
   "cell_type": "code",
   "execution_count": 14,
   "metadata": {},
   "outputs": [
    {
     "name": "stdout",
     "output_type": "stream",
     "text": [
      "CPU times: user 4.87 s, sys: 80 ms, total: 4.95 s\n",
      "Wall time: 4.96 s\n"
     ]
    }
   ],
   "source": [
    "%time SSV = ds['SSV'].persist()"
   ]
  },
  {
   "cell_type": "markdown",
   "metadata": {},
   "source": [
    "____\n",
    "\n",
    "# Complex format of horizontal velocity"
   ]
  },
  {
   "cell_type": "code",
   "execution_count": 15,
   "metadata": {},
   "outputs": [
    {
     "name": "stdout",
     "output_type": "stream",
     "text": [
      "CPU times: user 14 s, sys: 376 ms, total: 14.4 s\n",
      "Wall time: 3min 10s\n"
     ]
    }
   ],
   "source": [
    "%time UV_complex = (ds['SSU'] + 1j*ds['SSV']).persist()"
   ]
  },
  {
   "cell_type": "code",
   "execution_count": 16,
   "metadata": {},
   "outputs": [
    {
     "name": "stdout",
     "output_type": "stream",
     "text": [
      "<xarray.DataArray 'SSV' (i: 4320, j: 4320, time: 1200)>\n",
      "dask.array<shape=(4320, 4320, 1200), dtype=float32, chunksize=(10, 432, 1200)>\n",
      "Coordinates:\n",
      "  * i        (i) int64 0 1 2 3 4 5 6 7 8 9 10 11 12 13 14 15 16 17 18 19 20 ...\n",
      "  * j        (j) int64 0 1 2 3 4 5 6 7 8 9 10 11 12 13 14 15 16 17 18 19 20 ...\n",
      "    face     int64 4\n",
      "  * time     (time) float64 5.702e+06 5.706e+06 5.71e+06 5.713e+06 5.717e+06 ...\n",
      "    XC       (i, j) float32 dask.array<shape=(4320, 4320), chunksize=(4320, 4320)>\n",
      "    YC       (i, j) float32 dask.array<shape=(4320, 4320), chunksize=(4320, 4320)>\n",
      "    rA       (i, j) float32 dask.array<shape=(4320, 4320), chunksize=(4320, 4320)>\n",
      "    Depth    (i, j) float32 dask.array<shape=(4320, 4320), chunksize=(4320, 4320)>\n"
     ]
    }
   ],
   "source": [
    "print(SSV)"
   ]
  },
  {
   "cell_type": "code",
   "execution_count": 17,
   "metadata": {},
   "outputs": [
    {
     "name": "stdout",
     "output_type": "stream",
     "text": [
      "<xarray.DataArray (i: 4320, j: 4320, time: 1200)>\n",
      "dask.array<shape=(4320, 4320, 1200), dtype=complex64, chunksize=(10, 432, 1200)>\n",
      "Coordinates:\n",
      "  * i        (i) int64 0 1 2 3 4 5 6 7 8 9 10 11 12 13 14 15 16 17 18 19 20 ...\n",
      "  * j        (j) int64 0 1 2 3 4 5 6 7 8 9 10 11 12 13 14 15 16 17 18 19 20 ...\n",
      "    face     int64 4\n",
      "  * time     (time) float64 5.702e+06 5.706e+06 5.71e+06 5.713e+06 5.717e+06 ...\n",
      "    XC       (i, j) float32 dask.array<shape=(4320, 4320), chunksize=(4320, 4320)>\n",
      "    YC       (i, j) float32 dask.array<shape=(4320, 4320), chunksize=(4320, 4320)>\n",
      "    rA       (i, j) float32 dask.array<shape=(4320, 4320), chunksize=(4320, 4320)>\n",
      "    Depth    (i, j) float32 dask.array<shape=(4320, 4320), chunksize=(4320, 4320)>\n"
     ]
    }
   ],
   "source": [
    "print(UV_complex)"
   ]
  },
  {
   "cell_type": "markdown",
   "metadata": {},
   "source": [
    "---\n",
    "\n",
    "# spectral computations "
   ]
  },
  {
   "cell_type": "code",
   "execution_count": 18,
   "metadata": {},
   "outputs": [
    {
     "name": "stderr",
     "output_type": "stream",
     "text": [
      "/home1/datahome/xyu/.miniconda3/envs/equinox/lib/python3.6/site-packages/xrft/xrft.py:272: FutureWarning: xarray.DataArray.__contains__ currently checks membership in DataArray.coords, but in xarray v0.11 will change to check membership in array values.\n",
      "  elif d in da:\n"
     ]
    }
   ],
   "source": [
    "# complex uv\n",
    "uv_fft = xrft.dft(UV_complex.fillna(0.), dim=['time'], shift=False, detrend='linear')\n",
    "E_uv = (uv_fft*uv_fft.conj()).where(uv_fft!=0., drop=False).mean(dim=('i','j'))\n",
    "E_uv = E_uv.astype('f8').rename('SSUV_power_spectrum ()')"
   ]
  },
  {
   "cell_type": "code",
   "execution_count": 19,
   "metadata": {},
   "outputs": [
    {
     "name": "stdout",
     "output_type": "stream",
     "text": [
      "<xarray.DataArray 'SSUV_power_spectrum ()' (freq_time: 1200)>\n",
      "dask.array<shape=(1200,), dtype=float64, chunksize=(1200,)>\n",
      "Coordinates:\n",
      "  * freq_time          (freq_time) float64 0.0 2.315e-07 4.63e-07 6.944e-07 ...\n",
      "    freq_time_spacing  float64 2.315e-07\n"
     ]
    }
   ],
   "source": [
    "print(E_uv)"
   ]
  },
  {
   "cell_type": "code",
   "execution_count": 20,
   "metadata": {},
   "outputs": [
    {
     "name": "stdout",
     "output_type": "stream",
     "text": [
      "CPU times: user 28.9 s, sys: 488 ms, total: 29.4 s\n",
      "Wall time: 5min 39s\n"
     ]
    },
    {
     "data": {
      "text/plain": [
       "<xarray.DataArray 'SSUV_power_spectrum ()' (freq_time: 1200)>\n",
       "array([3.792019e-09, 7.232964e+03, 5.103598e+03, ..., 3.282253e+03,\n",
       "       5.619296e+03, 7.282750e+03])\n",
       "Coordinates:\n",
       "  * freq_time          (freq_time) float64 0.0 2.315e-07 4.63e-07 6.944e-07 ...\n",
       "    freq_time_spacing  float64 2.315e-07"
      ]
     },
     "execution_count": 20,
     "metadata": {},
     "output_type": "execute_result"
    }
   ],
   "source": [
    "%time E_uv.load()"
   ]
  },
  {
   "cell_type": "code",
   "execution_count": 21,
   "metadata": {},
   "outputs": [
    {
     "data": {
      "text/plain": [
       "[<matplotlib.lines.Line2D at 0x2aaafff47e80>]"
      ]
     },
     "execution_count": 21,
     "metadata": {},
     "output_type": "execute_result"
    },
    {
     "data": {
      "image/png": "[encoded data removed]",
      "text/plain": [
       "<Figure size 432x288 with 1 Axes>"
      ]
     },
     "metadata": {},
     "output_type": "display_data"
    }
   ],
   "source": [
    "E_uv.plot()"
   ]
  },
  {
   "cell_type": "markdown",
   "metadata": {},
   "source": [
    "---"
   ]
  },
  {
   "cell_type": "code",
   "execution_count": 22,
   "metadata": {},
   "outputs": [
    {
     "data": {
      "text/html": [
       "<table style=\"border: 2px solid white;\">\n",
       "<tr>\n",
       "<td style=\"vertical-align: top; border: 0px solid white\">\n",
       "<h3>Client</h3>\n",
       "<ul>\n",
       "  <li><b>Scheduler: </b>tcp://10.148.0.148:8786\n",
       "  <li><b>Dashboard: </b><a href='http://10.148.0.148:8787/status' target='_blank'>http://10.148.0.148:8787/status</a>\n",
       "</ul>\n",
       "</td>\n",
       "<td style=\"vertical-align: top; border: 0px solid white\">\n",
       "<h3>Cluster</h3>\n",
       "<ul>\n",
       "  <li><b>Workers: </b>15</li>\n",
       "  <li><b>Cores: </b>210</li>\n",
       "  <li><b>Memory: </b>1500.00 GB</li>\n",
       "</ul>\n",
       "</td>\n",
       "</tr>\n",
       "</table>"
      ],
      "text/plain": [
       "<Client: scheduler='tcp://10.148.0.148:8786' processes=8 cores=112>"
      ]
     },
     "execution_count": 22,
     "metadata": {},
     "output_type": "execute_result"
    }
   ],
   "source": [
    "client.restart()"
   ]
  },
  {
   "cell_type": "code",
   "execution_count": null,
   "metadata": {},
   "outputs": [],
   "source": []
  }
 ],
 "metadata": {
  "kernelspec": {
   "display_name": "Python 3",
   "language": "python",
   "name": "python3"
  },
  "language_info": {
   "codemirror_mode": {
    "name": "ipython",
    "version": 3
   },
   "file_extension": ".py",
   "mimetype": "text/x-python",
   "name": "python",
   "nbconvert_exporter": "python",
   "pygments_lexer": "ipython3",
   "version": "3.6.5"
  }
 },
 "nbformat": 4,
 "nbformat_minor": 2
}

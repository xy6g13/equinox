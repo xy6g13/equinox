{
 "cells": [
  {
   "cell_type": "code",
   "execution_count": 1,
   "metadata": {},
   "outputs": [
    {
     "name": "stderr",
     "output_type": "stream",
     "text": [
      "/home1/datahome/xyu/.miniconda3/envs/equinox/lib/python3.6/importlib/_bootstrap.py:219: RuntimeWarning: numpy.dtype size changed, may indicate binary incompatibility. Expected 96, got 88\n",
      "  return f(*args, **kwds)\n",
      "/home1/datahome/xyu/.miniconda3/envs/equinox/lib/python3.6/importlib/_bootstrap.py:219: RuntimeWarning: numpy.dtype size changed, may indicate binary incompatibility. Expected 96, got 88\n",
      "  return f(*args, **kwds)\n",
      "/home1/datahome/xyu/.miniconda3/envs/equinox/lib/python3.6/site-packages/cmocean/tools.py:76: MatplotlibDeprecationWarning: The is_string_like function was deprecated in version 2.1.\n",
      "  if not mpl.cbook.is_string_like(rgbin[0]):\n",
      "/home1/datahome/xyu/.miniconda3/envs/equinox/lib/python3.6/importlib/_bootstrap.py:219: RuntimeWarning: numpy.dtype size changed, may indicate binary incompatibility. Expected 96, got 88\n",
      "  return f(*args, **kwds)\n"
     ]
    }
   ],
   "source": [
    "import os\n",
    "from glob import glob\n",
    "import numpy as np\n",
    "import dask\n",
    "import xarray as xr\n",
    "import xrft\n",
    "import cartopy.crs as ccrs\n",
    "from cmocean import cm\n",
    "import h5py\n",
    "\n",
    "from matplotlib import pyplot as plt\n",
    "%matplotlib inline\n",
    "\n",
    "from mitequinox.utils import *"
   ]
  },
  {
   "cell_type": "code",
   "execution_count": 2,
   "metadata": {},
   "outputs": [
    {
     "name": "stderr",
     "output_type": "stream",
     "text": [
      "/home1/datahome/xyu/.miniconda3/envs/equinox/lib/python3.6/site-packages/distributed/utils.py:128: RuntimeWarning: Couldn't detect a suitable IP address for reaching '8.8.8.8', defaulting to '127.0.0.1': [Errno 101] Network is unreachable\n",
      "  % (host, default, e), RuntimeWarning)\n"
     ]
    }
   ],
   "source": [
    "from dask_jobqueue import PBSCluster\n",
    "local_dir = os.getenv('TMPDIR')\n",
    "cluster = PBSCluster(local_directory=local_dir)\n",
    "#print(cluster.job_script())\n",
    "w = cluster.start_workers(28)"
   ]
  },
  {
   "cell_type": "code",
   "execution_count": 3,
   "metadata": {},
   "outputs": [],
   "source": [
    "# get dask handles and check dask server status\n",
    "from dask.distributed import Client\n",
    "client = Client(cluster)"
   ]
  },
  {
   "cell_type": "code",
   "execution_count": 4,
   "metadata": {},
   "outputs": [
    {
     "data": {
      "text/html": [
       "<table style=\"border: 2px solid white;\">\n",
       "<tr>\n",
       "<td style=\"vertical-align: top; border: 0px solid white\">\n",
       "<h3>Client</h3>\n",
       "<ul>\n",
       "  <li><b>Scheduler: </b>tcp://10.148.0.65:48346\n",
       "  <li><b>Dashboard: </b><a href='http://10.148.0.65:8787/status' target='_blank'>http://10.148.0.65:8787/status</a>\n",
       "</ul>\n",
       "</td>\n",
       "<td style=\"vertical-align: top; border: 0px solid white\">\n",
       "<h3>Cluster</h3>\n",
       "<ul>\n",
       "  <li><b>Workers: </b>34</li>\n",
       "  <li><b>Cores: </b>136</li>\n",
       "  <li><b>Memory: </b>1700.00 GB</li>\n",
       "</ul>\n",
       "</td>\n",
       "</tr>\n",
       "</table>"
      ],
      "text/plain": [
       "<Client: scheduler='tcp://10.148.0.65:48346' processes=34 cores=136>"
      ]
     },
     "execution_count": 4,
     "metadata": {},
     "output_type": "execute_result"
    }
   ],
   "source": [
    "client"
   ]
  },
  {
   "cell_type": "markdown",
   "metadata": {},
   "source": [
    "---\n"
   ]
  },
  {
   "cell_type": "markdown",
   "metadata": {},
   "source": [
    "# 1. Load dataset"
   ]
  },
  {
   "cell_type": "code",
   "execution_count": 5,
   "metadata": {},
   "outputs": [
    {
     "name": "stdout",
     "output_type": "stream",
     "text": [
      "<xarray.Dataset>\n",
      "Dimensions:      (lat: 126303, time: 1440)\n",
      "Coordinates:\n",
      "  * lat          (lat) float64 39.52 39.68 40.44 32.82 33.22 33.98 35.36 ...\n",
      "    lon          (lat) float64 dask.array<shape=(126303,), chunksize=(1,)>\n",
      "    qd           (lat) uint8 dask.array<shape=(126303,), chunksize=(1,)>\n",
      "  * time         (time) int64 0 3600 7200 10800 14400 18000 21600 25200 ...\n",
      "Data variables:\n",
      "    uv_drifters  (lat, time) complex128 dask.array<shape=(126303, 1440), chunksize=(1, 1440)>\n",
      "\n",
      " data size: 2.9 GB\n"
     ]
    }
   ],
   "source": [
    "data_dir = '/home1/datawork/xyu/Drifters/'\n",
    "ds = xr.open_zarr(data_dir+'mit_spec/Drifter_processeddata.zarr').chunk({'time': 1440, 'lat': 1}) \n",
    "print(ds)\n",
    "print('\\n data size: %.1f GB' %(ds.nbytes / 1e9))"
   ]
  },
  {
   "cell_type": "code",
   "execution_count": 6,
   "metadata": {},
   "outputs": [
    {
     "name": "stdout",
     "output_type": "stream",
     "text": [
      "<xarray.DataArray 'E_uv_blocks' (lat: 126303, freq_time: 1440)>\n",
      "dask.array<shape=(126303, 1440), dtype=float64, chunksize=(1, 1440)>\n",
      "Coordinates:\n",
      "  * lat                (lat) float64 39.52 39.68 40.44 32.82 33.22 33.98 ...\n",
      "  * freq_time          (freq_time) float64 0.0 1.929e-07 3.858e-07 5.787e-07 ...\n",
      "    freq_time_spacing  float64 1.929e-07\n",
      "    freq_cpd           (freq_time) float64 0.0 0.01667 0.03333 0.05 0.06667 ...\n"
     ]
    },
    {
     "name": "stderr",
     "output_type": "stream",
     "text": [
      "distributed.utils_perf - WARNING - full garbage collections took 10% CPU time recently (threshold: 10%)\n",
      "distributed.utils_perf - WARNING - full garbage collections took 10% CPU time recently (threshold: 10%)\n",
      "distributed.utils_perf - WARNING - full garbage collections took 10% CPU time recently (threshold: 10%)\n",
      "distributed.utils_perf - WARNING - full garbage collections took 10% CPU time recently (threshold: 10%)\n",
      "distributed.utils_perf - WARNING - full garbage collections took 10% CPU time recently (threshold: 10%)\n",
      "distributed.utils_perf - WARNING - full garbage collections took 10% CPU time recently (threshold: 10%)\n",
      "distributed.utils_perf - WARNING - full garbage collections took 10% CPU time recently (threshold: 10%)\n"
     ]
    },
    {
     "name": "stdout",
     "output_type": "stream",
     "text": [
      "CPU times: user 29min 33s, sys: 51.9 s, total: 30min 25s\n",
      "Wall time: 35min 38s\n"
     ]
    },
    {
     "data": {
      "text/plain": [
       "<xarray.backends.zarr.ZarrStore at 0x2aab3bf8d5f8>"
      ]
     },
     "execution_count": 6,
     "metadata": {},
     "output_type": "execute_result"
    }
   ],
   "source": [
    "uv_fft_complex = xrft.dft(ds.uv_drifters.fillna(0.), dim=['time'], shift=False, detrend='constant', window=True, chunks_to_segments=False)\n",
    "E_uv_blocks = (uv_fft_complex*uv_fft_complex.conj()).where(uv_fft_complex!=0., drop=False)/1440*3600\n",
    "E_uv_blocks = np.real(E_uv_blocks).rename('E_uv_blocks')\n",
    "E_uv_blocks = E_uv_blocks.assign_coords(freq_cpd=E_uv_blocks.freq_time * 86400.) \n",
    "print(E_uv_blocks)\n",
    "file_E = data_dir+'mit_spec/E_drifter_uv_blocks.zarr'\n",
    "%time E_uv_blocks.to_dataset().to_zarr(file_E, mode='w')  "
   ]
  },
  {
   "cell_type": "code",
   "execution_count": 7,
   "metadata": {},
   "outputs": [],
   "source": [
    "E_uv_zonmean = (E_uv_blocks.groupby_bins(E_uv_blocks.lat, np.arange(-60.5, 61, 1), labels=np.arange(-60, 61, 1)).mean(dim=['lat']))\n",
    "\n",
    "E_drifter_constant_window = E_uv_zonmean#.load()\n",
    "E_drifter_constant_window = np.real(E_drifter_constant_window).rename('E_drifter_constant_window')\n",
    "#file_E = data_dir+'mit_spec/E_drifter_constant_window.zarr'\n",
    "#%time E_drifter_constant_window.to_dataset().to_zarr(file_E, mode='w')  "
   ]
  },
  {
   "cell_type": "code",
   "execution_count": 8,
   "metadata": {},
   "outputs": [
    {
     "name": "stdout",
     "output_type": "stream",
     "text": [
      "<xarray.DataArray 'E_drifter_constant_window' (lat_bins: 121, freq_time: 1440)>\n",
      "dask.array<shape=(121, 1440), dtype=float64, chunksize=(121, 1440)>\n",
      "Coordinates:\n",
      "  * lat_bins           (lat_bins) int64 -60 -59 -58 -57 -56 -55 -54 -53 -52 ...\n",
      "  * freq_time          (freq_time) float64 0.0 1.929e-07 3.858e-07 5.787e-07 ...\n",
      "    freq_time_spacing  float64 1.929e-07\n",
      "    freq_cpd           (freq_time) float64 0.0 0.01667 0.03333 0.05 0.06667 ...\n"
     ]
    }
   ],
   "source": [
    "print(E_drifter_constant_window)"
   ]
  },
  {
   "cell_type": "markdown",
   "metadata": {},
   "source": [
    "_________\n",
    "# 3. Load dataset"
   ]
  },
  {
   "cell_type": "code",
   "execution_count": 10,
   "metadata": {},
   "outputs": [
    {
     "name": "stdout",
     "output_type": "stream",
     "text": [
      "<xarray.Dataset>\n",
      "Dimensions:            (freq_time: 1440, lat: 126303)\n",
      "Coordinates:\n",
      "    freq_cpd           (freq_time) float64 dask.array<shape=(1440,), chunksize=(1440,)>\n",
      "  * freq_time          (freq_time) float64 0.0 1.929e-07 3.858e-07 5.787e-07 ...\n",
      "    freq_time_spacing  float64 ...\n",
      "  * lat                (lat) float64 39.52 39.68 40.44 32.82 33.22 33.98 ...\n",
      "Data variables:\n",
      "    E_uv_blocks        (lat, freq_time) float64 dask.array<shape=(126303, 1440), chunksize=(1000, 1440)>\n"
     ]
    }
   ],
   "source": [
    "data_dir = '/home1/datawork/xyu/Drifters/'\n",
    "ds = xr.open_zarr(data_dir+'mit_spec/E_drifter_uv_blocks.zarr').chunk({'freq_time': 1440,'lat': 1000}) \n",
    "print(ds)"
   ]
  },
  {
   "cell_type": "code",
   "execution_count": 11,
   "metadata": {},
   "outputs": [],
   "source": [
    "E_uv_blocks = ds.E_uv_blocks"
   ]
  },
  {
   "cell_type": "code",
   "execution_count": 12,
   "metadata": {},
   "outputs": [
    {
     "data": {
      "text/plain": [
       "<xarray.DataArray (freq_time: 1439)>\n",
       "dask.array<shape=(1439,), dtype=float64, chunksize=(1439,)>\n",
       "Coordinates:\n",
       "  * freq_time          (freq_time) float64 -0.0 0.01667 0.03333 0.05 0.06667 ...\n",
       "    freq_time_spacing  float64 1.929e-07"
      ]
     },
     "execution_count": 12,
     "metadata": {},
     "output_type": "execute_result"
    }
   ],
   "source": [
    "# cyclonic spectra\n",
    "E_uv_1 = ((E_uv_blocks).where( (E_uv_blocks.lat>0.) & (E_uv_blocks.freq_time>0.) )).mean(dim=('lat'))   \n",
    "E_uv_1 = np.real(E_uv_1).rename('E_uv_1')\n",
    "E_uv_1 \n",
    "\n",
    "E_uv_2 = ((E_uv_blocks).where( (E_uv_blocks.lat<0.) & (E_uv_blocks.freq_time<0.) )).mean(dim=('lat'))   \n",
    "E_uv_2 = E_uv_2.assign_coords(freq_time=E_uv_2.freq_time * -1.) \n",
    "E_uv_2 = np.real(E_uv_2).rename('E_uv_2')\n",
    "E_uv_2 \n",
    "\n",
    "E_drifter_cycl = (E_uv_1 + E_uv_2)/8.64 #(unit:cm^2 s^-2/cpd)\n",
    "E_drifter_cycl = E_drifter_cycl.assign_coords(freq_time=E_drifter_cycl.freq_time * 86400.) \n",
    "E_drifter_cycl"
   ]
  },
  {
   "cell_type": "code",
   "execution_count": 13,
   "metadata": {},
   "outputs": [
    {
     "data": {
      "text/plain": [
       "<xarray.DataArray (freq_time: 1439)>\n",
       "dask.array<shape=(1439,), dtype=float64, chunksize=(1439,)>\n",
       "Coordinates:\n",
       "  * freq_time          (freq_time) float64 -0.0 0.01667 0.03333 0.05 0.06667 ...\n",
       "    freq_time_spacing  float64 1.929e-07"
      ]
     },
     "execution_count": 13,
     "metadata": {},
     "output_type": "execute_result"
    }
   ],
   "source": [
    "# anti-cyclonic spectra\n",
    "E_uv_3 = ((E_uv_blocks).where( (E_uv_blocks.lat<0.) & (E_uv_blocks.freq_time>0.) )).mean(dim=('lat'))   \n",
    "E_uv_3 = np.real(E_uv_3).rename('E_uv_3') \n",
    "\n",
    "E_uv_4 = ((E_uv_blocks).where( (E_uv_blocks.lat>0.) & (E_uv_blocks.freq_time<0.) )).mean(dim=('lat'))   \n",
    "E_uv_4 = E_uv_4.assign_coords(freq_time=E_uv_4.freq_time * -1.) \n",
    "E_uv_4 = np.real(E_uv_4).rename('E_uv_4')\n",
    "E_uv_4 \n",
    "\n",
    "E_drifter_anti = (E_uv_3 + E_uv_4)/8.64 #(unit:cm^2 s^-2/cpd)\n",
    "E_drifter_anti = E_drifter_anti.assign_coords(freq_time=E_drifter_anti.freq_time * 86400.) \n",
    "E_drifter_anti"
   ]
  },
  {
   "cell_type": "code",
   "execution_count": 19,
   "metadata": {},
   "outputs": [
    {
     "name": "stdout",
     "output_type": "stream",
     "text": [
      "<xarray.Dataset>\n",
      "Dimensions:            (freq_time: 1439)\n",
      "Coordinates:\n",
      "  * freq_time          (freq_time) float64 -0.0 0.01667 0.03333 0.05 0.06667 ...\n",
      "    freq_time_spacing  float64 1.929e-07\n",
      "Data variables:\n",
      "    E_drifter_cycl     (freq_time) float64 dask.array<shape=(1439,), chunksize=(1439,)>\n",
      "    E_drifter_anti     (freq_time) float64 dask.array<shape=(1439,), chunksize=(1439,)>\n",
      "CPU times: user 1min 23s, sys: 2.37 s, total: 1min 25s\n",
      "Wall time: 1min 29s\n"
     ]
    },
    {
     "data": {
      "text/plain": [
       "<xarray.backends.zarr.ZarrStore at 0x2aabd0dc62b0>"
      ]
     },
     "execution_count": 19,
     "metadata": {},
     "output_type": "execute_result"
    }
   ],
   "source": [
    "E_drifter_cycl = np.real(E_drifter_cycl).rename('E_drifter_cycl')\n",
    "E_drifter_anti = np.real(E_drifter_anti).rename('E_drifter_anti')\n",
    "E_drifter_globalmean = xr.merge([E_drifter_cycl.to_dataset(),E_drifter_anti.to_dataset()])\n",
    "print(E_drifter_globalmean)\n",
    "file_E = data_dir+'mit_spec/E_drifter_globalmean.zarr'\n",
    "%time E_drifter_globalmean.to_zarr(file_E, mode='w')  "
   ]
  },
  {
   "cell_type": "code",
   "execution_count": 21,
   "metadata": {},
   "outputs": [
    {
     "name": "stdout",
     "output_type": "stream",
     "text": [
      "<xarray.Dataset>\n",
      "Dimensions:            (freq_time: 1439)\n",
      "Coordinates:\n",
      "  * freq_time          (freq_time) float64 -0.0 0.01667 0.03333 0.05 0.06667 ...\n",
      "    freq_time_spacing  float64 ...\n",
      "Data variables:\n",
      "    E_drifter_anti     (freq_time) float64 dask.array<shape=(1439,), chunksize=(1439,)>\n",
      "    E_drifter_cycl     (freq_time) float64 dask.array<shape=(1439,), chunksize=(1439,)>\n"
     ]
    }
   ],
   "source": [
    "data_dir = '/home1/datawork/xyu/Drifters/'\n",
    "ds = xr.open_zarr(data_dir+'mit_spec/E_drifter_globalmean.zarr')\n",
    "print(ds)\n",
    "E_drifter_anti = ds.E_drifter_anti\n",
    "E_drifter_cycl = ds.E_drifter_cycl"
   ]
  },
  {
   "cell_type": "code",
   "execution_count": 22,
   "metadata": {},
   "outputs": [
    {
     "data": {
      "text/plain": [
       "Text(0.5,1,'Drifters')"
      ]
     },
     "execution_count": 22,
     "metadata": {},
     "output_type": "execute_result"
    },
    {
     "data": {
      "image/png": "[encoded data removed]",
      "text/plain": [
       "<Figure size 1728x576 with 1 Axes>"
      ]
     },
     "metadata": {},
     "output_type": "display_data"
    }
   ],
   "source": [
    "fig, ax = plt.subplots(figsize=(24,8))\n",
    "\n",
    "labels = ['Cyclonic', 'Anticyclonic']\n",
    "\n",
    "np.log10(E_drifter_cycl).plot(ax=ax, linewidth=3, color='grey', label=labels[0])\n",
    "np.log10(E_drifter_anti).plot(ax=ax, linewidth=3, color='black', label=labels[1])\n",
    "\n",
    "ax.legend(); ax.grid()\n",
    "ax.set_ylim([0.,4])\n",
    "ax.set_yticks([0., 0.5, 1., 1.5, 2., 2.5, 3., 3.5,4.])\n",
    "ax.set_xlim([0.,12.])\n",
    "\n",
    "ax.set_xticks([0., 1., 2., 3., 4., 5., 6., 7., 8., 9., 10., 11., 12.])\n",
    "ax.legend(prop={'size': 24})\n",
    "ax.set_ylabel('PSD ($log_{10}\\ cm^2 s^{-2} cpd^{-1})$',fontsize=24)\n",
    "ax.set_xlabel('Frequency (cpd)',fontsize=24)\n",
    "ax.tick_params(labelsize=24)\n",
    "ax.set_title('Drifters',fontsize=24)\n",
    "\n",
    "#plt.savefig('/home1/datahome/xyu/equinox_working/sandbox/Figures/Rotary_spectra_globally_averaged.png')"
   ]
  },
  {
   "cell_type": "code",
   "execution_count": null,
   "metadata": {},
   "outputs": [],
   "source": []
  },
  {
   "cell_type": "code",
   "execution_count": null,
   "metadata": {},
   "outputs": [],
   "source": []
  },
  {
   "cell_type": "code",
   "execution_count": null,
   "metadata": {},
   "outputs": [],
   "source": []
  },
  {
   "cell_type": "code",
   "execution_count": null,
   "metadata": {},
   "outputs": [],
   "source": []
  },
  {
   "cell_type": "code",
   "execution_count": null,
   "metadata": {},
   "outputs": [],
   "source": []
  },
  {
   "cell_type": "code",
   "execution_count": null,
   "metadata": {},
   "outputs": [],
   "source": []
  },
  {
   "cell_type": "code",
   "execution_count": null,
   "metadata": {},
   "outputs": [],
   "source": []
  },
  {
   "cell_type": "code",
   "execution_count": null,
   "metadata": {},
   "outputs": [],
   "source": []
  },
  {
   "cell_type": "code",
   "execution_count": null,
   "metadata": {},
   "outputs": [],
   "source": []
  },
  {
   "cell_type": "code",
   "execution_count": null,
   "metadata": {},
   "outputs": [],
   "source": []
  },
  {
   "cell_type": "code",
   "execution_count": null,
   "metadata": {},
   "outputs": [],
   "source": []
  },
  {
   "cell_type": "code",
   "execution_count": 24,
   "metadata": {},
   "outputs": [
    {
     "data": {
      "text/plain": [
       "<Future finished result=None>"
      ]
     },
     "execution_count": 24,
     "metadata": {},
     "output_type": "execute_result"
    }
   ],
   "source": [
    "cluster.scheduler.close()"
   ]
  },
  {
   "cell_type": "code",
   "execution_count": null,
   "metadata": {},
   "outputs": [],
   "source": []
  }
 ],
 "metadata": {
  "kernelspec": {
   "display_name": "Python 3",
   "language": "python",
   "name": "python3"
  },
  "language_info": {
   "codemirror_mode": {
    "name": "ipython",
    "version": 3
   },
   "file_extension": ".py",
   "mimetype": "text/x-python",
   "name": "python",
   "nbconvert_exporter": "python",
   "pygments_lexer": "ipython3",
   "version": "3.6.5"
  }
 },
 "nbformat": 4,
 "nbformat_minor": 2
}

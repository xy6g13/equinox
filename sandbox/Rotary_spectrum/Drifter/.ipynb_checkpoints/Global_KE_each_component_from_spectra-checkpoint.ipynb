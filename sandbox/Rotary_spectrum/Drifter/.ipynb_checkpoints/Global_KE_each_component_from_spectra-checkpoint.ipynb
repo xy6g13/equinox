{
 "cells": [
  {
   "cell_type": "code",
   "execution_count": 1,
   "metadata": {},
   "outputs": [
    {
     "name": "stderr",
     "output_type": "stream",
     "text": [
      "/home1/datahome/xyu/.miniconda3/envs/equinox/lib/python3.6/importlib/_bootstrap.py:219: RuntimeWarning: numpy.dtype size changed, may indicate binary incompatibility. Expected 96, got 88\n",
      "  return f(*args, **kwds)\n",
      "/home1/datahome/xyu/.miniconda3/envs/equinox/lib/python3.6/importlib/_bootstrap.py:219: RuntimeWarning: numpy.dtype size changed, may indicate binary incompatibility. Expected 96, got 88\n",
      "  return f(*args, **kwds)\n",
      "/home1/datahome/xyu/.miniconda3/envs/equinox/lib/python3.6/site-packages/cmocean/tools.py:76: MatplotlibDeprecationWarning: The is_string_like function was deprecated in version 2.1.\n",
      "  if not mpl.cbook.is_string_like(rgbin[0]):\n",
      "/home1/datahome/xyu/.miniconda3/envs/equinox/lib/python3.6/importlib/_bootstrap.py:219: RuntimeWarning: numpy.dtype size changed, may indicate binary incompatibility. Expected 96, got 88\n",
      "  return f(*args, **kwds)\n"
     ]
    }
   ],
   "source": [
    "import os\n",
    "from glob import glob\n",
    "import numpy as np\n",
    "import dask\n",
    "import xarray as xr\n",
    "import xrft\n",
    "import cartopy.crs as ccrs\n",
    "from cmocean import cm\n",
    "import h5py\n",
    "\n",
    "from matplotlib import pyplot as plt\n",
    "%matplotlib inline\n",
    "\n",
    "from mitequinox.utils import *"
   ]
  },
  {
   "cell_type": "code",
   "execution_count": 2,
   "metadata": {},
   "outputs": [
    {
     "name": "stderr",
     "output_type": "stream",
     "text": [
      "/home1/datahome/xyu/.miniconda3/envs/equinox/lib/python3.6/site-packages/distributed/utils.py:128: RuntimeWarning: Couldn't detect a suitable IP address for reaching '8.8.8.8', defaulting to '127.0.0.1': [Errno 101] Network is unreachable\n",
      "  % (host, default, e), RuntimeWarning)\n"
     ]
    }
   ],
   "source": [
    "from dask_jobqueue import PBSCluster\n",
    "local_dir = os.getenv('TMPDIR')\n",
    "cluster = PBSCluster(local_directory=local_dir)\n",
    "#print(cluster.job_script())\n",
    "w = cluster.start_workers(28)"
   ]
  },
  {
   "cell_type": "code",
   "execution_count": 3,
   "metadata": {},
   "outputs": [],
   "source": [
    "# get dask handles and check dask server status\n",
    "from dask.distributed import Client\n",
    "client = Client(cluster)"
   ]
  },
  {
   "cell_type": "code",
   "execution_count": 20,
   "metadata": {},
   "outputs": [
    {
     "data": {
      "text/html": [
       "<table style=\"border: 2px solid white;\">\n",
       "<tr>\n",
       "<td style=\"vertical-align: top; border: 0px solid white\">\n",
       "<h3>Client</h3>\n",
       "<ul>\n",
       "  <li><b>Scheduler: </b>tcp://10.148.1.20:57096\n",
       "  <li><b>Dashboard: </b><a href='http://10.148.1.20:8787/status' target='_blank'>http://10.148.1.20:8787/status</a>\n",
       "</ul>\n",
       "</td>\n",
       "<td style=\"vertical-align: top; border: 0px solid white\">\n",
       "<h3>Cluster</h3>\n",
       "<ul>\n",
       "  <li><b>Workers: </b>34</li>\n",
       "  <li><b>Cores: </b>136</li>\n",
       "  <li><b>Memory: </b>1700.00 GB</li>\n",
       "</ul>\n",
       "</td>\n",
       "</tr>\n",
       "</table>"
      ],
      "text/plain": [
       "<Client: scheduler='tcp://10.148.1.20:57096' processes=34 cores=136>"
      ]
     },
     "execution_count": 20,
     "metadata": {},
     "output_type": "execute_result"
    }
   ],
   "source": [
    "client"
   ]
  },
  {
   "cell_type": "markdown",
   "metadata": {},
   "source": [
    "---\n"
   ]
  },
  {
   "cell_type": "markdown",
   "metadata": {},
   "source": [
    "# 1. Drifter data files"
   ]
  },
  {
   "cell_type": "code",
   "execution_count": 5,
   "metadata": {},
   "outputs": [
    {
     "data": {
      "text/plain": [
       "[('mlat2', <HDF5 dataset \"mlat2\": shape (126303, 1), type \"<f8\">),\n",
       " ('mlon2', <HDF5 dataset \"mlon2\": shape (126303, 1), type \"<f8\">),\n",
       " ('qd', <HDF5 dataset \"qd\": shape (126303, 1), type \"|u1\">),\n",
       " ('qmed200', <HDF5 dataset \"qmed200\": shape (126303, 1), type \"|u1\">),\n",
       " ('qu', <HDF5 dataset \"qu\": shape (126303, 1), type \"|u1\">),\n",
       " ('u', <HDF5 dataset \"u\": shape (126303, 1), type \"<f8\">),\n",
       " ('uv2', <HDF5 dataset \"uv2\": shape (126303, 1440), type \"|V16\">),\n",
       " ('v', <HDF5 dataset \"v\": shape (126303, 1), type \"<f8\">)]"
      ]
     },
     "execution_count": 5,
     "metadata": {},
     "output_type": "execute_result"
    }
   ],
   "source": [
    "# The prcessed dataset includes both the GPS- and Argo-tracked surface drifters.\n",
    "# 2-month blocks with overlapping by 50%\n",
    "\n",
    "data_dir = '/home1/datawork/xyu/Drifters/'\n",
    "\n",
    "drifter_dataset = h5py.File(data_dir+'Drifter_dataset_processed.mat','r') \n",
    "list(drifter_dataset.items())\n",
    "\n",
    "# mlat2: mean latitude over 60 days,     126303*1\n",
    "# mlon2: mean longitude over 60 days,    126303*1\n",
    "\n",
    "# qd: drogued drifters,                  126303*1\n",
    "# qmed200: median water depth > 200 m,   126303*1\n",
    "# qu: undrogued drifters,                126303*1\n",
    "\n",
    "# uv2: (u, v),                           126303*1440"
   ]
  },
  {
   "cell_type": "code",
   "execution_count": 6,
   "metadata": {},
   "outputs": [
    {
     "data": {
      "text/plain": [
       "<xarray.DataArray 'lat' (lat: 126303)>\n",
       "array([ 39.51519 ,  39.682915,  40.437454, ..., -60.776903,  32.794351,\n",
       "        27.131247])\n",
       "Dimensions without coordinates: lat"
      ]
     },
     "execution_count": 6,
     "metadata": {},
     "output_type": "execute_result"
    }
   ],
   "source": [
    "# turn mean-lat into xarray_DataArray\n",
    "lat2 = drifter_dataset['mlat2']\n",
    "lat2 = np.array(lat2)\n",
    "lat = xr.DataArray(lat2, dims=['lat', 'none'])\n",
    "lat = xr.DataArray.squeeze(lat, dim='none')\n",
    "lat = np.real(lat).rename('lat')\n",
    "lat"
   ]
  },
  {
   "cell_type": "code",
   "execution_count": 7,
   "metadata": {},
   "outputs": [
    {
     "data": {
      "text/plain": [
       "<xarray.DataArray 'lon' (lon: 126303)>\n",
       "array([150.087397, 151.958754, 152.837519, ..., 224.863612, 284.83327 ,\n",
       "       285.592734])\n",
       "Dimensions without coordinates: lon"
      ]
     },
     "execution_count": 7,
     "metadata": {},
     "output_type": "execute_result"
    }
   ],
   "source": [
    "# turn mean-lat into xarray_DataArray\n",
    "lon2 = drifter_dataset['mlon2']\n",
    "lon2 = np.array(lon2)\n",
    "lon = xr.DataArray(lon2, dims=['lon', 'none'])\n",
    "lon = xr.DataArray.squeeze(lon, dim='none')\n",
    "lon = np.real(lon).rename('lon')\n",
    "lon"
   ]
  },
  {
   "cell_type": "code",
   "execution_count": 8,
   "metadata": {},
   "outputs": [
    {
     "data": {
      "text/plain": [
       "<xarray.DataArray 'qd' (qd: 126303)>\n",
       "array([0, 0, 0, ..., 1, 1, 1], dtype=uint8)\n",
       "Dimensions without coordinates: qd"
      ]
     },
     "execution_count": 8,
     "metadata": {},
     "output_type": "execute_result"
    }
   ],
   "source": [
    "# turn drogued_information into xarray_DataArray\n",
    "qd = drifter_dataset['qd']\n",
    "qd = np.array(qd)\n",
    "qd = xr.DataArray(qd, dims=['qd', 'none'])\n",
    "qd = xr.DataArray.squeeze(qd, dim='none')\n",
    "qd = np.real(qd).rename('qd')\n",
    "qd"
   ]
  },
  {
   "cell_type": "code",
   "execution_count": 9,
   "metadata": {},
   "outputs": [
    {
     "data": {
      "text/plain": [
       "array([[-0.2105+0.2479j, -0.1988+0.2534j, -0.1829+0.2546j, ...,\n",
       "        -0.1973-0.0078j, -0.1291-0.0124j, -0.1243-0.0125j],\n",
       "       [ 0.3416-0.1573j, -0.2791-0.148j , -0.2816-0.1608j, ...,\n",
       "         0.5124+0.5065j,  0.2544+0.279j ,  0.2522+0.3207j],\n",
       "       [-0.0447-0.0348j, -0.0473-0.0349j, -0.0483-0.0346j, ...,\n",
       "        -0.1598-0.0051j, -0.1594-0.0067j, -0.1592-0.0112j],\n",
       "       ...,\n",
       "       [-0.133 -0.0436j, -0.1051-0.0644j, -0.078 -0.0867j, ...,\n",
       "        -0.156 +0.1021j, -0.1438+0.0432j, -0.1106-0.006j ],\n",
       "       [ 0.2182+0.1123j,  0.3067+0.0383j,  0.2961-0.0329j, ...,\n",
       "        -0.0586+0.0723j, -0.0434+0.0244j, -0.0587+0.0083j],\n",
       "       [ 0.1311+0.2634j,  0.1947+0.266j ,  0.1697+0.1318j, ...,\n",
       "        -0.3065-0.0724j, -0.2364-0.0343j, -0.2099-0.0333j]])"
      ]
     },
     "execution_count": 9,
     "metadata": {},
     "output_type": "execute_result"
    }
   ],
   "source": [
    "# (u,v) --> u+iv\n",
    "uv = drifter_dataset['uv2'].value.view(np.double).reshape((126303, 1440, 2))\n",
    "uv_drifters = uv[:,:,0] + 1j*uv[:,:,1]\n",
    "uv_drifters.shape  # result is (10, 10, 10)\n",
    "uv_drifters"
   ]
  },
  {
   "cell_type": "code",
   "execution_count": 10,
   "metadata": {},
   "outputs": [
    {
     "name": "stdout",
     "output_type": "stream",
     "text": [
      "<xarray.Dataset>\n",
      "Dimensions:      (lat: 126303, time: 1440)\n",
      "Coordinates:\n",
      "  * lat          (lat) float64 39.52 39.68 40.44 32.82 33.22 33.98 35.36 ...\n",
      "    lon          (lat) float64 150.1 152.0 152.8 149.4 151.9 155.7 163.3 ...\n",
      "  * time         (time) int64 0 3600 7200 10800 14400 18000 21600 25200 ...\n",
      "    qd           (lat) uint8 0 0 0 1 1 1 1 1 1 1 1 1 1 1 1 1 1 1 0 0 0 0 0 0 ...\n",
      "Data variables:\n",
      "    uv_drifters  (lat, time) complex128 (-0.2105+0.2479j) (-0.1988+0.2534j) ...\n",
      "\n",
      " data size: 2.9 GB\n"
     ]
    }
   ],
   "source": [
    "# Drifter Dataset (u+iv,lat,qd,time)\n",
    "ds = xr.Dataset({'uv_drifters': (['lat', 'time'], uv_drifters)},\n",
    "                 coords={'lat': (['lat'], lat),\n",
    "                         'lon': (['lat'], lon),\n",
    "                         'time':(['time'], np.arange(1440)*3600),\n",
    "                         'qd':(['lat'], qd)})\n",
    "print(ds)\n",
    "print('\\n data size: %.1f GB' %(ds.nbytes / 1e9))"
   ]
  },
  {
   "cell_type": "markdown",
   "metadata": {},
   "source": [
    "# 2. FFT"
   ]
  },
  {
   "cell_type": "code",
   "execution_count": 11,
   "metadata": {},
   "outputs": [
    {
     "name": "stdout",
     "output_type": "stream",
     "text": [
      "<xarray.DataArray 'E_uv_blocks' (lat: 126303, freq_time: 1440)>\n",
      "array([[5.168323e+03, 1.245437e+03, 1.023495e+04, ..., 4.618687e+04,\n",
      "        3.516197e+04, 6.179483e+03],\n",
      "       [2.378779e+03, 4.025700e+03, 4.582157e+03, ..., 1.510027e+04,\n",
      "        3.714768e+04, 1.173497e+04],\n",
      "       [1.206570e+04, 7.811274e+03, 9.585351e+02, ..., 3.269786e+04,\n",
      "        9.335515e+04, 4.095906e+04],\n",
      "       ...,\n",
      "       [3.168327e+02, 2.288416e+02, 5.215848e+01, ..., 6.697984e+02,\n",
      "        1.615073e+02, 5.425858e+02],\n",
      "       [5.990080e+03, 1.716382e+04, 1.008467e+04, ..., 2.475921e+03,\n",
      "        2.167523e+03, 5.568971e+03],\n",
      "       [7.699786e+03, 1.762691e+03, 4.510642e+03, ..., 3.871838e+03,\n",
      "        2.079355e+04, 2.952940e+04]])\n",
      "Coordinates:\n",
      "  * lat                (lat) float64 39.52 39.68 40.44 32.82 33.22 33.98 ...\n",
      "  * freq_time          (freq_time) float64 0.0 1.929e-07 3.858e-07 5.787e-07 ...\n",
      "    freq_time_spacing  float64 1.929e-07\n",
      "    freq_cpd           (freq_time) float64 0.0 0.01667 0.03333 0.05 0.06667 ...\n",
      "    qd                 (lat) uint8 0 0 0 1 1 1 1 1 1 1 1 1 1 1 1 1 1 1 0 0 0 ...\n",
      "    lon                (lat) float64 150.1 152.0 152.8 149.4 151.9 155.7 ...\n"
     ]
    }
   ],
   "source": [
    "#uv_fft_complex = xrft.dft(ds.uv_drifters.where(ds.qd>0).fillna(0.), dim=['time'], shift=False, detrend=False, window=False, chunks_to_segments=False)\n",
    "uv_fft_complex = xrft.dft(ds.uv_drifters.fillna(0.), dim=['time'], shift=False, detrend='linear', window=True, chunks_to_segments=False)\n",
    "\n",
    "E_uv_blocks = (uv_fft_complex*uv_fft_complex.conj()).where(uv_fft_complex!=0., drop=False)/1440*3600\n",
    "E_uv_blocks = np.real(E_uv_blocks).rename('E_uv_blocks')\n",
    "E_uv_blocks = E_uv_blocks.assign_coords(freq_cpd=E_uv_blocks.freq_time * 86400.) \n",
    "E_uv_blocks = E_uv_blocks.assign_coords(lon=ds.lon) \n",
    "print(E_uv_blocks)"
   ]
  },
  {
   "cell_type": "code",
   "execution_count": 12,
   "metadata": {},
   "outputs": [],
   "source": [
    "df=E_uv_blocks.freq_time[1]-E_uv_blocks.freq_time[0]"
   ]
  },
  {
   "cell_type": "code",
   "execution_count": 13,
   "metadata": {},
   "outputs": [],
   "source": [
    "f_drifter = 2.*2.*np.pi/86400. * np.sin(np.deg2rad(E_uv_blocks.lat))\n",
    "f_cpd_drifter = f_drifter*86400/2./np.pi"
   ]
  },
  {
   "cell_type": "code",
   "execution_count": 16,
   "metadata": {},
   "outputs": [],
   "source": [
    "E_all = (E_uv_blocks*df).sum(dim='freq_time')\n",
    "E_all = np.real(E_all).rename('E_all')\n",
    "\n",
    "E_semi = (E_uv_blocks.where((abs(E_uv_blocks.freq_cpd)>1.9) & (abs(E_uv_blocks.freq_cpd)<2.1) , other=0.)*df).sum(dim='freq_time')\n",
    "E_semi = np.real(E_semi).rename('E_semi')\n",
    "\n",
    "E_diurnal = (E_uv_blocks.where((abs(E_uv_blocks.freq_cpd)>0.9) & (abs(E_uv_blocks.freq_cpd)<1.1) , other=0.)*df).sum(dim='freq_time')\n",
    "E_diurnal = np.real(E_diurnal).rename('E_diurnal')\n",
    "\n",
    "E_low = (E_uv_blocks.where((abs(E_uv_blocks.freq_cpd)>=0) & (abs(E_uv_blocks.freq_cpd)<0.5) , other=0.)*df).sum(dim='freq_time')\n",
    "E_low  = np.real(E_low).rename('E_low')\n",
    "\n",
    "E_high = (E_uv_blocks.where((abs(E_uv_blocks.freq_cpd)>=0.5), other=0.)*df).sum(dim='freq_time')\n",
    "E_high  = np.real(E_high).rename('E_high')\n",
    "\n",
    "E_f = (E_uv_blocks.where((abs(E_uv_blocks.freq_cpd+f_cpd_drifter)<0.1), other=0.)*df).sum(dim='freq_time')\n",
    "E_f = np.real(E_f).rename('E_f')\n",
    "\n",
    "E_super = (E_uv_blocks.where((abs(E_uv_blocks.freq_cpd)>=2.1), other=0.)*df).sum(dim='freq_time')\n",
    "E_super = np.real(E_super).rename('E_super')"
   ]
  },
  {
   "cell_type": "code",
   "execution_count": 19,
   "metadata": {},
   "outputs": [
    {
     "name": "stdout",
     "output_type": "stream",
     "text": [
      "CPU times: user 8 ms, sys: 4 ms, total: 12 ms\n",
      "Wall time: 62.7 ms\n"
     ]
    },
    {
     "name": "stderr",
     "output_type": "stream",
     "text": [
      "/home1/datahome/xyu/.miniconda3/envs/equinox/lib/python3.6/site-packages/dask/utils.py:1010: UserWarning: Deprecated, see dask.base.get_scheduler instead\n",
      "  warnings.warn(\"Deprecated, see dask.base.get_scheduler instead\")\n"
     ]
    }
   ],
   "source": [
    "E_drifter = xr.merge([E_all.to_dataset(), E_semi.to_dataset(), E_diurnal.to_dataset(), E_low.to_dataset(), E_high.to_dataset(), E_f.to_dataset(), E_super.to_dataset()])\n",
    "file_E = data_dir+'mit_spec/E_drifter.nc'\n",
    "%time E_drifter.to_netcdf(file_E, mode='w')  "
   ]
  },
  {
   "cell_type": "code",
   "execution_count": null,
   "metadata": {},
   "outputs": [],
   "source": []
  },
  {
   "cell_type": "code",
   "execution_count": null,
   "metadata": {},
   "outputs": [],
   "source": []
  },
  {
   "cell_type": "code",
   "execution_count": null,
   "metadata": {},
   "outputs": [],
   "source": []
  },
  {
   "cell_type": "code",
   "execution_count": null,
   "metadata": {},
   "outputs": [],
   "source": []
  },
  {
   "cell_type": "code",
   "execution_count": 22,
   "metadata": {},
   "outputs": [
    {
     "data": {
      "text/plain": [
       "<Future finished result=None>"
      ]
     },
     "execution_count": 22,
     "metadata": {},
     "output_type": "execute_result"
    }
   ],
   "source": [
    "cluster.scheduler.close()"
   ]
  },
  {
   "cell_type": "code",
   "execution_count": null,
   "metadata": {},
   "outputs": [],
   "source": []
  },
  {
   "cell_type": "code",
   "execution_count": null,
   "metadata": {},
   "outputs": [],
   "source": []
  }
 ],
 "metadata": {
  "kernelspec": {
   "display_name": "Python 3",
   "language": "python",
   "name": "python3"
  },
  "language_info": {
   "codemirror_mode": {
    "name": "ipython",
    "version": 3
   },
   "file_extension": ".py",
   "mimetype": "text/x-python",
   "name": "python",
   "nbconvert_exporter": "python",
   "pygments_lexer": "ipython3",
   "version": "3.6.5"
  }
 },
 "nbformat": 4,
 "nbformat_minor": 2
}

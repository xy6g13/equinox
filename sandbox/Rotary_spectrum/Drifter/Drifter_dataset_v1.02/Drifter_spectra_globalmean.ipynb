{
 "cells": [
  {
   "cell_type": "code",
   "execution_count": 1,
   "metadata": {},
   "outputs": [
    {
     "name": "stderr",
     "output_type": "stream",
     "text": [
      "/home1/datahome/xyu/.miniconda3/envs/equinox/lib/python3.6/importlib/_bootstrap.py:219: RuntimeWarning: numpy.dtype size changed, may indicate binary incompatibility. Expected 96, got 88\n",
      "  return f(*args, **kwds)\n",
      "/home1/datahome/xyu/.miniconda3/envs/equinox/lib/python3.6/importlib/_bootstrap.py:219: RuntimeWarning: numpy.dtype size changed, may indicate binary incompatibility. Expected 96, got 88\n",
      "  return f(*args, **kwds)\n",
      "/home1/datahome/xyu/.miniconda3/envs/equinox/lib/python3.6/site-packages/cmocean/tools.py:76: MatplotlibDeprecationWarning: The is_string_like function was deprecated in version 2.1.\n",
      "  if not mpl.cbook.is_string_like(rgbin[0]):\n",
      "/home1/datahome/xyu/.miniconda3/envs/equinox/lib/python3.6/importlib/_bootstrap.py:219: RuntimeWarning: numpy.dtype size changed, may indicate binary incompatibility. Expected 96, got 88\n",
      "  return f(*args, **kwds)\n"
     ]
    }
   ],
   "source": [
    "import os\n",
    "from glob import glob\n",
    "import numpy as np\n",
    "import dask\n",
    "import xarray as xr\n",
    "import xrft\n",
    "import cartopy.crs as ccrs\n",
    "from cmocean import cm\n",
    "import h5py\n",
    "\n",
    "from matplotlib import pyplot as plt\n",
    "%matplotlib inline\n",
    "\n",
    "from mitequinox.utils import *"
   ]
  },
  {
   "cell_type": "code",
   "execution_count": 2,
   "metadata": {},
   "outputs": [
    {
     "name": "stderr",
     "output_type": "stream",
     "text": [
      "/home1/datahome/xyu/.miniconda3/envs/equinox/lib/python3.6/site-packages/distributed/utils.py:128: RuntimeWarning: Couldn't detect a suitable IP address for reaching '8.8.8.8', defaulting to '127.0.0.1': [Errno 101] Network is unreachable\n",
      "  % (host, default, e), RuntimeWarning)\n"
     ]
    }
   ],
   "source": [
    "from dask_jobqueue import PBSCluster\n",
    "local_dir = os.getenv('TMPDIR')\n",
    "cluster = PBSCluster(local_directory=local_dir)\n",
    "#print(cluster.job_script())\n",
    "w = cluster.start_workers(17)"
   ]
  },
  {
   "cell_type": "code",
   "execution_count": 3,
   "metadata": {},
   "outputs": [],
   "source": [
    "# get dask handles and check dask server status\n",
    "from dask.distributed import Client\n",
    "client = Client(cluster)"
   ]
  },
  {
   "cell_type": "code",
   "execution_count": 4,
   "metadata": {},
   "outputs": [
    {
     "data": {
      "text/html": [
       "<table style=\"border: 2px solid white;\">\n",
       "<tr>\n",
       "<td style=\"vertical-align: top; border: 0px solid white\">\n",
       "<h3>Client</h3>\n",
       "<ul>\n",
       "  <li><b>Scheduler: </b>tcp://10.148.1.10:52682\n",
       "  <li><b>Dashboard: </b><a href='http://10.148.1.10:8787/status' target='_blank'>http://10.148.1.10:8787/status</a>\n",
       "</ul>\n",
       "</td>\n",
       "<td style=\"vertical-align: top; border: 0px solid white\">\n",
       "<h3>Cluster</h3>\n",
       "<ul>\n",
       "  <li><b>Workers: </b>34</li>\n",
       "  <li><b>Cores: </b>136</li>\n",
       "  <li><b>Memory: </b>1700.00 GB</li>\n",
       "</ul>\n",
       "</td>\n",
       "</tr>\n",
       "</table>"
      ],
      "text/plain": [
       "<Client: scheduler='tcp://10.148.1.10:52682' processes=34 cores=136>"
      ]
     },
     "execution_count": 4,
     "metadata": {},
     "output_type": "execute_result"
    }
   ],
   "source": [
    "client"
   ]
  },
  {
   "cell_type": "markdown",
   "metadata": {},
   "source": [
    "---\n"
   ]
  },
  {
   "cell_type": "markdown",
   "metadata": {},
   "source": [
    "# 1. Load Drifter dataset"
   ]
  },
  {
   "cell_type": "code",
   "execution_count": 24,
   "metadata": {},
   "outputs": [
    {
     "data": {
      "text/plain": [
       "[('dpth2', <HDF5 dataset \"dpth2\": shape (161841, 1440), type \"<f8\">),\n",
       " ('mdpth', <HDF5 dataset \"mdpth\": shape (161841, 1), type \"<f8\">),\n",
       " ('mlat2', <HDF5 dataset \"mlat2\": shape (161841, 1), type \"<f8\">),\n",
       " ('mlon2', <HDF5 dataset \"mlon2\": shape (161841, 1), type \"<f8\">),\n",
       " ('qall1000', <HDF5 dataset \"qall1000\": shape (161841, 1), type \"|u1\">),\n",
       " ('qall200', <HDF5 dataset \"qall200\": shape (161841, 1), type \"|u1\">),\n",
       " ('qall500', <HDF5 dataset \"qall500\": shape (161841, 1), type \"|u1\">),\n",
       " ('qd', <HDF5 dataset \"qd\": shape (161841, 1), type \"|u1\">),\n",
       " ('qmed1000', <HDF5 dataset \"qmed1000\": shape (161841, 1), type \"|u1\">),\n",
       " ('qmed200', <HDF5 dataset \"qmed200\": shape (161841, 1), type \"|u1\">),\n",
       " ('qmed500', <HDF5 dataset \"qmed500\": shape (161841, 1), type \"|u1\">),\n",
       " ('qu', <HDF5 dataset \"qu\": shape (161841, 1), type \"|u1\">),\n",
       " ('uv2', <HDF5 dataset \"uv2\": shape (161841, 1440), type \"|V16\">)]"
      ]
     },
     "execution_count": 24,
     "metadata": {},
     "output_type": "execute_result"
    }
   ],
   "source": [
    "# The prcessed dataset includes both the GPS- and Argo-tracked surface drifters.\n",
    "# 2-month blocks with overlapping by 50%\n",
    "\n",
    "data_dir = '/home1/datawork/xyu/Drifters/drifter_data_v1.02/'\n",
    "\n",
    "drifter_dataset = h5py.File(data_dir+'Drifter_dataset_processed.mat','r') \n",
    "list(drifter_dataset.items())\n",
    "\n",
    "# mlat2: mean latitude over 60 days,     161841*1\n",
    "# mlon2: mean longitude over 60 days,    161841*1\n",
    "\n",
    "# qd: drogued drifters,                  161841*1\n",
    "# qmed200: median water depth > 200 m,   161841*1\n",
    "# qu: undrogued drifters,                161841*1\n",
    "\n",
    "# uv2: (u, v),                           161841*1440"
   ]
  },
  {
   "cell_type": "code",
   "execution_count": 25,
   "metadata": {},
   "outputs": [
    {
     "data": {
      "text/plain": [
       "<xarray.DataArray 'lat' (lat: 161841)>\n",
       "array([ 44.219853,  44.908928,  44.856863, ..., -37.524563, -37.171366,\n",
       "       -37.194084])\n",
       "Dimensions without coordinates: lat"
      ]
     },
     "execution_count": 25,
     "metadata": {},
     "output_type": "execute_result"
    }
   ],
   "source": [
    "# turn mean-lat into xarray_DataArray\n",
    "lat2 = drifter_dataset['mlat2']\n",
    "lat2 = np.array(lat2)\n",
    "lat = xr.DataArray(lat2, dims=['lat', 'none'])\n",
    "lat = xr.DataArray.squeeze(lat, dim='none')\n",
    "lat = np.real(lat).rename('lat')\n",
    "lat"
   ]
  },
  {
   "cell_type": "code",
   "execution_count": 26,
   "metadata": {},
   "outputs": [
    {
     "data": {
      "text/plain": [
       "<xarray.DataArray 'lon' (lon: 161841)>\n",
       "array([307.992707, 306.962722, 305.597501, ..., 325.844828, 326.138668,\n",
       "       325.506414])\n",
       "Dimensions without coordinates: lon"
      ]
     },
     "execution_count": 26,
     "metadata": {},
     "output_type": "execute_result"
    }
   ],
   "source": [
    "# turn mean-lat into xarray_DataArray\n",
    "lon2 = drifter_dataset['mlon2']\n",
    "lon2 = np.array(lon2)\n",
    "lon = xr.DataArray(lon2, dims=['lon', 'none'])\n",
    "lon = xr.DataArray.squeeze(lon, dim='none')\n",
    "lon = np.real(lon).rename('lon')\n",
    "lon"
   ]
  },
  {
   "cell_type": "code",
   "execution_count": 27,
   "metadata": {},
   "outputs": [
    {
     "data": {
      "text/plain": [
       "<xarray.DataArray 'qd' (qd: 161841)>\n",
       "array([1, 1, 1, ..., 1, 1, 1], dtype=uint8)\n",
       "Dimensions without coordinates: qd"
      ]
     },
     "execution_count": 27,
     "metadata": {},
     "output_type": "execute_result"
    }
   ],
   "source": [
    "# turn drogued_information into xarray_DataArray\n",
    "qd = drifter_dataset['qd']\n",
    "qd = np.array(qd)\n",
    "qd = xr.DataArray(qd, dims=['qd', 'none'])\n",
    "qd = xr.DataArray.squeeze(qd, dim='none')\n",
    "qd = np.real(qd).rename('qd')\n",
    "qd"
   ]
  },
  {
   "cell_type": "code",
   "execution_count": 28,
   "metadata": {},
   "outputs": [
    {
     "data": {
      "text/plain": [
       "array([[-0.2048+0.4936j, -0.3023+0.4859j, -0.2971+0.4856j, ...,\n",
       "         0.1322+0.009j ,  0.1219-0.0239j, -0.0805-0.1172j],\n",
       "       [ 0.1436+0.2085j,  0.1056+0.1783j,  0.0387+0.128j , ...,\n",
       "         0.116 +0.075j ,  0.0779+0.2255j,  0.1379+0.195j ],\n",
       "       [-0.1518-0.1663j, -0.1137-0.1704j, -0.1083-0.1446j, ...,\n",
       "        -0.2145-0.3872j, -0.215 -0.3862j, -0.2145-0.3976j],\n",
       "       ...,\n",
       "       [ 0.3967+0.1554j,  0.4447+0.1624j,  0.4864+0.1736j, ...,\n",
       "         0.072 +0.2357j,  0.0712+0.2299j,  0.0676+0.2051j],\n",
       "       [ 0.1061+0.0992j,  0.074 +0.0919j,  0.0629+0.096j , ...,\n",
       "         0.0589+0.0466j,  0.0513+0.0552j,  0.0395+0.0682j],\n",
       "       [ 0.0622+0.164j ,  0.0589+0.1348j,  0.0671+0.121j , ...,\n",
       "        -0.1189+0.0092j, -0.1027-0.0244j, -0.0739-0.0525j]])"
      ]
     },
     "execution_count": 28,
     "metadata": {},
     "output_type": "execute_result"
    }
   ],
   "source": [
    "# (u,v) --> u+iv\n",
    "uv = drifter_dataset['uv2'].value.view(np.double).reshape((161841, 1440, 2))\n",
    "uv_drifters = uv[:,:,0] + 1j*uv[:,:,1]\n",
    "uv_drifters.shape  # result is (10, 10, 10)\n",
    "uv_drifters"
   ]
  },
  {
   "cell_type": "code",
   "execution_count": 29,
   "metadata": {},
   "outputs": [
    {
     "name": "stdout",
     "output_type": "stream",
     "text": [
      "<xarray.Dataset>\n",
      "Dimensions:      (lat: 161841, time: 1440)\n",
      "Coordinates:\n",
      "  * lat          (lat) float64 44.22 44.91 44.86 43.76 42.22 46.44 46.08 ...\n",
      "    lon          (lat) float64 308.0 307.0 305.6 305.5 309.8 307.8 307.6 ...\n",
      "  * time         (time) int64 0 3600 7200 10800 14400 18000 21600 25200 ...\n",
      "    qd           (lat) uint8 1 1 1 1 1 0 0 0 1 1 0 0 0 0 0 0 0 1 1 1 0 0 0 0 ...\n",
      "Data variables:\n",
      "    uv_drifters  (lat, time) complex128 (-0.2048+0.4936j) (-0.3023+0.4859j) ...\n",
      "\n",
      " data size: 3.7 GB\n"
     ]
    }
   ],
   "source": [
    "# Drifter Dataset (u+iv,lat,qd,time)\n",
    "ds = xr.Dataset({'uv_drifters': (['lat', 'time'], uv_drifters)},\n",
    "                 coords={'lat': (['lat'], lat),\n",
    "                         'lon': (['lat'], lon),\n",
    "                         'time':(['time'], np.arange(1440)*3600),\n",
    "                         'qd':(['lat'], qd)})\n",
    "print(ds)\n",
    "print('\\n data size: %.1f GB' %(ds.nbytes / 1e9))"
   ]
  },
  {
   "cell_type": "markdown",
   "metadata": {},
   "source": [
    "_________\n",
    "# 2. Rotary spectra"
   ]
  },
  {
   "cell_type": "markdown",
   "metadata": {},
   "source": [
    "## 2.1 all drifters"
   ]
  },
  {
   "cell_type": "code",
   "execution_count": 11,
   "metadata": {},
   "outputs": [
    {
     "name": "stdout",
     "output_type": "stream",
     "text": [
      "<xarray.DataArray 'E_uv_blocks' (lat: 161841, freq_time: 1440)>\n",
      "array([[4.144904e+01, 3.854830e+00, 4.197060e+01, ..., 7.093236e+01,\n",
      "        2.717862e+02, 4.786291e+02],\n",
      "       [7.151420e+01, 4.998405e+01, 1.577128e+02, ..., 3.761475e+02,\n",
      "        7.972512e+02, 4.192007e+02],\n",
      "       [5.365030e+02, 1.141993e+03, 1.366106e+03, ..., 3.949775e+01,\n",
      "        6.097514e+02, 6.097198e+02],\n",
      "       ...,\n",
      "       [5.604732e+02, 1.958392e+03, 1.060817e+04, ..., 1.412836e+03,\n",
      "        6.680520e+03, 4.213220e+03],\n",
      "       [5.788188e+02, 1.951424e+02, 7.569457e+01, ..., 1.316694e+03,\n",
      "        1.368547e+03, 2.636420e+03],\n",
      "       [3.798517e+02, 1.845695e+03, 1.399439e+03, ..., 1.352164e+03,\n",
      "        3.481674e+03, 6.464664e+02]])\n",
      "Coordinates:\n",
      "  * lat                (lat) float64 44.22 44.91 44.86 43.76 42.22 46.44 ...\n",
      "  * freq_time          (freq_time) float64 0.0 1.929e-07 3.858e-07 5.787e-07 ...\n",
      "    freq_time_spacing  float64 1.929e-07\n",
      "    freq_cpd           (freq_time) float64 0.0 0.01667 0.03333 0.05 0.06667 ...\n",
      "CPU times: user 3.25 s, sys: 356 ms, total: 3.61 s\n",
      "Wall time: 6.43 s\n"
     ]
    },
    {
     "data": {
      "text/plain": [
       "<xarray.backends.zarr.ZarrStore at 0x2aae19b58dd8>"
      ]
     },
     "execution_count": 11,
     "metadata": {},
     "output_type": "execute_result"
    }
   ],
   "source": [
    "uv_fft_complex = xrft.dft(ds.uv_drifters.fillna(0.), dim=['time'], shift=False, detrend='linear', window=True, chunks_to_segments=False)\n",
    "E_uv_blocks = (uv_fft_complex*uv_fft_complex.conj()).where(uv_fft_complex!=0., drop=False)/1440*3600\n",
    "E_uv_blocks = np.real(E_uv_blocks).rename('E_uv_blocks')\n",
    "E_uv_blocks = E_uv_blocks.assign_coords(freq_cpd=E_uv_blocks.freq_time * 86400.) \n",
    "print(E_uv_blocks)\n",
    "file_E = data_dir+'E_drifter_uv_blocks.zarr'\n",
    "%time E_uv_blocks.to_dataset().to_zarr(file_E, mode='w')  "
   ]
  },
  {
   "cell_type": "markdown",
   "metadata": {},
   "source": [
    "## 2.2 undrogued drifters"
   ]
  },
  {
   "cell_type": "code",
   "execution_count": 30,
   "metadata": {},
   "outputs": [
    {
     "name": "stdout",
     "output_type": "stream",
     "text": [
      "<xarray.DataArray 'E_uv_blocks' (lat: 161841, freq_time: 1440)>\n",
      "array([[nan, nan, nan, ..., nan, nan, nan],\n",
      "       [nan, nan, nan, ..., nan, nan, nan],\n",
      "       [nan, nan, nan, ..., nan, nan, nan],\n",
      "       ...,\n",
      "       [nan, nan, nan, ..., nan, nan, nan],\n",
      "       [nan, nan, nan, ..., nan, nan, nan],\n",
      "       [nan, nan, nan, ..., nan, nan, nan]])\n",
      "Coordinates:\n",
      "  * lat                (lat) float64 44.22 44.91 44.86 43.76 42.22 46.44 ...\n",
      "  * freq_time          (freq_time) float64 0.0 1.929e-07 3.858e-07 5.787e-07 ...\n",
      "    freq_time_spacing  float64 1.929e-07\n",
      "    freq_cpd           (freq_time) float64 0.0 0.01667 0.03333 0.05 0.06667 ...\n",
      "CPU times: user 2.45 s, sys: 244 ms, total: 2.7 s\n",
      "Wall time: 6.87 s\n"
     ]
    },
    {
     "data": {
      "text/plain": [
       "<xarray.backends.zarr.ZarrStore at 0x2aad46665860>"
      ]
     },
     "execution_count": 30,
     "metadata": {},
     "output_type": "execute_result"
    }
   ],
   "source": [
    "uv_fft_complex = xrft.dft(ds.uv_drifters.where(ds.qd==0).fillna(0.), dim=['time'], shift=False, detrend='linear', window=True, chunks_to_segments=False)\n",
    "E_uv_blocks = (uv_fft_complex*uv_fft_complex.conj()).where(uv_fft_complex!=0., drop=False)/1440*3600\n",
    "E_uv_blocks = np.real(E_uv_blocks).rename('E_uv_blocks')\n",
    "E_uv_blocks = E_uv_blocks.assign_coords(freq_cpd=E_uv_blocks.freq_time * 86400.) \n",
    "print(E_uv_blocks)\n",
    "file_E = data_dir+'E_drifter_uv_qu_blocks.zarr'\n",
    "%time E_uv_blocks.to_dataset().to_zarr(file_E, mode='w')  "
   ]
  },
  {
   "cell_type": "markdown",
   "metadata": {},
   "source": [
    "## 2.3 undrogued drifters"
   ]
  },
  {
   "cell_type": "code",
   "execution_count": 30,
   "metadata": {},
   "outputs": [
    {
     "name": "stdout",
     "output_type": "stream",
     "text": [
      "<xarray.DataArray 'E_uv_blocks' (lat: 161841, freq_time: 1440)>\n",
      "array([[nan, nan, nan, ..., nan, nan, nan],\n",
      "       [nan, nan, nan, ..., nan, nan, nan],\n",
      "       [nan, nan, nan, ..., nan, nan, nan],\n",
      "       ...,\n",
      "       [nan, nan, nan, ..., nan, nan, nan],\n",
      "       [nan, nan, nan, ..., nan, nan, nan],\n",
      "       [nan, nan, nan, ..., nan, nan, nan]])\n",
      "Coordinates:\n",
      "  * lat                (lat) float64 44.22 44.91 44.86 43.76 42.22 46.44 ...\n",
      "  * freq_time          (freq_time) float64 0.0 1.929e-07 3.858e-07 5.787e-07 ...\n",
      "    freq_time_spacing  float64 1.929e-07\n",
      "    freq_cpd           (freq_time) float64 0.0 0.01667 0.03333 0.05 0.06667 ...\n",
      "CPU times: user 2.45 s, sys: 244 ms, total: 2.7 s\n",
      "Wall time: 6.87 s\n"
     ]
    },
    {
     "data": {
      "text/plain": [
       "<xarray.backends.zarr.ZarrStore at 0x2aad46665860>"
      ]
     },
     "execution_count": 30,
     "metadata": {},
     "output_type": "execute_result"
    }
   ],
   "source": [
    "uv_fft_complex = xrft.dft(ds.uv_drifters.where(ds.qd==1).fillna(0.), dim=['time'], shift=False, detrend='linear', window=True, chunks_to_segments=False)\n",
    "E_uv_blocks = (uv_fft_complex*uv_fft_complex.conj()).where(uv_fft_complex!=0., drop=False)/1440*3600\n",
    "E_uv_blocks = np.real(E_uv_blocks).rename('E_uv_blocks')\n",
    "E_uv_blocks = E_uv_blocks.assign_coords(freq_cpd=E_uv_blocks.freq_time * 86400.) \n",
    "print(E_uv_blocks)\n",
    "file_E = data_dir+'E_drifter_uv_qd_blocks.zarr'\n",
    "%time E_uv_blocks.to_dataset().to_zarr(file_E, mode='w')  "
   ]
  },
  {
   "cell_type": "markdown",
   "metadata": {},
   "source": [
    "_________\n",
    "# 3. Drifter global_mean\n",
    "\n",
    "## need to change file names to get all, undrogued and drogued results"
   ]
  },
  {
   "cell_type": "code",
   "execution_count": 31,
   "metadata": {},
   "outputs": [
    {
     "name": "stdout",
     "output_type": "stream",
     "text": [
      "<xarray.Dataset>\n",
      "Dimensions:            (freq_time: 1440, lat: 161841)\n",
      "Coordinates:\n",
      "    freq_cpd           (freq_time) float64 dask.array<shape=(1440,), chunksize=(1440,)>\n",
      "  * freq_time          (freq_time) float64 0.0 1.929e-07 3.858e-07 5.787e-07 ...\n",
      "    freq_time_spacing  float64 ...\n",
      "  * lat                (lat) float64 44.22 44.91 44.86 43.76 42.22 46.44 ...\n",
      "Data variables:\n",
      "    E_uv_blocks        (lat, freq_time) float64 dask.array<shape=(161841, 1440), chunksize=(1000, 1440)>\n"
     ]
    }
   ],
   "source": [
    "data_dir = '/home1/datawork/xyu/Drifters/drifter_data_v1.02/'\n",
    "ds = xr.open_zarr(data_dir+'E_drifter_uv_blocks.zarr').chunk({'freq_time': 1440,'lat': 1000}) \n",
    "E_uv_blocks = ds.E_uv_blocks\n",
    "print(ds)"
   ]
  },
  {
   "cell_type": "code",
   "execution_count": 32,
   "metadata": {},
   "outputs": [
    {
     "data": {
      "text/plain": [
       "<xarray.DataArray (freq_time: 1439)>\n",
       "dask.array<shape=(1439,), dtype=float64, chunksize=(1439,)>\n",
       "Coordinates:\n",
       "  * freq_time          (freq_time) float64 -0.0 0.01667 0.03333 0.05 0.06667 ...\n",
       "    freq_time_spacing  float64 1.929e-07"
      ]
     },
     "execution_count": 32,
     "metadata": {},
     "output_type": "execute_result"
    }
   ],
   "source": [
    "# cyclonic spectra\n",
    "E_uv_1 = ((E_uv_blocks).where( (E_uv_blocks.lat>0.) & (E_uv_blocks.freq_time>0.) )).mean(dim=('lat'))   \n",
    "E_uv_1 = np.real(E_uv_1).rename('E_uv_1')\n",
    "E_uv_1 \n",
    "\n",
    "E_uv_2 = ((E_uv_blocks).where( (E_uv_blocks.lat<0.) & (E_uv_blocks.freq_time<0.) )).mean(dim=('lat'))   \n",
    "E_uv_2 = E_uv_2.assign_coords(freq_time=E_uv_2.freq_time * -1.) \n",
    "E_uv_2 = np.real(E_uv_2).rename('E_uv_2')\n",
    "E_uv_2 \n",
    "\n",
    "E_drifter_cycl = (E_uv_1 + E_uv_2)/8.64 #(unit:cm^2 s^-2/cpd)\n",
    "E_drifter_cycl = E_drifter_cycl.assign_coords(freq_time=E_drifter_cycl.freq_time * 86400.) \n",
    "E_drifter_cycl"
   ]
  },
  {
   "cell_type": "code",
   "execution_count": 33,
   "metadata": {},
   "outputs": [
    {
     "data": {
      "text/plain": [
       "<xarray.DataArray (freq_time: 1439)>\n",
       "dask.array<shape=(1439,), dtype=float64, chunksize=(1439,)>\n",
       "Coordinates:\n",
       "  * freq_time          (freq_time) float64 -0.0 0.01667 0.03333 0.05 0.06667 ...\n",
       "    freq_time_spacing  float64 1.929e-07"
      ]
     },
     "execution_count": 33,
     "metadata": {},
     "output_type": "execute_result"
    }
   ],
   "source": [
    "# anti-cyclonic spectra\n",
    "E_uv_3 = ((E_uv_blocks).where( (E_uv_blocks.lat<0.) & (E_uv_blocks.freq_time>0.) )).mean(dim=('lat'))   \n",
    "E_uv_3 = np.real(E_uv_3).rename('E_uv_3') \n",
    "\n",
    "E_uv_4 = ((E_uv_blocks).where( (E_uv_blocks.lat>0.) & (E_uv_blocks.freq_time<0.) )).mean(dim=('lat'))   \n",
    "E_uv_4 = E_uv_4.assign_coords(freq_time=E_uv_4.freq_time * -1.) \n",
    "E_uv_4 = np.real(E_uv_4).rename('E_uv_4')\n",
    "E_uv_4 \n",
    "\n",
    "E_drifter_anti = (E_uv_3 + E_uv_4)/8.64 #(unit:cm^2 s^-2/cpd)\n",
    "E_drifter_anti = E_drifter_anti.assign_coords(freq_time=E_drifter_anti.freq_time * 86400.) \n",
    "E_drifter_anti"
   ]
  },
  {
   "cell_type": "code",
   "execution_count": 34,
   "metadata": {},
   "outputs": [
    {
     "name": "stdout",
     "output_type": "stream",
     "text": [
      "<xarray.Dataset>\n",
      "Dimensions:            (freq_time: 1439)\n",
      "Coordinates:\n",
      "  * freq_time          (freq_time) float64 -0.0 0.01667 0.03333 0.05 0.06667 ...\n",
      "    freq_time_spacing  float64 1.929e-07\n",
      "Data variables:\n",
      "    E_drifter_cycl     (freq_time) float64 dask.array<shape=(1439,), chunksize=(1439,)>\n",
      "    E_drifter_anti     (freq_time) float64 dask.array<shape=(1439,), chunksize=(1439,)>\n",
      "CPU times: user 4.67 s, sys: 1.24 s, total: 5.91 s\n",
      "Wall time: 7.34 s\n"
     ]
    },
    {
     "data": {
      "text/plain": [
       "<xarray.backends.zarr.ZarrStore at 0x2aace4d140b8>"
      ]
     },
     "execution_count": 34,
     "metadata": {},
     "output_type": "execute_result"
    }
   ],
   "source": [
    "E_drifter_cycl = np.real(E_drifter_cycl).rename('E_drifter_cycl')\n",
    "E_drifter_anti = np.real(E_drifter_anti).rename('E_drifter_anti')\n",
    "E_drifter_globalmean = xr.merge([E_drifter_cycl.to_dataset(),E_drifter_anti.to_dataset()])\n",
    "print(E_drifter_globalmean)\n",
    "file_E = data_dir+'E_drifter_globalmean.zarr'\n",
    "%time E_drifter_globalmean.to_zarr(file_E, mode='w')  "
   ]
  },
  {
   "cell_type": "markdown",
   "metadata": {},
   "source": [
    "# 4. Plots"
   ]
  },
  {
   "cell_type": "code",
   "execution_count": 35,
   "metadata": {},
   "outputs": [
    {
     "name": "stdout",
     "output_type": "stream",
     "text": [
      "<xarray.Dataset>\n",
      "Dimensions:            (freq_time: 1439)\n",
      "Coordinates:\n",
      "  * freq_time          (freq_time) float64 -0.0 0.01667 0.03333 0.05 0.06667 ...\n",
      "    freq_time_spacing  float64 ...\n",
      "Data variables:\n",
      "    E_drifter_anti     (freq_time) float64 dask.array<shape=(1439,), chunksize=(1439,)>\n",
      "    E_drifter_cycl     (freq_time) float64 dask.array<shape=(1439,), chunksize=(1439,)>\n"
     ]
    }
   ],
   "source": [
    "data_dir = '/home1/datawork/xyu/Drifters/drifter_data_v1.02/'\n",
    "ds = xr.open_zarr(data_dir+'E_drifter_qd_globalmean.zarr')\n",
    "print(ds)\n",
    "E_drifter_anti = ds.E_drifter_anti\n",
    "E_drifter_cycl = ds.E_drifter_cycl"
   ]
  },
  {
   "cell_type": "code",
   "execution_count": 22,
   "metadata": {},
   "outputs": [
    {
     "data": {
      "text/plain": [
       "Text(0.5,1,'Drifters')"
      ]
     },
     "execution_count": 22,
     "metadata": {},
     "output_type": "execute_result"
    },
    {
     "data": {
      "image/png": "[encoded data removed]",
      "text/plain": [
       "<Figure size 1728x576 with 1 Axes>"
      ]
     },
     "metadata": {},
     "output_type": "display_data"
    }
   ],
   "source": [
    "fig, ax = plt.subplots(figsize=(24,8))\n",
    "\n",
    "labels = ['Cyclonic', 'Anticyclonic']\n",
    "\n",
    "np.log10(E_drifter_cycl).plot(ax=ax, linewidth=3, color='grey', label=labels[0])\n",
    "np.log10(E_drifter_anti).plot(ax=ax, linewidth=3, color='black', label=labels[1])\n",
    "\n",
    "ax.legend(); ax.grid()\n",
    "ax.set_ylim([0.,4])\n",
    "ax.set_yticks([0., 0.5, 1., 1.5, 2., 2.5, 3., 3.5,4.])\n",
    "ax.set_xlim([0.,12.])\n",
    "\n",
    "ax.set_xticks([0., 1., 2., 3., 4., 5., 6., 7., 8., 9., 10., 11., 12.])\n",
    "ax.legend(prop={'size': 24})\n",
    "ax.set_ylabel('PSD ($log_{10}\\ cm^2 s^{-2} cpd^{-1})$',fontsize=24)\n",
    "ax.set_xlabel('Frequency (cpd)',fontsize=24)\n",
    "ax.tick_params(labelsize=24)\n",
    "ax.set_title('Drifters',fontsize=24)\n",
    "\n",
    "#plt.savefig('/home1/datahome/xyu/equinox_working/sandbox/Figures/Rotary_spectra_globally_averaged.png')"
   ]
  },
  {
   "cell_type": "code",
   "execution_count": null,
   "metadata": {},
   "outputs": [],
   "source": []
  },
  {
   "cell_type": "code",
   "execution_count": null,
   "metadata": {},
   "outputs": [],
   "source": []
  },
  {
   "cell_type": "code",
   "execution_count": null,
   "metadata": {},
   "outputs": [],
   "source": []
  },
  {
   "cell_type": "code",
   "execution_count": null,
   "metadata": {},
   "outputs": [],
   "source": []
  },
  {
   "cell_type": "code",
   "execution_count": null,
   "metadata": {},
   "outputs": [],
   "source": []
  },
  {
   "cell_type": "code",
   "execution_count": null,
   "metadata": {},
   "outputs": [],
   "source": []
  },
  {
   "cell_type": "code",
   "execution_count": 38,
   "metadata": {},
   "outputs": [
    {
     "data": {
      "text/plain": [
       "<Future finished result=None>"
      ]
     },
     "execution_count": 38,
     "metadata": {},
     "output_type": "execute_result"
    }
   ],
   "source": [
    "cluster.scheduler.close()"
   ]
  },
  {
   "cell_type": "code",
   "execution_count": null,
   "metadata": {},
   "outputs": [],
   "source": []
  }
 ],
 "metadata": {
  "kernelspec": {
   "display_name": "Python 3",
   "language": "python",
   "name": "python3"
  },
  "language_info": {
   "codemirror_mode": {
    "name": "ipython",
    "version": 3
   },
   "file_extension": ".py",
   "mimetype": "text/x-python",
   "name": "python",
   "nbconvert_exporter": "python",
   "pygments_lexer": "ipython3",
   "version": "3.6.5"
  }
 },
 "nbformat": 4,
 "nbformat_minor": 2
}

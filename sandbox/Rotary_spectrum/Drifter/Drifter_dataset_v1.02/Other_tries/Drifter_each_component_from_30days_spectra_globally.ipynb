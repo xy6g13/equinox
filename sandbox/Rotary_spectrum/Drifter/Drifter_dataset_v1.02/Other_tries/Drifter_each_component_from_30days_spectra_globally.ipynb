{
 "cells": [
  {
   "cell_type": "code",
   "execution_count": 1,
   "metadata": {},
   "outputs": [
    {
     "name": "stderr",
     "output_type": "stream",
     "text": [
      "/home1/datahome/xyu/.miniconda3/envs/equinox/lib/python3.6/importlib/_bootstrap.py:219: RuntimeWarning: numpy.dtype size changed, may indicate binary incompatibility. Expected 96, got 88\n",
      "  return f(*args, **kwds)\n",
      "/home1/datahome/xyu/.miniconda3/envs/equinox/lib/python3.6/importlib/_bootstrap.py:219: RuntimeWarning: numpy.dtype size changed, may indicate binary incompatibility. Expected 96, got 88\n",
      "  return f(*args, **kwds)\n",
      "/home1/datahome/xyu/.miniconda3/envs/equinox/lib/python3.6/site-packages/cmocean/tools.py:76: MatplotlibDeprecationWarning: The is_string_like function was deprecated in version 2.1.\n",
      "  if not mpl.cbook.is_string_like(rgbin[0]):\n",
      "/home1/datahome/xyu/.miniconda3/envs/equinox/lib/python3.6/importlib/_bootstrap.py:219: RuntimeWarning: numpy.dtype size changed, may indicate binary incompatibility. Expected 96, got 88\n",
      "  return f(*args, **kwds)\n"
     ]
    }
   ],
   "source": [
    "import os\n",
    "from glob import glob\n",
    "import numpy as np\n",
    "import dask\n",
    "import xarray as xr\n",
    "import xrft\n",
    "import cartopy.crs as ccrs\n",
    "from cmocean import cm\n",
    "import h5py\n",
    "\n",
    "from matplotlib import pyplot as plt\n",
    "%matplotlib inline\n",
    "\n",
    "from mitequinox.utils import *"
   ]
  },
  {
   "cell_type": "code",
   "execution_count": 2,
   "metadata": {},
   "outputs": [
    {
     "name": "stderr",
     "output_type": "stream",
     "text": [
      "/home1/datahome/xyu/.miniconda3/envs/equinox/lib/python3.6/site-packages/distributed/utils.py:128: RuntimeWarning: Couldn't detect a suitable IP address for reaching '8.8.8.8', defaulting to '127.0.0.1': [Errno 101] Network is unreachable\n",
      "  % (host, default, e), RuntimeWarning)\n"
     ]
    }
   ],
   "source": [
    "from dask_jobqueue import PBSCluster\n",
    "local_dir = os.getenv('TMPDIR')\n",
    "cluster = PBSCluster(local_directory=local_dir)\n",
    "#print(cluster.job_script())\n",
    "w = cluster.start_workers(5)"
   ]
  },
  {
   "cell_type": "code",
   "execution_count": 3,
   "metadata": {},
   "outputs": [],
   "source": [
    "# get dask handles and check dask server status\n",
    "from dask.distributed import Client\n",
    "client = Client(cluster)"
   ]
  },
  {
   "cell_type": "code",
   "execution_count": 4,
   "metadata": {},
   "outputs": [
    {
     "data": {
      "text/html": [
       "<table style=\"border: 2px solid white;\">\n",
       "<tr>\n",
       "<td style=\"vertical-align: top; border: 0px solid white\">\n",
       "<h3>Client</h3>\n",
       "<ul>\n",
       "  <li><b>Scheduler: </b>tcp://10.148.0.124:58029\n",
       "  <li><b>Dashboard: </b><a href='http://10.148.0.124:8787/status' target='_blank'>http://10.148.0.124:8787/status</a>\n",
       "</ul>\n",
       "</td>\n",
       "<td style=\"vertical-align: top; border: 0px solid white\">\n",
       "<h3>Cluster</h3>\n",
       "<ul>\n",
       "  <li><b>Workers: </b>4</li>\n",
       "  <li><b>Cores: </b>16</li>\n",
       "  <li><b>Memory: </b>200.00 GB</li>\n",
       "</ul>\n",
       "</td>\n",
       "</tr>\n",
       "</table>"
      ],
      "text/plain": [
       "<Client: scheduler='tcp://10.148.0.124:58029' processes=4 cores=16>"
      ]
     },
     "execution_count": 4,
     "metadata": {},
     "output_type": "execute_result"
    }
   ],
   "source": [
    "client"
   ]
  },
  {
   "cell_type": "markdown",
   "metadata": {},
   "source": [
    "---\n"
   ]
  },
  {
   "cell_type": "markdown",
   "metadata": {},
   "source": [
    "# 1. Drifter data files"
   ]
  },
  {
   "cell_type": "code",
   "execution_count": 5,
   "metadata": {},
   "outputs": [
    {
     "data": {
      "text/plain": [
       "[('dpth2', <HDF5 dataset \"dpth2\": shape (352579, 720), type \"<f8\">),\n",
       " ('mdpth', <HDF5 dataset \"mdpth\": shape (352579, 1), type \"<f8\">),\n",
       " ('mlat2', <HDF5 dataset \"mlat2\": shape (352579, 1), type \"<f8\">),\n",
       " ('mlon2', <HDF5 dataset \"mlon2\": shape (352579, 1), type \"<f8\">),\n",
       " ('qall1000', <HDF5 dataset \"qall1000\": shape (352579, 1), type \"|u1\">),\n",
       " ('qall200', <HDF5 dataset \"qall200\": shape (352579, 1), type \"|u1\">),\n",
       " ('qall500', <HDF5 dataset \"qall500\": shape (352579, 1), type \"|u1\">),\n",
       " ('qd', <HDF5 dataset \"qd\": shape (352579, 1), type \"|u1\">),\n",
       " ('qmed1000', <HDF5 dataset \"qmed1000\": shape (352579, 1), type \"|u1\">),\n",
       " ('qmed200', <HDF5 dataset \"qmed200\": shape (352579, 1), type \"|u1\">),\n",
       " ('qmed500', <HDF5 dataset \"qmed500\": shape (352579, 1), type \"|u1\">),\n",
       " ('qu', <HDF5 dataset \"qu\": shape (352579, 1), type \"|u1\">),\n",
       " ('u2_err', <HDF5 dataset \"u2_err\": shape (352579, 720), type \"<f8\">),\n",
       " ('uv2', <HDF5 dataset \"uv2\": shape (352579, 720), type \"|V16\">),\n",
       " ('v2_err', <HDF5 dataset \"v2_err\": shape (352579, 720), type \"<f8\">)]"
      ]
     },
     "execution_count": 5,
     "metadata": {},
     "output_type": "execute_result"
    }
   ],
   "source": [
    "# The prcessed dataset includes both the GPS- and Argo-tracked surface drifters.\n",
    "# 2-month blocks with overlapping by 50%\n",
    "\n",
    "data_dir = '/home1/datawork/xyu/Drifters/drifter_data_v1.02/'\n",
    "\n",
    "drifter_dataset = h5py.File(data_dir+'Drifter_dataset_processed_30days.mat','r') \n",
    "list(drifter_dataset.items())\n",
    "\n",
    "# mlat2: mean latitude over 60 days,     157978*1\n",
    "# mlon2: mean longitude over 60 days,    157978*1\n",
    "\n",
    "# qd: drogued drifters,                  157978*1\n",
    "# qmed200: median water depth > 200 m,   157978*1\n",
    "# qu: undrogued drifters,                157978*1\n",
    "\n",
    "# uv2: (u, v),                           157978*1440"
   ]
  },
  {
   "cell_type": "code",
   "execution_count": 6,
   "metadata": {},
   "outputs": [
    {
     "data": {
      "text/plain": [
       "<xarray.DataArray 'lat' (lat: 352579)>\n",
       "array([ 44.071905,  43.645862,  44.406323, ..., -36.974844, -37.257942,\n",
       "       -37.413325])\n",
       "Dimensions without coordinates: lat"
      ]
     },
     "execution_count": 6,
     "metadata": {},
     "output_type": "execute_result"
    }
   ],
   "source": [
    "# turn mean-lat into xarray_DataArray\n",
    "lat2 = drifter_dataset['mlat2']\n",
    "lat2 = np.array(lat2)\n",
    "lat = xr.DataArray(lat2, dims=['lat', 'none'])\n",
    "lat = xr.DataArray.squeeze(lat, dim='none')\n",
    "lat = np.real(lat).rename('lat')\n",
    "lat"
   ]
  },
  {
   "cell_type": "code",
   "execution_count": 7,
   "metadata": {},
   "outputs": [
    {
     "data": {
      "text/plain": [
       "<xarray.DataArray 'lon' (lon: 352579)>\n",
       "array([310.075746, 308.454926, 307.887965, ..., 325.537856, 325.246672,\n",
       "       325.474971])\n",
       "Dimensions without coordinates: lon"
      ]
     },
     "execution_count": 7,
     "metadata": {},
     "output_type": "execute_result"
    }
   ],
   "source": [
    "# turn mean-lat into xarray_DataArray\n",
    "lon2 = drifter_dataset['mlon2']\n",
    "lon2 = np.array(lon2)\n",
    "lon = xr.DataArray(lon2, dims=['lon', 'none'])\n",
    "lon = xr.DataArray.squeeze(lon, dim='none')\n",
    "lon = np.real(lon).rename('lon')\n",
    "lon"
   ]
  },
  {
   "cell_type": "code",
   "execution_count": 8,
   "metadata": {},
   "outputs": [
    {
     "data": {
      "text/plain": [
       "<xarray.DataArray 'qd' (qd: 352579)>\n",
       "array([1, 1, 1, ..., 1, 1, 1], dtype=uint8)\n",
       "Dimensions without coordinates: qd"
      ]
     },
     "execution_count": 8,
     "metadata": {},
     "output_type": "execute_result"
    }
   ],
   "source": [
    "# turn drogued_information into xarray_DataArray\n",
    "qd = drifter_dataset['qd']\n",
    "qd = np.array(qd)\n",
    "qd = xr.DataArray(qd, dims=['qd', 'none'])\n",
    "qd = xr.DataArray.squeeze(qd, dim='none')\n",
    "qd = np.real(qd).rename('qd')\n",
    "qd"
   ]
  },
  {
   "cell_type": "code",
   "execution_count": 9,
   "metadata": {},
   "outputs": [
    {
     "data": {
      "text/plain": [
       "array([[ 1.269e-01-0.2472j,  1.300e-01-0.2155j,  9.600e-02-0.2988j, ...,\n",
       "         3.000e-04+0.1005j, -8.000e-04+0.0989j, -4.530e-02+0.055j ],\n",
       "       [-2.048e-01+0.4936j, -3.023e-01+0.4859j, -2.971e-01+0.4856j, ...,\n",
       "        -5.280e-02+0.1353j, -1.040e-02+0.1598j, -4.630e-02+0.1763j],\n",
       "       [-7.770e-02+0.0613j, -9.660e-02+0.0699j, -9.630e-02+0.0702j, ...,\n",
       "        -1.682e-01-0.0165j, -4.370e-02+0.0247j,  3.300e-02+0.0324j],\n",
       "       ...,\n",
       "       [ 6.220e-02+0.164j ,  5.890e-02+0.1348j,  6.710e-02+0.121j , ...,\n",
       "         5.890e-02+0.0466j,  5.130e-02+0.0552j,  3.950e-02+0.0682j],\n",
       "       [ 5.470e-02+0.034j ,  6.370e-02+0.0215j,  7.460e-02+0.0064j, ...,\n",
       "         1.762e-01+0.2945j,  1.135e-01+0.2859j,  4.960e-02+0.2669j],\n",
       "       [ 2.960e-02+0.0901j, -2.600e-03+0.1134j, -3.220e-02+0.1428j, ...,\n",
       "        -1.189e-01+0.0092j, -1.027e-01-0.0244j, -7.390e-02-0.0525j]])"
      ]
     },
     "execution_count": 9,
     "metadata": {},
     "output_type": "execute_result"
    }
   ],
   "source": [
    "# (u,v) --> u+iv\n",
    "uv = drifter_dataset['uv2'].value.view(np.double).reshape((352579, 720, 2))\n",
    "uv_drifters = uv[:,:,0] + 1j*uv[:,:,1]\n",
    "uv_drifters.shape  # result is (10, 10, 10)\n",
    "uv_drifters"
   ]
  },
  {
   "cell_type": "code",
   "execution_count": 10,
   "metadata": {},
   "outputs": [
    {
     "name": "stdout",
     "output_type": "stream",
     "text": [
      "<xarray.Dataset>\n",
      "Dimensions:      (lat: 352579, time: 720)\n",
      "Coordinates:\n",
      "  * lat          (lat) float64 44.07 43.65 44.41 44.79 44.91 45.02 45.08 ...\n",
      "    lon          (lat) float64 310.1 308.5 307.9 307.5 306.9 306.4 305.7 ...\n",
      "  * time         (time) int64 0 3600 7200 10800 14400 18000 21600 25200 ...\n",
      "    qd           (lat) uint8 1 1 1 1 1 1 1 1 1 1 1 1 1 0 0 0 0 0 0 0 0 0 0 0 ...\n",
      "Data variables:\n",
      "    uv_drifters  (lat, time) complex128 (0.1269-0.2472j) (0.13-0.2155j) ...\n",
      "\n",
      " data size: 4.1 GB\n"
     ]
    }
   ],
   "source": [
    "# Drifter Dataset (u+iv,lat,qd,time)\n",
    "ds = xr.Dataset({'uv_drifters': (['lat', 'time'], uv_drifters)},\n",
    "                 coords={'lat': (['lat'], lat),\n",
    "                         'lon': (['lat'], lon),\n",
    "                         'time':(['time'], np.arange(720)*3600),\n",
    "                         'qd':(['lat'], qd)})\n",
    "print(ds)\n",
    "print('\\n data size: %.1f GB' %(ds.nbytes / 1e9))"
   ]
  },
  {
   "cell_type": "markdown",
   "metadata": {},
   "source": [
    "# 2. FFT"
   ]
  },
  {
   "cell_type": "code",
   "execution_count": 11,
   "metadata": {},
   "outputs": [
    {
     "name": "stdout",
     "output_type": "stream",
     "text": [
      "<xarray.DataArray 'E_uv_blocks' (lat: 352579, freq_time: 720)>\n",
      "array([[8.275758e+02, 4.555162e+03, 2.000022e+03, ..., 1.875648e+04,\n",
      "        3.435330e+04, 2.136664e+04],\n",
      "       [1.425809e+02, 2.871336e+02, 6.629847e+02, ..., 9.242418e+01,\n",
      "        3.532689e+02, 3.925055e+02],\n",
      "       [5.310037e+01, 1.618015e+01, 4.191200e+01, ..., 2.495134e+02,\n",
      "        2.545770e+02, 1.969597e+02],\n",
      "       ...,\n",
      "       [1.351784e+03, 4.948018e+02, 5.883382e+02, ..., 1.912037e+03,\n",
      "        4.437057e+03, 5.022744e+03],\n",
      "       [2.005802e+03, 7.705751e+02, 5.910980e+03, ..., 1.517837e+03,\n",
      "        1.061298e+03, 1.545760e+03],\n",
      "       [2.073965e+03, 8.435541e+03, 1.347270e+04, ..., 2.856774e+02,\n",
      "        1.410359e+03, 1.297634e+03]])\n",
      "Coordinates:\n",
      "  * lat                (lat) float64 44.07 43.65 44.41 44.79 44.91 45.02 ...\n",
      "  * freq_time          (freq_time) float64 0.0 3.858e-07 7.716e-07 1.157e-06 ...\n",
      "    freq_time_spacing  float64 3.858e-07\n",
      "    freq_cpd           (freq_time) float64 0.0 0.03333 0.06667 0.1 0.1333 ...\n",
      "    qd                 (lat) uint8 1 1 1 1 1 1 1 1 1 1 1 1 1 0 0 0 0 0 0 0 0 ...\n",
      "    lon                (lat) float64 310.1 308.5 307.9 307.5 306.9 306.4 ...\n"
     ]
    }
   ],
   "source": [
    "uv_fft_complex = xrft.dft(ds.uv_drifters.fillna(0.), dim=['time'], shift=False, detrend='linear', window=True, chunks_to_segments=False)\n",
    "\n",
    "E_uv_blocks = (uv_fft_complex*uv_fft_complex.conj()).where(uv_fft_complex!=0., drop=False)/720*3600\n",
    "E_uv_blocks = np.real(E_uv_blocks).rename('E_uv_blocks')\n",
    "E_uv_blocks = E_uv_blocks.assign_coords(freq_cpd=E_uv_blocks.freq_time * 86400.) \n",
    "E_uv_blocks = E_uv_blocks.assign_coords(lon=ds.lon) \n",
    "print(E_uv_blocks)"
   ]
  },
  {
   "cell_type": "code",
   "execution_count": 12,
   "metadata": {},
   "outputs": [
    {
     "name": "stdout",
     "output_type": "stream",
     "text": [
      "<xarray.DataArray 'freq_time' ()>\n",
      "array(3.858025e-07)\n",
      "Coordinates:\n",
      "    freq_time_spacing  float64 3.858e-07\n"
     ]
    }
   ],
   "source": [
    "df = E_uv_blocks.freq_time[1] - E_uv_blocks.freq_time[0]\n",
    "print(df)"
   ]
  },
  {
   "cell_type": "code",
   "execution_count": 13,
   "metadata": {},
   "outputs": [],
   "source": [
    "f_drifter = 2.*2.*np.pi/86400. * np.sin(np.deg2rad(E_uv_blocks.lat))\n",
    "f_cpd_drifter = f_drifter*86400/2./np.pi"
   ]
  },
  {
   "cell_type": "code",
   "execution_count": 14,
   "metadata": {},
   "outputs": [],
   "source": [
    "E_semi = (E_uv_blocks.where((abs(E_uv_blocks.freq_cpd)>1.86) & (abs(E_uv_blocks.freq_cpd)<2.06) , other=0.)*df).sum(dim='freq_time')\n",
    "E_semi = np.real(E_semi).rename('E_semi')\n",
    "\n",
    "E_diurnal = (E_uv_blocks.where((abs(E_uv_blocks.freq_cpd)>0.9) & (abs(E_uv_blocks.freq_cpd)<1.1) , other=0.)*df).sum(dim='freq_time')\n",
    "E_diurnal = np.real(E_diurnal).rename('E_diurnal')\n",
    "\n",
    "E_high = (E_uv_blocks.where((abs(E_uv_blocks.freq_cpd)>=0.5), other=0.)*df).sum(dim='freq_time')\n",
    "E_high  = np.real(E_high).rename('E_high')\n",
    "\n",
    "E_f = (E_uv_blocks.where((abs(E_uv_blocks.freq_cpd+f_cpd_drifter)<0.1), other=0.)*df).sum(dim='freq_time')\n",
    "E_f = np.real(E_f).rename('E_f')"
   ]
  },
  {
   "cell_type": "code",
   "execution_count": 15,
   "metadata": {},
   "outputs": [
    {
     "name": "stdout",
     "output_type": "stream",
     "text": [
      "CPU times: user 1.28 s, sys: 116 ms, total: 1.39 s\n",
      "Wall time: 1.73 s\n"
     ]
    },
    {
     "name": "stderr",
     "output_type": "stream",
     "text": [
      "/home1/datahome/xyu/.miniconda3/envs/equinox/lib/python3.6/site-packages/dask/utils.py:1010: UserWarning: Deprecated, see dask.base.get_scheduler instead\n",
      "  warnings.warn(\"Deprecated, see dask.base.get_scheduler instead\")\n"
     ]
    }
   ],
   "source": [
    "E_drifter = xr.merge([E_semi.to_dataset(), E_diurnal.to_dataset(), E_high.to_dataset(), E_f.to_dataset()])\n",
    "file_E = data_dir+'E_drifter_shift_30days.nc'\n",
    "%time E_drifter.to_netcdf(file_E, mode='w')  "
   ]
  },
  {
   "cell_type": "code",
   "execution_count": null,
   "metadata": {},
   "outputs": [],
   "source": []
  },
  {
   "cell_type": "code",
   "execution_count": null,
   "metadata": {},
   "outputs": [],
   "source": []
  },
  {
   "cell_type": "code",
   "execution_count": null,
   "metadata": {},
   "outputs": [],
   "source": []
  },
  {
   "cell_type": "code",
   "execution_count": null,
   "metadata": {},
   "outputs": [],
   "source": []
  },
  {
   "cell_type": "code",
   "execution_count": 17,
   "metadata": {},
   "outputs": [
    {
     "data": {
      "text/plain": [
       "<Future finished result=None>"
      ]
     },
     "execution_count": 17,
     "metadata": {},
     "output_type": "execute_result"
    }
   ],
   "source": [
    "cluster.scheduler.close()"
   ]
  },
  {
   "cell_type": "code",
   "execution_count": null,
   "metadata": {},
   "outputs": [],
   "source": []
  }
 ],
 "metadata": {
  "kernelspec": {
   "display_name": "Python 3",
   "language": "python",
   "name": "python3"
  },
  "language_info": {
   "codemirror_mode": {
    "name": "ipython",
    "version": 3
   },
   "file_extension": ".py",
   "mimetype": "text/x-python",
   "name": "python",
   "nbconvert_exporter": "python",
   "pygments_lexer": "ipython3",
   "version": "3.8.8"
  }
 },
 "nbformat": 4,
 "nbformat_minor": 4
}

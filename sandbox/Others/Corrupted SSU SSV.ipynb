{
 "cells": [
  {
   "cell_type": "code",
   "execution_count": 1,
   "metadata": {},
   "outputs": [
    {
     "name": "stderr",
     "output_type": "stream",
     "text": [
      "/home1/datahome/xyu/.miniconda3/envs/equinox/lib/python3.6/site-packages/cmocean/tools.py:76: MatplotlibDeprecationWarning: The is_string_like function was deprecated in version 2.1.\n",
      "  if not mpl.cbook.is_string_like(rgbin[0]):\n"
     ]
    }
   ],
   "source": [
    "import os\n",
    "import numpy as np\n",
    "import dask\n",
    "import xarray as xr\n",
    "import xgcm\n",
    "import xscale\n",
    "from matplotlib import pyplot as plt\n",
    "%matplotlib inline\n",
    "\n",
    "from mitequinox.utils import *\n",
    "\n",
    "import cartopy.crs as ccrs\n",
    "from cmocean import cm"
   ]
  },
  {
   "cell_type": "code",
   "execution_count": 2,
   "metadata": {},
   "outputs": [
    {
     "name": "stderr",
     "output_type": "stream",
     "text": [
      "/home1/datahome/xyu/.miniconda3/envs/equinox/lib/python3.6/site-packages/distributed/utils.py:128: RuntimeWarning: Couldn't detect a suitable IP address for reaching '8.8.8.8', defaulting to '127.0.0.1': [Errno 101] Network is unreachable\n",
      "  % (host, default, e), RuntimeWarning)\n"
     ]
    }
   ],
   "source": [
    "dmethod = 1\n",
    "#\n",
    "if dmethod == 1:\n",
    "    from dask.distributed import Client\n",
    "    scheduler = os.getenv('DATAWORK')+'/dask/scheduler.json'\n",
    "    client = Client(scheduler_file=scheduler)\n",
    "elif dmethod == 2:\n",
    "    from dask_jobqueue import PBSCluster\n",
    "    # folder where data is spilled when RAM is filled up\n",
    "    local_dir = os.getenv('TMPDIR')\n",
    "    #\n",
    "    cluster = PBSCluster(queue='mpi_1', local_directory=local_dir, interface='ib0', walltime='24:00:00',\n",
    "                         threads=14, processes=2, memory='50GB', resource_spec='select=1:ncpus=28:mem=100g', \n",
    "                         death_timeout=100)\n",
    "    w = cluster.start_workers(40)"
   ]
  },
  {
   "cell_type": "code",
   "execution_count": 3,
   "metadata": {},
   "outputs": [
    {
     "data": {
      "text/html": [
       "<table style=\"border: 2px solid white;\">\n",
       "<tr>\n",
       "<td style=\"vertical-align: top; border: 0px solid white\">\n",
       "<h3>Client</h3>\n",
       "<ul>\n",
       "  <li><b>Scheduler: </b>tcp://10.148.0.112:8786\n",
       "  <li><b>Dashboard: </b><a href='http://10.148.0.112:8787/status' target='_blank'>http://10.148.0.112:8787/status</a>\n",
       "</ul>\n",
       "</td>\n",
       "<td style=\"vertical-align: top; border: 0px solid white\">\n",
       "<h3>Cluster</h3>\n",
       "<ul>\n",
       "  <li><b>Workers: </b>10</li>\n",
       "  <li><b>Cores: </b>140</li>\n",
       "  <li><b>Memory: </b>1000.00 GB</li>\n",
       "</ul>\n",
       "</td>\n",
       "</tr>\n",
       "</table>"
      ],
      "text/plain": [
       "<Client: scheduler='tcp://10.148.0.112:8786' processes=10 cores=140>"
      ]
     },
     "execution_count": 3,
     "metadata": {},
     "output_type": "execute_result"
    }
   ],
   "source": [
    "client"
   ]
  },
  {
   "cell_type": "code",
   "execution_count": null,
   "metadata": {},
   "outputs": [
    {
     "name": "stderr",
     "output_type": "stream",
     "text": [
      "/home1/datahome/xyu/.miniconda3/envs/equinox/lib/python3.6/site-packages/xmitgcm/mds_store.py:721: UserWarning: Couldn't find available_diagnostics.log in . Using default version.\n",
      "  \"in %s. Using default version.\" % data_dir)\n",
      "/home1/datahome/xyu/.miniconda3/envs/equinox/lib/python3.6/site-packages/xmitgcm/utils.py:314: UserWarning: Not sure what to do with rlev = L\n",
      "  warnings.warn(\"Not sure what to do with rlev = \" + rlev)\n"
     ]
    }
   ],
   "source": [
    "# read SSU outputs using xrray and xmitgcm\n",
    "data_dir = '/home/datawork-lops-osi/data/mit4320/SSU/'\n",
    "grid_dir = '/home/datawork-lops-osi/data/mit4320/grid/'\n",
    "\n",
    "iters, time = get_iters_time('SSU', data_dir, delta_t=25.)\n",
    "\n",
    "#ds = get_compressed_data('SSU', data_dir, grid_dir, iters=iters, time=time, client=client)\n",
    "#ds = ds.chunk({'face': 1})\n",
    "#print(ds)\n",
    "#print('\\n data size: %.1f GB' %(ds['SSU'].nbytes / 1e9))\n",
    "#print('\\n data size (1 face): %.1f GB' %(ds['SSU'].isel(face=1).nbytes / 1e9))"
   ]
  },
  {
   "cell_type": "code",
   "execution_count": 23,
   "metadata": {},
   "outputs": [
    {
     "name": "stdout",
     "output_type": "stream",
     "text": [
      "corrupted: SSU.0000514656.shrunk\n",
      "corrupted: SSU.0000514800.shrunk\n",
      "corrupted: SSU.0000514944.shrunk\n",
      "corrupted: SSU.0000515088.shrunk\n",
      "corrupted: SSU.0000515232.shrunk\n",
      "corrupted: SSU.0000515376.shrunk\n",
      "corrupted: SSU.0000515520.shrunk\n",
      "corrupted: SSU.0000515664.shrunk\n",
      "corrupted: SSU.0000515808.shrunk\n",
      "corrupted: SSU.0000515952.shrunk\n",
      "corrupted: SSU.0000516096.shrunk\n",
      "corrupted: SSU.0000516240.shrunk\n",
      "corrupted: SSU.0000516384.shrunk\n",
      "corrupted: SSU.0000516528.shrunk\n",
      "corrupted: SSU.0000516672.shrunk\n",
      "corrupted: SSU.0000516816.shrunk\n",
      "corrupted: SSU.0000516960.shrunk\n",
      "corrupted: SSU.0000517104.shrunk\n",
      "corrupted: SSU.0000517248.shrunk\n",
      "corrupted: SSU.0000517392.shrunk\n",
      "corrupted: SSU.0000517536.shrunk\n",
      "corrupted: SSU.0000517680.shrunk\n",
      "corrupted: SSU.0000517824.shrunk\n",
      "corrupted: SSU.0000517968.shrunk\n",
      "corrupted: SSU.0000518112.shrunk\n",
      "corrupted: SSU.0000518256.shrunk\n",
      "corrupted: SSU.0000518400.shrunk\n",
      "corrupted: SSU.0000518544.shrunk\n",
      "corrupted: SSU.0000518688.shrunk\n",
      "corrupted: SSU.0000518832.shrunk\n",
      "corrupted: SSU.0000518976.shrunk\n",
      "corrupted: SSU.0000519120.shrunk\n",
      "corrupted: SSU.0000519264.shrunk\n",
      "corrupted: SSU.0000519408.shrunk\n",
      "corrupted: SSU.0000519552.shrunk\n",
      "corrupted: SSU.0000519696.shrunk\n",
      "corrupted: SSU.0000519840.shrunk\n",
      "corrupted: SSU.0000519984.shrunk\n",
      "corrupted: SSU.0000520128.shrunk\n",
      "corrupted: SSU.0000520272.shrunk\n",
      "corrupted: SSU.0000520416.shrunk\n",
      "corrupted: SSU.0000520560.shrunk\n",
      "corrupted: SSU.0000520704.shrunk\n",
      "corrupted: SSU.0000520848.shrunk\n",
      "corrupted: SSU.0000520992.shrunk\n",
      "corrupted: SSU.0000521136.shrunk\n",
      "corrupted: SSU.0000521280.shrunk\n",
      "corrupted: SSU.0000521424.shrunk\n",
      "corrupted: SSU.0000521568.shrunk\n",
      "corrupted: SSU.0000521712.shrunk\n",
      "corrupted: SSU.0000521856.shrunk\n",
      "corrupted: SSU.0000522000.shrunk\n",
      "corrupted: SSU.0000522144.shrunk\n",
      "corrupted: SSU.0000522288.shrunk\n",
      "corrupted: SSU.0000522432.shrunk\n",
      "corrupted: SSU.0000522576.shrunk\n",
      "corrupted: SSU.0000522720.shrunk\n"
     ]
    }
   ],
   "source": [
    "T = range(1990,2047)\n",
    "\n",
    "for i in T:\n",
    "\n",
    "    print('corrupted: SSU.{:0>10d}.shrunk'.format(int(iters.isel(time=i))))"
   ]
  },
  {
   "cell_type": "code",
   "execution_count": null,
   "metadata": {},
   "outputs": [],
   "source": []
  },
  {
   "cell_type": "code",
   "execution_count": null,
   "metadata": {},
   "outputs": [],
   "source": []
  },
  {
   "cell_type": "code",
   "execution_count": null,
   "metadata": {},
   "outputs": [],
   "source": []
  },
  {
   "cell_type": "code",
   "execution_count": null,
   "metadata": {},
   "outputs": [],
   "source": []
  },
  {
   "cell_type": "code",
   "execution_count": 5,
   "metadata": {},
   "outputs": [],
   "source": [
    "# read SSV outputs using xrray and xmitgcm\n",
    "data_dir = '/home/datawork-lops-osi/data/mit4320/SSV/'\n",
    "grid_dir = '/home/datawork-lops-osi/data/mit4320/grid/'\n",
    "\n",
    "iters, time = get_iters_time('SSV', data_dir, delta_t=25.)\n",
    "\n",
    "#ds = get_compressed_data('SSV', data_dir, grid_dir, iters=iters, time=time, client=client)\n",
    "#ds = ds.chunk({'face': 1})\n",
    "#print(ds)\n",
    "#print('\\n data size: %.1f GB' %(ds['SSV'].nbytes / 1e9))\n",
    "#print('\\n data size (1 face): %.1f GB' %(ds['SSV'].isel(face=1).nbytes / 1e9))"
   ]
  },
  {
   "cell_type": "code",
   "execution_count": 6,
   "metadata": {},
   "outputs": [
    {
     "name": "stdout",
     "output_type": "stream",
     "text": [
      "corrupted: SSV.0000504576.shrunk\n",
      "corrupted: SSV.0000504720.shrunk\n",
      "corrupted: SSV.0000504864.shrunk\n",
      "corrupted: SSV.0000505008.shrunk\n",
      "corrupted: SSV.0000505152.shrunk\n",
      "corrupted: SSV.0000505296.shrunk\n",
      "corrupted: SSV.0000505440.shrunk\n",
      "corrupted: SSV.0000505584.shrunk\n",
      "corrupted: SSV.0000505728.shrunk\n",
      "corrupted: SSV.0000505872.shrunk\n",
      "corrupted: SSV.0000506016.shrunk\n",
      "corrupted: SSV.0000506160.shrunk\n",
      "corrupted: SSV.0000506304.shrunk\n",
      "corrupted: SSV.0000506448.shrunk\n",
      "corrupted: SSV.0000506592.shrunk\n",
      "corrupted: SSV.0000506736.shrunk\n",
      "corrupted: SSV.0000506880.shrunk\n",
      "corrupted: SSV.0000507024.shrunk\n",
      "corrupted: SSV.0000507168.shrunk\n",
      "corrupted: SSV.0000507312.shrunk\n",
      "corrupted: SSV.0000507456.shrunk\n",
      "corrupted: SSV.0000507600.shrunk\n",
      "corrupted: SSV.0000507744.shrunk\n",
      "corrupted: SSV.0000507888.shrunk\n",
      "corrupted: SSV.0000508032.shrunk\n",
      "corrupted: SSV.0000508176.shrunk\n",
      "corrupted: SSV.0000508320.shrunk\n",
      "corrupted: SSV.0000508464.shrunk\n",
      "corrupted: SSV.0000508608.shrunk\n",
      "corrupted: SSV.0000508752.shrunk\n",
      "corrupted: SSV.0000508896.shrunk\n",
      "corrupted: SSV.0000509040.shrunk\n",
      "corrupted: SSV.0000509184.shrunk\n",
      "corrupted: SSV.0000509328.shrunk\n",
      "corrupted: SSV.0000509472.shrunk\n",
      "corrupted: SSV.0000509616.shrunk\n",
      "corrupted: SSV.0000509760.shrunk\n",
      "corrupted: SSV.0000509904.shrunk\n",
      "corrupted: SSV.0000510048.shrunk\n",
      "corrupted: SSV.0000510192.shrunk\n",
      "corrupted: SSV.0000510336.shrunk\n",
      "corrupted: SSV.0000510480.shrunk\n",
      "corrupted: SSV.0000510624.shrunk\n",
      "corrupted: SSV.0000510768.shrunk\n",
      "corrupted: SSV.0000510912.shrunk\n",
      "corrupted: SSV.0000511056.shrunk\n",
      "corrupted: SSV.0000511200.shrunk\n",
      "corrupted: SSV.0000511344.shrunk\n",
      "corrupted: SSV.0000511488.shrunk\n",
      "corrupted: SSV.0000511632.shrunk\n",
      "corrupted: SSV.0000511776.shrunk\n",
      "corrupted: SSV.0000511920.shrunk\n",
      "corrupted: SSV.0000512064.shrunk\n",
      "corrupted: SSV.0000512208.shrunk\n",
      "corrupted: SSV.0000512352.shrunk\n",
      "corrupted: SSV.0000512496.shrunk\n",
      "corrupted: SSV.0000512640.shrunk\n",
      "corrupted: SSV.0000512784.shrunk\n",
      "corrupted: SSV.0000512928.shrunk\n",
      "corrupted: SSV.0000513072.shrunk\n",
      "corrupted: SSV.0000513216.shrunk\n",
      "corrupted: SSV.0000513360.shrunk\n",
      "corrupted: SSV.0000513504.shrunk\n",
      "corrupted: SSV.0000513648.shrunk\n",
      "corrupted: SSV.0000513792.shrunk\n",
      "corrupted: SSV.0000513936.shrunk\n",
      "corrupted: SSV.0000514080.shrunk\n",
      "corrupted: SSV.0000514224.shrunk\n",
      "corrupted: SSV.0000514368.shrunk\n",
      "corrupted: SSV.0000514512.shrunk\n",
      "corrupted: SSV.0000514656.shrunk\n",
      "corrupted: SSV.0000514800.shrunk\n",
      "corrupted: SSV.0000514944.shrunk\n",
      "corrupted: SSV.0000515088.shrunk\n",
      "corrupted: SSV.0000515232.shrunk\n",
      "corrupted: SSV.0000515376.shrunk\n",
      "corrupted: SSV.0000515520.shrunk\n",
      "corrupted: SSV.0000515664.shrunk\n",
      "corrupted: SSV.0000515808.shrunk\n",
      "corrupted: SSV.0000515952.shrunk\n",
      "corrupted: SSV.0000516096.shrunk\n",
      "corrupted: SSV.0000516240.shrunk\n",
      "corrupted: SSV.0000516384.shrunk\n",
      "corrupted: SSV.0000516528.shrunk\n",
      "corrupted: SSV.0000516672.shrunk\n",
      "corrupted: SSV.0000516816.shrunk\n",
      "corrupted: SSV.0000516960.shrunk\n",
      "corrupted: SSV.0000517104.shrunk\n",
      "corrupted: SSV.0000517248.shrunk\n",
      "corrupted: SSV.0000517392.shrunk\n",
      "corrupted: SSV.0000517536.shrunk\n",
      "corrupted: SSV.0000517680.shrunk\n",
      "corrupted: SSV.0000517824.shrunk\n",
      "corrupted: SSV.0000517968.shrunk\n",
      "corrupted: SSV.0000518112.shrunk\n",
      "corrupted: SSV.0000518256.shrunk\n",
      "corrupted: SSV.0000518400.shrunk\n",
      "corrupted: SSV.0000518544.shrunk\n",
      "corrupted: SSV.0000518688.shrunk\n",
      "corrupted: SSV.0000518832.shrunk\n",
      "corrupted: SSV.0000518976.shrunk\n",
      "corrupted: SSV.0000519120.shrunk\n",
      "corrupted: SSV.0000519264.shrunk\n",
      "corrupted: SSV.0000519408.shrunk\n",
      "corrupted: SSV.0000519552.shrunk\n",
      "corrupted: SSV.0000519696.shrunk\n",
      "corrupted: SSV.0000519840.shrunk\n",
      "corrupted: SSV.0000519984.shrunk\n",
      "corrupted: SSV.0000520128.shrunk\n",
      "corrupted: SSV.0000520272.shrunk\n",
      "corrupted: SSV.0000520416.shrunk\n",
      "corrupted: SSV.0000520560.shrunk\n",
      "corrupted: SSV.0000520704.shrunk\n",
      "corrupted: SSV.0000520848.shrunk\n",
      "corrupted: SSV.0000520992.shrunk\n",
      "corrupted: SSV.0000521136.shrunk\n",
      "corrupted: SSV.0000521280.shrunk\n",
      "corrupted: SSV.0000521424.shrunk\n",
      "corrupted: SSV.0000521568.shrunk\n",
      "corrupted: SSV.0000521712.shrunk\n",
      "corrupted: SSV.0000521856.shrunk\n",
      "corrupted: SSV.0000522000.shrunk\n",
      "corrupted: SSV.0000522144.shrunk\n",
      "corrupted: SSV.0000522288.shrunk\n",
      "corrupted: SSV.0000522432.shrunk\n",
      "corrupted: SSV.0000522576.shrunk\n",
      "corrupted: SSV.0000522720.shrunk\n"
     ]
    }
   ],
   "source": [
    "T = range(1920,2047)\n",
    "\n",
    "for i in T:\n",
    "\n",
    "    print('corrupted: SSV.{:0>10d}.shrunk'.format(int(iters.isel(time=i))))"
   ]
  },
  {
   "cell_type": "code",
   "execution_count": null,
   "metadata": {},
   "outputs": [],
   "source": []
  },
  {
   "cell_type": "code",
   "execution_count": null,
   "metadata": {},
   "outputs": [],
   "source": []
  },
  {
   "cell_type": "code",
   "execution_count": null,
   "metadata": {},
   "outputs": [],
   "source": []
  },
  {
   "cell_type": "code",
   "execution_count": null,
   "metadata": {},
   "outputs": [],
   "source": []
  },
  {
   "cell_type": "code",
   "execution_count": null,
   "metadata": {},
   "outputs": [],
   "source": []
  },
  {
   "cell_type": "code",
   "execution_count": null,
   "metadata": {},
   "outputs": [],
   "source": []
  },
  {
   "cell_type": "code",
   "execution_count": null,
   "metadata": {},
   "outputs": [],
   "source": []
  },
  {
   "cell_type": "code",
   "execution_count": null,
   "metadata": {},
   "outputs": [],
   "source": []
  },
  {
   "cell_type": "code",
   "execution_count": null,
   "metadata": {},
   "outputs": [],
   "source": []
  },
  {
   "cell_type": "code",
   "execution_count": null,
   "metadata": {},
   "outputs": [],
   "source": []
  },
  {
   "cell_type": "code",
   "execution_count": null,
   "metadata": {},
   "outputs": [],
   "source": []
  },
  {
   "cell_type": "code",
   "execution_count": null,
   "metadata": {},
   "outputs": [],
   "source": []
  }
 ],
 "metadata": {
  "kernelspec": {
   "display_name": "Python 3",
   "language": "python",
   "name": "python3"
  },
  "language_info": {
   "codemirror_mode": {
    "name": "ipython",
    "version": 3
   },
   "file_extension": ".py",
   "mimetype": "text/x-python",
   "name": "python",
   "nbconvert_exporter": "python",
   "pygments_lexer": "ipython3",
   "version": "3.7.3"
  }
 },
 "nbformat": 4,
 "nbformat_minor": 4
}

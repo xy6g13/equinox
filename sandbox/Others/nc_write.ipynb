{
 "cells": [
  {
   "cell_type": "code",
   "execution_count": 1,
   "metadata": {},
   "outputs": [],
   "source": [
    "import os\n",
    "import numpy as np\n",
    "import xarray as xr"
   ]
  },
  {
   "cell_type": "code",
   "execution_count": 2,
   "metadata": {},
   "outputs": [
    {
     "name": "stdout",
     "output_type": "stream",
     "text": [
      "<xarray.DataArray (face: 13, j: 4320, i: 4320)>\n",
      "array([[[ 1.26461 ,  1.266718, ...,  0.549923,  1.293692],\n",
      "        [ 1.505847, -1.116641, ..., -1.2986  , -1.269753],\n",
      "        ...,\n",
      "        [-0.604089,  0.604475, ...,  0.249527, -0.742703],\n",
      "        [ 0.241635, -1.141971, ...,  1.388362,  0.87869 ]],\n",
      "\n",
      "       [[-0.295409, -0.325008, ...,  0.557941,  1.013626],\n",
      "        [ 1.156453,  0.717177, ..., -0.794008, -1.322364],\n",
      "        ...,\n",
      "        [-0.178437, -0.878109, ..., -0.203993, -1.538567],\n",
      "        [-0.443347, -0.218703, ..., -1.17499 ,  0.495454]],\n",
      "\n",
      "       ...,\n",
      "\n",
      "       [[-1.66356 ,  0.437023, ..., -0.77468 ,  0.092148],\n",
      "        [ 0.794337, -1.096684, ..., -2.312447,  0.331243],\n",
      "        ...,\n",
      "        [ 1.203575, -0.878981, ...,  0.012614, -0.062343],\n",
      "        [ 1.340094,  0.003358, ..., -1.197983,  0.868397]],\n",
      "\n",
      "       [[ 2.284872,  0.040889, ..., -1.793303, -0.202142],\n",
      "        [-0.772291, -0.573199, ..., -0.027226, -0.456557],\n",
      "        ...,\n",
      "        [-0.294945, -1.123195, ..., -0.867907, -0.56675 ],\n",
      "        [-0.65463 ,  0.146482, ...,  0.089249,  0.800433]]])\n",
      "Coordinates:\n",
      "  * i        (i) int64 0 1 2 3 4 5 6 7 8 9 10 11 12 13 14 15 16 17 18 19 20 ...\n",
      "  * j        (j) int64 0 1 2 3 4 5 6 7 8 9 10 11 12 13 14 15 16 17 18 19 20 ...\n",
      "  * face     (face) int64 0 1 2 3 4 5 6 7 8 9 10 11 12\n"
     ]
    }
   ],
   "source": [
    "i = np.arange(4320)\n",
    "j = np.arange(4320)\n",
    "face = np.arange(13)\n",
    "v = xr.DataArray(np.random.randn(face.size, j.size, i.size), \\\n",
    "                  coords={'i': i, 'j': j, 'face': face}, dims=['face','j','i'])\n",
    "print(v)"
   ]
  },
  {
   "cell_type": "code",
   "execution_count": 3,
   "metadata": {},
   "outputs": [
    {
     "name": "stderr",
     "output_type": "stream",
     "text": [
      "/home1/datahome/xyu/.miniconda3/envs/equinox/lib/python3.6/site-packages/distributed/utils.py:128: RuntimeWarning: Couldn't detect a suitable IP address for reaching '8.8.8.8', defaulting to '127.0.0.1': [Errno 101] Network is unreachable\n",
      "  % (host, default, e), RuntimeWarning)\n"
     ]
    }
   ],
   "source": [
    "file_out = 'rand.nc'\n",
    "if os.path.isfile(file_out):\n",
    "    os.remove(file_out)\n",
    "v.to_netcdf(file_out)"
   ]
  },
  {
   "cell_type": "code",
   "execution_count": 4,
   "metadata": {},
   "outputs": [],
   "source": [
    "file_out = '/home1/datawork/xyu/mit_tmp/rand.nc' # fails\n",
    "file_out = '/home1/scratch/xyu/mit_nc/rand.nc' # works\n",
    "if os.path.isfile(file_out):\n",
    "    os.remove(file_out)\n",
    "v.to_netcdf(file_out)"
   ]
  },
  {
   "cell_type": "code",
   "execution_count": 5,
   "metadata": {},
   "outputs": [
    {
     "name": "stderr",
     "output_type": "stream",
     "text": [
      "/home1/datahome/xyu/.miniconda3/envs/equinox/lib/python3.6/site-packages/h5py/__init__.py:36: FutureWarning: Conversion of the second argument of issubdtype from `float` to `np.floating` is deprecated. In future, it will be treated as `np.float64 == np.dtype(float).type`.\n",
      "  from ._conv import register_converters as _register_converters\n"
     ]
    },
    {
     "name": "stdout",
     "output_type": "stream",
     "text": [
      "\n",
      "INSTALLED VERSIONS\n",
      "------------------\n",
      "commit: None\n",
      "python: 3.6.5.final.0\n",
      "python-bits: 64\n",
      "OS: Linux\n",
      "OS-release: 3.12.53-60.30-default\n",
      "machine: x86_64\n",
      "processor: x86_64\n",
      "byteorder: little\n",
      "LC_ALL: None\n",
      "LANG: en_US.UTF-8\n",
      "LOCALE: en_US.UTF-8\n",
      "\n",
      "xarray: 0.10.3\n",
      "pandas: 0.22.0\n",
      "numpy: 1.14.2\n",
      "scipy: 1.0.1\n",
      "netCDF4: 1.3.1\n",
      "h5netcdf: 0.5.1\n",
      "h5py: 2.7.1\n",
      "Nio: None\n",
      "zarr: None\n",
      "bottleneck: 1.2.1\n",
      "cyordereddict: None\n",
      "dask: 0.17.2\n",
      "distributed: 1.21.6\n",
      "matplotlib: 2.2.2\n",
      "cartopy: 0.16.0\n",
      "seaborn: None\n",
      "setuptools: 39.0.1\n",
      "pip: 10.0.1\n",
      "conda: None\n",
      "pytest: None\n",
      "IPython: 6.3.1\n",
      "sphinx: None\n"
     ]
    }
   ],
   "source": [
    "xr.show_versions()"
   ]
  }
 ],
 "metadata": {
  "kernelspec": {
   "display_name": "Python 3",
   "language": "python",
   "name": "python3"
  },
  "language_info": {
   "codemirror_mode": {
    "name": "ipython",
    "version": 3
   },
   "file_extension": ".py",
   "mimetype": "text/x-python",
   "name": "python",
   "nbconvert_exporter": "python",
   "pygments_lexer": "ipython3",
   "version": "3.6.5"
  }
 },
 "nbformat": 4,
 "nbformat_minor": 2
}

{
 "cells": [
  {
   "cell_type": "markdown",
   "metadata": {},
   "source": [
    "# compute spectra on mitgcm outputs\n",
    "\n",
    "https://github.com/pydata/xarray/pull/924\n",
    "\n",
    "https://github.com/pydata/xarray/issues/1603\n",
    "\n"
   ]
  },
  {
   "cell_type": "markdown",
   "metadata": {},
   "source": [
    "---"
   ]
  },
  {
   "cell_type": "code",
   "execution_count": 1,
   "metadata": {},
   "outputs": [
    {
     "name": "stderr",
     "output_type": "stream",
     "text": [
      "/home1/datahome/xyu/.miniconda3/envs/equinox/lib/python3.6/site-packages/cmocean/tools.py:76: MatplotlibDeprecationWarning: The is_string_like function was deprecated in version 2.1.\n",
      "  if not mpl.cbook.is_string_like(rgbin[0]):\n"
     ]
    }
   ],
   "source": [
    "import os\n",
    "from glob import glob\n",
    "import numpy as np\n",
    "import dask\n",
    "import xarray as xr\n",
    "from matplotlib import pyplot as plt\n",
    "%matplotlib inline\n",
    "\n",
    "import xrft\n",
    "\n",
    "from mitequinox.utils import *"
   ]
  },
  {
   "cell_type": "code",
   "execution_count": 2,
   "metadata": {},
   "outputs": [
    {
     "name": "stderr",
     "output_type": "stream",
     "text": [
      "/home1/datahome/xyu/.miniconda3/envs/equinox/lib/python3.6/site-packages/distributed/utils.py:128: RuntimeWarning: Couldn't detect a suitable IP address for reaching '8.8.8.8', defaulting to '127.0.0.1': [Errno 101] Network is unreachable\n",
      "  % (host, default, e), RuntimeWarning)\n"
     ]
    }
   ],
   "source": [
    "dmethod = 1\n",
    "#\n",
    "if dmethod == 1:\n",
    "    from dask.distributed import Client\n",
    "    scheduler = os.getenv('DATAWORK')+'/dask/scheduler.json'\n",
    "    client = Client(scheduler_file=scheduler)\n",
    "elif dmethod == 2:\n",
    "    from dask_jobqueue import PBSCluster\n",
    "    # folder where data is spilled when RAM is filled up\n",
    "    local_dir = os.getenv('TMPDIR')\n",
    "    #\n",
    "    cluster = PBSCluster(queue='mpi_1', local_directory=local_dir, interface='ib0', walltime='24:00:00',\n",
    "                         threads=14, processes=2, memory='50GB', resource_spec='select=1:ncpus=28:mem=100g', \n",
    "                         death_timeout=100)\n",
    "    w = cluster.start_workers(40)"
   ]
  },
  {
   "cell_type": "code",
   "execution_count": 3,
   "metadata": {},
   "outputs": [],
   "source": [
    "# you need to wait for workers to spin up\n",
    "if dmethod == 2:\n",
    "    cluster.scheduler"
   ]
  },
  {
   "cell_type": "code",
   "execution_count": 4,
   "metadata": {},
   "outputs": [],
   "source": [
    "# get dask handles and check dask server status\n",
    "if dmethod == 2:\n",
    "    from dask.distributed import Client\n",
    "    client = Client(cluster)"
   ]
  },
  {
   "cell_type": "code",
   "execution_count": 5,
   "metadata": {},
   "outputs": [
    {
     "data": {
      "text/html": [
       "<table style=\"border: 2px solid white;\">\n",
       "<tr>\n",
       "<td style=\"vertical-align: top; border: 0px solid white\">\n",
       "<h3>Client</h3>\n",
       "<ul>\n",
       "  <li><b>Scheduler: </b>tcp://10.148.0.192:8786\n",
       "  <li><b>Dashboard: </b><a href='http://10.148.0.192:8787/status' target='_blank'>http://10.148.0.192:8787/status</a>\n",
       "</ul>\n",
       "</td>\n",
       "<td style=\"vertical-align: top; border: 0px solid white\">\n",
       "<h3>Cluster</h3>\n",
       "<ul>\n",
       "  <li><b>Workers: </b>8</li>\n",
       "  <li><b>Cores: </b>112</li>\n",
       "  <li><b>Memory: </b>800.00 GB</li>\n",
       "</ul>\n",
       "</td>\n",
       "</tr>\n",
       "</table>"
      ],
      "text/plain": [
       "<Client: scheduler='tcp://10.148.0.192:8786' processes=8 cores=112>"
      ]
     },
     "execution_count": 5,
     "metadata": {},
     "output_type": "execute_result"
    }
   ],
   "source": [
    "client"
   ]
  },
  {
   "cell_type": "markdown",
   "metadata": {},
   "source": [
    "---\n",
    "\n",
    "# All faces"
   ]
  },
  {
   "cell_type": "markdown",
   "metadata": {},
   "source": [
    "## compute and store spectra for all faces"
   ]
  },
  {
   "cell_type": "code",
   "execution_count": 6,
   "metadata": {},
   "outputs": [
    {
     "name": "stdout",
     "output_type": "stream",
     "text": [
      "/home1/scratch/xyu/mit_nc/\n",
      "/home1/scratch/xyu/mit_spec/\n"
     ]
    }
   ],
   "source": [
    "v = 'SST'\n",
    "\n",
    "## open files, nc files\n",
    "ncdata_dir = '/home1/scratch/xyu/mit_nc/'\n",
    "\n",
    "# dir where spectra are stored\n",
    "# E_dir = '/home/datawork-lops-osi/aponte/mit_spec/'\n",
    "E_dir = '/home1/scratch/xyu/mit_spec/'\n",
    "\n",
    "print(ncdata_dir)\n",
    "print(E_dir)"
   ]
  },
  {
   "cell_type": "code",
   "execution_count": null,
   "metadata": {},
   "outputs": [
    {
     "name": "stderr",
     "output_type": "stream",
     "text": [
      "/home1/datahome/xyu/.miniconda3/envs/equinox/lib/python3.6/site-packages/xrft/xrft.py:272: FutureWarning: xarray.DataArray.__contains__ currently checks membership in DataArray.coords, but in xarray v0.11 will change to check membership in array values.\n",
      "  elif d in da:\n"
     ]
    }
   ],
   "source": [
    "# same but loop over faces now\n",
    "E_dir = '/home1/scratch/xyu/mit_spec/'\n",
    "\n",
    "\n",
    "# number of fies to load for each face (1 file = 10 days)\n",
    "Nf = 2\n",
    "\n",
    "mgrid = xr.open_dataset('/home1/scratch/xyu/mit_grid_t.nc')\n",
    "mgrid = mgrid.drop(['XG','YG','i_g','j_g','k','k_u','k_l','k_p1'])\n",
    "\n",
    "for face in range(3,13):\n",
    "\n",
    "    # could add a test if files exists\n",
    "    \n",
    "    filenames = sorted(glob(ncdata_dir+v+'_f%02d_t*.nc' %(face)))\n",
    "    filenames = filenames[:Nf]\n",
    "\n",
    "    grid = mgrid.isel(face=face)\n",
    "    \n",
    "    ds = xr.open_mfdataset(filenames, chunks={'i':10, 'j':432}, concat_dim='time', compat='equals')\n",
    "    #ds = ds.isel(time=slice(0,3000))\n",
    "    \n",
    "    chunks={'time': len(ds['time'])}\n",
    "    ds = ds.chunk(chunks)\n",
    "\n",
    "    eta = ds[v]\n",
    "    \n",
    "    v_fft = xrft.dft(eta.fillna(0.), dim=['time'], shift=False, detrend='linear')\n",
    "    E = (v_fft*v_fft.conj()).where(v_fft!=0., drop=False)\n",
    "    E = E.astype('f8').rename('E')\n",
    "    E = xr.merge([E, grid])\n",
    "\n",
    "    file_E = E_dir+'E_SST_f%02d.nc'%face    \n",
    "    E.to_netcdf(file_E, mode='w')\n",
    "    \n",
    "    print('face %d done'%face )\n",
    "\n",
    "    "
   ]
  },
  {
   "cell_type": "markdown",
   "metadata": {},
   "source": [
    "## zonally average spectra\n",
    "\n",
    "Faces are processed independantly, this alleviate the computational burden on the scheduler (large task graph issue)\n"
   ]
  },
  {
   "cell_type": "code",
   "execution_count": 9,
   "metadata": {},
   "outputs": [
    {
     "name": "stderr",
     "output_type": "stream",
     "text": [
      "/home1/datahome/xyu/.miniconda3/envs/equinox/lib/python3.6/site-packages/ipykernel_launcher.py:55: RuntimeWarning: divide by zero encountered in true_divide\n",
      "/home1/datahome/xyu/.miniconda3/envs/equinox/lib/python3.6/site-packages/ipykernel_launcher.py:55: RuntimeWarning: invalid value encountered in true_divide\n",
      "/home1/datahome/xyu/.miniconda3/envs/equinox/lib/python3.6/site-packages/ipykernel_launcher.py:55: RuntimeWarning: divide by zero encountered in true_divide\n",
      "/home1/datahome/xyu/.miniconda3/envs/equinox/lib/python3.6/site-packages/ipykernel_launcher.py:55: RuntimeWarning: invalid value encountered in true_divide\n",
      "/home1/datahome/xyu/.miniconda3/envs/equinox/lib/python3.6/site-packages/ipykernel_launcher.py:55: RuntimeWarning: divide by zero encountered in true_divide\n",
      "/home1/datahome/xyu/.miniconda3/envs/equinox/lib/python3.6/site-packages/ipykernel_launcher.py:55: RuntimeWarning: invalid value encountered in true_divide\n"
     ]
    }
   ],
   "source": [
    "def fmap(v1, v2, b1, b2):\n",
    "        ''' This function provides the index of (v1,v2) coupled value position\n",
    "        in the 2D histogram array\n",
    "        '''\n",
    "        #\n",
    "        i1 = np.maximum(np.rint((v1-b1['min'])/b1['d'])+1,0)\n",
    "        i1 = np.minimum(i1,b1['imax'])\n",
    "        #\n",
    "        i2 = np.maximum(np.rint((v2-b2['min'])/b2['d'])+1,0)\n",
    "        i2 = np.minimum(i2,b2['imax'])\n",
    "        return i1+i2*(b1['imax']+1)\n",
    "\n",
    "idum = 0\n",
    "for face in range(3):\n",
    "\n",
    "    file_E = E_dir+'E_SST_f%02d.nc'%face    \n",
    "    ds = xr.open_dataset(file_E, chunks={'i': 1, 'j': 2160})\n",
    "\n",
    "    #\n",
    "    if idum == 0:\n",
    "        f = ds['freq_time']\n",
    "        fv = f.values\n",
    "        # lat\n",
    "        vb1 = {'min': -60.,'max': 60., 'd': 1.}\n",
    "        # frequency\n",
    "        vb2 = {'min': fv.min(), 'max': fv.max(), 'd': fv[1]-fv[0]}\n",
    "        #\n",
    "        vb1['imax'] = np.int(np.rint((vb1['max']-vb1['min'])/vb1['d']))+1\n",
    "        vb2['imax'] = np.int(np.rint((vb2['max']-vb2['min'])/vb2['d']))+1\n",
    "        #\n",
    "        lat_edges = np.arange(vb1['min'], vb1['max']+vb1['d']*.1, vb1['d'])\n",
    "        lat_center = (lat_edges[:-1]+lat_edges[1:])*.5\n",
    "        f_edges = np.arange(vb2['min'], vb2['max']+vb2['d']*.1, vb2['d'])\n",
    "        f_center = (f_edges[:-1]+f_edges[1:])*.5\n",
    "        idum +=1 \n",
    "\n",
    "    # broadcast coordinates\n",
    "    lat = ds['YC']    \n",
    "    lat2 = (lat + 0.*ds.E).fillna(-100.)\n",
    "    f2 = lat2*0. + f\n",
    "    dA = ds.rA + 0.*f2\n",
    "    EdA = ds.E.fillna(0.)*dA\n",
    "\n",
    "    # apply get_index to v1 and v2 arrays\n",
    "    i = dask.array.map_blocks(fmap, lat2.data, f2.data, vb1, vb2,  dtype='float')\n",
    "    #print(i)\n",
    "\n",
    "    # compute histogram of linear indices\n",
    "    h, lbins = dask.array.histogram(i, bins=np.arange(-.5,(vb1['imax']+1)*(vb2['imax']+1)+0.5,1.), \\\n",
    "                                    weights=EdA.data)\n",
    "    hnorm, lbins = dask.array.histogram(i, bins=np.arange(-.5,(vb1['imax']+1)*(vb2['imax']+1)+0.5,1.), \\\n",
    "                                    weights=dA.data)\n",
    "\n",
    "    # normalize and reshape\n",
    "    H = h.compute()\n",
    "    Hnorm = hnorm.compute()\n",
    "    H = H/Hnorm\n",
    "    H = H.reshape((vb1['imax']+1,vb2['imax']+1), order='F')\n",
    "    Hnorm = Hnorm.reshape((vb1['imax']+1,vb2['imax']+1), order='F')\n",
    "\n",
    "    # put H back into an xarray\n",
    "    ds_zavg = xr.Dataset({'E': (['lat', 'freq_time'],  H[1:-1,1:-1]), \\\n",
    "                          'A': (['lat'],  Hnorm[1:-1,1])}, \\\n",
    "                         coords={'lat': lat_center, 'freq_time': f_center})\n",
    "    ds_zavg = ds_zavg.sortby('freq_time')\n",
    "    ds_zavg.to_netcdf(E_dir+'E_zavg_f%02d.nc'%face, mode='w')\n",
    "    "
   ]
  },
  {
   "cell_type": "markdown",
   "metadata": {},
   "source": [
    "## load and plot zonally averaged spectra"
   ]
  },
  {
   "cell_type": "code",
   "execution_count": 13,
   "metadata": {},
   "outputs": [
    {
     "name": "stdout",
     "output_type": "stream",
     "text": [
      "['/home1/scratch/xyu/mit_spec/E_zavg_f00.nc', '/home1/scratch/xyu/mit_spec/E_zavg_f01.nc', '/home1/scratch/xyu/mit_spec/E_zavg_f02.nc']\n",
      "CPU times: user 16 ms, sys: 8 ms, total: 24 ms\n",
      "Wall time: 106 ms\n"
     ]
    }
   ],
   "source": [
    "filenames = sorted(glob(E_dir+'E_zavg_f*.nc'))\n",
    "print(filenames)\n",
    "%time ds = xr.open_mfdataset(filenames, concat_dim='face', compat='equals')\n"
   ]
  },
  {
   "cell_type": "code",
   "execution_count": 11,
   "metadata": {},
   "outputs": [
    {
     "name": "stdout",
     "output_type": "stream",
     "text": [
      "<xarray.DataArray (lat: 120, freq_time: 479)>\n",
      "dask.array<shape=(120, 479), dtype=float64, chunksize=(120, 479)>\n",
      "Coordinates:\n",
      "  * lat        (lat) float64 -59.5 -58.5 -57.5 -56.5 -55.5 -54.5 -53.5 -52.5 ...\n",
      "  * freq_time  (freq_time) float64 -0.0001386 -0.000138 -0.0001374 ...\n",
      "    freq_cpd   (freq_time) float64 -11.97 -11.93 -11.88 -11.83 -11.78 -11.73 ...\n"
     ]
    }
   ],
   "source": [
    "E = (ds.E*ds.A).sum(dim='face') / ds.A.sum(dim='face')\n",
    "E = E.assign_coords(freq_cpd=E.freq_time * 86400.)\n",
    "\n",
    "print(E)"
   ]
  },
  {
   "cell_type": "code",
   "execution_count": 12,
   "metadata": {},
   "outputs": [
    {
     "data": {
      "text/plain": [
       "[<matplotlib.lines.Line2D at 0x2aab079f7c88>]"
      ]
     },
     "execution_count": 12,
     "metadata": {},
     "output_type": "execute_result"
    },
    {
     "data": {
      "image/png": "[encoded data removed]",
      "text/plain": [
       "<Figure size 1080x648 with 2 Axes>"
      ]
     },
     "metadata": {},
     "output_type": "display_data"
    }
   ],
   "source": [
    "\n",
    "plt.figure(figsize=(15,9))\n",
    "ax = plt.subplot(1,1,1)\n",
    "\n",
    "cax = np.log10(E).plot.pcolormesh(ax=ax, vmin=0., vmax=5., x='freq_cpd', y='lat', cmap = 'Spectral_r', add_colorbar = False)\n",
    "\n",
    "# colorbar\n",
    "cbar = plt.colorbar(cax, ax=ax, extend='both', orientation='vertical')\n",
    "cbar.ax.tick_params(labelsize=16)\n",
    "cbar.set_label('PSD ($log_{10} ºC^2 cpd^{-1})$', fontsize=16)\n",
    "\n",
    "\n",
    "# x,y ticks\n",
    "ax.set_xticks(list(ax.get_xticks()) + [-4., -3., -2., -1., 1., 2., 3., 4.])\n",
    "ax.set_xlim(-5., 5.)\n",
    "ax.set_ylim(-60., 60.)\n",
    "ax.set_yticks([-60., -40., -20., 0., 20., 40., 60.])\n",
    "ax.set_yticklabels(['60S','40S','20S','0N','20N','40N','60N'])\n",
    "\n",
    "ax.set_ylabel('Latitude',fontsize=16)\n",
    "ax.set_xlabel('Frequency (cpd)',fontsize=16)\n",
    "ax.tick_params(labelsize=16)\n",
    "\n",
    "# add coriolis frequency\n",
    "f = 2.*2.*np.pi/86400. * np.sin(np.deg2rad(E.lat))\n",
    "ax.plot(f*86400./2./np.pi,f.lat,'k--')\n",
    "ax.plot(-f*86400./2./np.pi,f.lat,'k--')\n"
   ]
  },
  {
   "cell_type": "markdown",
   "metadata": {},
   "source": [
    "---"
   ]
  },
  {
   "cell_type": "code",
   "execution_count": 9,
   "metadata": {},
   "outputs": [
    {
     "data": {
      "text/html": [
       "<table style=\"border: 2px solid white;\">\n",
       "<tr>\n",
       "<td style=\"vertical-align: top; border: 0px solid white\">\n",
       "<h3>Client</h3>\n",
       "<ul>\n",
       "  <li><b>Scheduler: </b>tcp://10.148.0.112:8786\n",
       "  <li><b>Dashboard: </b><a href='http://10.148.0.112:8787/status' target='_blank'>http://10.148.0.112:8787/status</a>\n",
       "</ul>\n",
       "</td>\n",
       "<td style=\"vertical-align: top; border: 0px solid white\">\n",
       "<h3>Cluster</h3>\n",
       "<ul>\n",
       "  <li><b>Workers: </b>20</li>\n",
       "  <li><b>Cores: </b>280</li>\n",
       "  <li><b>Memory: </b>2000.00 GB</li>\n",
       "</ul>\n",
       "</td>\n",
       "</tr>\n",
       "</table>"
      ],
      "text/plain": [
       "<Client: scheduler='tcp://10.148.0.112:8786' processes=20 cores=280>"
      ]
     },
     "execution_count": 9,
     "metadata": {},
     "output_type": "execute_result"
    }
   ],
   "source": [
    "client.restart()"
   ]
  },
  {
   "cell_type": "code",
   "execution_count": null,
   "metadata": {},
   "outputs": [],
   "source": []
  }
 ],
 "metadata": {
  "kernelspec": {
   "display_name": "Python 3",
   "language": "python",
   "name": "python3"
  },
  "language_info": {
   "codemirror_mode": {
    "name": "ipython",
    "version": 3
   },
   "file_extension": ".py",
   "mimetype": "text/x-python",
   "name": "python",
   "nbconvert_exporter": "python",
   "pygments_lexer": "ipython3",
   "version": "3.6.5"
  }
 },
 "nbformat": 4,
 "nbformat_minor": 2
}

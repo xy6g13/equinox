{
 "cells": [
  {
   "cell_type": "code",
   "execution_count": 1,
   "metadata": {},
   "outputs": [
    {
     "name": "stderr",
     "output_type": "stream",
     "text": [
      "/home1/datahome/xyu/.miniconda3/envs/equinox/lib/python3.6/importlib/_bootstrap.py:219: RuntimeWarning: numpy.dtype size changed, may indicate binary incompatibility. Expected 96, got 88\n",
      "  return f(*args, **kwds)\n",
      "/home1/datahome/xyu/.miniconda3/envs/equinox/lib/python3.6/importlib/_bootstrap.py:219: RuntimeWarning: numpy.dtype size changed, may indicate binary incompatibility. Expected 96, got 88\n",
      "  return f(*args, **kwds)\n",
      "/home1/datahome/xyu/.miniconda3/envs/equinox/lib/python3.6/site-packages/cmocean/tools.py:76: MatplotlibDeprecationWarning: The is_string_like function was deprecated in version 2.1.\n",
      "  if not mpl.cbook.is_string_like(rgbin[0]):\n",
      "/home1/datahome/xyu/.miniconda3/envs/equinox/lib/python3.6/importlib/_bootstrap.py:219: RuntimeWarning: numpy.dtype size changed, may indicate binary incompatibility. Expected 96, got 88\n",
      "  return f(*args, **kwds)\n"
     ]
    }
   ],
   "source": [
    "import os\n",
    "from glob import glob\n",
    "import dask\n",
    "import xarray as xr\n",
    "import xrft\n",
    "import cartopy.crs as ccrs\n",
    "from cmocean import cm\n",
    "import numpy as np\n",
    "from netCDF4 import Dataset\n",
    "from scipy.io import loadmat\n",
    "\n",
    "from matplotlib import pyplot as plt\n",
    "%matplotlib inline\n",
    "\n",
    "from mitequinox.utils import *"
   ]
  },
  {
   "cell_type": "code",
   "execution_count": 2,
   "metadata": {},
   "outputs": [
    {
     "name": "stderr",
     "output_type": "stream",
     "text": [
      "/home1/datahome/xyu/.miniconda3/envs/equinox/lib/python3.6/site-packages/distributed/utils.py:128: RuntimeWarning: Couldn't detect a suitable IP address for reaching '8.8.8.8', defaulting to '127.0.0.1': [Errno 101] Network is unreachable\n",
      "  % (host, default, e), RuntimeWarning)\n"
     ]
    }
   ],
   "source": [
    "from dask_jobqueue import PBSCluster\n",
    "local_dir = os.getenv('TMPDIR')\n",
    "cluster = PBSCluster(local_directory=local_dir)\n",
    "\n",
    "w = cluster.start_workers(15)"
   ]
  },
  {
   "cell_type": "code",
   "execution_count": 3,
   "metadata": {},
   "outputs": [],
   "source": [
    "# get dask handles and check dask server status\n",
    "from dask.distributed import Client\n",
    "client = Client(cluster)"
   ]
  },
  {
   "cell_type": "code",
   "execution_count": 4,
   "metadata": {},
   "outputs": [
    {
     "data": {
      "text/html": [
       "<table style=\"border: 2px solid white;\">\n",
       "<tr>\n",
       "<td style=\"vertical-align: top; border: 0px solid white\">\n",
       "<h3>Client</h3>\n",
       "<ul>\n",
       "  <li><b>Scheduler: </b>tcp://10.148.0.59:38808\n",
       "  <li><b>Dashboard: </b><a href='http://10.148.0.59:8787/status' target='_blank'>http://10.148.0.59:8787/status</a>\n",
       "</ul>\n",
       "</td>\n",
       "<td style=\"vertical-align: top; border: 0px solid white\">\n",
       "<h3>Cluster</h3>\n",
       "<ul>\n",
       "  <li><b>Workers: </b>16</li>\n",
       "  <li><b>Cores: </b>64</li>\n",
       "  <li><b>Memory: </b>800.00 GB</li>\n",
       "</ul>\n",
       "</td>\n",
       "</tr>\n",
       "</table>"
      ],
      "text/plain": [
       "<Client: scheduler='tcp://10.148.0.59:38808' processes=16 cores=64>"
      ]
     },
     "execution_count": 4,
     "metadata": {},
     "output_type": "execute_result"
    }
   ],
   "source": [
    "client"
   ]
  },
  {
   "cell_type": "markdown",
   "metadata": {},
   "source": [
    "___________\n"
   ]
  },
  {
   "cell_type": "code",
   "execution_count": 5,
   "metadata": {},
   "outputs": [],
   "source": [
    "out_dir_zarr = '/home1/scratch/xyu/OSMOSIS_llc4320/zarr_file/'\n",
    "out_dir_mooring = '/home1/scratch/xyu/OSMOSIS_llc4320/mooring_site/'\n",
    "\n",
    "lat_mooring = np.array([ 48.6875,  48.6940,  48.7480,  48.7000,  48.7485,  48.6803,  48.6290,  48.6780,  48.6290])\n",
    "lon_mooring = np.array([-16.1875, -16.1740, -16.0945, -16.2060, -16.2762, -16.1740, -16.0990, -16.2050, -16.2775])"
   ]
  },
  {
   "cell_type": "markdown",
   "metadata": {},
   "source": [
    "# T"
   ]
  },
  {
   "cell_type": "code",
   "execution_count": 6,
   "metadata": {},
   "outputs": [
    {
     "name": "stdout",
     "output_type": "stream",
     "text": [
      "<xarray.Dataset>\n",
      "Dimensions:  (depth: 52, lat: 201, lon: 177, time: 9415)\n",
      "Coordinates:\n",
      "  * depth    (depth) float64 0.5 1.57 2.79 4.185 5.78 7.595 9.66 12.01 14.68 ...\n",
      "    dtime    (time) datetime64[ns] dask.array<shape=(9415,), chunksize=(1,)>\n",
      "  * lat      (lat) float32 47.404716 47.417923 47.43113 47.444332 47.45753 ...\n",
      "  * lon      (lon) float32 -18.03125 -18.010416 -17.989584 -17.96875 ...\n",
      "  * time     (time) float64 0.0 0.04167 0.08333 0.125 0.1667 0.2083 0.25 ...\n",
      "Data variables:\n",
      "    Theta    (time, depth, lat, lon) float32 dask.array<shape=(9415, 52, 201, 177), chunksize=(1, 52, 201, 177)>\n"
     ]
    }
   ],
   "source": [
    "ds_T = xr.open_zarr(out_dir_zarr+'Theta_total.zarr')\n",
    "ds_T = ds_T.chunk({'depth':52, 'time':1, 'lat':201, 'lon':177})\n",
    "print(ds_T)"
   ]
  },
  {
   "cell_type": "code",
   "execution_count": 7,
   "metadata": {},
   "outputs": [
    {
     "data": {
      "text/plain": [
       "<xarray.Dataset>\n",
       "Dimensions:  (depth: 52, lat: 9, lon: 9, time: 9415)\n",
       "Coordinates:\n",
       "  * depth    (depth) float64 0.5 1.57 2.79 4.185 5.78 7.595 9.66 12.01 14.68 ...\n",
       "    dtime    (time) datetime64[ns] dask.array<shape=(9415,), chunksize=(1,)>\n",
       "  * lat      (lat) float32 48.68508 48.697998 48.749645 48.697998 48.749645 ...\n",
       "  * lon      (lon) float32 -16.177084 -16.177084 -16.09375 -16.197916 ...\n",
       "  * time     (time) float64 0.0 0.04167 0.08333 0.125 0.1667 0.2083 0.25 ...\n",
       "Data variables:\n",
       "    Theta    (time, depth, lat, lon) float32 dask.array<shape=(9415, 52, 9, 9), chunksize=(1, 52, 9, 9)>"
      ]
     },
     "execution_count": 7,
     "metadata": {},
     "output_type": "execute_result"
    }
   ],
   "source": [
    "T_mooring_site = ds_T.sel(lat=lat_mooring, lon=lon_mooring, method='nearest')\n",
    "T_mooring_site"
   ]
  },
  {
   "cell_type": "code",
   "execution_count": 8,
   "metadata": {},
   "outputs": [
    {
     "name": "stderr",
     "output_type": "stream",
     "text": [
      "/home1/datahome/xyu/.miniconda3/envs/equinox/lib/python3.6/site-packages/dask/utils.py:1010: UserWarning: Deprecated, see dask.base.get_scheduler instead\n",
      "  warnings.warn(\"Deprecated, see dask.base.get_scheduler instead\")\n",
      "/home1/datahome/xyu/.miniconda3/envs/equinox/lib/python3.6/site-packages/distributed/worker.py:820: UserWarning: Large object of size 2.64 MB detected in task graph: \n",
      "  (\"('getitem-26f43a897308c46340a547c69430f0e8', 0,  ... d3e3>]), False)\n",
      "Consider scattering large objects ahead of time\n",
      "with client.scatter to reduce scheduler burden and \n",
      "keep data on workers\n",
      "\n",
      "    future = client.submit(func, big_data)    # bad\n",
      "\n",
      "    big_future = client.scatter(big_data)     # good\n",
      "    future = client.submit(func, big_future)  # good\n",
      "  % (format_bytes(len(b)), s))\n"
     ]
    }
   ],
   "source": [
    "file_out = out_dir_mooring+'T_mooring.nc'\n",
    "#TSUVW_mooring_site.to_netcdf(file_out, mode='w', unlimited_dims=['time'])\n",
    "T_mooring_site.to_netcdf(file_out, mode='w', unlimited_dims=['time'])"
   ]
  },
  {
   "cell_type": "code",
   "execution_count": 9,
   "metadata": {},
   "outputs": [
    {
     "data": {
      "text/plain": [
       "<xarray.Dataset>\n",
       "Dimensions:  (depth: 52, lat: 9, lon: 9, time: 9415)\n",
       "Coordinates:\n",
       "  * depth    (depth) float64 0.5 1.57 2.79 4.185 5.78 7.595 9.66 12.01 14.68 ...\n",
       "    dtime    (time) datetime64[ns] dask.array<shape=(9415,), chunksize=(9415,)>\n",
       "  * lat      (lat) float32 48.68508 48.697998 48.749645 48.697998 48.749645 ...\n",
       "  * lon      (lon) float32 -16.177084 -16.177084 -16.09375 -16.197916 ...\n",
       "  * time     (time) float64 0.0 0.04167 0.08333 0.125 0.1667 0.2083 0.25 ...\n",
       "Data variables:\n",
       "    Theta    (time, depth, lat, lon) float32 dask.array<shape=(9415, 52, 9, 9), chunksize=(9415, 52, 9, 9)>"
      ]
     },
     "execution_count": 9,
     "metadata": {},
     "output_type": "execute_result"
    }
   ],
   "source": [
    "ds = xr.open_mfdataset('/home1/scratch/xyu/OSMOSIS_llc4320/mooring_site/T_mooring.nc')\n",
    "ds"
   ]
  },
  {
   "cell_type": "code",
   "execution_count": 11,
   "metadata": {},
   "outputs": [
    {
     "data": {
      "text/plain": [
       "[<matplotlib.lines.Line2D at 0x2aab0c298198>]"
      ]
     },
     "execution_count": 11,
     "metadata": {},
     "output_type": "execute_result"
    },
    {
     "data": {
      "image/png": "[encoded data removed]",
      "text/plain": [
       "<Figure size 432x288 with 1 Axes>"
      ]
     },
     "metadata": {},
     "output_type": "display_data"
    }
   ],
   "source": [
    "ds['Theta'].isel(depth=1,lat=1,lon=1).plot()\n",
    "ds['Theta'].isel(depth=1,lat=2,lon=2).plot()\n"
   ]
  },
  {
   "cell_type": "code",
   "execution_count": null,
   "metadata": {},
   "outputs": [],
   "source": []
  },
  {
   "cell_type": "markdown",
   "metadata": {},
   "source": [
    "# S"
   ]
  },
  {
   "cell_type": "code",
   "execution_count": 12,
   "metadata": {},
   "outputs": [
    {
     "name": "stdout",
     "output_type": "stream",
     "text": [
      "<xarray.Dataset>\n",
      "Dimensions:  (depth: 52, lat: 201, lon: 177, time: 9415)\n",
      "Coordinates:\n",
      "  * depth    (depth) float64 0.5 1.57 2.79 4.185 5.78 7.595 9.66 12.01 14.68 ...\n",
      "    dtime    (time) datetime64[ns] dask.array<shape=(9415,), chunksize=(1,)>\n",
      "  * lat      (lat) float32 47.404716 47.417923 47.43113 47.444332 47.45753 ...\n",
      "  * lon      (lon) float32 -18.03125 -18.010416 -17.989584 -17.96875 ...\n",
      "  * time     (time) float64 0.0 0.04167 0.08333 0.125 0.1667 0.2083 0.25 ...\n",
      "Data variables:\n",
      "    Salt     (time, depth, lat, lon) float32 dask.array<shape=(9415, 52, 201, 177), chunksize=(1, 52, 201, 177)>\n"
     ]
    }
   ],
   "source": [
    "ds_S = xr.open_zarr(out_dir_zarr+'Salt_total.zarr')\n",
    "ds_S = ds_S.chunk({'depth':52, 'time':1, 'lat':201, 'lon':177})\n",
    "print(ds_S)"
   ]
  },
  {
   "cell_type": "code",
   "execution_count": 13,
   "metadata": {},
   "outputs": [
    {
     "name": "stderr",
     "output_type": "stream",
     "text": [
      "/home1/datahome/xyu/.miniconda3/envs/equinox/lib/python3.6/site-packages/dask/utils.py:1010: UserWarning: Deprecated, see dask.base.get_scheduler instead\n",
      "  warnings.warn(\"Deprecated, see dask.base.get_scheduler instead\")\n"
     ]
    }
   ],
   "source": [
    "S_mooring_site = ds_S.sel(lat=lat_mooring, lon=lon_mooring, method='nearest')\n",
    "file_out = out_dir_mooring+'S_mooring.nc'\n",
    "S_mooring_site.to_netcdf(file_out, mode='w', unlimited_dims=['time'])"
   ]
  },
  {
   "cell_type": "markdown",
   "metadata": {},
   "source": [
    "# U"
   ]
  },
  {
   "cell_type": "code",
   "execution_count": 14,
   "metadata": {},
   "outputs": [
    {
     "name": "stdout",
     "output_type": "stream",
     "text": [
      "<xarray.Dataset>\n",
      "Dimensions:  (depth: 52, lat: 201, lon: 177, time: 9415)\n",
      "Coordinates:\n",
      "  * depth    (depth) float64 0.5 1.57 2.79 4.185 5.78 7.595 9.66 12.01 14.68 ...\n",
      "    dtime    (time) datetime64[ns] dask.array<shape=(9415,), chunksize=(1,)>\n",
      "  * lat      (lat) float32 47.404716 47.417923 47.43113 47.444332 47.45753 ...\n",
      "  * lon      (lon) float32 -18.03125 -18.010416 -17.989584 -17.96875 ...\n",
      "  * time     (time) float64 0.0 0.04167 0.08333 0.125 0.1667 0.2083 0.25 ...\n",
      "Data variables:\n",
      "    U        (time, depth, lat, lon) float32 dask.array<shape=(9415, 52, 201, 177), chunksize=(1, 52, 201, 177)>\n"
     ]
    }
   ],
   "source": [
    "ds_U = xr.open_zarr(out_dir_zarr+'U_total.zarr')\n",
    "ds_U = ds_U.chunk({'depth':52, 'time':1, 'lat':201, 'lon':177})\n",
    "print(ds_U)"
   ]
  },
  {
   "cell_type": "code",
   "execution_count": 15,
   "metadata": {},
   "outputs": [
    {
     "name": "stderr",
     "output_type": "stream",
     "text": [
      "/home1/datahome/xyu/.miniconda3/envs/equinox/lib/python3.6/site-packages/dask/utils.py:1010: UserWarning: Deprecated, see dask.base.get_scheduler instead\n",
      "  warnings.warn(\"Deprecated, see dask.base.get_scheduler instead\")\n"
     ]
    }
   ],
   "source": [
    "U_mooring_site = ds_U.sel(lat=lat_mooring, lon=lon_mooring, method='nearest')\n",
    "file_out = out_dir_mooring+'U_mooring.nc'\n",
    "U_mooring_site.to_netcdf(file_out, mode='w', unlimited_dims=['time'])"
   ]
  },
  {
   "cell_type": "markdown",
   "metadata": {},
   "source": [
    "# V"
   ]
  },
  {
   "cell_type": "code",
   "execution_count": 16,
   "metadata": {},
   "outputs": [
    {
     "name": "stdout",
     "output_type": "stream",
     "text": [
      "<xarray.Dataset>\n",
      "Dimensions:  (depth: 52, lat: 201, lon: 177, time: 9415)\n",
      "Coordinates:\n",
      "  * depth    (depth) float64 0.5 1.57 2.79 4.185 5.78 7.595 9.66 12.01 14.68 ...\n",
      "    dtime    (time) datetime64[ns] dask.array<shape=(9415,), chunksize=(1,)>\n",
      "  * lat      (lat) float32 47.404716 47.417923 47.43113 47.444332 47.45753 ...\n",
      "  * lon      (lon) float32 -18.03125 -18.010416 -17.989584 -17.96875 ...\n",
      "  * time     (time) float64 0.0 0.04167 0.08333 0.125 0.1667 0.2083 0.25 ...\n",
      "Data variables:\n",
      "    V        (time, depth, lat, lon) float32 dask.array<shape=(9415, 52, 201, 177), chunksize=(1, 52, 201, 177)>\n"
     ]
    }
   ],
   "source": [
    "ds_V = xr.open_zarr(out_dir_zarr+'V_total.zarr')\n",
    "ds_V = ds_V.chunk({'depth':52, 'time':1, 'lat':201, 'lon':177})\n",
    "print(ds_V)"
   ]
  },
  {
   "cell_type": "code",
   "execution_count": 17,
   "metadata": {},
   "outputs": [
    {
     "name": "stderr",
     "output_type": "stream",
     "text": [
      "/home1/datahome/xyu/.miniconda3/envs/equinox/lib/python3.6/site-packages/dask/utils.py:1010: UserWarning: Deprecated, see dask.base.get_scheduler instead\n",
      "  warnings.warn(\"Deprecated, see dask.base.get_scheduler instead\")\n"
     ]
    }
   ],
   "source": [
    "V_mooring_site = ds_V.sel(lat=lat_mooring, lon=lon_mooring, method='nearest')\n",
    "file_out = out_dir_mooring+'V_mooring.nc'\n",
    "V_mooring_site.to_netcdf(file_out, mode='w', unlimited_dims=['time'])"
   ]
  },
  {
   "cell_type": "markdown",
   "metadata": {},
   "source": [
    "# W"
   ]
  },
  {
   "cell_type": "code",
   "execution_count": 18,
   "metadata": {},
   "outputs": [
    {
     "name": "stdout",
     "output_type": "stream",
     "text": [
      "<xarray.Dataset>\n",
      "Dimensions:  (depth: 52, lat: 201, lon: 177, time: 9415)\n",
      "Coordinates:\n",
      "  * depth    (depth) float64 0.5 1.57 2.79 4.185 5.78 7.595 9.66 12.01 14.68 ...\n",
      "    dtime    (time) datetime64[ns] dask.array<shape=(9415,), chunksize=(1,)>\n",
      "  * lat      (lat) float32 47.404716 47.417923 47.43113 47.444332 47.45753 ...\n",
      "  * lon      (lon) float32 -18.03125 -18.010416 -17.989584 -17.96875 ...\n",
      "  * time     (time) float64 0.0 0.04167 0.08333 0.125 0.1667 0.2083 0.25 ...\n",
      "Data variables:\n",
      "    W        (time, depth, lat, lon) float32 dask.array<shape=(9415, 52, 201, 177), chunksize=(1, 52, 201, 177)>\n"
     ]
    }
   ],
   "source": [
    "ds_W = xr.open_zarr(out_dir_zarr+'W_total.zarr')\n",
    "ds_W = ds_W.chunk({'depth':52, 'time':1, 'lat':201, 'lon':177})\n",
    "print(ds_W)"
   ]
  },
  {
   "cell_type": "code",
   "execution_count": 19,
   "metadata": {},
   "outputs": [
    {
     "name": "stderr",
     "output_type": "stream",
     "text": [
      "/home1/datahome/xyu/.miniconda3/envs/equinox/lib/python3.6/site-packages/dask/utils.py:1010: UserWarning: Deprecated, see dask.base.get_scheduler instead\n",
      "  warnings.warn(\"Deprecated, see dask.base.get_scheduler instead\")\n"
     ]
    }
   ],
   "source": [
    "W_mooring_site = ds_W.sel(lat=lat_mooring, lon=lon_mooring, method='nearest')\n",
    "file_out = out_dir_mooring+'W_mooring.nc'\n",
    "W_mooring_site.to_netcdf(file_out, mode='w', unlimited_dims=['time'])"
   ]
  },
  {
   "cell_type": "code",
   "execution_count": null,
   "metadata": {},
   "outputs": [],
   "source": []
  },
  {
   "cell_type": "code",
   "execution_count": null,
   "metadata": {},
   "outputs": [],
   "source": []
  },
  {
   "cell_type": "code",
   "execution_count": null,
   "metadata": {},
   "outputs": [],
   "source": []
  },
  {
   "cell_type": "code",
   "execution_count": null,
   "metadata": {},
   "outputs": [],
   "source": []
  },
  {
   "cell_type": "code",
   "execution_count": null,
   "metadata": {},
   "outputs": [],
   "source": []
  },
  {
   "cell_type": "code",
   "execution_count": null,
   "metadata": {},
   "outputs": [],
   "source": []
  },
  {
   "cell_type": "code",
   "execution_count": 18,
   "metadata": {},
   "outputs": [
    {
     "data": {
      "text/plain": [
       "<Future finished result=None>"
      ]
     },
     "execution_count": 18,
     "metadata": {},
     "output_type": "execute_result"
    }
   ],
   "source": [
    "cluster.scheduler.close()"
   ]
  },
  {
   "cell_type": "code",
   "execution_count": null,
   "metadata": {},
   "outputs": [],
   "source": []
  }
 ],
 "metadata": {
  "kernelspec": {
   "display_name": "Python 3",
   "language": "python",
   "name": "python3"
  },
  "language_info": {
   "codemirror_mode": {
    "name": "ipython",
    "version": 3
   },
   "file_extension": ".py",
   "mimetype": "text/x-python",
   "name": "python",
   "nbconvert_exporter": "python",
   "pygments_lexer": "ipython3",
   "version": "3.6.5"
  }
 },
 "nbformat": 4,
 "nbformat_minor": 2
}

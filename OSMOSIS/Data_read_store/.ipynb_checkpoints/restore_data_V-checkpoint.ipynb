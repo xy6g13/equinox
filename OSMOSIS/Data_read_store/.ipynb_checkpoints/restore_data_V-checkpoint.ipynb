{
 "cells": [
  {
   "cell_type": "code",
   "execution_count": 1,
   "metadata": {},
   "outputs": [
    {
     "name": "stderr",
     "output_type": "stream",
     "text": [
      "/home1/datahome/xyu/.miniconda3/envs/equinox/lib/python3.6/importlib/_bootstrap.py:219: RuntimeWarning: numpy.dtype size changed, may indicate binary incompatibility. Expected 96, got 88\n",
      "  return f(*args, **kwds)\n",
      "/home1/datahome/xyu/.miniconda3/envs/equinox/lib/python3.6/importlib/_bootstrap.py:219: RuntimeWarning: numpy.dtype size changed, may indicate binary incompatibility. Expected 96, got 88\n",
      "  return f(*args, **kwds)\n",
      "/home1/datahome/xyu/.miniconda3/envs/equinox/lib/python3.6/site-packages/cmocean/tools.py:76: MatplotlibDeprecationWarning: The is_string_like function was deprecated in version 2.1.\n",
      "  if not mpl.cbook.is_string_like(rgbin[0]):\n",
      "/home1/datahome/xyu/.miniconda3/envs/equinox/lib/python3.6/importlib/_bootstrap.py:219: RuntimeWarning: numpy.dtype size changed, may indicate binary incompatibility. Expected 96, got 88\n",
      "  return f(*args, **kwds)\n"
     ]
    }
   ],
   "source": [
    "import os\n",
    "from glob import glob\n",
    "import dask\n",
    "import xarray as xr\n",
    "import xrft\n",
    "import cartopy.crs as ccrs\n",
    "from cmocean import cm\n",
    "import numpy as np\n",
    "from netCDF4 import Dataset\n",
    "from scipy.io import loadmat\n",
    "\n",
    "from matplotlib import pyplot as plt\n",
    "%matplotlib inline\n",
    "\n",
    "from mitequinox.utils import *"
   ]
  },
  {
   "cell_type": "code",
   "execution_count": 2,
   "metadata": {},
   "outputs": [
    {
     "name": "stderr",
     "output_type": "stream",
     "text": [
      "/home1/datahome/xyu/.miniconda3/envs/equinox/lib/python3.6/site-packages/distributed/utils.py:128: RuntimeWarning: Couldn't detect a suitable IP address for reaching '8.8.8.8', defaulting to '127.0.0.1': [Errno 101] Network is unreachable\n",
      "  % (host, default, e), RuntimeWarning)\n"
     ]
    }
   ],
   "source": [
    "from dask_jobqueue import PBSCluster\n",
    "local_dir = os.getenv('TMPDIR')\n",
    "cluster = PBSCluster(local_directory=local_dir)\n",
    "\n",
    "w = cluster.start_workers(10)"
   ]
  },
  {
   "cell_type": "code",
   "execution_count": 3,
   "metadata": {},
   "outputs": [],
   "source": [
    "# get dask handles and check dask server status\n",
    "from dask.distributed import Client\n",
    "client = Client(cluster)"
   ]
  },
  {
   "cell_type": "code",
   "execution_count": 4,
   "metadata": {},
   "outputs": [
    {
     "data": {
      "text/html": [
       "<table style=\"border: 2px solid white;\">\n",
       "<tr>\n",
       "<td style=\"vertical-align: top; border: 0px solid white\">\n",
       "<h3>Client</h3>\n",
       "<ul>\n",
       "  <li><b>Scheduler: </b>tcp://10.148.0.52:48848\n",
       "  <li><b>Dashboard: </b><a href='http://10.148.0.52:8787/status' target='_blank'>http://10.148.0.52:8787/status</a>\n",
       "</ul>\n",
       "</td>\n",
       "<td style=\"vertical-align: top; border: 0px solid white\">\n",
       "<h3>Cluster</h3>\n",
       "<ul>\n",
       "  <li><b>Workers: </b>20</li>\n",
       "  <li><b>Cores: </b>80</li>\n",
       "  <li><b>Memory: </b>1000.00 GB</li>\n",
       "</ul>\n",
       "</td>\n",
       "</tr>\n",
       "</table>"
      ],
      "text/plain": [
       "<Client: scheduler='tcp://10.148.0.52:48848' processes=20 cores=80>"
      ]
     },
     "execution_count": 4,
     "metadata": {},
     "output_type": "execute_result"
    }
   ],
   "source": [
    "client"
   ]
  },
  {
   "cell_type": "markdown",
   "metadata": {},
   "source": [
    "___________\n",
    "# 1. Read Zach's data, and store as .nc files every one hour (9415 .nc files) "
   ]
  },
  {
   "cell_type": "code",
   "execution_count": 5,
   "metadata": {},
   "outputs": [],
   "source": [
    "# the path where (Zach's) LLC4320 data are already stored\n",
    "LLC_data_folder = '/home1/datawork/xyu/OSMOSIS_llc4320/'\n",
    "# the path where the data will be re-stored\n",
    "out_dir_nc = '/home1/scratch/xyu/OSMOSIS_llc4320/nc_file/'\n",
    "\n",
    "# variable \n",
    "v = 'V'"
   ]
  },
  {
   "cell_type": "code",
   "execution_count": 6,
   "metadata": {},
   "outputs": [
    {
     "name": "stdout",
     "output_type": "stream",
     "text": [
      "Number of files processed: 9415\n"
     ]
    },
    {
     "name": "stderr",
     "output_type": "stream",
     "text": [
      "/home1/datahome/xyu/.miniconda3/envs/equinox/lib/python3.6/site-packages/dask/utils.py:1010: UserWarning: Deprecated, see dask.base.get_scheduler instead\n",
      "  warnings.warn(\"Deprecated, see dask.base.get_scheduler instead\")\n"
     ]
    }
   ],
   "source": [
    "# search for right files, for example: Theta_177x201x52.*\n",
    "filenames = sorted(glob(LLC_data_folder+v+'/'+v+'_177x201x52.*')) \n",
    "print('Number of files processed: %d' %len(filenames))\n",
    "\n",
    "# store in netcdf files\n",
    "fsize_bound = 5*1e6\n",
    "\n",
    "for i in np.arange(len(filenames)):\n",
    "#for i in np.arange(20):\n",
    "\n",
    "    #\n",
    "    file_out = out_dir_nc+'/%s_t%05d.nc'%(v, i)\n",
    "          \n",
    "    if not os.path.isfile(file_out) or os.path.getsize(file_out) < fsize_bound:            \n",
    "        \n",
    "        ds = np.fromfile(filenames[i] , dtype='>f').reshape(52,201,177)\n",
    "        ds = np.array(ds)\n",
    "        ds = xr.DataArray(ds, dims=['depth','lat','lon'])\n",
    "        ds = np.real(ds).rename(v)\n",
    "        ds = ds.load() # this may be required in order to prevent pickle related errors\n",
    "\n",
    "        #\n",
    "        while True:\n",
    "            try:\n",
    "                ds.to_netcdf(file_out, mode='w', unlimited_dims=['time'])\n",
    "\n",
    "            except:\n",
    "                print('failure')\n",
    "            break\n",
    "\n",
    "    else:\n",
    "        print('t=%d - allready processed'%(i))"
   ]
  },
  {
   "cell_type": "markdown",
   "metadata": {},
   "source": [
    "# 2. Add coordinates and put variables into one xarray file"
   ]
  },
  {
   "cell_type": "code",
   "execution_count": 7,
   "metadata": {},
   "outputs": [
    {
     "name": "stdout",
     "output_type": "stream",
     "text": [
      "Number of files processed: 9415\n",
      "CPU times: user 28.5 s, sys: 24.9 s, total: 53.4 s\n",
      "Wall time: 1min\n",
      "<xarray.Dataset>\n",
      "Dimensions:  (depth: 52, lat: 201, lon: 177, time: 9415)\n",
      "Dimensions without coordinates: depth, lat, lon, time\n",
      "Data variables:\n",
      "    V        (time, depth, lat, lon) float32 dask.array<shape=(9415, 52, 201, 177), chunksize=(1, 52, 201, 177)>\n"
     ]
    }
   ],
   "source": [
    "filenames = sorted(glob(out_dir_nc+v+'_t*.nc')) \n",
    "print('Number of files processed: %d' %len(filenames))\n",
    "%time ds = xr.open_mfdataset(filenames, concat_dim='time', compat='equals')\n",
    "print(ds)"
   ]
  },
  {
   "cell_type": "code",
   "execution_count": 8,
   "metadata": {},
   "outputs": [],
   "source": [
    "LLC_XC = np.fromfile(LLC_data_folder+\"grid/XC_177x201\", dtype='>f').reshape(201,177)\n",
    "LLC_XC = np.array(LLC_XC)\n",
    "LLC_XC = xr.DataArray(LLC_XC, dims=['lat','lon'])\n",
    "LLC_XC = np.real(LLC_XC).rename('LLC_XC')"
   ]
  },
  {
   "cell_type": "code",
   "execution_count": 9,
   "metadata": {},
   "outputs": [],
   "source": [
    "LLC_YC = np.fromfile(LLC_data_folder+\"grid/YC_177x201\", dtype='>f').reshape(201,177)\n",
    "\n",
    "LLC_YC = np.array(LLC_YC)\n",
    "LLC_YC = xr.DataArray(LLC_YC, dims=['lat','lon'])\n",
    "LLC_YC = np.real(LLC_YC).rename('LLC_YC')"
   ]
  },
  {
   "cell_type": "code",
   "execution_count": 10,
   "metadata": {},
   "outputs": [],
   "source": [
    "Depth = loadmat(LLC_data_folder+'grid/dpt52.mat')['dpt52']\n",
    "Depth = np.array(Depth)\n",
    "Depth = xr.DataArray(Depth, dims=['none','depth'])\n",
    "Depth = xr.DataArray.squeeze(Depth, dim='none')\n",
    "Depth = np.real(Depth).rename('Depth')"
   ]
  },
  {
   "cell_type": "code",
   "execution_count": 11,
   "metadata": {},
   "outputs": [],
   "source": [
    "def iters_to_date(iters, delta_t=3600.):\n",
    "    t0 = datetime.datetime(2011,9,13)    \n",
    "    ltime = delta_t * (np.array(iters))\n",
    "    dtime = [t0+dateutil.relativedelta.relativedelta(seconds=t) for t in ltime]    \n",
    "    return dtime"
   ]
  },
  {
   "cell_type": "code",
   "execution_count": 12,
   "metadata": {},
   "outputs": [
    {
     "name": "stdout",
     "output_type": "stream",
     "text": [
      "<xarray.Dataset>\n",
      "Dimensions:  (depth: 52, lat: 201, lon: 177, time: 9415)\n",
      "Coordinates:\n",
      "  * depth    (depth) float64 0.5 1.57 2.79 4.185 5.78 7.595 9.66 12.01 14.68 ...\n",
      "  * time     (time) float64 0.0 0.04167 0.08333 0.125 0.1667 0.2083 0.25 ...\n",
      "  * lat      (lat) >f4 47.404716 47.417923 47.43113 47.444332 47.45753 ...\n",
      "  * lon      (lon) >f4 -18.03125 -18.010416 -17.989584 -17.96875 -17.947916 ...\n",
      "Data variables:\n",
      "    V        (time, depth, lat, lon) float32 dask.array<shape=(9415, 52, 201, 177), chunksize=(1, 52, 201, 177)>\n"
     ]
    }
   ],
   "source": [
    "ds = ds.assign_coords(depth=Depth) \n",
    "ds = ds.assign_coords(time=np.arange(len(filenames))*3600/86400) \n",
    "lat = LLC_YC.isel(lon=1)\n",
    "lon = LLC_XC.isel(lat=1)\n",
    "ds = ds.assign_coords(lat=lat) \n",
    "ds = ds.assign_coords(lon=lon)\n",
    "print(ds)"
   ]
  },
  {
   "cell_type": "code",
   "execution_count": 13,
   "metadata": {},
   "outputs": [
    {
     "name": "stdout",
     "output_type": "stream",
     "text": [
      "<xarray.Dataset>\n",
      "Dimensions:  (depth: 52, lat: 201, lon: 177, time: 9415)\n",
      "Coordinates:\n",
      "  * depth    (depth) float64 0.5 1.57 2.79 4.185 5.78 7.595 9.66 12.01 14.68 ...\n",
      "  * time     (time) float64 0.0 0.04167 0.08333 0.125 0.1667 0.2083 0.25 ...\n",
      "  * lat      (lat) >f4 47.404716 47.417923 47.43113 47.444332 47.45753 ...\n",
      "  * lon      (lon) >f4 -18.03125 -18.010416 -17.989584 -17.96875 -17.947916 ...\n",
      "    dtime    (time) datetime64[ns] 2011-09-13 2011-09-13T01:00:00 ...\n",
      "Data variables:\n",
      "    V        (time, depth, lat, lon) float32 dask.array<shape=(9415, 52, 201, 177), chunksize=(1, 52, 201, 177)>\n"
     ]
    }
   ],
   "source": [
    "ds = ds.assign_coords(dtime=xr.DataArray(iters_to_date(np.arange(len(filenames))), dims=['time']))\n",
    "print(ds)"
   ]
  },
  {
   "cell_type": "markdown",
   "metadata": {},
   "source": [
    "# 3. save as one .zarr file"
   ]
  },
  {
   "cell_type": "code",
   "execution_count": 14,
   "metadata": {},
   "outputs": [
    {
     "name": "stdout",
     "output_type": "stream",
     "text": [
      "CPU times: user 37.3 s, sys: 2.2 s, total: 39.5 s\n",
      "Wall time: 44.7 s\n"
     ]
    },
    {
     "data": {
      "text/plain": [
       "<xarray.backends.zarr.ZarrStore at 0x2aab52afc4a8>"
      ]
     },
     "execution_count": 14,
     "metadata": {},
     "output_type": "execute_result"
    }
   ],
   "source": [
    "out_dir_zarr = '/home1/scratch/xyu/OSMOSIS_llc4320/zarr_file/'\n",
    "\n",
    "file_out = out_dir_zarr+'/%s_total.zarr'%(v)\n",
    "%time ds.to_zarr(file_out, mode='w')     "
   ]
  },
  {
   "cell_type": "code",
   "execution_count": null,
   "metadata": {},
   "outputs": [],
   "source": []
  },
  {
   "cell_type": "code",
   "execution_count": 15,
   "metadata": {},
   "outputs": [
    {
     "name": "stdout",
     "output_type": "stream",
     "text": [
      "<xarray.Dataset>\n",
      "Dimensions:  (depth: 52, lat: 201, lon: 177, time: 9415)\n",
      "Coordinates:\n",
      "  * depth    (depth) float64 0.5 1.57 2.79 4.185 5.78 7.595 9.66 12.01 14.68 ...\n",
      "    dtime    (time) datetime64[ns] dask.array<shape=(9415,), chunksize=(9415,)>\n",
      "  * lat      (lat) float32 47.404716 47.417923 47.43113 47.444332 47.45753 ...\n",
      "  * lon      (lon) float32 -18.03125 -18.010416 -17.989584 -17.96875 ...\n",
      "  * time     (time) float64 0.0 0.04167 0.08333 0.125 0.1667 0.2083 0.25 ...\n",
      "Data variables:\n",
      "    V        (time, depth, lat, lon) float32 dask.array<shape=(9415, 52, 201, 177), chunksize=(1, 52, 201, 177)>\n",
      "\n",
      " data size: 69.7 GB\n"
     ]
    }
   ],
   "source": [
    "ds = xr.open_zarr(out_dir_zarr+v+'_total.zarr')\n",
    "print(ds)\n",
    "print('\\n data size: %.1f GB' %(ds.nbytes / 1e9))"
   ]
  },
  {
   "cell_type": "code",
   "execution_count": 16,
   "metadata": {},
   "outputs": [
    {
     "name": "stdout",
     "output_type": "stream",
     "text": [
      "CPU times: user 22.7 s, sys: 720 ms, total: 23.4 s\n",
      "Wall time: 23.3 s\n"
     ]
    },
    {
     "data": {
      "text/plain": [
       "[<matplotlib.lines.Line2D at 0x2aab883546a0>]"
      ]
     },
     "execution_count": 16,
     "metadata": {},
     "output_type": "execute_result"
    },
    {
     "data": {
      "image/png": "[encoded data removed]",
      "text/plain": [
       "<Figure size 432x288 with 1 Axes>"
      ]
     },
     "metadata": {},
     "output_type": "display_data"
    }
   ],
   "source": [
    "%time ds[v].isel(depth=1, lat=slice(90,100), lon=slice(90,100)).mean(dim=['lat','lon']).plot()"
   ]
  },
  {
   "cell_type": "code",
   "execution_count": null,
   "metadata": {},
   "outputs": [],
   "source": []
  },
  {
   "cell_type": "code",
   "execution_count": null,
   "metadata": {},
   "outputs": [],
   "source": []
  },
  {
   "cell_type": "code",
   "execution_count": 18,
   "metadata": {},
   "outputs": [
    {
     "data": {
      "text/plain": [
       "<Future finished result=None>"
      ]
     },
     "execution_count": 18,
     "metadata": {},
     "output_type": "execute_result"
    }
   ],
   "source": [
    "cluster.scheduler.close()"
   ]
  },
  {
   "cell_type": "code",
   "execution_count": null,
   "metadata": {},
   "outputs": [],
   "source": []
  }
 ],
 "metadata": {
  "kernelspec": {
   "display_name": "Python 3",
   "language": "python",
   "name": "python3"
  },
  "language_info": {
   "codemirror_mode": {
    "name": "ipython",
    "version": 3
   },
   "file_extension": ".py",
   "mimetype": "text/x-python",
   "name": "python",
   "nbconvert_exporter": "python",
   "pygments_lexer": "ipython3",
   "version": "3.6.5"
  }
 },
 "nbformat": 4,
 "nbformat_minor": 2
}

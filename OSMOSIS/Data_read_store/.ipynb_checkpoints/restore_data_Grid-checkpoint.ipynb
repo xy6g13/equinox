{
 "cells": [
  {
   "cell_type": "code",
   "execution_count": 1,
   "metadata": {},
   "outputs": [
    {
     "name": "stderr",
     "output_type": "stream",
     "text": [
      "/home1/datahome/xyu/.miniconda3/envs/equinox/lib/python3.6/importlib/_bootstrap.py:219: RuntimeWarning: numpy.dtype size changed, may indicate binary incompatibility. Expected 96, got 88\n",
      "  return f(*args, **kwds)\n",
      "/home1/datahome/xyu/.miniconda3/envs/equinox/lib/python3.6/importlib/_bootstrap.py:219: RuntimeWarning: numpy.dtype size changed, may indicate binary incompatibility. Expected 96, got 88\n",
      "  return f(*args, **kwds)\n"
     ]
    }
   ],
   "source": [
    "import os\n",
    "from glob import glob\n",
    "import dask\n",
    "import xarray as xr\n",
    "import numpy as np\n",
    "from netCDF4 import Dataset\n",
    "from scipy.io import loadmat\n",
    "\n",
    "from matplotlib import pyplot as plt\n",
    "%matplotlib inline\n",
    "\n",
    "from mitequinox.utils import *"
   ]
  },
  {
   "cell_type": "code",
   "execution_count": 2,
   "metadata": {},
   "outputs": [
    {
     "name": "stderr",
     "output_type": "stream",
     "text": [
      "/home1/datahome/xyu/.miniconda3/envs/equinox/lib/python3.6/site-packages/distributed/utils.py:128: RuntimeWarning: Couldn't detect a suitable IP address for reaching '8.8.8.8', defaulting to '127.0.0.1': [Errno 101] Network is unreachable\n",
      "  % (host, default, e), RuntimeWarning)\n"
     ]
    }
   ],
   "source": [
    "from dask_jobqueue import PBSCluster\n",
    "local_dir = os.getenv('TMPDIR')\n",
    "cluster = PBSCluster(local_directory=local_dir)\n",
    "\n",
    "w = cluster.start_workers(1)"
   ]
  },
  {
   "cell_type": "code",
   "execution_count": 3,
   "metadata": {},
   "outputs": [],
   "source": [
    "# get dask handles and check dask server status\n",
    "from dask.distributed import Client\n",
    "client = Client(cluster)"
   ]
  },
  {
   "cell_type": "code",
   "execution_count": 4,
   "metadata": {},
   "outputs": [
    {
     "data": {
      "text/html": [
       "<table style=\"border: 2px solid white;\">\n",
       "<tr>\n",
       "<td style=\"vertical-align: top; border: 0px solid white\">\n",
       "<h3>Client</h3>\n",
       "<ul>\n",
       "  <li><b>Scheduler: </b>tcp://10.148.1.37:45699\n",
       "  <li><b>Dashboard: </b><a href='http://10.148.1.37:8787/status' target='_blank'>http://10.148.1.37:8787/status</a>\n",
       "</ul>\n",
       "</td>\n",
       "<td style=\"vertical-align: top; border: 0px solid white\">\n",
       "<h3>Cluster</h3>\n",
       "<ul>\n",
       "  <li><b>Workers: </b>2</li>\n",
       "  <li><b>Cores: </b>8</li>\n",
       "  <li><b>Memory: </b>100.00 GB</li>\n",
       "</ul>\n",
       "</td>\n",
       "</tr>\n",
       "</table>"
      ],
      "text/plain": [
       "<Client: scheduler='tcp://10.148.1.37:45699' processes=2 cores=8>"
      ]
     },
     "execution_count": 4,
     "metadata": {},
     "output_type": "execute_result"
    }
   ],
   "source": [
    "client"
   ]
  },
  {
   "cell_type": "markdown",
   "metadata": {},
   "source": [
    "# Grid"
   ]
  },
  {
   "cell_type": "code",
   "execution_count": 5,
   "metadata": {},
   "outputs": [],
   "source": [
    "# the path where (Zach's) LLC4320 data are already stored\n",
    "LLC_data_folder = '/home1/datawork/xyu/OSMOSIS_llc4320/'\n",
    "# the path where the grid data will be re-stored\n",
    "LLC_data_folder_data_store = '/home1/datawork/xyu/OSMOSIS_llc4320/data_store/'"
   ]
  },
  {
   "cell_type": "code",
   "execution_count": 6,
   "metadata": {},
   "outputs": [],
   "source": [
    "XC = xr.DataArray(np.fromfile(LLC_data_folder+\"grid/XC_177x201\", dtype='>f').reshape(201,177), dims=['lat','lon'])\n",
    "XC = np.real(XC).rename('XC')\n",
    "\n",
    "YC = xr.DataArray(np.fromfile(LLC_data_folder+\"grid/YC_177x201\", dtype='>f').reshape(201,177), dims=['lat','lon'])\n",
    "YC = np.real(YC).rename('YC')\n",
    "\n",
    "XG = xr.DataArray(np.fromfile(LLC_data_folder+\"grid/XG_177x201\", dtype='>f').reshape(201,177), dims=['lat_g','lon_g'])\n",
    "XG = np.real(XG).rename('XG')\n",
    "\n",
    "YG = xr.DataArray(np.fromfile(LLC_data_folder+\"grid/YG_177x201\", dtype='>f').reshape(201,177), dims=['lat_g','lon_g'])\n",
    "YG = np.real(YG).rename('YG')\n",
    "\n",
    "CS = xr.DataArray(np.fromfile(LLC_data_folder+\"grid/AngleCS_177x201\", dtype='>f').reshape(201,177), dims=['lat','lon'])\n",
    "CS = np.real(CS).rename('CS')\n",
    "\n",
    "SN = xr.DataArray(np.fromfile(LLC_data_folder+\"grid/AngleSN_177x201\", dtype='>f').reshape(201,177), dims=['lat','lon'])\n",
    "SN = np.real(SN).rename('SN')\n",
    "\n",
    "Depth = xr.DataArray(np.fromfile(LLC_data_folder+\"grid/Depth_177x201\", dtype='>f').reshape(201,177), dims=['lat','lon'])\n",
    "Depth = np.real(Depth).rename('Depth')\n",
    "\n",
    "dxC = xr.DataArray(np.fromfile(LLC_data_folder+\"grid/DXC_177x201\", dtype='>f').reshape(201,177), dims=['lat','lon_g'])\n",
    "dxC = np.real(dxC).rename('dxC')\n",
    "\n",
    "dyC = xr.DataArray(np.fromfile(LLC_data_folder+\"grid/DYC_177x201\", dtype='>f').reshape(201,177), dims=['lat_g','lon'])\n",
    "dyC = np.real(dyC).rename('dyC')\n",
    "\n",
    "dxG = xr.DataArray(np.fromfile(LLC_data_folder+\"grid/DXG_177x201\", dtype='>f').reshape(201,177), dims=['lat_g','lon'])\n",
    "dxG = np.real(dxG).rename('dxG')\n",
    "\n",
    "dyG = xr.DataArray(np.fromfile(LLC_data_folder+\"grid/DYG_177x201\", dtype='>f').reshape(201,177), dims=['lat','lon_g'])\n",
    "dyG = np.real(dyG).rename('dyG')"
   ]
  },
  {
   "cell_type": "code",
   "execution_count": 7,
   "metadata": {},
   "outputs": [
    {
     "name": "stdout",
     "output_type": "stream",
     "text": [
      "<xarray.Dataset>\n",
      "Dimensions:  (lat: 201, lat_g: 201, lon: 177, lon_g: 177)\n",
      "Dimensions without coordinates: lat, lat_g, lon, lon_g\n",
      "Data variables:\n",
      "    XC       (lat, lon) >f4 -18.03125 -18.010416 -17.989584 -17.96875 ...\n",
      "    YC       (lat, lon) float32 47.404716 47.404716 47.404716 47.404716 ...\n",
      "    XG       (lat_g, lon_g) float32 -18.041666 -18.020834 -18.0 -17.979166 ...\n",
      "    YG       (lat_g, lon_g) >f4 47.39811 47.39811 47.39811 47.39811 47.39811 ...\n",
      "    CS       (lat, lon) >f4 1.0 1.0 1.0 1.0 1.0 1.0 1.0 1.0 1.0 1.0 1.0 1.0 ...\n",
      "    SN       (lat, lon) >f4 -2.519282e-13 -0.0 -0.0 2.5199138e-13 ...\n",
      "    Depth    (lat, lon) >f4 4658.816 4647.708 4628.1807 4609.2144 4592.1665 ...\n",
      "    dxC      (lat, lon_g) >f4 1567.638 1567.638 1567.638 1567.638 1567.638 ...\n",
      "    dyC      (lat_g, lon) >f4 1468.746 1468.746 1468.746 1468.746 1468.746 ...\n",
      "    dxG      (lat_g, lon) >f4 1567.8346 1567.8346 1567.8346 1567.8346 ...\n",
      "    dyG      (lat, lon_g) >f4 1468.5818 1468.5818 1468.5818 1468.5818 ...\n"
     ]
    }
   ],
   "source": [
    "grid = xr.merge([XC,YC,XG,YG,YC,XG,CS,SN,Depth,dxC,dyC,dxG,dyG])\n",
    "print(grid)"
   ]
  },
  {
   "cell_type": "code",
   "execution_count": 8,
   "metadata": {},
   "outputs": [
    {
     "name": "stderr",
     "output_type": "stream",
     "text": [
      "/home1/datahome/xyu/.miniconda3/envs/equinox/lib/python3.6/site-packages/xarray/core/dataset.py:374: FutureWarning: iteration over an xarray.Dataset will change in xarray v0.11 to only include data variables, not coordinates. Iterate over the Dataset.variables property instead to preserve existing behavior in a forwards compatible manner.\n",
      "  both_data_and_coords = [k for k in data_vars if k in coords]\n"
     ]
    },
    {
     "data": {
      "text/plain": [
       "<xarray.Dataset>\n",
       "Dimensions:  (lat: 201, lat_g: 201, lon: 177, lon_g: 177)\n",
       "Coordinates:\n",
       "  * lon      (lon) >f4 -18.03125 -18.010416 -17.989584 -17.96875 -17.947916 ...\n",
       "  * lat      (lat) >f4 47.404716 47.417923 47.43113 47.444332 47.45753 ...\n",
       "  * lat_g    (lat_g) >f4 47.39811 47.41132 47.424526 47.43773 47.45093 ...\n",
       "  * lon_g    (lon_g) >f4 -18.041666 -18.020834 -18.0 -17.979166 -17.958334 ...\n",
       "Data variables:\n",
       "    XC       (lat, lon) >f4 -18.03125 -18.010416 -17.989584 -17.96875 ...\n",
       "    YC       (lat, lon) float32 47.404716 47.404716 47.404716 47.404716 ...\n",
       "    XG       (lat_g, lon_g) float32 -18.041666 -18.020834 -18.0 -17.979166 ...\n",
       "    YG       (lat_g, lon_g) >f4 47.39811 47.39811 47.39811 47.39811 47.39811 ...\n",
       "    CS       (lat, lon) >f4 1.0 1.0 1.0 1.0 1.0 1.0 1.0 1.0 1.0 1.0 1.0 1.0 ...\n",
       "    SN       (lat, lon) >f4 -2.519282e-13 -0.0 -0.0 2.5199138e-13 ...\n",
       "    Depth    (lat, lon) >f4 4658.816 4647.708 4628.1807 4609.2144 4592.1665 ...\n",
       "    dxC      (lat, lon_g) >f4 1567.638 1567.638 1567.638 1567.638 1567.638 ...\n",
       "    dyC      (lat_g, lon) >f4 1468.746 1468.746 1468.746 1468.746 1468.746 ...\n",
       "    dxG      (lat_g, lon) >f4 1567.8346 1567.8346 1567.8346 1567.8346 ...\n",
       "    dyG      (lat, lon_g) >f4 1468.5818 1468.5818 1468.5818 1468.5818 ..."
      ]
     },
     "execution_count": 8,
     "metadata": {},
     "output_type": "execute_result"
    }
   ],
   "source": [
    "lat = YC.isel(lon=1)\n",
    "lat = np.real(lat).rename('lat')\n",
    "\n",
    "lon = XC.isel(lat=1)\n",
    "lon = np.real(lon).rename('lon')\n",
    "\n",
    "lat_g = YG.isel(lon_g=1)\n",
    "lat_g = np.real(lat_g).rename('lat_g')\n",
    "\n",
    "lon_g = XG.isel(lat_g=1)\n",
    "lon_g = np.real(lon_g).rename('lon_g')\n",
    "\n",
    "grid = xr.Dataset(grid,coords={'lon':lon, 'lat':lat, 'lat_g':lat_g, 'lon_g':lon_g})\n",
    "grid"
   ]
  },
  {
   "cell_type": "code",
   "execution_count": 9,
   "metadata": {},
   "outputs": [
    {
     "data": {
      "text/plain": [
       "<xarray.Dataset>\n",
       "Dimensions:  (lat: 201, lat_g: 201, lon: 177, lon_g: 177)\n",
       "Coordinates:\n",
       "    XC       (lat, lon) >f4 -18.03125 -18.010416 -17.989584 -17.96875 ...\n",
       "    YC       (lat, lon) float32 47.404716 47.404716 47.404716 47.404716 ...\n",
       "    XG       (lat_g, lon_g) float32 -18.041666 -18.020834 -18.0 -17.979166 ...\n",
       "    YG       (lat_g, lon_g) >f4 47.39811 47.39811 47.39811 47.39811 47.39811 ...\n",
       "    CS       (lat, lon) >f4 1.0 1.0 1.0 1.0 1.0 1.0 1.0 1.0 1.0 1.0 1.0 1.0 ...\n",
       "    SN       (lat, lon) >f4 -2.519282e-13 -0.0 -0.0 2.5199138e-13 ...\n",
       "    Depth    (lat, lon) >f4 4658.816 4647.708 4628.1807 4609.2144 4592.1665 ...\n",
       "    dxC      (lat, lon_g) >f4 1567.638 1567.638 1567.638 1567.638 1567.638 ...\n",
       "    dyC      (lat_g, lon) >f4 1468.746 1468.746 1468.746 1468.746 1468.746 ...\n",
       "    dxG      (lat_g, lon) >f4 1567.8346 1567.8346 1567.8346 1567.8346 ...\n",
       "    dyG      (lat, lon_g) >f4 1468.5818 1468.5818 1468.5818 1468.5818 ...\n",
       "  * lon      (lon) >f4 -18.03125 -18.010416 -17.989584 -17.96875 -17.947916 ...\n",
       "  * lat      (lat) >f4 47.404716 47.417923 47.43113 47.444332 47.45753 ...\n",
       "  * lat_g    (lat_g) >f4 47.39811 47.41132 47.424526 47.43773 47.45093 ...\n",
       "  * lon_g    (lon_g) >f4 -18.041666 -18.020834 -18.0 -17.979166 -17.958334 ...\n",
       "Data variables:\n",
       "    *empty*"
      ]
     },
     "execution_count": 9,
     "metadata": {},
     "output_type": "execute_result"
    }
   ],
   "source": [
    "grid = grid.assign_coords(XC=grid.XC) \n",
    "grid = grid.assign_coords(YC=grid.YC) \n",
    "grid = grid.assign_coords(XG=grid.XG) \n",
    "grid = grid.assign_coords(YG=grid.YG) \n",
    "grid = grid.assign_coords(CS=grid.CS) \n",
    "grid = grid.assign_coords(SN=grid.SN) \n",
    "grid = grid.assign_coords(Depth=grid.Depth) \n",
    "grid = grid.assign_coords(dxC=grid.dxC) \n",
    "grid = grid.assign_coords(dyC=grid.dyC) \n",
    "grid = grid.assign_coords(dxG=grid.dxG) \n",
    "grid = grid.assign_coords(dyG=grid.dyG) \n",
    "\n",
    "grid"
   ]
  },
  {
   "cell_type": "code",
   "execution_count": 11,
   "metadata": {},
   "outputs": [
    {
     "name": "stdout",
     "output_type": "stream",
     "text": [
      "CPU times: user 20 ms, sys: 0 ns, total: 20 ms\n",
      "Wall time: 25.9 ms\n"
     ]
    },
    {
     "name": "stderr",
     "output_type": "stream",
     "text": [
      "/home1/datahome/xyu/.miniconda3/envs/equinox/lib/python3.6/site-packages/dask/utils.py:1010: UserWarning: Deprecated, see dask.base.get_scheduler instead\n",
      "  warnings.warn(\"Deprecated, see dask.base.get_scheduler instead\")\n"
     ]
    }
   ],
   "source": [
    "file_out = LLC_data_folder_data_store+'/Grid.nc'\n",
    "%time grid.to_netcdf(file_out, mode='w')     "
   ]
  },
  {
   "cell_type": "code",
   "execution_count": null,
   "metadata": {},
   "outputs": [],
   "source": []
  },
  {
   "cell_type": "code",
   "execution_count": null,
   "metadata": {},
   "outputs": [],
   "source": []
  },
  {
   "cell_type": "code",
   "execution_count": null,
   "metadata": {},
   "outputs": [],
   "source": []
  },
  {
   "cell_type": "code",
   "execution_count": null,
   "metadata": {},
   "outputs": [],
   "source": []
  },
  {
   "cell_type": "code",
   "execution_count": null,
   "metadata": {},
   "outputs": [],
   "source": []
  },
  {
   "cell_type": "code",
   "execution_count": null,
   "metadata": {},
   "outputs": [],
   "source": []
  },
  {
   "cell_type": "code",
   "execution_count": 12,
   "metadata": {},
   "outputs": [
    {
     "data": {
      "text/plain": [
       "<Future pending cb=[_make_coroutine_wrapper.<locals>.wrapper.<locals>.<lambda>() at /home1/datahome/xyu/.miniconda3/envs/equinox/lib/python3.6/site-packages/tornado/gen.py:336]>"
      ]
     },
     "execution_count": 12,
     "metadata": {},
     "output_type": "execute_result"
    }
   ],
   "source": [
    "cluster.scheduler.close()"
   ]
  },
  {
   "cell_type": "code",
   "execution_count": null,
   "metadata": {},
   "outputs": [],
   "source": []
  },
  {
   "cell_type": "code",
   "execution_count": null,
   "metadata": {},
   "outputs": [],
   "source": []
  }
 ],
 "metadata": {
  "kernelspec": {
   "display_name": "Python 3",
   "language": "python",
   "name": "python3"
  },
  "language_info": {
   "codemirror_mode": {
    "name": "ipython",
    "version": 3
   },
   "file_extension": ".py",
   "mimetype": "text/x-python",
   "name": "python",
   "nbconvert_exporter": "python",
   "pygments_lexer": "ipython3",
   "version": "3.6.5"
  }
 },
 "nbformat": 4,
 "nbformat_minor": 2
}

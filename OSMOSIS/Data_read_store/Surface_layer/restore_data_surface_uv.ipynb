{
 "cells": [
  {
   "cell_type": "code",
   "execution_count": 1,
   "metadata": {},
   "outputs": [
    {
     "name": "stderr",
     "output_type": "stream",
     "text": [
      "/home1/datahome/xyu/.miniconda3/envs/equinox/lib/python3.6/site-packages/cmocean/tools.py:76: MatplotlibDeprecationWarning: The is_string_like function was deprecated in version 2.1.\n",
      "  if not mpl.cbook.is_string_like(rgbin[0]):\n",
      "/home1/datahome/xyu/.miniconda3/envs/equinox/lib/python3.6/importlib/_bootstrap.py:219: RuntimeWarning: numpy.dtype size changed, may indicate binary incompatibility. Expected 96, got 88\n",
      "  return f(*args, **kwds)\n",
      "/home1/datahome/xyu/.miniconda3/envs/equinox/lib/python3.6/importlib/_bootstrap.py:219: RuntimeWarning: numpy.dtype size changed, may indicate binary incompatibility. Expected 96, got 88\n",
      "  return f(*args, **kwds)\n"
     ]
    }
   ],
   "source": [
    "import os\n",
    "from glob import glob\n",
    "import dask\n",
    "import xarray as xr\n",
    "import cartopy.crs as ccrs\n",
    "from cmocean import cm\n",
    "import numpy as np\n",
    "#from netCDF4 import Dataset\n",
    "from scipy.io import loadmat\n",
    "\n",
    "from matplotlib import pyplot as plt\n",
    "%matplotlib inline\n",
    "\n",
    "from mitequinox.utils import *"
   ]
  },
  {
   "cell_type": "code",
   "execution_count": 2,
   "metadata": {},
   "outputs": [
    {
     "name": "stderr",
     "output_type": "stream",
     "text": [
      "/home1/datahome/xyu/.miniconda3/envs/equinox/lib/python3.6/site-packages/distributed/utils.py:128: RuntimeWarning: Couldn't detect a suitable IP address for reaching '8.8.8.8', defaulting to '127.0.0.1': [Errno 101] Network is unreachable\n",
      "  % (host, default, e), RuntimeWarning)\n"
     ]
    }
   ],
   "source": [
    "from dask_jobqueue import PBSCluster\n",
    "local_dir = os.getenv('TMPDIR')\n",
    "cluster = PBSCluster(local_directory=local_dir)\n",
    "\n",
    "w = cluster.start_workers(5)"
   ]
  },
  {
   "cell_type": "code",
   "execution_count": 3,
   "metadata": {},
   "outputs": [],
   "source": [
    "# get dask handles and check dask server status\n",
    "from dask.distributed import Client\n",
    "client = Client(cluster)"
   ]
  },
  {
   "cell_type": "code",
   "execution_count": 4,
   "metadata": {},
   "outputs": [
    {
     "data": {
      "text/html": [
       "<table style=\"border: 2px solid white;\">\n",
       "<tr>\n",
       "<td style=\"vertical-align: top; border: 0px solid white\">\n",
       "<h3>Client</h3>\n",
       "<ul>\n",
       "  <li><b>Scheduler: </b>tcp://10.148.1.34:40109\n",
       "  <li><b>Dashboard: </b><a href='http://10.148.1.34:8787/status' target='_blank'>http://10.148.1.34:8787/status</a>\n",
       "</ul>\n",
       "</td>\n",
       "<td style=\"vertical-align: top; border: 0px solid white\">\n",
       "<h3>Cluster</h3>\n",
       "<ul>\n",
       "  <li><b>Workers: </b>10</li>\n",
       "  <li><b>Cores: </b>40</li>\n",
       "  <li><b>Memory: </b>500.00 GB</li>\n",
       "</ul>\n",
       "</td>\n",
       "</tr>\n",
       "</table>"
      ],
      "text/plain": [
       "<Client: scheduler='tcp://10.148.1.34:40109' processes=10 cores=40>"
      ]
     },
     "execution_count": 4,
     "metadata": {},
     "output_type": "execute_result"
    }
   ],
   "source": [
    "client"
   ]
  },
  {
   "cell_type": "markdown",
   "metadata": {},
   "source": [
    "# Read rechunked data"
   ]
  },
  {
   "cell_type": "code",
   "execution_count": 9,
   "metadata": {},
   "outputs": [],
   "source": [
    "out_dir_zarr = '/home1/datawork/xyu/OSMOSIS_llc4320/data_rechunk/'\n",
    "\n",
    "ds_u = xr.open_zarr(out_dir_zarr+'U_total_rechunk.zarr')\n",
    "ds_v = xr.open_zarr(out_dir_zarr+'V_total_rechunk.zarr')"
   ]
  },
  {
   "cell_type": "code",
   "execution_count": 10,
   "metadata": {},
   "outputs": [],
   "source": [
    "ds_u_surface = ds_u.isel(depth=0)\n",
    "ds_v_surface = ds_v.isel(depth=0)"
   ]
  },
  {
   "cell_type": "code",
   "execution_count": 17,
   "metadata": {},
   "outputs": [],
   "source": [
    "ds_u_surface = ds_u_surface.chunk({'time': 9415, 'lat': 201, 'lon_g': 177})\n",
    "ds_v_surface = ds_v_surface.chunk({'time': 9415, 'lat_g': 201, 'lon': 177})"
   ]
  },
  {
   "cell_type": "code",
   "execution_count": 18,
   "metadata": {},
   "outputs": [
    {
     "name": "stderr",
     "output_type": "stream",
     "text": [
      "/home1/datahome/xyu/.miniconda3/envs/equinox/lib/python3.6/site-packages/dask/utils.py:1010: UserWarning: Deprecated, see dask.base.get_scheduler instead\n",
      "  warnings.warn(\"Deprecated, see dask.base.get_scheduler instead\")\n"
     ]
    },
    {
     "name": "stdout",
     "output_type": "stream",
     "text": [
      "CPU times: user 216 ms, sys: 24 ms, total: 240 ms\n",
      "Wall time: 3.06 s\n"
     ]
    },
    {
     "name": "stderr",
     "output_type": "stream",
     "text": [
      "/home1/datahome/xyu/.miniconda3/envs/equinox/lib/python3.6/site-packages/dask/utils.py:1010: UserWarning: Deprecated, see dask.base.get_scheduler instead\n",
      "  warnings.warn(\"Deprecated, see dask.base.get_scheduler instead\")\n"
     ]
    },
    {
     "name": "stdout",
     "output_type": "stream",
     "text": [
      "CPU times: user 148 ms, sys: 44 ms, total: 192 ms\n",
      "Wall time: 2.76 s\n"
     ]
    }
   ],
   "source": [
    "out_dir_zarr = '/home1/datawork/xyu/OSMOSIS_llc4320/data_rechunk/'\n",
    "\n",
    "file_out = out_dir_zarr+'U_surface_rechunk.nc'\n",
    "%time ds_u_surface.to_netcdf(file_out, mode='w')     \n",
    "\n",
    "file_out = out_dir_zarr+'V_surface_rechunk.nc'\n",
    "%time ds_v_surface.to_netcdf(file_out, mode='w')   "
   ]
  },
  {
   "cell_type": "code",
   "execution_count": null,
   "metadata": {},
   "outputs": [],
   "source": []
  },
  {
   "cell_type": "markdown",
   "metadata": {},
   "source": [
    "# Surface KE"
   ]
  },
  {
   "cell_type": "code",
   "execution_count": 14,
   "metadata": {},
   "outputs": [
    {
     "name": "stdout",
     "output_type": "stream",
     "text": [
      "<xarray.Dataset>\n",
      "Dimensions:  (lat: 201, lat_g: 201, lon: 177, lon_g: 177, time: 9415)\n",
      "Coordinates:\n",
      "  * lat      (lat) float64 47.4 47.42 47.43 47.44 47.46 47.47 47.48 47.5 ...\n",
      "  * lon_g    (lon_g) float64 -18.04 -18.02 -18.0 -17.98 -17.96 -17.94 -17.92 ...\n",
      "    depth    float64 0.5\n",
      "  * time     (time) float64 0.0 0.04167 0.08333 0.125 0.1667 0.2083 0.25 ...\n",
      "  * lat_g    (lat_g) float64 47.4 47.41 47.42 47.44 47.45 47.46 47.48 47.49 ...\n",
      "  * lon      (lon) float64 -18.03 -18.01 -17.99 -17.97 -17.95 -17.93 -17.91 ...\n",
      "    XC       (lat, lon) float32 ...\n",
      "    YC       (lat, lon) float32 ...\n",
      "    XG       (lat_g, lon_g) float32 ...\n",
      "    YG       (lat_g, lon_g) float32 ...\n",
      "    CS       (lat, lon) float32 ...\n",
      "    SN       (lat, lon) float32 ...\n",
      "    Depth    (lat, lon) float32 ...\n",
      "    dxC      (lat, lon_g) float32 ...\n",
      "    dyC      (lat_g, lon) float32 ...\n",
      "    dxG      (lat_g, lon) float32 ...\n",
      "    dyG      (lat, lon_g) float32 ...\n",
      "    rAz      (lat_g, lon_g) float32 ...\n",
      "    rAw      (lat, lon_g) float32 ...\n",
      "    rAs      (lat_g, lon) float32 ...\n",
      "Data variables:\n",
      "    U        (time, lat, lon_g) float32 ...\n",
      "    V        (time, lat_g, lon) float32 ...\n",
      "\n",
      " data size: 2.7 GB\n"
     ]
    }
   ],
   "source": [
    "out_dir_zarr = '/home1/datawork/xyu/OSMOSIS_llc4320/data_rechunk/'\n",
    "\n",
    "ds_u = xr.open_dataset(out_dir_zarr+'U_surface_rechunk.nc')\n",
    "ds_v = xr.open_dataset(out_dir_zarr+'V_surface_rechunk.nc')\n",
    "grid = xr.open_dataset(out_dir_zarr+'Grid.nc', decode_coords=True)\n",
    "\n",
    "ds = xr.merge([ds_u,ds_v,grid])\n",
    "print(ds)\n",
    "print('\\n data size: %.1f GB' %(ds.nbytes / 1e9))"
   ]
  },
  {
   "cell_type": "code",
   "execution_count": 7,
   "metadata": {},
   "outputs": [
    {
     "name": "stderr",
     "output_type": "stream",
     "text": [
      "/home1/datahome/xyu/.miniconda3/envs/equinox/lib/python3.6/importlib/_bootstrap.py:219: RuntimeWarning: numpy.dtype size changed, may indicate binary incompatibility. Expected 96, got 88\n",
      "  return f(*args, **kwds)\n"
     ]
    }
   ],
   "source": [
    "import xrft\n",
    "from dask.diagnostics import ProgressBar\n",
    "import xgcm"
   ]
  },
  {
   "cell_type": "code",
   "execution_count": 16,
   "metadata": {},
   "outputs": [
    {
     "name": "stdout",
     "output_type": "stream",
     "text": [
      "<xgcm.Grid>\n",
      "X Axis (periodic):\n",
      "  * center   lon (177) --> left\n",
      "  * left     lon_g (177) --> center\n",
      "Y Axis (periodic):\n",
      "  * center   lat (201) --> left\n",
      "  * left     lat_g (201) --> center\n"
     ]
    }
   ],
   "source": [
    "gridx = xgcm.Grid(ds, coords={'X':{'center':'lon', 'left':'lon_g'},\n",
    "                              'Y':{'center':'lat', 'left':'lat_g'}})\n",
    "print(gridx)"
   ]
  },
  {
   "cell_type": "code",
   "execution_count": 38,
   "metadata": {},
   "outputs": [
    {
     "data": {
      "text/plain": [
       "<xarray.DataArray (time: 2160, lat: 201, lon: 177)>\n",
       "array([[[0.021097, 0.021399, ..., 0.032901, 0.020961],\n",
       "        [0.026154, 0.026632, ..., 0.02927 , 0.018969],\n",
       "        ...,\n",
       "        [0.10715 , 0.099352, ..., 0.051726, 0.037394],\n",
       "        [0.061756, 0.057555, ..., 0.042149, 0.029475]],\n",
       "\n",
       "       [[0.02555 , 0.026171, ..., 0.030153, 0.01866 ],\n",
       "        [0.032292, 0.033813, ..., 0.028187, 0.017164],\n",
       "        ...,\n",
       "        [0.079678, 0.077036, ..., 0.042795, 0.033252],\n",
       "        [0.051071, 0.049693, ..., 0.034776, 0.02586 ]],\n",
       "\n",
       "       ...,\n",
       "\n",
       "       [[0.055764, 0.068383, ..., 0.027744, 0.016633],\n",
       "        [0.058733, 0.066341, ..., 0.02865 , 0.014975],\n",
       "        ...,\n",
       "        [0.042911, 0.03527 , ..., 0.005918, 0.021083],\n",
       "        [0.051794, 0.056295, ..., 0.008523, 0.015765]],\n",
       "\n",
       "       [[0.059265, 0.067837, ..., 0.038223, 0.028779],\n",
       "        [0.063936, 0.069696, ..., 0.03997 , 0.025034],\n",
       "        ...,\n",
       "        [0.049925, 0.043286, ..., 0.00554 , 0.021773],\n",
       "        [0.056255, 0.057282, ..., 0.009274, 0.020503]]], dtype=float32)\n",
       "Coordinates:\n",
       "  * time     (time) float64 0.0 0.04167 0.08333 0.125 0.1667 0.2083 0.25 ...\n",
       "  * lat      (lat) float64 47.4 47.42 47.43 47.44 47.46 47.47 47.48 47.5 ...\n",
       "  * lon      (lon) float64 -18.03 -18.01 -17.99 -17.97 -17.95 -17.93 -17.91 ..."
      ]
     },
     "execution_count": 38,
     "metadata": {},
     "output_type": "execute_result"
    }
   ],
   "source": [
    "KE = (gridx.interp(ds['U'].isel(time=slice(0,2160))**2,'X') + gridx.interp(ds['V'].isel(time=slice(0,2160))**2,'Y'))/2 # KE\n",
    "KE"
   ]
  },
  {
   "cell_type": "code",
   "execution_count": 39,
   "metadata": {},
   "outputs": [
    {
     "name": "stdout",
     "output_type": "stream",
     "text": [
      "CPU times: user 4 ms, sys: 92 ms, total: 96 ms\n",
      "Wall time: 155 ms\n"
     ]
    },
    {
     "name": "stderr",
     "output_type": "stream",
     "text": [
      "/home1/datahome/xyu/.miniconda3/envs/equinox/lib/python3.6/site-packages/dask/utils.py:1010: UserWarning: Deprecated, see dask.base.get_scheduler instead\n",
      "  warnings.warn(\"Deprecated, see dask.base.get_scheduler instead\")\n"
     ]
    }
   ],
   "source": [
    "out_dir_zarr = '/home1/datawork/xyu/OSMOSIS_llc4320/data_rechunk/'\n",
    "\n",
    "file_out = out_dir_zarr+'KE_surface_rechunk.nc'\n",
    "%time KE.to_netcdf(file_out, mode='w')     "
   ]
  },
  {
   "cell_type": "code",
   "execution_count": null,
   "metadata": {},
   "outputs": [],
   "source": []
  },
  {
   "cell_type": "code",
   "execution_count": null,
   "metadata": {},
   "outputs": [],
   "source": []
  },
  {
   "cell_type": "code",
   "execution_count": null,
   "metadata": {},
   "outputs": [],
   "source": []
  },
  {
   "cell_type": "code",
   "execution_count": null,
   "metadata": {},
   "outputs": [],
   "source": []
  },
  {
   "cell_type": "code",
   "execution_count": 41,
   "metadata": {},
   "outputs": [
    {
     "data": {
      "text/plain": [
       "<Future finished result=None>"
      ]
     },
     "execution_count": 41,
     "metadata": {},
     "output_type": "execute_result"
    }
   ],
   "source": [
    "cluster.scheduler.close()"
   ]
  },
  {
   "cell_type": "code",
   "execution_count": null,
   "metadata": {},
   "outputs": [],
   "source": []
  }
 ],
 "metadata": {
  "kernelspec": {
   "display_name": "Python 3",
   "language": "python",
   "name": "python3"
  },
  "language_info": {
   "codemirror_mode": {
    "name": "ipython",
    "version": 3
   },
   "file_extension": ".py",
   "mimetype": "text/x-python",
   "name": "python",
   "nbconvert_exporter": "python",
   "pygments_lexer": "ipython3",
   "version": "3.6.5"
  }
 },
 "nbformat": 4,
 "nbformat_minor": 2
}

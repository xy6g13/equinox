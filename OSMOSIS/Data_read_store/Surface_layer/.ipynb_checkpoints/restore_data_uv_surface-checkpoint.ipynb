{
 "cells": [
  {
   "cell_type": "code",
   "execution_count": 1,
   "metadata": {},
   "outputs": [
    {
     "name": "stderr",
     "output_type": "stream",
     "text": [
      "/home1/datahome/xyu/.miniconda3/envs/equinox/lib/python3.6/site-packages/cmocean/tools.py:76: MatplotlibDeprecationWarning: The is_string_like function was deprecated in version 2.1.\n",
      "  if not mpl.cbook.is_string_like(rgbin[0]):\n",
      "/home1/datahome/xyu/.miniconda3/envs/equinox/lib/python3.6/importlib/_bootstrap.py:219: RuntimeWarning: numpy.dtype size changed, may indicate binary incompatibility. Expected 96, got 88\n",
      "  return f(*args, **kwds)\n",
      "/home1/datahome/xyu/.miniconda3/envs/equinox/lib/python3.6/importlib/_bootstrap.py:219: RuntimeWarning: numpy.dtype size changed, may indicate binary incompatibility. Expected 96, got 88\n",
      "  return f(*args, **kwds)\n"
     ]
    }
   ],
   "source": [
    "import os\n",
    "from glob import glob\n",
    "import dask\n",
    "import xarray as xr\n",
    "import cartopy.crs as ccrs\n",
    "from cmocean import cm\n",
    "import numpy as np\n",
    "import xgcm\n",
    "from scipy.io import loadmat\n",
    "\n",
    "from matplotlib import pyplot as plt\n",
    "%matplotlib inline\n",
    "\n",
    "from mitequinox.utils import *"
   ]
  },
  {
   "cell_type": "code",
   "execution_count": 2,
   "metadata": {},
   "outputs": [
    {
     "name": "stderr",
     "output_type": "stream",
     "text": [
      "/home1/datahome/xyu/.miniconda3/envs/equinox/lib/python3.6/site-packages/distributed/utils.py:128: RuntimeWarning: Couldn't detect a suitable IP address for reaching '8.8.8.8', defaulting to '127.0.0.1': [Errno 101] Network is unreachable\n",
      "  % (host, default, e), RuntimeWarning)\n"
     ]
    }
   ],
   "source": [
    "from dask_jobqueue import PBSCluster\n",
    "local_dir = os.getenv('TMPDIR')\n",
    "cluster = PBSCluster(local_directory=local_dir)\n",
    "\n",
    "w = cluster.start_workers(5)"
   ]
  },
  {
   "cell_type": "code",
   "execution_count": 3,
   "metadata": {},
   "outputs": [],
   "source": [
    "# get dask handles and check dask server status\n",
    "from dask.distributed import Client\n",
    "client = Client(cluster)"
   ]
  },
  {
   "cell_type": "code",
   "execution_count": 4,
   "metadata": {},
   "outputs": [
    {
     "data": {
      "text/html": [
       "<table style=\"border: 2px solid white;\">\n",
       "<tr>\n",
       "<td style=\"vertical-align: top; border: 0px solid white\">\n",
       "<h3>Client</h3>\n",
       "<ul>\n",
       "  <li><b>Scheduler: </b>tcp://10.148.0.110:39887\n",
       "  <li><b>Dashboard: </b><a href='http://10.148.0.110:8787/status' target='_blank'>http://10.148.0.110:8787/status</a>\n",
       "</ul>\n",
       "</td>\n",
       "<td style=\"vertical-align: top; border: 0px solid white\">\n",
       "<h3>Cluster</h3>\n",
       "<ul>\n",
       "  <li><b>Workers: </b>10</li>\n",
       "  <li><b>Cores: </b>40</li>\n",
       "  <li><b>Memory: </b>500.00 GB</li>\n",
       "</ul>\n",
       "</td>\n",
       "</tr>\n",
       "</table>"
      ],
      "text/plain": [
       "<Client: scheduler='tcp://10.148.0.110:39887' processes=10 cores=40>"
      ]
     },
     "execution_count": 4,
     "metadata": {},
     "output_type": "execute_result"
    }
   ],
   "source": [
    "client"
   ]
  },
  {
   "cell_type": "markdown",
   "metadata": {},
   "source": [
    "# Read rechunked data"
   ]
  },
  {
   "cell_type": "code",
   "execution_count": 9,
   "metadata": {},
   "outputs": [],
   "source": [
    "out_dir_zarr = '/home1/datawork/xyu/OSMOSIS_llc4320/data_rechunk/'\n",
    "\n",
    "ds_u = xr.open_zarr(out_dir_zarr+'U_total_rechunk.zarr')\n",
    "ds_v = xr.open_zarr(out_dir_zarr+'V_total_rechunk.zarr')"
   ]
  },
  {
   "cell_type": "code",
   "execution_count": 10,
   "metadata": {},
   "outputs": [],
   "source": [
    "ds_u_surface = ds_u.isel(depth=0)\n",
    "ds_v_surface = ds_v.isel(depth=0)"
   ]
  },
  {
   "cell_type": "code",
   "execution_count": 17,
   "metadata": {},
   "outputs": [],
   "source": [
    "ds_u_surface = ds_u_surface.chunk({'time': 9415, 'lat': 201, 'lon_g': 177})\n",
    "ds_v_surface = ds_v_surface.chunk({'time': 9415, 'lat_g': 201, 'lon': 177})"
   ]
  },
  {
   "cell_type": "code",
   "execution_count": 18,
   "metadata": {},
   "outputs": [
    {
     "name": "stderr",
     "output_type": "stream",
     "text": [
      "/home1/datahome/xyu/.miniconda3/envs/equinox/lib/python3.6/site-packages/dask/utils.py:1010: UserWarning: Deprecated, see dask.base.get_scheduler instead\n",
      "  warnings.warn(\"Deprecated, see dask.base.get_scheduler instead\")\n"
     ]
    },
    {
     "name": "stdout",
     "output_type": "stream",
     "text": [
      "CPU times: user 216 ms, sys: 24 ms, total: 240 ms\n",
      "Wall time: 3.06 s\n"
     ]
    },
    {
     "name": "stderr",
     "output_type": "stream",
     "text": [
      "/home1/datahome/xyu/.miniconda3/envs/equinox/lib/python3.6/site-packages/dask/utils.py:1010: UserWarning: Deprecated, see dask.base.get_scheduler instead\n",
      "  warnings.warn(\"Deprecated, see dask.base.get_scheduler instead\")\n"
     ]
    },
    {
     "name": "stdout",
     "output_type": "stream",
     "text": [
      "CPU times: user 148 ms, sys: 44 ms, total: 192 ms\n",
      "Wall time: 2.76 s\n"
     ]
    }
   ],
   "source": [
    "out_dir_zarr = '/home1/datawork/xyu/OSMOSIS_llc4320/data_rechunk/'\n",
    "\n",
    "file_out = out_dir_zarr+'U_surface_rechunk.nc'\n",
    "%time ds_u_surface.to_netcdf(file_out, mode='w')     \n",
    "\n",
    "file_out = out_dir_zarr+'V_surface_rechunk.nc'\n",
    "%time ds_v_surface.to_netcdf(file_out, mode='w')   "
   ]
  },
  {
   "cell_type": "code",
   "execution_count": null,
   "metadata": {},
   "outputs": [],
   "source": []
  },
  {
   "cell_type": "markdown",
   "metadata": {},
   "source": [
    "# Surface KE"
   ]
  },
  {
   "cell_type": "code",
   "execution_count": 5,
   "metadata": {},
   "outputs": [
    {
     "name": "stdout",
     "output_type": "stream",
     "text": [
      "<xarray.Dataset>\n",
      "Dimensions:  (lat: 201, lat_g: 201, lon: 177, lon_g: 177, time: 9415)\n",
      "Coordinates:\n",
      "  * lat      (lat) float64 47.4 47.42 47.43 47.44 47.46 47.47 47.48 47.5 ...\n",
      "  * lon_g    (lon_g) float64 -18.04 -18.02 -18.0 -17.98 -17.96 -17.94 -17.92 ...\n",
      "    depth    float64 0.5\n",
      "  * time     (time) float64 0.0 0.04167 0.08333 0.125 0.1667 0.2083 0.25 ...\n",
      "  * lat_g    (lat_g) float64 47.4 47.41 47.42 47.44 47.45 47.46 47.48 47.49 ...\n",
      "  * lon      (lon) float64 -18.03 -18.01 -17.99 -17.97 -17.95 -17.93 -17.91 ...\n",
      "    XC       (lat, lon) float32 ...\n",
      "    YC       (lat, lon) float32 ...\n",
      "    XG       (lat_g, lon_g) float32 ...\n",
      "    YG       (lat_g, lon_g) float32 ...\n",
      "    CS       (lat, lon) float32 ...\n",
      "    SN       (lat, lon) float32 ...\n",
      "    Depth    (lat, lon) float32 ...\n",
      "    dxC      (lat, lon_g) float32 ...\n",
      "    dyC      (lat_g, lon) float32 ...\n",
      "    dxG      (lat_g, lon) float32 ...\n",
      "    dyG      (lat, lon_g) float32 ...\n",
      "    rA       (lat, lon) float32 ...\n",
      "    rAz      (lat_g, lon_g) float32 ...\n",
      "    rAw      (lat, lon_g) float32 ...\n",
      "    rAs      (lat_g, lon) float32 ...\n",
      "Data variables:\n",
      "    U        (time, lat, lon_g) float32 ...\n",
      "    V        (time, lat_g, lon) float32 ...\n",
      "\n",
      " data size: 2.7 GB\n"
     ]
    }
   ],
   "source": [
    "out_dir_zarr = '/home1/datawork/xyu/OSMOSIS_llc4320/data_rechunk/'\n",
    "\n",
    "ds_u = xr.open_dataset(out_dir_zarr+'U_surface_rechunk.nc')\n",
    "ds_v = xr.open_dataset(out_dir_zarr+'V_surface_rechunk.nc')\n",
    "grid = xr.open_dataset(out_dir_zarr+'Grid.nc', decode_coords=True)\n",
    "\n",
    "ds = xr.merge([ds_u,ds_v,grid])\n",
    "print(ds)\n",
    "print('\\n data size: %.1f GB' %(ds.nbytes / 1e9))"
   ]
  },
  {
   "cell_type": "code",
   "execution_count": 7,
   "metadata": {},
   "outputs": [
    {
     "name": "stdout",
     "output_type": "stream",
     "text": [
      "<xgcm.Grid>\n",
      "X Axis (periodic):\n",
      "  * center   lon (177) --> left\n",
      "  * left     lon_g (177) --> center\n",
      "Y Axis (periodic):\n",
      "  * center   lat (201) --> left\n",
      "  * left     lat_g (201) --> center\n"
     ]
    }
   ],
   "source": [
    "gridx = xgcm.Grid(ds, coords={'X':{'center':'lon', 'left':'lon_g'},\n",
    "                              'Y':{'center':'lat', 'left':'lat_g'}})\n",
    "print(gridx)"
   ]
  },
  {
   "cell_type": "code",
   "execution_count": 22,
   "metadata": {},
   "outputs": [],
   "source": [
    "OND = slice(433,2640)\n",
    "JFM = slice(2641,4824)\n",
    "AMJ = slice(4825,7008)\n",
    "JAS = slice(7009,9216)"
   ]
  },
  {
   "cell_type": "code",
   "execution_count": 23,
   "metadata": {},
   "outputs": [
    {
     "data": {
      "text/plain": [
       "<xarray.Dataset>\n",
       "Dimensions:  (lat: 201, lat_g: 201, lon: 177, lon_g: 177, time: 2207)\n",
       "Coordinates:\n",
       "  * lat      (lat) float64 47.4 47.42 47.43 47.44 47.46 47.47 47.48 47.5 ...\n",
       "  * lon_g    (lon_g) float64 -18.04 -18.02 -18.0 -17.98 -17.96 -17.94 -17.92 ...\n",
       "  * time     (time) float64 18.04 18.08 18.12 18.17 18.21 18.25 18.29 18.33 ...\n",
       "  * lat_g    (lat_g) float64 47.4 47.41 47.42 47.44 47.45 47.46 47.48 47.49 ...\n",
       "  * lon      (lon) float64 -18.03 -18.01 -17.99 -17.97 -17.95 -17.93 -17.91 ...\n",
       "Data variables:\n",
       "    U        (time, lat, lon_g) float32 -0.11759235 -0.13874727 -0.15098977 ...\n",
       "    V        (time, lat_g, lon) float32 0.102351956 0.10284708 0.11202508 ...\n",
       "    KE       (time, lat, lon) float32 0.012609762 0.015105447 0.015200166 ..."
      ]
     },
     "execution_count": 23,
     "metadata": {},
     "output_type": "execute_result"
    }
   ],
   "source": [
    "U = ds.U.isel(time=OND)\n",
    "U = np.real(U).rename('U')\n",
    "\n",
    "V = ds.V.isel(time=OND)\n",
    "V = np.real(V).rename('V')\n",
    "\n",
    "KE = (gridx.interp(ds['U'].isel(time=OND)**2,'X') + gridx.interp(ds['V'].isel(time=OND)**2,'Y'))/2 # KE\n",
    "KE = np.real(KE).rename('KE')\n",
    "\n",
    "ds_OND = xr.merge([U,V,KE]).drop(['depth','dxC','dyG','rAw','dyC','dxG','rAs'])\n",
    "ds_OND"
   ]
  },
  {
   "cell_type": "code",
   "execution_count": 24,
   "metadata": {},
   "outputs": [
    {
     "data": {
      "text/plain": [
       "<xarray.Dataset>\n",
       "Dimensions:  (lat: 201, lat_g: 201, lon: 177, lon_g: 177, time: 2183)\n",
       "Coordinates:\n",
       "  * lat      (lat) float64 47.4 47.42 47.43 47.44 47.46 47.47 47.48 47.5 ...\n",
       "  * lon_g    (lon_g) float64 -18.04 -18.02 -18.0 -17.98 -17.96 -17.94 -17.92 ...\n",
       "  * time     (time) float64 110.0 110.1 110.1 110.2 110.2 110.2 110.3 110.3 ...\n",
       "  * lat_g    (lat_g) float64 47.4 47.41 47.42 47.44 47.45 47.46 47.48 47.49 ...\n",
       "  * lon      (lon) float64 -18.03 -18.01 -17.99 -17.97 -17.95 -17.93 -17.91 ...\n",
       "Data variables:\n",
       "    U        (time, lat, lon_g) float32 0.06518597 0.0138738835 -0.03224002 ...\n",
       "    V        (time, lat_g, lon) float32 -0.050177623 -0.02169811 0.020780176 ...\n",
       "    KE       (time, lat, lon) float32 0.0019146921 0.00045890003 ..."
      ]
     },
     "execution_count": 24,
     "metadata": {},
     "output_type": "execute_result"
    }
   ],
   "source": [
    "U = ds.U.isel(time=JFM)\n",
    "U = np.real(U).rename('U')\n",
    "\n",
    "V = ds.V.isel(time=JFM)\n",
    "V = np.real(V).rename('V')\n",
    "\n",
    "KE = (gridx.interp(ds['U'].isel(time=JFM)**2,'X') + gridx.interp(ds['V'].isel(time=JFM)**2,'Y'))/2 # KE\n",
    "KE = np.real(KE).rename('KE')\n",
    "\n",
    "ds_JFM = xr.merge([U,V,KE]).drop(['depth','dxC','dyG','rAw','dyC','dxG','rAs'])\n",
    "ds_JFM"
   ]
  },
  {
   "cell_type": "code",
   "execution_count": 25,
   "metadata": {},
   "outputs": [
    {
     "data": {
      "text/plain": [
       "<xarray.Dataset>\n",
       "Dimensions:  (lat: 201, lat_g: 201, lon: 177, lon_g: 177, time: 2183)\n",
       "Coordinates:\n",
       "  * lat      (lat) float64 47.4 47.42 47.43 47.44 47.46 47.47 47.48 47.5 ...\n",
       "  * lon_g    (lon_g) float64 -18.04 -18.02 -18.0 -17.98 -17.96 -17.94 -17.92 ...\n",
       "  * time     (time) float64 201.0 201.1 201.1 201.2 201.2 201.2 201.3 201.3 ...\n",
       "  * lat_g    (lat_g) float64 47.4 47.41 47.42 47.44 47.45 47.46 47.48 47.49 ...\n",
       "  * lon      (lon) float64 -18.03 -18.01 -17.99 -17.97 -17.95 -17.93 -17.91 ...\n",
       "Data variables:\n",
       "    U        (time, lat, lon_g) float32 0.33727488 0.3330282 0.31301385 ...\n",
       "    V        (time, lat_g, lon) float32 0.025622167 0.08200298 0.13494726 ...\n",
       "    KE       (time, lat, lon) float32 0.057484288 0.057119038 0.054811202 ..."
      ]
     },
     "execution_count": 25,
     "metadata": {},
     "output_type": "execute_result"
    }
   ],
   "source": [
    "U = ds.U.isel(time=AMJ)\n",
    "U = np.real(U).rename('U')\n",
    "\n",
    "V = ds.V.isel(time=AMJ)\n",
    "V = np.real(V).rename('V')\n",
    "\n",
    "KE = (gridx.interp(ds['U'].isel(time=AMJ)**2,'X') + gridx.interp(ds['V'].isel(time=AMJ)**2,'Y'))/2 # KE\n",
    "KE = np.real(KE).rename('KE')\n",
    "\n",
    "ds_AMJ = xr.merge([U,V,KE]).drop(['depth','dxC','dyG','rAw','dyC','dxG','rAs'])\n",
    "ds_AMJ"
   ]
  },
  {
   "cell_type": "code",
   "execution_count": 26,
   "metadata": {},
   "outputs": [
    {
     "data": {
      "text/plain": [
       "<xarray.Dataset>\n",
       "Dimensions:  (lat: 201, lat_g: 201, lon: 177, lon_g: 177, time: 2207)\n",
       "Coordinates:\n",
       "  * lat      (lat) float64 47.4 47.42 47.43 47.44 47.46 47.47 47.48 47.5 ...\n",
       "  * lon_g    (lon_g) float64 -18.04 -18.02 -18.0 -17.98 -17.96 -17.94 -17.92 ...\n",
       "  * time     (time) float64 292.0 292.1 292.1 292.2 292.2 292.2 292.3 292.3 ...\n",
       "  * lat_g    (lat_g) float64 47.4 47.41 47.42 47.44 47.45 47.46 47.48 47.49 ...\n",
       "  * lon      (lon) float64 -18.03 -18.01 -17.99 -17.97 -17.95 -17.93 -17.91 ...\n",
       "Data variables:\n",
       "    U        (time, lat, lon_g) float32 0.10475846 0.139333 0.14304297 ...\n",
       "    V        (time, lat_g, lon) float32 -0.312462 -0.32103947 -0.32232642 ...\n",
       "    KE       (time, lat, lon) float32 0.056700964 0.06282061 0.06262124 ..."
      ]
     },
     "execution_count": 26,
     "metadata": {},
     "output_type": "execute_result"
    }
   ],
   "source": [
    "U = ds.U.isel(time=JAS)\n",
    "U = np.real(U).rename('U')\n",
    "\n",
    "V = ds.V.isel(time=JAS)\n",
    "V = np.real(V).rename('V')\n",
    "\n",
    "KE = (gridx.interp(ds['U'].isel(time=JAS)**2,'X') + gridx.interp(ds['V'].isel(time=JAS)**2,'Y'))/2 # KE\n",
    "KE = np.real(KE).rename('KE')\n",
    "\n",
    "ds_JAS = xr.merge([U,V,KE]).drop(['depth','dxC','dyG','rAw','dyC','dxG','rAs'])\n",
    "ds_JAS"
   ]
  },
  {
   "cell_type": "code",
   "execution_count": null,
   "metadata": {},
   "outputs": [],
   "source": []
  },
  {
   "cell_type": "code",
   "execution_count": 27,
   "metadata": {},
   "outputs": [
    {
     "name": "stderr",
     "output_type": "stream",
     "text": [
      "/home1/datahome/xyu/.miniconda3/envs/equinox/lib/python3.6/site-packages/dask/utils.py:1010: UserWarning: Deprecated, see dask.base.get_scheduler instead\n",
      "  warnings.warn(\"Deprecated, see dask.base.get_scheduler instead\")\n"
     ]
    },
    {
     "name": "stdout",
     "output_type": "stream",
     "text": [
      "CPU times: user 12 ms, sys: 256 ms, total: 268 ms\n",
      "Wall time: 570 ms\n"
     ]
    },
    {
     "name": "stderr",
     "output_type": "stream",
     "text": [
      "/home1/datahome/xyu/.miniconda3/envs/equinox/lib/python3.6/site-packages/dask/utils.py:1010: UserWarning: Deprecated, see dask.base.get_scheduler instead\n",
      "  warnings.warn(\"Deprecated, see dask.base.get_scheduler instead\")\n"
     ]
    },
    {
     "name": "stdout",
     "output_type": "stream",
     "text": [
      "CPU times: user 0 ns, sys: 252 ms, total: 252 ms\n",
      "Wall time: 373 ms\n"
     ]
    },
    {
     "name": "stderr",
     "output_type": "stream",
     "text": [
      "/home1/datahome/xyu/.miniconda3/envs/equinox/lib/python3.6/site-packages/dask/utils.py:1010: UserWarning: Deprecated, see dask.base.get_scheduler instead\n",
      "  warnings.warn(\"Deprecated, see dask.base.get_scheduler instead\")\n"
     ]
    },
    {
     "name": "stdout",
     "output_type": "stream",
     "text": [
      "CPU times: user 4 ms, sys: 248 ms, total: 252 ms\n",
      "Wall time: 368 ms\n"
     ]
    },
    {
     "name": "stderr",
     "output_type": "stream",
     "text": [
      "/home1/datahome/xyu/.miniconda3/envs/equinox/lib/python3.6/site-packages/dask/utils.py:1010: UserWarning: Deprecated, see dask.base.get_scheduler instead\n",
      "  warnings.warn(\"Deprecated, see dask.base.get_scheduler instead\")\n"
     ]
    },
    {
     "name": "stdout",
     "output_type": "stream",
     "text": [
      "CPU times: user 8 ms, sys: 256 ms, total: 264 ms\n",
      "Wall time: 369 ms\n"
     ]
    }
   ],
   "source": [
    "out_dir_zarr = '/home1/datawork/xyu/OSMOSIS_llc4320/data_rechunk/'\n",
    "\n",
    "file_out = out_dir_zarr+'KE_U_V_surface_rechunk_OND.nc'\n",
    "%time ds_OND.to_netcdf(file_out, mode='w')   \n",
    "\n",
    "file_out = out_dir_zarr+'KE_U_V_surface_rechunk_JFM.nc'\n",
    "%time ds_JFM.to_netcdf(file_out, mode='w')   \n",
    "\n",
    "file_out = out_dir_zarr+'KE_U_V_surface_rechunk_AMJ.nc'\n",
    "%time ds_AMJ.to_netcdf(file_out, mode='w')   \n",
    "\n",
    "file_out = out_dir_zarr+'KE_U_V_surface_rechunk_JAS.nc'\n",
    "%time ds_JAS.to_netcdf(file_out, mode='w')   \n"
   ]
  },
  {
   "cell_type": "code",
   "execution_count": null,
   "metadata": {},
   "outputs": [],
   "source": []
  },
  {
   "cell_type": "code",
   "execution_count": null,
   "metadata": {},
   "outputs": [],
   "source": []
  },
  {
   "cell_type": "code",
   "execution_count": null,
   "metadata": {},
   "outputs": [],
   "source": []
  },
  {
   "cell_type": "code",
   "execution_count": null,
   "metadata": {},
   "outputs": [],
   "source": []
  },
  {
   "cell_type": "code",
   "execution_count": 29,
   "metadata": {},
   "outputs": [
    {
     "data": {
      "text/plain": [
       "<Future finished result=None>"
      ]
     },
     "execution_count": 29,
     "metadata": {},
     "output_type": "execute_result"
    }
   ],
   "source": [
    "cluster.scheduler.close()"
   ]
  },
  {
   "cell_type": "code",
   "execution_count": null,
   "metadata": {},
   "outputs": [],
   "source": []
  }
 ],
 "metadata": {
  "kernelspec": {
   "display_name": "Python 3",
   "language": "python",
   "name": "python3"
  },
  "language_info": {
   "codemirror_mode": {
    "name": "ipython",
    "version": 3
   },
   "file_extension": ".py",
   "mimetype": "text/x-python",
   "name": "python",
   "nbconvert_exporter": "python",
   "pygments_lexer": "ipython3",
   "version": "3.6.7"
  }
 },
 "nbformat": 4,
 "nbformat_minor": 2
}

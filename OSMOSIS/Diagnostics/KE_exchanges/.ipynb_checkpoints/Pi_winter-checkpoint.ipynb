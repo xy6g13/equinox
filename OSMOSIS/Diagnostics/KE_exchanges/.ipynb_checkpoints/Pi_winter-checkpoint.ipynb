{
 "cells": [
  {
   "cell_type": "code",
   "execution_count": 1,
   "metadata": {},
   "outputs": [
    {
     "name": "stderr",
     "output_type": "stream",
     "text": [
      "/home1/datahome/xyu/.miniconda3/envs/equinox/lib/python3.7/site-packages/distributed/utils.py:137: RuntimeWarning: Couldn't detect a suitable IP address for reaching '8.8.8.8', defaulting to '127.0.0.1': [Errno 101] Network is unreachable\n",
      "  RuntimeWarning,\n"
     ]
    }
   ],
   "source": [
    "import os\n",
    "from glob import glob\n",
    "import numpy as np\n",
    "import dask\n",
    "import xarray as xr\n",
    "import xgcm\n",
    "from xgcm.autogenerate import generate_grid_ds\n",
    "from functools import partial\n",
    "from scipy.signal import butter, filtfilt\n",
    "from cmocean import cm\n",
    "\n",
    "from matplotlib import pyplot as plt\n",
    "%matplotlib inline\n",
    "\n",
    "from mitequinox.utils import *"
   ]
  },
  {
   "cell_type": "code",
   "execution_count": 2,
   "metadata": {},
   "outputs": [],
   "source": [
    "from dask_jobqueue import PBSCluster\n",
    "cluster = PBSCluster()\n",
    "w = cluster.scale(16)"
   ]
  },
  {
   "cell_type": "code",
   "execution_count": 3,
   "metadata": {},
   "outputs": [],
   "source": [
    "# get dask handles and check dask server status\n",
    "from dask.distributed import Client\n",
    "client = Client(cluster)"
   ]
  },
  {
   "cell_type": "code",
   "execution_count": 4,
   "metadata": {},
   "outputs": [
    {
     "data": {
      "text/html": [
       "<table style=\"border: 2px solid white;\">\n",
       "<tr>\n",
       "<td style=\"vertical-align: top; border: 0px solid white\">\n",
       "<h3 style=\"text-align: left;\">Client</h3>\n",
       "<ul style=\"text-align: left; list-style: none; margin: 0; padding: 0;\">\n",
       "  <li><b>Scheduler: </b>tcp://10.148.0.144:42160</li>\n",
       "  <li><b>Dashboard: </b><a href='http://10.148.0.144:8787/status' target='_blank'>http://10.148.0.144:8787/status</a>\n",
       "</ul>\n",
       "</td>\n",
       "<td style=\"vertical-align: top; border: 0px solid white\">\n",
       "<h3 style=\"text-align: left;\">Cluster</h3>\n",
       "<ul style=\"text-align: left; list-style:none; margin: 0; padding: 0;\">\n",
       "  <li><b>Workers: </b>6</li>\n",
       "  <li><b>Cores: </b>84</li>\n",
       "  <li><b>Memory: </b>360.00 GB</li>\n",
       "</ul>\n",
       "</td>\n",
       "</tr>\n",
       "</table>"
      ],
      "text/plain": [
       "<Client: 'tcp://10.148.0.144:42160' processes=6 threads=84, memory=360.00 GB>"
      ]
     },
     "execution_count": 4,
     "metadata": {},
     "output_type": "execute_result"
    }
   ],
   "source": [
    "client"
   ]
  },
  {
   "cell_type": "markdown",
   "metadata": {},
   "source": [
    "_________\n",
    "# 0. Read dataset\n"
   ]
  },
  {
   "cell_type": "code",
   "execution_count": null,
   "metadata": {},
   "outputs": [],
   "source": [
    "out_dir_work = '/home1/datawork/xyu/OSMOSIS_llc4320/data_rechunk/'\n",
    "\n",
    "grid = xr.open_dataset(out_dir_work+'Grid.nc', decode_coords=True)\n",
    "ds_U = xr.open_zarr(out_dir_work+'U_total_rechunk.zarr')\n",
    "ds_V = xr.open_zarr(out_dir_work+'V_total_rechunk.zarr')\n",
    "ds_KPP = xr.open_zarr(out_dir_work+'KPPhbl_total_rechunk.zarr')\n",
    "\n",
    "ds_all = xr.merge([ds_U,ds_V,ds_KPP,grid])\n",
    "\n",
    "# define (real) time\n",
    "def iters_to_date(iters, delta_t=3600.):\n",
    "    t0 = datetime.datetime(2011,9,13,0)    \n",
    "    ltime = delta_t * (np.array(iters))\n",
    "    dtime = [t0+dateutil.relativedelta.relativedelta(seconds=t) for t in ltime]    \n",
    "    return dtime\n",
    "\n",
    "time_day = iters_to_date(np.arange(9415))\n",
    "\n",
    "ds_all = ds_all.assign_coords(time=time_day)\n",
    "ds_all\n",
    "print(ds_all)"
   ]
  },
  {
   "cell_type": "code",
   "execution_count": null,
   "metadata": {},
   "outputs": [],
   "source": []
  },
  {
   "cell_type": "code",
   "execution_count": 10,
   "metadata": {},
   "outputs": [
    {
     "data": {
      "text/plain": [
       "<xarray.Dataset>\n",
       "Dimensions:  (depth: 52, lat: 201, lat_g: 201, lon: 177, lon_g: 177, time: 1393)\n",
       "Coordinates:\n",
       "  * lat      (lat) float64 47.4 47.42 47.43 47.44 ... 49.95 49.96 49.98 49.99\n",
       "  * lon_g    (lon_g) float64 -18.04 -18.02 -18.0 -17.98 ... -14.42 -14.4 -14.38\n",
       "  * depth    (depth) float64 0.5 1.57 2.79 4.185 ... 855.8 900.1 945.6 992.3\n",
       "  * time     (time) datetime64[ns] 2011-12-05T23:00:00 ... 2012-02-01T23:00:00\n",
       "  * lat_g    (lat_g) float64 47.4 47.41 47.42 47.44 ... 49.94 49.96 49.97 49.98\n",
       "  * lon      (lon) float64 -18.03 -18.01 -17.99 -17.97 ... -14.41 -14.39 -14.36\n",
       "    XC       (lat, lon) float32 ...\n",
       "    YC       (lat, lon) float32 ...\n",
       "    XG       (lat_g, lon_g) float32 ...\n",
       "    YG       (lat_g, lon_g) float32 ...\n",
       "    CS       (lat, lon) float32 ...\n",
       "    SN       (lat, lon) float32 ...\n",
       "    Depth    (lat, lon) float32 ...\n",
       "    dxC      (lat, lon_g) float32 ...\n",
       "    dyC      (lat_g, lon) float32 ...\n",
       "    dxG      (lat_g, lon) float32 ...\n",
       "    dyG      (lat, lon_g) float32 ...\n",
       "    rA       (lat, lon) float32 ...\n",
       "    rAz      (lat_g, lon_g) float32 ...\n",
       "    rAw      (lat, lon_g) float32 ...\n",
       "    rAs      (lat_g, lon) float32 ...\n",
       "Data variables:\n",
       "    U        (time, depth, lat, lon_g) float32 dask.array<chunksize=(1393, 1, 201, 177), meta=np.ndarray>\n",
       "    V        (time, depth, lat_g, lon) float32 dask.array<chunksize=(1393, 1, 201, 177), meta=np.ndarray>\n",
       "    KPPhbl   (time, lat, lon) float32 dask.array<chunksize=(1393, 201, 177), meta=np.ndarray>"
      ]
     },
     "execution_count": 10,
     "metadata": {},
     "output_type": "execute_result"
    }
   ],
   "source": [
    "ds = ds_all.sel(time=slice('2012-12-05T23:00:00','2012-02-01T23:00:00'))\n",
    "ds"
   ]
  },
  {
   "cell_type": "code",
   "execution_count": null,
   "metadata": {},
   "outputs": [],
   "source": []
  },
  {
   "cell_type": "code",
   "execution_count": 9,
   "metadata": {},
   "outputs": [
    {
     "name": "stdout",
     "output_type": "stream",
     "text": [
      "<xgcm.Grid>\n",
      "X Axis (periodic):\n",
      "  * center   lon --> left\n",
      "  * left     lon_g --> center\n",
      "Y Axis (periodic):\n",
      "  * center   lat --> left\n",
      "  * left     lat_g --> center\n"
     ]
    }
   ],
   "source": [
    "gridx = xgcm.Grid(ds, coords={'X':{'center':'lon', 'left':'lon_g'},\n",
    "                              'Y':{'center':'lat', 'left':'lat_g'}}, periodic=['X', 'Y'])\n",
    "print(gridx)"
   ]
  },
  {
   "cell_type": "code",
   "execution_count": 11,
   "metadata": {},
   "outputs": [],
   "source": [
    "def butter_filter(x, b, a):\n",
    "    return xr.apply_ufunc(partial(filtfilt, b, a),\n",
    "                          x.chunk(),\n",
    "                          dask='parallelized',\n",
    "                          output_dtypes=[x.dtype],\n",
    "                          kwargs={'axis': 0})"
   ]
  },
  {
   "cell_type": "code",
   "execution_count": 18,
   "metadata": {},
   "outputs": [],
   "source": [
    "# define gaussian filter \n",
    "def gaussianfilter(x, sigma, axis):\n",
    "    \n",
    "    return xr.apply_ufunc(gaussian_filter1d, x, sigma, axis,\n",
    "                          dask='parallelized',\n",
    "                          output_dtypes=[x.dtype])"
   ]
  },
  {
   "cell_type": "code",
   "execution_count": 16,
   "metadata": {},
   "outputs": [],
   "source": [
    "out_dir_zarr = '/home/c11-data/Test_aponte/xiaolong/Parameter/data_rechunk/temporary/'\n",
    "store_dir_zarr = '/home/c11-data/Test_aponte/xiaolong/Parameter/data_rechunk/temporary/'\n",
    "depth_all = [0, 1, 2, 3, 4, 5, 6, 7, 8, 9, 10, 11, 12, 13, 14, 15, 16, 17, 18, 19, 20, 21, 22, 23, 24, 25, 26, 27, 28, 29, 30, 31, 32, 33, 34, 35, 36, 37, 38, 39, 40, 41, 42, 43, 44, 45, 46, 47, 48, 49, 50, 51]"
   ]
  },
  {
   "cell_type": "code",
   "execution_count": 20,
   "metadata": {},
   "outputs": [],
   "source": [
    "from scipy.ndimage import gaussian_filter1d\n"
   ]
  },
  {
   "cell_type": "code",
   "execution_count": 21,
   "metadata": {},
   "outputs": [
    {
     "name": "stdout",
     "output_type": "stream",
     "text": [
      "depth=0 - allready processed\n",
      "depth=1 - allready processed\n",
      "depth=2 - allready processed\n",
      "depth=3 - allready processed\n",
      "depth=4 - allready processed\n",
      "depth=5 - allready processed\n",
      "depth=6 - allready processed\n",
      "depth=7 - allready processed\n",
      "depth=8 - allready processed\n",
      "depth=9 - allready processed\n",
      "depth=10 - allready processed\n",
      "depth=11 - allready processed\n",
      "depth=12 - allready processed\n",
      "depth=13 - allready processed\n",
      "depth=14 - allready processed\n",
      "depth=15 - allready processed\n",
      "depth=16 - allready processed\n",
      "depth=17 - allready processed\n",
      "depth=18 - allready processed\n",
      "depth=19 - allready processed\n",
      "depth=20 - allready processed\n",
      "depth=21 - allready processed\n",
      "depth=22 - allready processed\n",
      "depth=23 - allready processed\n",
      "depth=24 - allready processed\n",
      "depth=25 - allready processed\n",
      "depth=26 - allready processed\n",
      "depth=27 - allready processed\n",
      "depth=28 - allready processed\n",
      "depth=29 - allready processed\n",
      "depth=30 - allready processed\n",
      "depth=31 - allready processed\n",
      "depth=32 - allready processed\n",
      "depth=33 - allready processed\n",
      "depth=34 - allready processed\n",
      "depth=35 - allready processed\n",
      "depth=36 - allready processed\n",
      "depth=37 - allready processed\n",
      "depth=38 - allready processed\n",
      "depth=39 - allready processed\n",
      "depth=40 - allready processed\n",
      "depth=41 - allready processed\n",
      "depth=42 - allready processed\n",
      "depth=43 - allready processed\n",
      "depth=44 - allready processed\n",
      "depth=45 - allready processed\n",
      "depth=46 - allready processed\n",
      "depth=47 - allready processed\n",
      "depth=48 - allready processed\n",
      "depth=49 - allready processed\n",
      "depth=50 - allready processed\n",
      "depth=51 - allready processed\n"
     ]
    }
   ],
   "source": [
    "# takes about 25 mins\n",
    "sigma_1d = 30/4 # 1 day\n",
    "sigma_5d = 24*5/4 # 5 days\n",
    "\n",
    "VV = ['PI_cg']\n",
    "\n",
    "for depth in depth_all:\n",
    "    \n",
    "    for vv in VV:\n",
    "        \n",
    "        # gradients, uv\n",
    "        du_dx = gridx.diff(ds.U.isel(depth=depth), 'X')/gridx.interp(ds.dxG, 'Y')\n",
    "        du_dy = gridx.interp(gridx.interp(gridx.diff(ds.U.isel(depth=depth), 'Y')/gridx.interp(ds.dyC, 'X'), 'X'), 'Y')\n",
    "        dv_dx = gridx.interp(gridx.interp(gridx.diff(ds.V.isel(depth=depth), 'X')/gridx.interp(ds.dxC, 'Y'), 'X'), 'Y')\n",
    "        dv_dy = gridx.diff(ds.V.isel(depth=depth), 'Y')/gridx.interp(ds.dyG, 'X')\n",
    "        u = gridx.interp(ds.U.isel(depth=depth), 'X')\n",
    "        v = gridx.interp(ds.V.isel(depth=depth), 'Y')\n",
    "  \n",
    "        # PI 1 day\n",
    "        PI_1_1d = ( gaussianfilter(u**2, sigma=sigma_1d, axis=0) - gaussianfilter(u, sigma=sigma_1d, axis=0)**2 ) * gaussianfilter(du_dx, sigma=sigma_1d, axis=0)\n",
    "        PI_2_1d = ( gaussianfilter(v**2, sigma=sigma_1d, axis=0) - gaussianfilter(v, sigma=sigma_1d, axis=0)**2 ) * gaussianfilter(dv_dy, sigma=sigma_1d, axis=0)\n",
    "        PI_3_1d = ( gaussianfilter(u*v, sigma=sigma_1d, axis=0) - gaussianfilter(u, sigma=sigma_1d, axis=0) * gaussianfilter(v, sigma=sigma_1d, axis=0) ) * (gaussianfilter(du_dy, sigma=sigma_1d, axis=0)+gaussianfilter(dv_dx, sigma=sigma_1d, axis=0))\n",
    "        PI_cg_1d = -(PI_1_1d+PI_2_1d+PI_3_1d)\n",
    "        # PI 5 days\n",
    "        PI_1_5d = ( gaussianfilter(u**2, sigma=sigma_5d, axis=0) - gaussianfilter(u, sigma=sigma_5d, axis=0)**2 ) * gaussianfilter(du_dx, sigma=sigma_5d, axis=0)\n",
    "        PI_2_5d = ( gaussianfilter(v**2, sigma=sigma_5d, axis=0) - gaussianfilter(v, sigma=sigma_5d, axis=0)**2 ) * gaussianfilter(dv_dy, sigma=sigma_1d, axis=0)\n",
    "        PI_3_5d = ( gaussianfilter(u*v, sigma=sigma_5d, axis=0) - gaussianfilter(u, sigma=sigma_5d, axis=0) * gaussianfilter(v, sigma=sigma_1d, axis=0) ) * (gaussianfilter(du_dy, sigma=sigma_1d, axis=0)+gaussianfilter(dv_dx, sigma=sigma_1d, axis=0))\n",
    "        PI_cg_5d = -(PI_1_5d+PI_2_5d+PI_3_5d)        \n",
    "        # the submesoscale band and save\n",
    "        PI_cg_single = PI_cg_5d - PI_cg_1d\n",
    "        chunks = {'lat': 1, 'lon': 177, 'time':9415}            \n",
    "        PI_cg_single = PI_cg_single.chunk(chunks)\n",
    "        PI_cg_single = np.real(PI_cg_single).rename('PI_cg_single')     \n",
    "        PI_cg_single = PI_cg_single.to_dataset()\n",
    "        \n",
    "        file_out = store_dir_zarr+'/%s_d%02d.zarr'%(vv,depth)\n",
    "        PI_cg_single.to_zarr(file_out, mode='w')                    \n",
    "        print('depth=%d - allready processed'%(depth))"
   ]
  },
  {
   "cell_type": "code",
   "execution_count": null,
   "metadata": {},
   "outputs": [],
   "source": [
    "cluster.close()"
   ]
  },
  {
   "cell_type": "code",
   "execution_count": null,
   "metadata": {},
   "outputs": [],
   "source": []
  },
  {
   "cell_type": "code",
   "execution_count": null,
   "metadata": {},
   "outputs": [],
   "source": []
  },
  {
   "cell_type": "code",
   "execution_count": null,
   "metadata": {},
   "outputs": [],
   "source": []
  },
  {
   "cell_type": "code",
   "execution_count": null,
   "metadata": {},
   "outputs": [],
   "source": []
  },
  {
   "cell_type": "code",
   "execution_count": null,
   "metadata": {},
   "outputs": [],
   "source": []
  },
  {
   "cell_type": "code",
   "execution_count": null,
   "metadata": {},
   "outputs": [],
   "source": []
  },
  {
   "cell_type": "code",
   "execution_count": null,
   "metadata": {},
   "outputs": [],
   "source": []
  }
 ],
 "metadata": {
  "kernelspec": {
   "display_name": "Python 3",
   "language": "python",
   "name": "python3"
  },
  "language_info": {
   "codemirror_mode": {
    "name": "ipython",
    "version": 3
   },
   "file_extension": ".py",
   "mimetype": "text/x-python",
   "name": "python",
   "nbconvert_exporter": "python",
   "pygments_lexer": "ipython3",
   "version": "3.7.3"
  }
 },
 "nbformat": 4,
 "nbformat_minor": 4
}

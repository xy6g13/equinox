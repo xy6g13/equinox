{
 "cells": [
  {
   "cell_type": "code",
   "execution_count": 1,
   "metadata": {},
   "outputs": [],
   "source": [
    "import os\n",
    "from glob import glob\n",
    "import numpy as np\n",
    "import dask\n",
    "import xarray as xr\n",
    "import xgcm\n",
    "from xgcm.autogenerate import generate_grid_ds\n",
    "from functools import partial\n",
    "from scipy.signal import butter, filtfilt\n",
    "from cmocean import cm\n",
    "\n",
    "from matplotlib import pyplot as plt\n",
    "%matplotlib inline\n",
    "\n",
    "from mitequinox.utils import *"
   ]
  },
  {
   "cell_type": "code",
   "execution_count": 2,
   "metadata": {},
   "outputs": [],
   "source": [
    "from dask_jobqueue import PBSCluster\n",
    "cluster = PBSCluster()\n",
    "w = cluster.scale(14)"
   ]
  },
  {
   "cell_type": "code",
   "execution_count": 3,
   "metadata": {},
   "outputs": [],
   "source": [
    "# get dask handles and check dask server status\n",
    "from dask.distributed import Client\n",
    "client = Client(cluster)"
   ]
  },
  {
   "cell_type": "code",
   "execution_count": 4,
   "metadata": {},
   "outputs": [
    {
     "data": {
      "text/html": [
       "<table style=\"border: 2px solid white;\">\n",
       "<tr>\n",
       "<td style=\"vertical-align: top; border: 0px solid white\">\n",
       "<h3 style=\"text-align: left;\">Client</h3>\n",
       "<ul style=\"text-align: left; list-style: none; margin: 0; padding: 0;\">\n",
       "  <li><b>Scheduler: </b>tcp://10.148.0.255:49166</li>\n",
       "  <li><b>Dashboard: </b><a href='http://10.148.0.255:8787/status' target='_blank'>http://10.148.0.255:8787/status</a></li>\n",
       "</ul>\n",
       "</td>\n",
       "<td style=\"vertical-align: top; border: 0px solid white\">\n",
       "<h3 style=\"text-align: left;\">Cluster</h3>\n",
       "<ul style=\"text-align: left; list-style:none; margin: 0; padding: 0;\">\n",
       "  <li><b>Workers: </b>14</li>\n",
       "  <li><b>Cores: </b>14</li>\n",
       "  <li><b>Memory: </b>239.96 GB</li>\n",
       "</ul>\n",
       "</td>\n",
       "</tr>\n",
       "</table>"
      ],
      "text/plain": [
       "<Client: 'tcp://10.148.0.255:49166' processes=14 threads=14, memory=239.96 GB>"
      ]
     },
     "execution_count": 4,
     "metadata": {},
     "output_type": "execute_result"
    }
   ],
   "source": [
    "client"
   ]
  },
  {
   "cell_type": "markdown",
   "metadata": {},
   "source": [
    "_____________\n",
    "# 2. read w'b'"
   ]
  },
  {
   "cell_type": "code",
   "execution_count": 5,
   "metadata": {},
   "outputs": [
    {
     "data": {
      "text/plain": [
       "<xarray.Dataset>\n",
       "Dimensions:          (depth: 52, time: 9415)\n",
       "Coordinates:\n",
       "  * depth            (depth) float64 0.5 1.57 2.79 4.185 ... 900.1 945.6 992.3\n",
       "  * time             (time) float64 0.0 0.04167 0.08333 ... 392.2 392.2 392.2\n",
       "Data variables:\n",
       "    wb_prime_filter  (time, depth) float32 dask.array<chunksize=(9415, 1), meta=np.ndarray>"
      ]
     },
     "execution_count": 5,
     "metadata": {},
     "output_type": "execute_result"
    }
   ],
   "source": [
    "out_dir_zarr = '/home/c11-data/Test_aponte/xiaolong/Parameter/data_rechunk/temporary/'\n",
    "wb_prime_filter = xr.open_zarr(out_dir_zarr+'wb_prime_1day_filter.zarr')\n",
    "wb_prime_filter"
   ]
  },
  {
   "cell_type": "code",
   "execution_count": 7,
   "metadata": {},
   "outputs": [
    {
     "data": {
      "text/plain": [
       "<xarray.DataArray 'PI_cg_smean' (depth: 52, time: 9415)>\n",
       "dask.array<zarr, shape=(52, 9415), dtype=float32, chunksize=(1, 9415), chunktype=numpy.ndarray>\n",
       "Coordinates:\n",
       "  * depth    (depth) float64 0.5 1.57 2.79 4.185 ... 855.8 900.1 945.6 992.3\n",
       "  * time     (time) float64 0.0 0.04167 0.08333 0.125 ... 392.2 392.2 392.2"
      ]
     },
     "execution_count": 7,
     "metadata": {},
     "output_type": "execute_result"
    }
   ],
   "source": [
    "# Coarse-grained PI (spatial average and cumulative integral)\n",
    "out_dir_store = '/home/c11-data/Test_aponte/xiaolong/Parameter/data_rechunk/temporary/cg_butter/'\n",
    "PI_cg = xr.open_zarr(out_dir_store+'PI_cg_butter_5d_all.zarr')\n",
    "PI_cg_smean = PI_cg.PI_cg_smean\n",
    "PI_cg_smean"
   ]
  },
  {
   "cell_type": "code",
   "execution_count": 8,
   "metadata": {},
   "outputs": [
    {
     "data": {
      "text/plain": [
       "<xarray.Dataset>\n",
       "Dimensions:          (depth: 52, time: 9415)\n",
       "Coordinates:\n",
       "  * depth            (depth) float64 0.5 1.57 2.79 4.185 ... 900.1 945.6 992.3\n",
       "  * time             (time) datetime64[ns] 2011-09-13 ... 2012-10-09T06:00:00\n",
       "Data variables:\n",
       "    PI_cg_smean      (depth, time) float32 dask.array<chunksize=(1, 9415), meta=np.ndarray>\n",
       "    wb_prime_filter  (time, depth) float32 dask.array<chunksize=(9415, 1), meta=np.ndarray>"
      ]
     },
     "execution_count": 8,
     "metadata": {},
     "output_type": "execute_result"
    }
   ],
   "source": [
    "ds = xr.merge([PI_cg_smean,wb_prime_filter])\n",
    "# define (real) time\n",
    "def iters_to_date(iters, delta_t=3600.):\n",
    "    t0 = datetime.datetime(2011,9,13,0)    \n",
    "    ltime = delta_t * (np.array(iters))\n",
    "    dtime = [t0+dateutil.relativedelta.relativedelta(seconds=t) for t in ltime]    \n",
    "    return dtime\n",
    "\n",
    "time_day = iters_to_date(np.arange(9415))\n",
    "ds = ds.assign_coords(time=time_day) \n",
    "#ds.persist()\n",
    "ds"
   ]
  },
  {
   "cell_type": "code",
   "execution_count": 10,
   "metadata": {},
   "outputs": [
    {
     "data": {
      "text/plain": [
       "<xarray.Dataset>\n",
       "Dimensions:          (depth: 23, time: 2185)\n",
       "Coordinates:\n",
       "  * depth            (depth) float64 52.69 60.28 68.69 ... 410.4 441.3 473.3\n",
       "  * time             (time) datetime64[ns] 2011-12-01 ... 2012-03-01\n",
       "Data variables:\n",
       "    PI_cg_smean      (depth, time) float32 dask.array<chunksize=(1, 2185), meta=np.ndarray>\n",
       "    wb_prime_filter  (time, depth) float32 dask.array<chunksize=(2185, 1), meta=np.ndarray>"
      ]
     },
     "execution_count": 10,
     "metadata": {},
     "output_type": "execute_result"
    }
   ],
   "source": [
    "winter = ds.isel(depth=slice(16,39)).sel(time=slice('2011-12-01T00:00:00','2012-03-01T00:00:00'))\n",
    "winter"
   ]
  },
  {
   "cell_type": "code",
   "execution_count": 13,
   "metadata": {},
   "outputs": [
    {
     "name": "stdout",
     "output_type": "stream",
     "text": [
      "CPU times: user 252 ms, sys: 36 ms, total: 288 ms\n",
      "Wall time: 2.8 s\n"
     ]
    }
   ],
   "source": [
    "# save\n",
    "file_out = out_dir_zarr+'/wb_PI_winter_1016.nc'\n",
    "%time winter.to_netcdf(file_out, mode='w')   "
   ]
  },
  {
   "cell_type": "code",
   "execution_count": null,
   "metadata": {},
   "outputs": [],
   "source": []
  },
  {
   "cell_type": "code",
   "execution_count": null,
   "metadata": {},
   "outputs": [],
   "source": []
  },
  {
   "cell_type": "code",
   "execution_count": 14,
   "metadata": {},
   "outputs": [
    {
     "name": "stderr",
     "output_type": "stream",
     "text": [
      "distributed.client - ERROR - Failed to reconnect to scheduler after 10.00 seconds, closing client\n",
      "_GatheringFuture exception was never retrieved\n",
      "future: <_GatheringFuture finished exception=CancelledError()>\n",
      "concurrent.futures._base.CancelledError\n"
     ]
    }
   ],
   "source": [
    "cluster.close()"
   ]
  },
  {
   "cell_type": "code",
   "execution_count": null,
   "metadata": {},
   "outputs": [],
   "source": []
  },
  {
   "cell_type": "code",
   "execution_count": null,
   "metadata": {},
   "outputs": [],
   "source": []
  }
 ],
 "metadata": {
  "kernelspec": {
   "display_name": "Python 3",
   "language": "python",
   "name": "python3"
  },
  "language_info": {
   "codemirror_mode": {
    "name": "ipython",
    "version": 3
   },
   "file_extension": ".py",
   "mimetype": "text/x-python",
   "name": "python",
   "nbconvert_exporter": "python",
   "pygments_lexer": "ipython3",
   "version": "3.7.3"
  }
 },
 "nbformat": 4,
 "nbformat_minor": 4
}

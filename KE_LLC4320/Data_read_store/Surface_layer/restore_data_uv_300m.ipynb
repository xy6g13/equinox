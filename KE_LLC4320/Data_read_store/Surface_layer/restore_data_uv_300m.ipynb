{
 "cells": [
  {
   "cell_type": "code",
   "execution_count": 1,
   "metadata": {},
   "outputs": [
    {
     "name": "stderr",
     "output_type": "stream",
     "text": [
      "/home1/datahome/xyu/.miniconda3/envs/equinox/lib/python3.6/site-packages/cmocean/tools.py:76: MatplotlibDeprecationWarning: The is_string_like function was deprecated in version 2.1.\n",
      "  if not mpl.cbook.is_string_like(rgbin[0]):\n",
      "/home1/datahome/xyu/.miniconda3/envs/equinox/lib/python3.6/importlib/_bootstrap.py:219: RuntimeWarning: numpy.dtype size changed, may indicate binary incompatibility. Expected 96, got 88\n",
      "  return f(*args, **kwds)\n",
      "/home1/datahome/xyu/.miniconda3/envs/equinox/lib/python3.6/importlib/_bootstrap.py:219: RuntimeWarning: numpy.dtype size changed, may indicate binary incompatibility. Expected 96, got 88\n",
      "  return f(*args, **kwds)\n"
     ]
    }
   ],
   "source": [
    "import os\n",
    "from glob import glob\n",
    "import dask\n",
    "import xarray as xr\n",
    "import cartopy.crs as ccrs\n",
    "from cmocean import cm\n",
    "import numpy as np\n",
    "#from netCDF4 import Dataset\n",
    "from scipy.io import loadmat\n",
    "\n",
    "from matplotlib import pyplot as plt\n",
    "%matplotlib inline\n",
    "\n",
    "from mitequinox.utils import *"
   ]
  },
  {
   "cell_type": "code",
   "execution_count": 2,
   "metadata": {},
   "outputs": [
    {
     "name": "stderr",
     "output_type": "stream",
     "text": [
      "/home1/datahome/xyu/.miniconda3/envs/equinox/lib/python3.6/site-packages/distributed/utils.py:128: RuntimeWarning: Couldn't detect a suitable IP address for reaching '8.8.8.8', defaulting to '127.0.0.1': [Errno 101] Network is unreachable\n",
      "  % (host, default, e), RuntimeWarning)\n"
     ]
    }
   ],
   "source": [
    "from dask_jobqueue import PBSCluster\n",
    "local_dir = os.getenv('TMPDIR')\n",
    "cluster = PBSCluster(local_directory=local_dir)\n",
    "\n",
    "w = cluster.start_workers(5)"
   ]
  },
  {
   "cell_type": "code",
   "execution_count": 3,
   "metadata": {},
   "outputs": [],
   "source": [
    "# get dask handles and check dask server status\n",
    "from dask.distributed import Client\n",
    "client = Client(cluster)"
   ]
  },
  {
   "cell_type": "code",
   "execution_count": 4,
   "metadata": {},
   "outputs": [
    {
     "data": {
      "text/html": [
       "<table style=\"border: 2px solid white;\">\n",
       "<tr>\n",
       "<td style=\"vertical-align: top; border: 0px solid white\">\n",
       "<h3>Client</h3>\n",
       "<ul>\n",
       "  <li><b>Scheduler: </b>tcp://10.148.1.64:46090\n",
       "  <li><b>Dashboard: </b><a href='http://10.148.1.64:8787/status' target='_blank'>http://10.148.1.64:8787/status</a>\n",
       "</ul>\n",
       "</td>\n",
       "<td style=\"vertical-align: top; border: 0px solid white\">\n",
       "<h3>Cluster</h3>\n",
       "<ul>\n",
       "  <li><b>Workers: </b>10</li>\n",
       "  <li><b>Cores: </b>40</li>\n",
       "  <li><b>Memory: </b>500.00 GB</li>\n",
       "</ul>\n",
       "</td>\n",
       "</tr>\n",
       "</table>"
      ],
      "text/plain": [
       "<Client: scheduler='tcp://10.148.1.64:46090' processes=10 cores=40>"
      ]
     },
     "execution_count": 4,
     "metadata": {},
     "output_type": "execute_result"
    }
   ],
   "source": [
    "client"
   ]
  },
  {
   "cell_type": "markdown",
   "metadata": {},
   "source": [
    "# Read rechunked data"
   ]
  },
  {
   "cell_type": "code",
   "execution_count": 5,
   "metadata": {},
   "outputs": [
    {
     "name": "stdout",
     "output_type": "stream",
     "text": [
      "<xarray.Dataset>\n",
      "Dimensions:  (depth: 52, lat: 201, lat_g: 201, lon: 177, lon_g: 177, time: 9415)\n",
      "Coordinates:\n",
      "  * lat      (lat) float64 47.4 47.42 47.43 47.44 47.46 47.47 47.48 47.5 ...\n",
      "  * lon_g    (lon_g) float64 -18.04 -18.02 -18.0 -17.98 -17.96 -17.94 -17.92 ...\n",
      "  * depth    (depth) float64 0.5 1.57 2.79 4.185 5.78 7.595 9.66 12.01 14.68 ...\n",
      "  * time     (time) float64 0.0 0.04167 0.08333 0.125 0.1667 0.2083 0.25 ...\n",
      "  * lat_g    (lat_g) float64 47.4 47.41 47.42 47.44 47.45 47.46 47.48 47.49 ...\n",
      "  * lon      (lon) float64 -18.03 -18.01 -17.99 -17.97 -17.95 -17.93 -17.91 ...\n",
      "    XC       (lat, lon) float32 ...\n",
      "    YC       (lat, lon) float32 ...\n",
      "    XG       (lat_g, lon_g) float32 ...\n",
      "    YG       (lat_g, lon_g) float32 ...\n",
      "    CS       (lat, lon) float32 ...\n",
      "    SN       (lat, lon) float32 ...\n",
      "    Depth    (lat, lon) float32 ...\n",
      "    dxC      (lat, lon_g) float32 ...\n",
      "    dyC      (lat_g, lon) float32 ...\n",
      "    dxG      (lat_g, lon) float32 ...\n",
      "    dyG      (lat, lon_g) float32 ...\n",
      "    rA       (lat, lon) float32 ...\n",
      "    rAz      (lat_g, lon_g) float32 ...\n",
      "    rAw      (lat, lon_g) float32 ...\n",
      "    rAs      (lat_g, lon) float32 ...\n",
      "Data variables:\n",
      "    U        (time, depth, lat, lon_g) float32 dask.array<shape=(9415, 52, 201, 177), chunksize=(9415, 1, 201, 177)>\n",
      "    V        (time, depth, lat_g, lon) float32 dask.array<shape=(9415, 52, 201, 177), chunksize=(9415, 1, 201, 177)>\n",
      "\n",
      " data size: 139.3 GB\n"
     ]
    }
   ],
   "source": [
    "out_dir_zarr = '/home1/datawork/xyu/OSMOSIS_llc4320/data_rechunk/'\n",
    "\n",
    "ds_u = xr.open_zarr(out_dir_zarr+'U_total_rechunk.zarr')\n",
    "ds_v = xr.open_zarr(out_dir_zarr+'V_total_rechunk.zarr')\n",
    "grid = xr.open_dataset(out_dir_zarr+'Grid.nc', decode_coords=True)\n",
    "ds = xr.merge([ds_u,ds_v,grid])\n",
    "print(ds)\n",
    "print('\\n data size: %.1f GB' %(ds.nbytes / 1e9))"
   ]
  },
  {
   "cell_type": "code",
   "execution_count": null,
   "metadata": {},
   "outputs": [],
   "source": []
  },
  {
   "cell_type": "code",
   "execution_count": 6,
   "metadata": {},
   "outputs": [],
   "source": [
    "OND = slice(433,2640)\n",
    "JFM = slice(2641,4824)\n",
    "AMJ = slice(4825,7008)\n",
    "JAS = slice(7009,9216)\n",
    "\n",
    "depth_300 = 32"
   ]
  },
  {
   "cell_type": "code",
   "execution_count": 7,
   "metadata": {},
   "outputs": [],
   "source": [
    "U = ds.U.isel(time=OND, depth = depth_300)\n",
    "U = np.real(U).rename('U')\n",
    "\n",
    "V = ds.V.isel(time=OND, depth = depth_300)\n",
    "V = np.real(V).rename('V')\n",
    "\n",
    "ds_OND = xr.merge([U,V]).drop(['depth','dxC','dyG','rAw','dyC','dxG','rAs'])"
   ]
  },
  {
   "cell_type": "code",
   "execution_count": 8,
   "metadata": {},
   "outputs": [],
   "source": [
    "U = ds.U.isel(time=JFM, depth = depth_300)\n",
    "U = np.real(U).rename('U')\n",
    "\n",
    "V = ds.V.isel(time=JFM, depth = depth_300)\n",
    "V = np.real(V).rename('V')\n",
    "\n",
    "ds_JFM = xr.merge([U,V]).drop(['depth','dxC','dyG','rAw','dyC','dxG','rAs'])"
   ]
  },
  {
   "cell_type": "code",
   "execution_count": 9,
   "metadata": {},
   "outputs": [],
   "source": [
    "U = ds.U.isel(time=AMJ, depth = depth_300)\n",
    "U = np.real(U).rename('U')\n",
    "\n",
    "V = ds.V.isel(time=AMJ, depth = depth_300)\n",
    "V = np.real(V).rename('V')\n",
    "\n",
    "ds_AMJ = xr.merge([U,V]).drop(['depth','dxC','dyG','rAw','dyC','dxG','rAs'])"
   ]
  },
  {
   "cell_type": "code",
   "execution_count": 10,
   "metadata": {},
   "outputs": [],
   "source": [
    "U = ds.U.isel(time=JAS, depth = depth_300)\n",
    "U = np.real(U).rename('U')\n",
    "\n",
    "V = ds.V.isel(time=JAS, depth = depth_300)\n",
    "V = np.real(V).rename('V')\n",
    "\n",
    "ds_JAS = xr.merge([U,V]).drop(['depth','dxC','dyG','rAw','dyC','dxG','rAs'])"
   ]
  },
  {
   "cell_type": "code",
   "execution_count": 11,
   "metadata": {},
   "outputs": [
    {
     "name": "stderr",
     "output_type": "stream",
     "text": [
      "/home1/datahome/xyu/.miniconda3/envs/equinox/lib/python3.6/site-packages/dask/utils.py:1010: UserWarning: Deprecated, see dask.base.get_scheduler instead\n",
      "  warnings.warn(\"Deprecated, see dask.base.get_scheduler instead\")\n"
     ]
    },
    {
     "name": "stdout",
     "output_type": "stream",
     "text": [
      "CPU times: user 156 ms, sys: 20 ms, total: 176 ms\n",
      "Wall time: 6.39 s\n"
     ]
    },
    {
     "name": "stderr",
     "output_type": "stream",
     "text": [
      "/home1/datahome/xyu/.miniconda3/envs/equinox/lib/python3.6/site-packages/dask/utils.py:1010: UserWarning: Deprecated, see dask.base.get_scheduler instead\n",
      "  warnings.warn(\"Deprecated, see dask.base.get_scheduler instead\")\n"
     ]
    },
    {
     "name": "stdout",
     "output_type": "stream",
     "text": [
      "CPU times: user 88 ms, sys: 8 ms, total: 96 ms\n",
      "Wall time: 2.45 s\n"
     ]
    },
    {
     "name": "stderr",
     "output_type": "stream",
     "text": [
      "/home1/datahome/xyu/.miniconda3/envs/equinox/lib/python3.6/site-packages/dask/utils.py:1010: UserWarning: Deprecated, see dask.base.get_scheduler instead\n",
      "  warnings.warn(\"Deprecated, see dask.base.get_scheduler instead\")\n"
     ]
    },
    {
     "name": "stdout",
     "output_type": "stream",
     "text": [
      "CPU times: user 88 ms, sys: 12 ms, total: 100 ms\n",
      "Wall time: 2.61 s\n"
     ]
    },
    {
     "name": "stderr",
     "output_type": "stream",
     "text": [
      "/home1/datahome/xyu/.miniconda3/envs/equinox/lib/python3.6/site-packages/dask/utils.py:1010: UserWarning: Deprecated, see dask.base.get_scheduler instead\n",
      "  warnings.warn(\"Deprecated, see dask.base.get_scheduler instead\")\n"
     ]
    },
    {
     "name": "stdout",
     "output_type": "stream",
     "text": [
      "CPU times: user 88 ms, sys: 16 ms, total: 104 ms\n",
      "Wall time: 2.63 s\n"
     ]
    }
   ],
   "source": [
    "out_dir_zarr = '/home1/datawork/xyu/OSMOSIS_llc4320/data_rechunk/KE_UV/'\n",
    "\n",
    "file_out = out_dir_zarr+'KE_U_V_300m_rechunk_OND.nc'\n",
    "%time ds_OND.to_netcdf(file_out, mode='w')   \n",
    "\n",
    "file_out = out_dir_zarr+'KE_U_V_300m_rechunk_JFM.nc'\n",
    "%time ds_JFM.to_netcdf(file_out, mode='w')   \n",
    "\n",
    "file_out = out_dir_zarr+'KE_U_V_300m_rechunk_AMJ.nc'\n",
    "%time ds_AMJ.to_netcdf(file_out, mode='w')   \n",
    "\n",
    "file_out = out_dir_zarr+'KE_U_V_300m_rechunk_JAS.nc'\n",
    "%time ds_JAS.to_netcdf(file_out, mode='w')   \n"
   ]
  },
  {
   "cell_type": "code",
   "execution_count": null,
   "metadata": {},
   "outputs": [],
   "source": []
  },
  {
   "cell_type": "code",
   "execution_count": null,
   "metadata": {},
   "outputs": [],
   "source": []
  },
  {
   "cell_type": "code",
   "execution_count": null,
   "metadata": {},
   "outputs": [],
   "source": []
  },
  {
   "cell_type": "code",
   "execution_count": null,
   "metadata": {},
   "outputs": [],
   "source": []
  },
  {
   "cell_type": "code",
   "execution_count": null,
   "metadata": {},
   "outputs": [],
   "source": []
  },
  {
   "cell_type": "code",
   "execution_count": 13,
   "metadata": {},
   "outputs": [
    {
     "data": {
      "text/plain": [
       "<Future finished result=None>"
      ]
     },
     "execution_count": 13,
     "metadata": {},
     "output_type": "execute_result"
    }
   ],
   "source": [
    "cluster.scheduler.close()"
   ]
  },
  {
   "cell_type": "code",
   "execution_count": null,
   "metadata": {},
   "outputs": [],
   "source": []
  }
 ],
 "metadata": {
  "kernelspec": {
   "display_name": "Python 3",
   "language": "python",
   "name": "python3"
  },
  "language_info": {
   "codemirror_mode": {
    "name": "ipython",
    "version": 3
   },
   "file_extension": ".py",
   "mimetype": "text/x-python",
   "name": "python",
   "nbconvert_exporter": "python",
   "pygments_lexer": "ipython3",
   "version": "3.6.5"
  }
 },
 "nbformat": 4,
 "nbformat_minor": 2
}
